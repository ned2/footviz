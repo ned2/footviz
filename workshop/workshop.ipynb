{
 "cells": [
  {
   "cell_type": "markdown",
   "metadata": {},
   "source": [
    "# Building Value-driven Dashboards in Python\n",
    "\n",
    "In this notebook, we will go through the process of creating a dashboard written in Python, for exploring the City of Melbourne's [Pedestrian Traffic Hourly Counts Dataset](https://data.melbourne.vic.gov.au/Transport/Pedestrian-Counting-System-2009-to-Present-counts-/b2ak-trbp).\n",
    "\n",
    "We will primarily be using the following Python libraries/tools:\n",
    "* [JupyterLab](https://jupyterlab.readthedocs.io/): An interactive development environment that is well suited for exploratory data analysis. \n",
    "* [Dash](https://plotly.com/dash/): a framework for building analytic web-apps in Python.\n",
    "* [Pandas](https://pandas.pydata.org): a library for analysing and processing tabular data.\n",
    "\n",
    "See the instructions in the README at the base of this repository on how to setup the environment you'll need for working through this notebook.\n",
    "\n",
    "_Note:_ You should also be able to use the original Jupyter Notebook (as opposed to JupyterLab) to complete this workshop, however I would recommend using JupyterLab, as this is what I used while developing the dashboard, and more generally because it offers a superior experience."
   ]
  },
  {
   "cell_type": "markdown",
   "metadata": {},
   "source": [
    "## Goals and Motivation\n",
    "\n",
    "The goals of this notebook are as follows:\n",
    "\n",
    "* Understand the types of options available when constructing dashboards and the kinds of contexts when choosing Python might be a good choice.\n",
    "* Become familiar with the steps involved in the end-to-end process of producing a Python-based dashboard\n",
    "* Help you become familiar with components of a tech stack that is well suited for this task.\n",
    "* Answer some questions about pedestrian traffic patterns in Melbourne's CBD. \n",
    "\n",
    "_Note:_ There is not one single best-practice methodology for developing dashboards in Python. This is my attempt to distil some useful strategies and processes from what I've learnt from my experiences. "
   ]
  },
  {
   "cell_type": "markdown",
   "metadata": {},
   "source": [
    "## The Dataset\n",
    "The dataset we'll be using is the Melbourne City Council's Pedestrian Counting System dataset, which is part of the council's [Open Data Portal](https://data.melbourne.vic.gov.au):\n",
    "\n",
    "_This dataset contains hourly pedestrian counts since 2009 from pedestrian sensor devices located across the city. The data is updated on a monthly basis and can be used to determine variations in pedestrian activity throughout the day._\n",
    "\n",
    "The data that we will be using comes from two separate datasets:\n",
    "\n",
    "1. [The Pedestrian Counting System dataset](https://data.melbourne.vic.gov.au/Transport/Pedestrian-Counting-System-2009-to-Present-counts-/b2ak-trbp), which contains the hourly traffic data.\n",
    "2. [Pedestrian Sensor Locations](https://data.melbourne.vic.gov.au/Transport/Pedestrian-Counting-System-Sensor-Locations/h57g-5234) dataset, which contains data about the sensors collecting the above data. "
   ]
  },
  {
   "cell_type": "code",
   "execution_count": 9,
   "metadata": {},
   "outputs": [],
   "source": [
    "from pathlib import Path\n",
    "import pandas as pd\n",
    "\n",
    "# change this if needed\n",
    "data_path = Path(\"..\") / \"data\"\n",
    "\n",
    "sensor_csv_path = data_path / \"Pedestrian_Counting_System_-_Sensor_Locations.csv\"\n",
    "counts_csv_path = data_path / \"Pedestrian_Counting_System___2009_to_Present__counts_per_hour_.csv\"\n",
    "\n",
    "sensors_df = pd.read_csv(sensor_csv_path)\n",
    "counts_df = pd.read_csv(counts_csv_path)"
   ]
  },
  {
   "cell_type": "markdown",
   "metadata": {},
   "source": [
    "The sensor dataset contains a range of information regarding each sensor. We'll just be using the geographical cordinates of each sensor."
   ]
  },
  {
   "cell_type": "code",
   "execution_count": 12,
   "metadata": {},
   "outputs": [
    {
     "data": {
      "text/html": [
       "<div>\n",
       "<style scoped>\n",
       "    .dataframe tbody tr th:only-of-type {\n",
       "        vertical-align: middle;\n",
       "    }\n",
       "\n",
       "    .dataframe tbody tr th {\n",
       "        vertical-align: top;\n",
       "    }\n",
       "\n",
       "    .dataframe thead th {\n",
       "        text-align: right;\n",
       "    }\n",
       "</style>\n",
       "<table border=\"1\" class=\"dataframe\">\n",
       "  <thead>\n",
       "    <tr style=\"text-align: right;\">\n",
       "      <th></th>\n",
       "      <th>sensor_id</th>\n",
       "      <th>sensor_description</th>\n",
       "      <th>sensor_name</th>\n",
       "      <th>installation_date</th>\n",
       "      <th>status</th>\n",
       "      <th>note</th>\n",
       "      <th>direction_1</th>\n",
       "      <th>direction_2</th>\n",
       "      <th>latitude</th>\n",
       "      <th>longitude</th>\n",
       "      <th>location</th>\n",
       "    </tr>\n",
       "  </thead>\n",
       "  <tbody>\n",
       "    <tr>\n",
       "      <th>0</th>\n",
       "      <td>59</td>\n",
       "      <td>Building 80 RMIT</td>\n",
       "      <td>RMIT_T</td>\n",
       "      <td>2019/02/13</td>\n",
       "      <td>A</td>\n",
       "      <td>NaN</td>\n",
       "      <td>North</td>\n",
       "      <td>South</td>\n",
       "      <td>-37.808256</td>\n",
       "      <td>144.963049</td>\n",
       "      <td>(-37.80825648, 144.96304859)</td>\n",
       "    </tr>\n",
       "    <tr>\n",
       "      <th>1</th>\n",
       "      <td>23</td>\n",
       "      <td>Spencer St-Collins St (South)</td>\n",
       "      <td>Col623_T</td>\n",
       "      <td>2013/09/02</td>\n",
       "      <td>A</td>\n",
       "      <td>NaN</td>\n",
       "      <td>East</td>\n",
       "      <td>West</td>\n",
       "      <td>-37.819093</td>\n",
       "      <td>144.954527</td>\n",
       "      <td>(-37.81909256, 144.95452749)</td>\n",
       "    </tr>\n",
       "    <tr>\n",
       "      <th>2</th>\n",
       "      <td>20</td>\n",
       "      <td>Chinatown-Lt Bourke St (South)</td>\n",
       "      <td>LtB170_T</td>\n",
       "      <td>2013/09/06</td>\n",
       "      <td>A</td>\n",
       "      <td>NaN</td>\n",
       "      <td>East</td>\n",
       "      <td>West</td>\n",
       "      <td>-37.811729</td>\n",
       "      <td>144.968247</td>\n",
       "      <td>(-37.81172913, 144.9682466)</td>\n",
       "    </tr>\n",
       "    <tr>\n",
       "      <th>3</th>\n",
       "      <td>34</td>\n",
       "      <td>Flinders St-Spark La</td>\n",
       "      <td>Fli32_T</td>\n",
       "      <td>2014/06/08</td>\n",
       "      <td>A</td>\n",
       "      <td>NaN</td>\n",
       "      <td>East</td>\n",
       "      <td>West</td>\n",
       "      <td>-37.815380</td>\n",
       "      <td>144.974150</td>\n",
       "      <td>(-37.81537985, 144.9741505)</td>\n",
       "    </tr>\n",
       "    <tr>\n",
       "      <th>4</th>\n",
       "      <td>57</td>\n",
       "      <td>Bourke St Bridge</td>\n",
       "      <td>BouBri_T</td>\n",
       "      <td>2018/08/13</td>\n",
       "      <td>A</td>\n",
       "      <td>NaN</td>\n",
       "      <td>West</td>\n",
       "      <td>East</td>\n",
       "      <td>-37.817673</td>\n",
       "      <td>144.950256</td>\n",
       "      <td>(-37.8176735, 144.95025595)</td>\n",
       "    </tr>\n",
       "  </tbody>\n",
       "</table>\n",
       "</div>"
      ],
      "text/plain": [
       "   sensor_id              sensor_description sensor_name installation_date  \\\n",
       "0         59                Building 80 RMIT      RMIT_T        2019/02/13   \n",
       "1         23   Spencer St-Collins St (South)    Col623_T        2013/09/02   \n",
       "2         20  Chinatown-Lt Bourke St (South)    LtB170_T        2013/09/06   \n",
       "3         34            Flinders St-Spark La     Fli32_T        2014/06/08   \n",
       "4         57                Bourke St Bridge    BouBri_T        2018/08/13   \n",
       "\n",
       "  status note direction_1 direction_2   latitude   longitude  \\\n",
       "0      A  NaN       North       South -37.808256  144.963049   \n",
       "1      A  NaN        East        West -37.819093  144.954527   \n",
       "2      A  NaN        East        West -37.811729  144.968247   \n",
       "3      A  NaN        East        West -37.815380  144.974150   \n",
       "4      A  NaN        West        East -37.817673  144.950256   \n",
       "\n",
       "                       location  \n",
       "0  (-37.80825648, 144.96304859)  \n",
       "1  (-37.81909256, 144.95452749)  \n",
       "2   (-37.81172913, 144.9682466)  \n",
       "3   (-37.81537985, 144.9741505)  \n",
       "4   (-37.8176735, 144.95025595)  "
      ]
     },
     "execution_count": 12,
     "metadata": {},
     "output_type": "execute_result"
    }
   ],
   "source": [
    "sensors_df.head()"
   ]
  },
  {
   "cell_type": "code",
   "execution_count": 13,
   "metadata": {},
   "outputs": [
    {
     "data": {
      "text/html": [
       "<div>\n",
       "<style scoped>\n",
       "    .dataframe tbody tr th:only-of-type {\n",
       "        vertical-align: middle;\n",
       "    }\n",
       "\n",
       "    .dataframe tbody tr th {\n",
       "        vertical-align: top;\n",
       "    }\n",
       "\n",
       "    .dataframe thead th {\n",
       "        text-align: right;\n",
       "    }\n",
       "</style>\n",
       "<table border=\"1\" class=\"dataframe\">\n",
       "  <thead>\n",
       "    <tr style=\"text-align: right;\">\n",
       "      <th></th>\n",
       "      <th>ID</th>\n",
       "      <th>Date_Time</th>\n",
       "      <th>Year</th>\n",
       "      <th>Month</th>\n",
       "      <th>Mdate</th>\n",
       "      <th>Day</th>\n",
       "      <th>Time</th>\n",
       "      <th>Sensor_ID</th>\n",
       "      <th>Sensor_Name</th>\n",
       "      <th>Hourly_Counts</th>\n",
       "    </tr>\n",
       "  </thead>\n",
       "  <tbody>\n",
       "    <tr>\n",
       "      <th>0</th>\n",
       "      <td>2887628</td>\n",
       "      <td>11/01/2019 05:00:00 PM</td>\n",
       "      <td>2019</td>\n",
       "      <td>November</td>\n",
       "      <td>1</td>\n",
       "      <td>Friday</td>\n",
       "      <td>17</td>\n",
       "      <td>34</td>\n",
       "      <td>Flinders St-Spark La</td>\n",
       "      <td>300</td>\n",
       "    </tr>\n",
       "    <tr>\n",
       "      <th>1</th>\n",
       "      <td>2887629</td>\n",
       "      <td>11/01/2019 05:00:00 PM</td>\n",
       "      <td>2019</td>\n",
       "      <td>November</td>\n",
       "      <td>1</td>\n",
       "      <td>Friday</td>\n",
       "      <td>17</td>\n",
       "      <td>39</td>\n",
       "      <td>Alfred Place</td>\n",
       "      <td>604</td>\n",
       "    </tr>\n",
       "    <tr>\n",
       "      <th>2</th>\n",
       "      <td>2887630</td>\n",
       "      <td>11/01/2019 05:00:00 PM</td>\n",
       "      <td>2019</td>\n",
       "      <td>November</td>\n",
       "      <td>1</td>\n",
       "      <td>Friday</td>\n",
       "      <td>17</td>\n",
       "      <td>37</td>\n",
       "      <td>Lygon St (East)</td>\n",
       "      <td>216</td>\n",
       "    </tr>\n",
       "    <tr>\n",
       "      <th>3</th>\n",
       "      <td>2887631</td>\n",
       "      <td>11/01/2019 05:00:00 PM</td>\n",
       "      <td>2019</td>\n",
       "      <td>November</td>\n",
       "      <td>1</td>\n",
       "      <td>Friday</td>\n",
       "      <td>17</td>\n",
       "      <td>40</td>\n",
       "      <td>Lonsdale St-Spring St (West)</td>\n",
       "      <td>627</td>\n",
       "    </tr>\n",
       "    <tr>\n",
       "      <th>4</th>\n",
       "      <td>2887632</td>\n",
       "      <td>11/01/2019 05:00:00 PM</td>\n",
       "      <td>2019</td>\n",
       "      <td>November</td>\n",
       "      <td>1</td>\n",
       "      <td>Friday</td>\n",
       "      <td>17</td>\n",
       "      <td>36</td>\n",
       "      <td>Queen St (West)</td>\n",
       "      <td>774</td>\n",
       "    </tr>\n",
       "  </tbody>\n",
       "</table>\n",
       "</div>"
      ],
      "text/plain": [
       "        ID               Date_Time  Year     Month  Mdate     Day  Time  \\\n",
       "0  2887628  11/01/2019 05:00:00 PM  2019  November      1  Friday    17   \n",
       "1  2887629  11/01/2019 05:00:00 PM  2019  November      1  Friday    17   \n",
       "2  2887630  11/01/2019 05:00:00 PM  2019  November      1  Friday    17   \n",
       "3  2887631  11/01/2019 05:00:00 PM  2019  November      1  Friday    17   \n",
       "4  2887632  11/01/2019 05:00:00 PM  2019  November      1  Friday    17   \n",
       "\n",
       "   Sensor_ID                   Sensor_Name  Hourly_Counts  \n",
       "0         34          Flinders St-Spark La            300  \n",
       "1         39                  Alfred Place            604  \n",
       "2         37               Lygon St (East)            216  \n",
       "3         40  Lonsdale St-Spring St (West)            627  \n",
       "4         36               Queen St (West)            774  "
      ]
     },
     "execution_count": 13,
     "metadata": {},
     "output_type": "execute_result"
    }
   ],
   "source": [
    "counts_df.head()"
   ]
  },
  {
   "cell_type": "markdown",
   "metadata": {},
   "source": [
    "## Your Mission\n",
    "\n",
    "You will assume the role of a data specialist whose has been tasked with the responsibility of developing a dashboard for the non-profit organisation TODO that will assist their analysts understand pedestrian traffic flow around the CBD.\n",
    "\n",
    "Through the rest of the notebook, you will go on the journey of dashboard creation, from discovery all the way through to deploying the dashboard for analysts to use.\n"
   ]
  },
  {
   "cell_type": "markdown",
   "metadata": {},
   "source": [
    "## Discovery\n",
    "\n",
    "In order to scope out the requirements of this projects, you spent a week talking and having workshops with various stakeholders, including the team of analysts who will use the dashboard and the the team that manages the technical infrastructure. Your findings are as follows:\n",
    "\n",
    "* The team of analysts that will use dashboard currently use a combination of Python, SQL, and Excel for data wrangling and analysis. \n",
    "* For reporting and visualisation they use Tablau but have found this to be limiting.\n",
    "* For a different dataset, they had previously engaged a delivery team to build a polished React dashboard using D3.js, but were then unable to extend the app when needed enhancements were identified.\n",
    "* Ideally, they want a solution that they can maintain and extend themselves\n",
    "* The team is prepared to undergo any training that would be required\n",
    "* The infrastructure team has recently started using AWS and will be able to provide access to an account. \n",
    "\n",
    "You also identify the following information needs that the dashboard should support:\n",
    "* How does the pedestrian traffic differ across locations and at different times?\n",
    "* What is peak and off-peak period time for different months and season?\n",
    "* What is the effect of specific events (eg Australian Open, Moomba, White Night, etc) on pedestrian movement?"
   ]
  },
  {
   "cell_type": "markdown",
   "metadata": {},
   "source": [
    "## Solution Design\n",
    "\n",
    "Based on the information gathered during discovery, you propose the following solution:\n",
    "\n",
    "* The dashboard will be implemented using Dash, with visualisations being produced by the Plotly library.\n",
    "* The app will be hosted on the org's AWS account.\n",
    "* You will develop an initial version of the dashboard that features a set of customised and visualisations\n",
    "* You will provide training to the analytics team on how to modify and extend the dashboard\n"
   ]
  },
  {
   "cell_type": "markdown",
   "metadata": {},
   "source": [
    "## Phase 1: Exploratory Data Analysis\n",
    "\n",
    "The first thing you do is get to understand the data. Not just at a high level, but really dive in and understant it. This is important for:\n",
    "* identifying data quality or integrity issues\n",
    "* understanding what kind of applications the data does and does not support\n",
    "\n",
    "Broadly speaking, this process of exploratory data analysis (EDA) involves two main facets: \n",
    "1. Extractiong summary stastistics about data\n",
    "2. Visualise your data"
   ]
  },
  {
   "cell_type": "markdown",
   "metadata": {},
   "source": [
    "### Navigating Jupyer\n",
    "\n",
    "Your Jupyter Notebook is a list of cells that are of two main types:\n",
    "1. Mardown content (like this cell)\n",
    "2. Code content (cells with Python in this notebook)\n",
    "\n",
    "When using the notebook, you are in one of two modes, that function as what you'd imagine from their names:\n",
    "1. Navigation mode\n",
    "2. Edit mode\n",
    "\n",
    "You can use your mouse to navitgate cells (double click activates edit mode) and perform cell operations using the Jupyter menu bar, but the less you need to use the mouse, the more fun you'll have :)\n",
    "\n",
    "#### Convenient keyboard shortcuts you should familiarise yourself with:\n",
    "\n",
    "__Navigation mode__\n",
    "* `up`, `down`: navigate between cells\n",
    "* `enter`: activate edit mode for the current cell\n",
    "* `a`: create a new code cell above the current one\n",
    "* `b`: create a new code cell below the current one\n",
    "* `m`: change the current cell to be a markdown cell\n",
    "* `y`: change the current cell to be a code cell\n",
    "* `d` `d`: Delete the selected cell(s)\n",
    "* `c`: copy the selected cell(s)\n",
    "* `v`: paste the copied cell(s)\n",
    "* `x`: cut the selected cell(s)\n",
    "* `z`: undo cell operation\n",
    "\n",
    "__Edit mode__\n",
    "* `escape`: Switch to navigation mode \n",
    "\n",
    "__Edit mode & Navigation mode__\n",
    "* `control`+`enter`: evaluate the current cell\n",
    "* `shift`+`enter`: evaluate the current cell and move focus to cell below in navigation mode\n",
    "* `alt`+`enter`: evaluate the current cell and create a new cell below in edit mode\n"
   ]
  },
  {
   "cell_type": "markdown",
   "metadata": {},
   "source": [
    "### A Crash Course in Pandas\n",
    "\n",
    "Pandas provides you with a powerful interface to help you manipulate and analyse data. It assists you perform the kind of tasks that you might already have used Excel or SQL to perform.\n",
    "\n",
    "When working with data in Pandas, you typically work with a `DataFrame`, which is a data structure made of of columns and rows. Each column is a `Series`, which is a data structure that contains a sequence of values. If you've used Numpy before, a `Series` is essentially a Numpy array where each element has an index. This index means we can combine different data sources that share the same index, in exactly the same way as merging tables in SQL.\n",
    "\n",
    "Let's look at the sensor counts `DataFrame` we have already read in above from the CSV."
   ]
  },
  {
   "cell_type": "code",
   "execution_count": 20,
   "metadata": {},
   "outputs": [
    {
     "data": {
      "text/plain": [
       "pandas.core.frame.DataFrame"
      ]
     },
     "execution_count": 20,
     "metadata": {},
     "output_type": "execute_result"
    }
   ],
   "source": [
    "type(counts_df)"
   ]
  },
  {
   "cell_type": "code",
   "execution_count": 28,
   "metadata": {},
   "outputs": [
    {
     "data": {
      "text/html": [
       "<div>\n",
       "<style scoped>\n",
       "    .dataframe tbody tr th:only-of-type {\n",
       "        vertical-align: middle;\n",
       "    }\n",
       "\n",
       "    .dataframe tbody tr th {\n",
       "        vertical-align: top;\n",
       "    }\n",
       "\n",
       "    .dataframe thead th {\n",
       "        text-align: right;\n",
       "    }\n",
       "</style>\n",
       "<table border=\"1\" class=\"dataframe\">\n",
       "  <thead>\n",
       "    <tr style=\"text-align: right;\">\n",
       "      <th></th>\n",
       "      <th>ID</th>\n",
       "      <th>Date_Time</th>\n",
       "      <th>Year</th>\n",
       "      <th>Month</th>\n",
       "      <th>Mdate</th>\n",
       "      <th>Day</th>\n",
       "      <th>Time</th>\n",
       "      <th>Sensor_ID</th>\n",
       "      <th>Sensor_Name</th>\n",
       "      <th>Hourly_Counts</th>\n",
       "    </tr>\n",
       "  </thead>\n",
       "  <tbody>\n",
       "    <tr>\n",
       "      <th>3218358</th>\n",
       "      <td>3218359</td>\n",
       "      <td>06/30/2020 10:00:00 PM</td>\n",
       "      <td>2020</td>\n",
       "      <td>June</td>\n",
       "      <td>30</td>\n",
       "      <td>Tuesday</td>\n",
       "      <td>22</td>\n",
       "      <td>14</td>\n",
       "      <td>Sandridge Bridge</td>\n",
       "      <td>134</td>\n",
       "    </tr>\n",
       "    <tr>\n",
       "      <th>3218359</th>\n",
       "      <td>3218360</td>\n",
       "      <td>06/30/2020 10:00:00 PM</td>\n",
       "      <td>2020</td>\n",
       "      <td>June</td>\n",
       "      <td>30</td>\n",
       "      <td>Tuesday</td>\n",
       "      <td>22</td>\n",
       "      <td>26</td>\n",
       "      <td>QV Market-Elizabeth St (West)</td>\n",
       "      <td>100</td>\n",
       "    </tr>\n",
       "    <tr>\n",
       "      <th>3218360</th>\n",
       "      <td>3218361</td>\n",
       "      <td>06/30/2020 10:00:00 PM</td>\n",
       "      <td>2020</td>\n",
       "      <td>June</td>\n",
       "      <td>30</td>\n",
       "      <td>Tuesday</td>\n",
       "      <td>22</td>\n",
       "      <td>24</td>\n",
       "      <td>Spencer St-Collins St (North)</td>\n",
       "      <td>154</td>\n",
       "    </tr>\n",
       "    <tr>\n",
       "      <th>3218361</th>\n",
       "      <td>3218362</td>\n",
       "      <td>06/30/2020 10:00:00 PM</td>\n",
       "      <td>2020</td>\n",
       "      <td>June</td>\n",
       "      <td>30</td>\n",
       "      <td>Tuesday</td>\n",
       "      <td>22</td>\n",
       "      <td>23</td>\n",
       "      <td>Spencer St-Collins St (South)</td>\n",
       "      <td>38</td>\n",
       "    </tr>\n",
       "    <tr>\n",
       "      <th>3218362</th>\n",
       "      <td>3218363</td>\n",
       "      <td>06/30/2020 10:00:00 PM</td>\n",
       "      <td>2020</td>\n",
       "      <td>June</td>\n",
       "      <td>30</td>\n",
       "      <td>Tuesday</td>\n",
       "      <td>22</td>\n",
       "      <td>25</td>\n",
       "      <td>Melbourne Convention Exhibition Centre</td>\n",
       "      <td>71</td>\n",
       "    </tr>\n",
       "    <tr>\n",
       "      <th>...</th>\n",
       "      <td>...</td>\n",
       "      <td>...</td>\n",
       "      <td>...</td>\n",
       "      <td>...</td>\n",
       "      <td>...</td>\n",
       "      <td>...</td>\n",
       "      <td>...</td>\n",
       "      <td>...</td>\n",
       "      <td>...</td>\n",
       "      <td>...</td>\n",
       "    </tr>\n",
       "    <tr>\n",
       "      <th>3218453</th>\n",
       "      <td>3218454</td>\n",
       "      <td>06/30/2020 11:00:00 PM</td>\n",
       "      <td>2020</td>\n",
       "      <td>June</td>\n",
       "      <td>30</td>\n",
       "      <td>Tuesday</td>\n",
       "      <td>23</td>\n",
       "      <td>62</td>\n",
       "      <td>La Trobe St (North)</td>\n",
       "      <td>25</td>\n",
       "    </tr>\n",
       "    <tr>\n",
       "      <th>3218454</th>\n",
       "      <td>3218455</td>\n",
       "      <td>06/30/2020 11:00:00 PM</td>\n",
       "      <td>2020</td>\n",
       "      <td>June</td>\n",
       "      <td>30</td>\n",
       "      <td>Tuesday</td>\n",
       "      <td>23</td>\n",
       "      <td>63</td>\n",
       "      <td>231 Bourke St</td>\n",
       "      <td>69</td>\n",
       "    </tr>\n",
       "    <tr>\n",
       "      <th>3218455</th>\n",
       "      <td>3218456</td>\n",
       "      <td>06/30/2020 11:00:00 PM</td>\n",
       "      <td>2020</td>\n",
       "      <td>June</td>\n",
       "      <td>30</td>\n",
       "      <td>Tuesday</td>\n",
       "      <td>23</td>\n",
       "      <td>64</td>\n",
       "      <td>Royal Pde-Grattan St</td>\n",
       "      <td>7</td>\n",
       "    </tr>\n",
       "    <tr>\n",
       "      <th>3218456</th>\n",
       "      <td>3218457</td>\n",
       "      <td>06/30/2020 11:00:00 PM</td>\n",
       "      <td>2020</td>\n",
       "      <td>June</td>\n",
       "      <td>30</td>\n",
       "      <td>Tuesday</td>\n",
       "      <td>23</td>\n",
       "      <td>65</td>\n",
       "      <td>Swanston St - City Square</td>\n",
       "      <td>32</td>\n",
       "    </tr>\n",
       "    <tr>\n",
       "      <th>3218457</th>\n",
       "      <td>3218458</td>\n",
       "      <td>06/30/2020 11:00:00 PM</td>\n",
       "      <td>2020</td>\n",
       "      <td>June</td>\n",
       "      <td>30</td>\n",
       "      <td>Tuesday</td>\n",
       "      <td>23</td>\n",
       "      <td>66</td>\n",
       "      <td>State Library-New</td>\n",
       "      <td>64</td>\n",
       "    </tr>\n",
       "  </tbody>\n",
       "</table>\n",
       "<p>100 rows × 10 columns</p>\n",
       "</div>"
      ],
      "text/plain": [
       "              ID               Date_Time  Year Month  Mdate      Day  Time  \\\n",
       "3218358  3218359  06/30/2020 10:00:00 PM  2020  June     30  Tuesday    22   \n",
       "3218359  3218360  06/30/2020 10:00:00 PM  2020  June     30  Tuesday    22   \n",
       "3218360  3218361  06/30/2020 10:00:00 PM  2020  June     30  Tuesday    22   \n",
       "3218361  3218362  06/30/2020 10:00:00 PM  2020  June     30  Tuesday    22   \n",
       "3218362  3218363  06/30/2020 10:00:00 PM  2020  June     30  Tuesday    22   \n",
       "...          ...                     ...   ...   ...    ...      ...   ...   \n",
       "3218453  3218454  06/30/2020 11:00:00 PM  2020  June     30  Tuesday    23   \n",
       "3218454  3218455  06/30/2020 11:00:00 PM  2020  June     30  Tuesday    23   \n",
       "3218455  3218456  06/30/2020 11:00:00 PM  2020  June     30  Tuesday    23   \n",
       "3218456  3218457  06/30/2020 11:00:00 PM  2020  June     30  Tuesday    23   \n",
       "3218457  3218458  06/30/2020 11:00:00 PM  2020  June     30  Tuesday    23   \n",
       "\n",
       "         Sensor_ID                             Sensor_Name  Hourly_Counts  \n",
       "3218358         14                        Sandridge Bridge            134  \n",
       "3218359         26           QV Market-Elizabeth St (West)            100  \n",
       "3218360         24           Spencer St-Collins St (North)            154  \n",
       "3218361         23           Spencer St-Collins St (South)             38  \n",
       "3218362         25  Melbourne Convention Exhibition Centre             71  \n",
       "...            ...                                     ...            ...  \n",
       "3218453         62                     La Trobe St (North)             25  \n",
       "3218454         63                           231 Bourke St             69  \n",
       "3218455         64                    Royal Pde-Grattan St              7  \n",
       "3218456         65               Swanston St - City Square             32  \n",
       "3218457         66                       State Library-New             64  \n",
       "\n",
       "[100 rows x 10 columns]"
      ]
     },
     "execution_count": 28,
     "metadata": {},
     "output_type": "execute_result"
    }
   ],
   "source": [
    "counts_df.tail(100)"
   ]
  },
  {
   "cell_type": "code",
   "execution_count": 22,
   "metadata": {},
   "outputs": [
    {
     "data": {
      "text/plain": [
       "Index(['ID', 'Date_Time', 'Year', 'Month', 'Mdate', 'Day', 'Time', 'Sensor_ID',\n",
       "       'Sensor_Name', 'Hourly_Counts'],\n",
       "      dtype='object')"
      ]
     },
     "execution_count": 22,
     "metadata": {},
     "output_type": "execute_result"
    }
   ],
   "source": [
    "counts_df.columns"
   ]
  },
  {
   "cell_type": "code",
   "execution_count": 25,
   "metadata": {},
   "outputs": [
    {
     "data": {
      "text/plain": [
       "0                  Flinders St-Spark La\n",
       "1                          Alfred Place\n",
       "2                       Lygon St (East)\n",
       "3          Lonsdale St-Spring St (West)\n",
       "4                       Queen St (West)\n",
       "                       ...             \n",
       "3218453             La Trobe St (North)\n",
       "3218454                   231 Bourke St\n",
       "3218455            Royal Pde-Grattan St\n",
       "3218456       Swanston St - City Square\n",
       "3218457               State Library-New\n",
       "Name: Sensor_Name, Length: 3218458, dtype: object"
      ]
     },
     "execution_count": 25,
     "metadata": {},
     "output_type": "execute_result"
    }
   ],
   "source": [
    "sensors = counts_df[\"Sensor_Name\"]\n",
    "sensors"
   ]
  },
  {
   "cell_type": "code",
   "execution_count": 26,
   "metadata": {},
   "outputs": [
    {
     "data": {
      "text/plain": [
       "pandas.core.series.Series"
      ]
     },
     "execution_count": 26,
     "metadata": {},
     "output_type": "execute_result"
    }
   ],
   "source": [
    "type(sensors)"
   ]
  },
  {
   "cell_type": "markdown",
   "metadata": {},
   "source": [
    "### Cleaning Data\n",
    "\n",
    "After inspecting the data, you see that only thing you need to do is make sure that Pandas reads in the `Date_Time` column as a data type suitable for handling date/time, as it isn't much use to us a string (which Pandas actually defaults to loading as an `object`).\n",
    "\n",
    "This dataset is already pretty clean :)"
   ]
  },
  {
   "cell_type": "code",
   "execution_count": 29,
   "metadata": {},
   "outputs": [
    {
     "data": {
      "text/plain": [
       "ID                int64\n",
       "Date_Time        object\n",
       "Year              int64\n",
       "Month            object\n",
       "Mdate             int64\n",
       "Day              object\n",
       "Time              int64\n",
       "Sensor_ID         int64\n",
       "Sensor_Name      object\n",
       "Hourly_Counts     int64\n",
       "dtype: object"
      ]
     },
     "execution_count": 29,
     "metadata": {},
     "output_type": "execute_result"
    }
   ],
   "source": [
    "counts_df.dtypes"
   ]
  },
  {
   "cell_type": "code",
   "execution_count": 31,
   "metadata": {},
   "outputs": [],
   "source": [
    "counts_df = pd.read_csv(counts_csv_path, parse_dates=[\"Date_Time\"])"
   ]
  },
  {
   "cell_type": "code",
   "execution_count": 32,
   "metadata": {},
   "outputs": [
    {
     "data": {
      "text/plain": [
       "ID                        int64\n",
       "Date_Time        datetime64[ns]\n",
       "Year                      int64\n",
       "Month                    object\n",
       "Mdate                     int64\n",
       "Day                      object\n",
       "Time                      int64\n",
       "Sensor_ID                 int64\n",
       "Sensor_Name              object\n",
       "Hourly_Counts             int64\n",
       "dtype: object"
      ]
     },
     "execution_count": 32,
     "metadata": {},
     "output_type": "execute_result"
    }
   ],
   "source": [
    "counts_df.dtypes"
   ]
  },
  {
   "cell_type": "markdown",
   "metadata": {},
   "source": [
    "### Exploring our Data"
   ]
  },
  {
   "cell_type": "code",
   "execution_count": 33,
   "metadata": {},
   "outputs": [
    {
     "data": {
      "text/plain": [
       "(3218458, 10)"
      ]
     },
     "execution_count": 33,
     "metadata": {},
     "output_type": "execute_result"
    }
   ],
   "source": [
    "counts_df.shape"
   ]
  },
  {
   "cell_type": "code",
   "execution_count": 37,
   "metadata": {},
   "outputs": [
    {
     "data": {
      "text/plain": [
       "[2009, 2010, 2011, 2012, 2013, 2014, 2015, 2016, 2017, 2018, 2019, 2020]"
      ]
     },
     "execution_count": 37,
     "metadata": {},
     "output_type": "execute_result"
    }
   ],
   "source": [
    "# How many years does the data set cover?\n",
    "years = counts_df[\"Year\"].unique()\n",
    "sorted(years)"
   ]
  },
  {
   "cell_type": "code",
   "execution_count": 40,
   "metadata": {},
   "outputs": [
    {
     "data": {
      "text/plain": [
       "69"
      ]
     },
     "execution_count": 40,
     "metadata": {},
     "output_type": "execute_result"
    }
   ],
   "source": [
    "# how many sensors do we have readings for\n",
    "sensors = counts_df[\"Sensor_Name\"].unique()\n",
    "len(sensors)"
   ]
  },
  {
   "cell_type": "markdown",
   "metadata": {},
   "source": [
    "Q: What was the busiest/least busiest month in 2019?\n",
    "\n",
    "Approach:\n",
    "1. Filter data to 2019\n",
    "2. Group counts by month, summing up each month\n",
    "3. Sort monthly counts"
   ]
  },
  {
   "cell_type": "code",
   "execution_count": 42,
   "metadata": {},
   "outputs": [
    {
     "data": {
      "text/plain": [
       "0           True\n",
       "1           True\n",
       "2           True\n",
       "3           True\n",
       "4           True\n",
       "           ...  \n",
       "3218453    False\n",
       "3218454    False\n",
       "3218455    False\n",
       "3218456    False\n",
       "3218457    False\n",
       "Name: Year, Length: 3218458, dtype: bool"
      ]
     },
     "execution_count": 42,
     "metadata": {},
     "output_type": "execute_result"
    }
   ],
   "source": [
    "# 1. filtering\n",
    "filter_mask = counts_df[\"Year\"] == 2019\n",
    "filter_mask"
   ]
  },
  {
   "cell_type": "code",
   "execution_count": 55,
   "metadata": {},
   "outputs": [
    {
     "data": {
      "text/html": [
       "<div>\n",
       "<style scoped>\n",
       "    .dataframe tbody tr th:only-of-type {\n",
       "        vertical-align: middle;\n",
       "    }\n",
       "\n",
       "    .dataframe tbody tr th {\n",
       "        vertical-align: top;\n",
       "    }\n",
       "\n",
       "    .dataframe thead th {\n",
       "        text-align: right;\n",
       "    }\n",
       "</style>\n",
       "<table border=\"1\" class=\"dataframe\">\n",
       "  <thead>\n",
       "    <tr style=\"text-align: right;\">\n",
       "      <th></th>\n",
       "      <th>ID</th>\n",
       "      <th>Date_Time</th>\n",
       "      <th>Year</th>\n",
       "      <th>Month</th>\n",
       "      <th>Mdate</th>\n",
       "      <th>Day</th>\n",
       "      <th>Time</th>\n",
       "      <th>Sensor_ID</th>\n",
       "      <th>Sensor_Name</th>\n",
       "      <th>Hourly_Counts</th>\n",
       "    </tr>\n",
       "  </thead>\n",
       "  <tbody>\n",
       "    <tr>\n",
       "      <th>0</th>\n",
       "      <td>2887628</td>\n",
       "      <td>2019-11-01 17:00:00</td>\n",
       "      <td>2019</td>\n",
       "      <td>November</td>\n",
       "      <td>1</td>\n",
       "      <td>Friday</td>\n",
       "      <td>17</td>\n",
       "      <td>34</td>\n",
       "      <td>Flinders St-Spark La</td>\n",
       "      <td>300</td>\n",
       "    </tr>\n",
       "    <tr>\n",
       "      <th>1</th>\n",
       "      <td>2887629</td>\n",
       "      <td>2019-11-01 17:00:00</td>\n",
       "      <td>2019</td>\n",
       "      <td>November</td>\n",
       "      <td>1</td>\n",
       "      <td>Friday</td>\n",
       "      <td>17</td>\n",
       "      <td>39</td>\n",
       "      <td>Alfred Place</td>\n",
       "      <td>604</td>\n",
       "    </tr>\n",
       "    <tr>\n",
       "      <th>2</th>\n",
       "      <td>2887630</td>\n",
       "      <td>2019-11-01 17:00:00</td>\n",
       "      <td>2019</td>\n",
       "      <td>November</td>\n",
       "      <td>1</td>\n",
       "      <td>Friday</td>\n",
       "      <td>17</td>\n",
       "      <td>37</td>\n",
       "      <td>Lygon St (East)</td>\n",
       "      <td>216</td>\n",
       "    </tr>\n",
       "    <tr>\n",
       "      <th>3</th>\n",
       "      <td>2887631</td>\n",
       "      <td>2019-11-01 17:00:00</td>\n",
       "      <td>2019</td>\n",
       "      <td>November</td>\n",
       "      <td>1</td>\n",
       "      <td>Friday</td>\n",
       "      <td>17</td>\n",
       "      <td>40</td>\n",
       "      <td>Lonsdale St-Spring St (West)</td>\n",
       "      <td>627</td>\n",
       "    </tr>\n",
       "    <tr>\n",
       "      <th>4</th>\n",
       "      <td>2887632</td>\n",
       "      <td>2019-11-01 17:00:00</td>\n",
       "      <td>2019</td>\n",
       "      <td>November</td>\n",
       "      <td>1</td>\n",
       "      <td>Friday</td>\n",
       "      <td>17</td>\n",
       "      <td>36</td>\n",
       "      <td>Queen St (West)</td>\n",
       "      <td>774</td>\n",
       "    </tr>\n",
       "  </tbody>\n",
       "</table>\n",
       "</div>"
      ],
      "text/plain": [
       "        ID           Date_Time  Year     Month  Mdate     Day  Time  \\\n",
       "0  2887628 2019-11-01 17:00:00  2019  November      1  Friday    17   \n",
       "1  2887629 2019-11-01 17:00:00  2019  November      1  Friday    17   \n",
       "2  2887630 2019-11-01 17:00:00  2019  November      1  Friday    17   \n",
       "3  2887631 2019-11-01 17:00:00  2019  November      1  Friday    17   \n",
       "4  2887632 2019-11-01 17:00:00  2019  November      1  Friday    17   \n",
       "\n",
       "   Sensor_ID                   Sensor_Name  Hourly_Counts  \n",
       "0         34          Flinders St-Spark La            300  \n",
       "1         39                  Alfred Place            604  \n",
       "2         37               Lygon St (East)            216  \n",
       "3         40  Lonsdale St-Spring St (West)            627  \n",
       "4         36               Queen St (West)            774  "
      ]
     },
     "execution_count": 55,
     "metadata": {},
     "output_type": "execute_result"
    }
   ],
   "source": [
    "# 1. filtering\n",
    "counts_2019_df = counts_df[filter_mask]\n",
    "counts_2019_df.head()"
   ]
  },
  {
   "cell_type": "code",
   "execution_count": 52,
   "metadata": {},
   "outputs": [
    {
     "data": {
      "text/plain": [
       "Month\n",
       "March        172436211\n",
       "December     170223773\n",
       "October      161901572\n",
       "November     160487798\n",
       "January      157435313\n",
       "February     156843588\n",
       "May          156137355\n",
       "July         155313182\n",
       "August       153766468\n",
       "September    153304281\n",
       "April        151564562\n",
       "June         149554005\n",
       "Name: Hourly_Counts, dtype: int64"
      ]
     },
     "execution_count": 52,
     "metadata": {},
     "output_type": "execute_result"
    }
   ],
   "source": [
    "# grouping\n",
    "months_2019 = counts_df.groupby(\"Month\")[\"Hourly_Counts\"].sum()\n",
    "months_2019"
   ]
  },
  {
   "cell_type": "code",
   "execution_count": 54,
   "metadata": {},
   "outputs": [
    {
     "data": {
      "text/plain": [
       "Month\n",
       "March        172436211\n",
       "December     170223773\n",
       "October      161901572\n",
       "November     160487798\n",
       "January      157435313\n",
       "February     156843588\n",
       "May          156137355\n",
       "July         155313182\n",
       "August       153766468\n",
       "September    153304281\n",
       "April        151564562\n",
       "June         149554005\n",
       "Name: Hourly_Counts, dtype: int64"
      ]
     },
     "execution_count": 54,
     "metadata": {},
     "output_type": "execute_result"
    }
   ],
   "source": [
    "months_2019 = months_2019.sort_values(ascending=False)\n",
    "months_2019"
   ]
  },
  {
   "cell_type": "markdown",
   "metadata": {},
   "source": [
    "### Visual Exploration with Plotly\n",
    "\n",
    "An even better way to answer questions like the last \n",
    "Viewing sorted lists of values is not the best way to gather insights from data. "
   ]
  },
  {
   "cell_type": "code",
   "execution_count": 41,
   "metadata": {},
   "outputs": [
    {
     "ename": "NameError",
     "evalue": "name 'px' is not defined",
     "output_type": "error",
     "traceback": [
      "\u001b[0;31m---------------------------------------------------------------------------\u001b[0m",
      "\u001b[0;31mNameError\u001b[0m                                 Traceback (most recent call last)",
      "\u001b[0;32m<ipython-input-41-df7b6fda2158>\u001b[0m in \u001b[0;36m<module>\u001b[0;34m\u001b[0m\n\u001b[1;32m      1\u001b[0m \u001b[0myear_counts_df\u001b[0m \u001b[0;34m=\u001b[0m \u001b[0mcounts_df\u001b[0m\u001b[0;34m.\u001b[0m\u001b[0mgroupby\u001b[0m\u001b[0;34m(\u001b[0m\u001b[0;34m\"Year\"\u001b[0m\u001b[0;34m)\u001b[0m\u001b[0;34m[\u001b[0m\u001b[0;34m\"Hourly_Counts\"\u001b[0m\u001b[0;34m]\u001b[0m\u001b[0;34m.\u001b[0m\u001b[0msum\u001b[0m\u001b[0;34m(\u001b[0m\u001b[0;34m)\u001b[0m\u001b[0;34m.\u001b[0m\u001b[0mreset_index\u001b[0m\u001b[0;34m(\u001b[0m\u001b[0;34m)\u001b[0m\u001b[0;34m\u001b[0m\u001b[0;34m\u001b[0m\u001b[0m\n\u001b[0;32m----> 2\u001b[0;31m \u001b[0mpx\u001b[0m\u001b[0;34m.\u001b[0m\u001b[0mline\u001b[0m\u001b[0;34m(\u001b[0m\u001b[0myear_counts_df\u001b[0m\u001b[0;34m,\u001b[0m \u001b[0mx\u001b[0m\u001b[0;34m=\u001b[0m\u001b[0;34m\"Year\"\u001b[0m\u001b[0;34m,\u001b[0m \u001b[0my\u001b[0m\u001b[0;34m=\u001b[0m\u001b[0;34m\"Hourly_Counts\"\u001b[0m\u001b[0;34m,\u001b[0m \u001b[0mtitle\u001b[0m\u001b[0;34m=\u001b[0m\u001b[0;34m\"Total Footfalls by Year\"\u001b[0m\u001b[0;34m)\u001b[0m\u001b[0;34m.\u001b[0m\u001b[0mupdate_traces\u001b[0m\u001b[0;34m(\u001b[0m\u001b[0mmode\u001b[0m\u001b[0;34m=\u001b[0m\u001b[0;34m'lines+markers'\u001b[0m\u001b[0;34m)\u001b[0m\u001b[0;34m\u001b[0m\u001b[0;34m\u001b[0m\u001b[0m\n\u001b[0m",
      "\u001b[0;31mNameError\u001b[0m: name 'px' is not defined"
     ]
    }
   ],
   "source": [
    "year_counts_df = counts_df.groupby(\"Year\")[\"Hourly_Counts\"].sum().reset_index()\n",
    "px.line(year_counts_df, x=\"Year\", y=\"Hourly_Counts\", title=\"Total Footfalls by Year\").update_traces(mode='lines+markers')"
   ]
  },
  {
   "cell_type": "markdown",
   "metadata": {},
   "source": [
    "## Phase 2: Visualisation Development"
   ]
  },
  {
   "cell_type": "markdown",
   "metadata": {},
   "source": [
    "### Plot 1: Visualising Traffic Size by Sensor"
   ]
  },
  {
   "cell_type": "markdown",
   "metadata": {},
   "source": [
    "### Plot 2: Visualising Traffic Size by Month"
   ]
  },
  {
   "cell_type": "markdown",
   "metadata": {},
   "source": [
    "### Plot 3: Visualising Traffic Geographically"
   ]
  },
  {
   "cell_type": "markdown",
   "metadata": {},
   "source": [
    "### Plot 4: Visualising Traffic Temporally"
   ]
  },
  {
   "cell_type": "markdown",
   "metadata": {},
   "source": [
    "## Phase 3: Escaping the Notebook\n",
    "\n",
    "1. capturing repeated actions with abstractions\n",
    " * loading and saving data\n",
    " * filter data\n",
    " * make custom plots from filtered data\n",
    "2. converting code into a package\n",
    "\n",
    "Why:\n",
    "1. gives you tools for performing later analysis faster and will enable cleaner, more maintianable, and more extensable dashboard code.  "
   ]
  },
  {
   "cell_type": "markdown",
   "metadata": {},
   "source": [
    "## Phase 4: Making the Dashboard"
   ]
  },
  {
   "cell_type": "markdown",
   "metadata": {},
   "source": [
    "## Phase 5: Deploying the Dashboard"
   ]
  },
  {
   "cell_type": "code",
   "execution_count": null,
   "metadata": {},
   "outputs": [],
   "source": []
  }
 ],
 "metadata": {
  "kernelspec": {
   "display_name": "Python 3",
   "language": "python",
   "name": "python3"
  },
  "language_info": {
   "codemirror_mode": {
    "name": "ipython",
    "version": 3
   },
   "file_extension": ".py",
   "mimetype": "text/x-python",
   "name": "python",
   "nbconvert_exporter": "python",
   "pygments_lexer": "ipython3",
   "version": "3.8.4"
  }
 },
 "nbformat": 4,
 "nbformat_minor": 4
}
