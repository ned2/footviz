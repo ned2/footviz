{
 "cells": [
  {
   "cell_type": "markdown",
   "metadata": {},
   "source": [
    "# Building Value-driven Dashboards in Python\n",
    "\n",
    "In this notebook, we will go through the process of creating a dashboard written in Python, for exploring the City of Melbourne's [Pedestrian Traffic Hourly Counts Dataset](https://data.melbourne.vic.gov.au/Transport/Pedestrian-Counting-System-2009-to-Present-counts-/b2ak-trbp).\n",
    "\n",
    "We will primarily be using the following Python libraries/tools:\n",
    "* [JupyterLab](https://jupyterlab.readthedocs.io/): An interactive development environment that is well suited for exploratory data analysis. \n",
    "* [Dash](https://plotly.com/dash/): a framework for building analytic web-apps in Python.\n",
    "* [Pandas](https://pandas.pydata.org): a library for analysing and processing tabular data.\n",
    "\n",
    "See the instructions in the README at the base of this repository on how to setup the environment you'll need for working through this notebook.\n",
    "\n",
    "_Note:_ You should also be able to use the original Jupyter Notebook (as opposed to JupyterLab) to complete this workshop, however I would recommend using JupyterLab, as this is what I used while developing the dashboard, and more generally because it offers a superior experience."
   ]
  },
  {
   "cell_type": "markdown",
   "metadata": {},
   "source": [
    "## Goals and Motivation\n",
    "\n",
    "The goals of this notebook are as follows:\n",
    "\n",
    "* Understand the types of options available when constructing dashboards and the kinds of contexts when choosing Python might be a good choice.\n",
    "* Become familiar with the steps involved in the end-to-end process of producing a Python-based dashboard\n",
    "* Help you become familiar with components of a tech stack that is well suited for this task.\n",
    "* see if we can discover some interesting things from the workshop\n",
    "\n",
    "_Note:_ There is not one single best-practice methodology for developing dashboards in Python. This is my attend to distil some useful strategies and processes from what I've learnt from my experiences. "
   ]
  },
  {
   "cell_type": "markdown",
   "metadata": {},
   "source": [
    "\n",
    "## The Dataset\n",
    "Pedestrian Traffic Hourly Counts Dataset: https://data.melbourne.vic.gov.au/Transport/Pedestrian-Counting-System-2009-to-Present-counts-/b2ak-trbp\n",
    "\n",
    "Pedestrian Sensor Locations: https://data.melbourne.vic.gov.au/Transport/Pedestrian-Counting-System-Sensor-Locations/h57g-5234"
   ]
  },
  {
   "cell_type": "code",
   "execution_count": null,
   "metadata": {},
   "outputs": [],
   "source": []
  }
 ],
 "metadata": {
  "kernelspec": {
   "display_name": "Python 3",
   "language": "python",
   "name": "python3"
  },
  "language_info": {
   "codemirror_mode": {
    "name": "ipython",
    "version": 3
   },
   "file_extension": ".py",
   "mimetype": "text/x-python",
   "name": "python",
   "nbconvert_exporter": "python",
   "pygments_lexer": "ipython3",
   "version": "3.8.4"
  }
 },
 "nbformat": 4,
 "nbformat_minor": 4
}
