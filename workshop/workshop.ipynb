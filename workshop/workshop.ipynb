{
 "cells": [
  {
   "cell_type": "markdown",
   "metadata": {},
   "source": [
    "# Building Value-driven Dashboards in Python\n",
    "\n",
    "In this notebook, we will go through the process of creating a dashboard written in Python, for exploring the City of Melbourne's [Pedestrian Traffic Hourly Counts Dataset](https://data.melbourne.vic.gov.au/Transport/Pedestrian-Counting-System-2009-to-Present-counts-/b2ak-trbp).\n",
    "\n",
    "We will primarily be using the following Python libraries/tools:\n",
    "* [JupyterLab](https://jupyterlab.readthedocs.io/): An interactive development environment that is well suited for exploratory data analysis. \n",
    "* [Dash](https://plotly.com/dash/): a framework for building analytic web-apps in Python.\n",
    "* [Pandas](https://pandas.pydata.org): a library for analysing and processing tabular data.\n",
    "\n",
    "See the instructions in the README at the base of this repository on how to setup the environment you'll need for working through this notebook.\n",
    "\n",
    "_Note:_ You should also be able to use the original Jupyter Notebook (as opposed to JupyterLab) to complete this workshop, however I would recommend using JupyterLab, as this is what I used while developing the dashboard, and more generally because it offers a superior experience."
   ]
  },
  {
   "cell_type": "markdown",
   "metadata": {},
   "source": [
    "## Goals and Motivation\n",
    "\n",
    "The goals of this notebook are as follows:\n",
    "\n",
    "* Understand the types of options available when constructing dashboards and the kinds of contexts when choosing Python might be a good choice.\n",
    "* Become familiar with the steps involved in the end-to-end process of producing a Python-based dashboard\n",
    "* Help you become familiar with components of a tech stack that is well suited for this task.\n",
    "* Answer some questions about pedestrian traffic patterns in Melbourne's CBD. \n",
    "\n",
    "_Note:_ There is not one single best-practice methodology for developing dashboards in Python. This is my attempt to distil some useful strategies and processes from what I've learnt from my experiences. "
   ]
  },
  {
   "cell_type": "markdown",
   "metadata": {},
   "source": [
    "## The Dataset\n",
    "The dataset we'll be using is the Melbourne City Council's Pedestrian Counting System dataset, which is part of the council's [Open Data Portal](https://data.melbourne.vic.gov.au):\n",
    "\n",
    "_This dataset contains hourly pedestrian counts since 2009 from pedestrian sensor devices located across the city. The data is updated on a monthly basis and can be used to determine variations in pedestrian activity throughout the day._\n",
    "\n",
    "The data that we will be using comes from two separate datasets:\n",
    "\n",
    "1. [The Pedestrian Counting System dataset](https://data.melbourne.vic.gov.au/Transport/Pedestrian-Counting-System-2009-to-Present-counts-/b2ak-trbp), which contains the hourly traffic data.\n",
    "2. [Pedestrian Sensor Locations](https://data.melbourne.vic.gov.au/Transport/Pedestrian-Counting-System-Sensor-Locations/h57g-5234) dataset, which contains data about the sensors collecting the above data. "
   ]
  },
  {
   "cell_type": "code",
   "execution_count": 9,
   "metadata": {},
   "outputs": [],
   "source": [
    "from pathlib import Path\n",
    "import pandas as pd\n",
    "\n",
    "# change this if needed\n",
    "data_path = Path(\"..\") / \"data\"\n",
    "\n",
    "sensor_csv_path = data_path / \"Pedestrian_Counting_System_-_Sensor_Locations.csv\"\n",
    "counts_csv_path = data_path / \"Pedestrian_Counting_System___2009_to_Present__counts_per_hour_.csv\"\n",
    "\n",
    "sensors_df = pd.read_csv(sensor_csv_path)\n",
    "counts_df = pd.read_csv(counts_csv_path)"
   ]
  },
  {
   "cell_type": "markdown",
   "metadata": {},
   "source": [
    "The sensor dataset contains a range of information regarding each sensor. We'll just be using the geographical cordinates"
   ]
  },
  {
   "cell_type": "code",
   "execution_count": 12,
   "metadata": {},
   "outputs": [
    {
     "data": {
      "text/html": [
       "<div>\n",
       "<style scoped>\n",
       "    .dataframe tbody tr th:only-of-type {\n",
       "        vertical-align: middle;\n",
       "    }\n",
       "\n",
       "    .dataframe tbody tr th {\n",
       "        vertical-align: top;\n",
       "    }\n",
       "\n",
       "    .dataframe thead th {\n",
       "        text-align: right;\n",
       "    }\n",
       "</style>\n",
       "<table border=\"1\" class=\"dataframe\">\n",
       "  <thead>\n",
       "    <tr style=\"text-align: right;\">\n",
       "      <th></th>\n",
       "      <th>sensor_id</th>\n",
       "      <th>sensor_description</th>\n",
       "      <th>sensor_name</th>\n",
       "      <th>installation_date</th>\n",
       "      <th>status</th>\n",
       "      <th>note</th>\n",
       "      <th>direction_1</th>\n",
       "      <th>direction_2</th>\n",
       "      <th>latitude</th>\n",
       "      <th>longitude</th>\n",
       "      <th>location</th>\n",
       "    </tr>\n",
       "  </thead>\n",
       "  <tbody>\n",
       "    <tr>\n",
       "      <th>0</th>\n",
       "      <td>59</td>\n",
       "      <td>Building 80 RMIT</td>\n",
       "      <td>RMIT_T</td>\n",
       "      <td>2019/02/13</td>\n",
       "      <td>A</td>\n",
       "      <td>NaN</td>\n",
       "      <td>North</td>\n",
       "      <td>South</td>\n",
       "      <td>-37.808256</td>\n",
       "      <td>144.963049</td>\n",
       "      <td>(-37.80825648, 144.96304859)</td>\n",
       "    </tr>\n",
       "    <tr>\n",
       "      <th>1</th>\n",
       "      <td>23</td>\n",
       "      <td>Spencer St-Collins St (South)</td>\n",
       "      <td>Col623_T</td>\n",
       "      <td>2013/09/02</td>\n",
       "      <td>A</td>\n",
       "      <td>NaN</td>\n",
       "      <td>East</td>\n",
       "      <td>West</td>\n",
       "      <td>-37.819093</td>\n",
       "      <td>144.954527</td>\n",
       "      <td>(-37.81909256, 144.95452749)</td>\n",
       "    </tr>\n",
       "    <tr>\n",
       "      <th>2</th>\n",
       "      <td>20</td>\n",
       "      <td>Chinatown-Lt Bourke St (South)</td>\n",
       "      <td>LtB170_T</td>\n",
       "      <td>2013/09/06</td>\n",
       "      <td>A</td>\n",
       "      <td>NaN</td>\n",
       "      <td>East</td>\n",
       "      <td>West</td>\n",
       "      <td>-37.811729</td>\n",
       "      <td>144.968247</td>\n",
       "      <td>(-37.81172913, 144.9682466)</td>\n",
       "    </tr>\n",
       "    <tr>\n",
       "      <th>3</th>\n",
       "      <td>34</td>\n",
       "      <td>Flinders St-Spark La</td>\n",
       "      <td>Fli32_T</td>\n",
       "      <td>2014/06/08</td>\n",
       "      <td>A</td>\n",
       "      <td>NaN</td>\n",
       "      <td>East</td>\n",
       "      <td>West</td>\n",
       "      <td>-37.815380</td>\n",
       "      <td>144.974150</td>\n",
       "      <td>(-37.81537985, 144.9741505)</td>\n",
       "    </tr>\n",
       "    <tr>\n",
       "      <th>4</th>\n",
       "      <td>57</td>\n",
       "      <td>Bourke St Bridge</td>\n",
       "      <td>BouBri_T</td>\n",
       "      <td>2018/08/13</td>\n",
       "      <td>A</td>\n",
       "      <td>NaN</td>\n",
       "      <td>West</td>\n",
       "      <td>East</td>\n",
       "      <td>-37.817673</td>\n",
       "      <td>144.950256</td>\n",
       "      <td>(-37.8176735, 144.95025595)</td>\n",
       "    </tr>\n",
       "  </tbody>\n",
       "</table>\n",
       "</div>"
      ],
      "text/plain": [
       "   sensor_id              sensor_description sensor_name installation_date  \\\n",
       "0         59                Building 80 RMIT      RMIT_T        2019/02/13   \n",
       "1         23   Spencer St-Collins St (South)    Col623_T        2013/09/02   \n",
       "2         20  Chinatown-Lt Bourke St (South)    LtB170_T        2013/09/06   \n",
       "3         34            Flinders St-Spark La     Fli32_T        2014/06/08   \n",
       "4         57                Bourke St Bridge    BouBri_T        2018/08/13   \n",
       "\n",
       "  status note direction_1 direction_2   latitude   longitude  \\\n",
       "0      A  NaN       North       South -37.808256  144.963049   \n",
       "1      A  NaN        East        West -37.819093  144.954527   \n",
       "2      A  NaN        East        West -37.811729  144.968247   \n",
       "3      A  NaN        East        West -37.815380  144.974150   \n",
       "4      A  NaN        West        East -37.817673  144.950256   \n",
       "\n",
       "                       location  \n",
       "0  (-37.80825648, 144.96304859)  \n",
       "1  (-37.81909256, 144.95452749)  \n",
       "2   (-37.81172913, 144.9682466)  \n",
       "3   (-37.81537985, 144.9741505)  \n",
       "4   (-37.8176735, 144.95025595)  "
      ]
     },
     "execution_count": 12,
     "metadata": {},
     "output_type": "execute_result"
    }
   ],
   "source": [
    "sensors_df.head()"
   ]
  },
  {
   "cell_type": "code",
   "execution_count": 15,
   "metadata": {},
   "outputs": [
    {
     "data": {
      "text/plain": [
       "66"
      ]
     },
     "execution_count": 15,
     "metadata": {},
     "output_type": "execute_result"
    }
   ],
   "source": [
    "# Number of sensors we have data on\n",
    "len(sensors_df)"
   ]
  },
  {
   "cell_type": "code",
   "execution_count": 13,
   "metadata": {},
   "outputs": [
    {
     "data": {
      "text/html": [
       "<div>\n",
       "<style scoped>\n",
       "    .dataframe tbody tr th:only-of-type {\n",
       "        vertical-align: middle;\n",
       "    }\n",
       "\n",
       "    .dataframe tbody tr th {\n",
       "        vertical-align: top;\n",
       "    }\n",
       "\n",
       "    .dataframe thead th {\n",
       "        text-align: right;\n",
       "    }\n",
       "</style>\n",
       "<table border=\"1\" class=\"dataframe\">\n",
       "  <thead>\n",
       "    <tr style=\"text-align: right;\">\n",
       "      <th></th>\n",
       "      <th>ID</th>\n",
       "      <th>Date_Time</th>\n",
       "      <th>Year</th>\n",
       "      <th>Month</th>\n",
       "      <th>Mdate</th>\n",
       "      <th>Day</th>\n",
       "      <th>Time</th>\n",
       "      <th>Sensor_ID</th>\n",
       "      <th>Sensor_Name</th>\n",
       "      <th>Hourly_Counts</th>\n",
       "    </tr>\n",
       "  </thead>\n",
       "  <tbody>\n",
       "    <tr>\n",
       "      <th>0</th>\n",
       "      <td>2887628</td>\n",
       "      <td>11/01/2019 05:00:00 PM</td>\n",
       "      <td>2019</td>\n",
       "      <td>November</td>\n",
       "      <td>1</td>\n",
       "      <td>Friday</td>\n",
       "      <td>17</td>\n",
       "      <td>34</td>\n",
       "      <td>Flinders St-Spark La</td>\n",
       "      <td>300</td>\n",
       "    </tr>\n",
       "    <tr>\n",
       "      <th>1</th>\n",
       "      <td>2887629</td>\n",
       "      <td>11/01/2019 05:00:00 PM</td>\n",
       "      <td>2019</td>\n",
       "      <td>November</td>\n",
       "      <td>1</td>\n",
       "      <td>Friday</td>\n",
       "      <td>17</td>\n",
       "      <td>39</td>\n",
       "      <td>Alfred Place</td>\n",
       "      <td>604</td>\n",
       "    </tr>\n",
       "    <tr>\n",
       "      <th>2</th>\n",
       "      <td>2887630</td>\n",
       "      <td>11/01/2019 05:00:00 PM</td>\n",
       "      <td>2019</td>\n",
       "      <td>November</td>\n",
       "      <td>1</td>\n",
       "      <td>Friday</td>\n",
       "      <td>17</td>\n",
       "      <td>37</td>\n",
       "      <td>Lygon St (East)</td>\n",
       "      <td>216</td>\n",
       "    </tr>\n",
       "    <tr>\n",
       "      <th>3</th>\n",
       "      <td>2887631</td>\n",
       "      <td>11/01/2019 05:00:00 PM</td>\n",
       "      <td>2019</td>\n",
       "      <td>November</td>\n",
       "      <td>1</td>\n",
       "      <td>Friday</td>\n",
       "      <td>17</td>\n",
       "      <td>40</td>\n",
       "      <td>Lonsdale St-Spring St (West)</td>\n",
       "      <td>627</td>\n",
       "    </tr>\n",
       "    <tr>\n",
       "      <th>4</th>\n",
       "      <td>2887632</td>\n",
       "      <td>11/01/2019 05:00:00 PM</td>\n",
       "      <td>2019</td>\n",
       "      <td>November</td>\n",
       "      <td>1</td>\n",
       "      <td>Friday</td>\n",
       "      <td>17</td>\n",
       "      <td>36</td>\n",
       "      <td>Queen St (West)</td>\n",
       "      <td>774</td>\n",
       "    </tr>\n",
       "  </tbody>\n",
       "</table>\n",
       "</div>"
      ],
      "text/plain": [
       "        ID               Date_Time  Year     Month  Mdate     Day  Time  \\\n",
       "0  2887628  11/01/2019 05:00:00 PM  2019  November      1  Friday    17   \n",
       "1  2887629  11/01/2019 05:00:00 PM  2019  November      1  Friday    17   \n",
       "2  2887630  11/01/2019 05:00:00 PM  2019  November      1  Friday    17   \n",
       "3  2887631  11/01/2019 05:00:00 PM  2019  November      1  Friday    17   \n",
       "4  2887632  11/01/2019 05:00:00 PM  2019  November      1  Friday    17   \n",
       "\n",
       "   Sensor_ID                   Sensor_Name  Hourly_Counts  \n",
       "0         34          Flinders St-Spark La            300  \n",
       "1         39                  Alfred Place            604  \n",
       "2         37               Lygon St (East)            216  \n",
       "3         40  Lonsdale St-Spring St (West)            627  \n",
       "4         36               Queen St (West)            774  "
      ]
     },
     "execution_count": 13,
     "metadata": {},
     "output_type": "execute_result"
    }
   ],
   "source": [
    "counts_df.head()"
   ]
  },
  {
   "cell_type": "markdown",
   "metadata": {},
   "source": [
    "## Your Mission\n",
    "\n",
    "You will assume the role of a data specialist whose has been tasked with the responsibility of developing a dashboard"
   ]
  },
  {
   "cell_type": "markdown",
   "metadata": {},
   "source": [
    "## Phase 0: Discovery"
   ]
  },
  {
   "cell_type": "markdown",
   "metadata": {},
   "source": [
    "## Phase 1: Exploratory Data Analysis\n",
    "\n",
    "* Get summary stastistics about data -- crourse in pandas)\n",
    "* Visualise your data (ie plot your damn data) -- crash course in plotly\n"
   ]
  },
  {
   "cell_type": "markdown",
   "metadata": {},
   "source": [
    "## Phase 2: Visualisation Development"
   ]
  },
  {
   "cell_type": "markdown",
   "metadata": {},
   "source": [
    "### Plot 1: Visualising Traffic Size by Sensor"
   ]
  },
  {
   "cell_type": "markdown",
   "metadata": {},
   "source": [
    "### Plot 2: Visualising Traffic Size by Month"
   ]
  },
  {
   "cell_type": "markdown",
   "metadata": {},
   "source": [
    "### Plot 3: Visualising Traffic Geographically"
   ]
  },
  {
   "cell_type": "markdown",
   "metadata": {},
   "source": [
    "### Plot 4: Visualising Traffic Temporally"
   ]
  },
  {
   "cell_type": "markdown",
   "metadata": {},
   "source": [
    "## Phase 3: Escaping the Notebook\n",
    "\n",
    "1. capturing repeated actions with abstractions\n",
    " * loading and saving data\n",
    " * filter data\n",
    " * make custom plots from filtered data\n",
    "2. converting code into a package\n",
    "\n",
    "Why:\n",
    "1. gives you tools for performing later analysis faster and will enable cleaner, more maintianable, and more extensable dashboard code.  "
   ]
  },
  {
   "cell_type": "markdown",
   "metadata": {},
   "source": [
    "## Phase 4: Making the Dashboard"
   ]
  },
  {
   "cell_type": "markdown",
   "metadata": {},
   "source": [
    "## Phase 5: Deploying the Dashboard"
   ]
  },
  {
   "cell_type": "code",
   "execution_count": null,
   "metadata": {},
   "outputs": [],
   "source": []
  }
 ],
 "metadata": {
  "kernelspec": {
   "display_name": "Python 3",
   "language": "python",
   "name": "python3"
  },
  "language_info": {
   "codemirror_mode": {
    "name": "ipython",
    "version": 3
   },
   "file_extension": ".py",
   "mimetype": "text/x-python",
   "name": "python",
   "nbconvert_exporter": "python",
   "pygments_lexer": "ipython3",
   "version": "3.8.4"
  }
 },
 "nbformat": 4,
 "nbformat_minor": 4
}
