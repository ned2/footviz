{
 "cells": [
  {
   "cell_type": "markdown",
   "metadata": {},
   "source": [
    "# Prototype Development"
   ]
  },
  {
   "cell_type": "code",
   "execution_count": 1,
   "metadata": {},
   "outputs": [],
   "source": [
    "%matplotlib inline\n",
    "%load_ext autoreload\n",
    "%autoreload 2\n",
    "\n",
    "from pathlib import Path\n",
    "\n",
    "import plotly.express as px\n",
    "import plotly.graph_objects as go\n",
    "import pandas as pd\n",
    "\n",
    "from utils import *\n",
    "from plots import *\n",
    "\n",
    "data_path = Path(\"../data/Pedestrian_Counting_System___2009_to_Present__counts_per_hour_.csv\")"
   ]
  },
  {
   "cell_type": "markdown",
   "metadata": {},
   "source": [
    "First we'll prep some dataset metadata that we'll need: "
   ]
  },
  {
   "cell_type": "code",
   "execution_count": 2,
   "metadata": {},
   "outputs": [],
   "source": [
    "foot_df = load_and_clean_pedestrian_data(data_path)"
   ]
  },
  {
   "cell_type": "code",
   "execution_count": 3,
   "metadata": {},
   "outputs": [],
   "source": [
    "import calendar\n",
    "\n",
    "MONTHS = list(calendar.month_name)[1:]\n",
    "WEEKDAYS = list(calendar.day_name)\n",
    "YEARS = sorted(foot_df[\"Year\"].unique())\n",
    "SENSORS = sorted(foot_df[\"Sensor_Name\"].unique())\n",
    "NUM_SNESORS = len(SENSORS)"
   ]
  },
  {
   "cell_type": "markdown",
   "metadata": {},
   "source": [
    "## Ipywidgets\n",
    "\n",
    "* input controls\n",
    "* display outputs\n",
    "* binding inputs and outputs to interactions"
   ]
  },
  {
   "cell_type": "code",
   "execution_count": 4,
   "metadata": {},
   "outputs": [],
   "source": [
    "import ipywidgets as widgets"
   ]
  },
  {
   "cell_type": "code",
   "execution_count": 5,
   "metadata": {},
   "outputs": [
    {
     "data": {
      "application/vnd.jupyter.widget-view+json": {
       "model_id": "b10c9421ff40456eae1cbb1ef1464880",
       "version_major": 2,
       "version_minor": 0
      },
      "text/plain": [
       "Dropdown(options=('231 Bourke St', 'Alfred Place', 'Australia on Collins', 'Birrarung Marr', 'Bourke St - Spen…"
      ]
     },
     "metadata": {},
     "output_type": "display_data"
    }
   ],
   "source": [
    "widgets.Dropdown(options=SENSORS)"
   ]
  },
  {
   "cell_type": "code",
   "execution_count": 6,
   "metadata": {},
   "outputs": [
    {
     "data": {
      "application/vnd.jupyter.widget-view+json": {
       "model_id": "9120ae4a260c41c0bbf9a4ff243d47a4",
       "version_major": 2,
       "version_minor": 0
      },
      "text/plain": [
       "Dropdown(options=(2009, 2010, 2011, 2012, 2013, 2014, 2015, 2016, 2017, 2018, 2019, 2020), value=2009)"
      ]
     },
     "metadata": {},
     "output_type": "display_data"
    }
   ],
   "source": [
    "widgets.Dropdown(options=YEARS)"
   ]
  },
  {
   "cell_type": "code",
   "execution_count": 7,
   "metadata": {},
   "outputs": [
    {
     "data": {
      "application/vnd.jupyter.widget-view+json": {
       "model_id": "2ea479da5479431c96ed25cac97f93b0",
       "version_major": 2,
       "version_minor": 0
      },
      "text/plain": [
       "IntRangeSlider(value=(2009, 2020), max=2020, min=2009)"
      ]
     },
     "metadata": {},
     "output_type": "display_data"
    }
   ],
   "source": [
    "first_year = min(YEARS)\n",
    "last_year = max(YEARS)\n",
    "widgets.IntRangeSlider(\n",
    "    value=[first_year, last_year],\n",
    "    min=first_year,\n",
    "    max=last_year,\n",
    ")"
   ]
  },
  {
   "cell_type": "markdown",
   "metadata": {},
   "source": [
    "## Mockup"
   ]
  },
  {
   "cell_type": "code",
   "execution_count": 52,
   "metadata": {},
   "outputs": [
    {
     "data": {
      "application/vnd.jupyter.widget-view+json": {
       "model_id": "84b8e4d31e984cd6bc00db9e1b508cc6",
       "version_major": 2,
       "version_minor": 0
      },
      "text/plain": [
       "VBox(children=(HBox(children=(VBox(children=(HTML(value='<H1>Melbourne City Council Pedestrian Traffic</h1>'),…"
      ]
     },
     "metadata": {},
     "output_type": "display_data"
    }
   ],
   "source": [
    "# inputs\n",
    "\n",
    "year_input = widgets.Dropdown(options=YEARS, value=YEARS[-1])\n",
    "sensor_input = widgets.SelectMultiple(options=SENSORS)\n",
    "month_input = widgets.Dropdown(options=MONTHS)\n",
    "\n",
    "\n",
    "# outputs\n",
    "\n",
    "month_counts_output = widgets.interactive_output(\n",
    "    display_output(functools.partial(plot_month_counts, foot_df)),\n",
    "    {\"sensor\": sensor_input, \"year\": year_input},\n",
    ")\n",
    "\n",
    "sensor_counts_output = widgets.interactive_output(\n",
    "    display_output(functools.partial(plot_sensor_counts, foot_df)),\n",
    "    {\"sensor\": sensor_input, \"year\": year_input},\n",
    ")\n",
    "\n",
    "sensors_output = widgets.interactive_output(\n",
    "    display_output(functools.partial(plot_sensors, foot_df)),\n",
    "    {\"sensor\": sensor_input, \"year\": year_input, \"month\": month_input},\n",
    ")\n",
    "\n",
    "\n",
    "# layout\n",
    "\n",
    "row1 = widgets.HBox(\n",
    "    [\n",
    "        widgets.VBox(\n",
    "            [\n",
    "                widgets.HTML(\"<H1>Melbourne City Council Pedestrian Traffic</h1>\"),\n",
    "                year_input,\n",
    "                sensor_input,\n",
    "                month_input,\n",
    "            ]\n",
    "        ),\n",
    "        widgets.VBox(),  # map goes here\n",
    "    ]\n",
    ")\n",
    "\n",
    "row2 = widgets.HBox(\n",
    "    [\n",
    "        month_counts_output,\n",
    "        widgets.HBox([sensor_counts_output], layout={\"height\": \"400px\"}),\n",
    "    ]\n",
    ")\n",
    "\n",
    "row3 = widgets.HBox([sensors_output])\n",
    "\n",
    "widgets.VBox([row1, row2, row3])\n",
    "\n",
    "# TODO:\n",
    "# -- month filter needs to be moved to below top two charts; probably shouldn't apply to top sensor list\n",
    "# -- fix bug in sensor plot list when all are selected\n",
    "# -- add plot titles\n",
    "# -- add labels to the dropdowns\n",
    "# -- make a map plot"
   ]
  },
  {
   "cell_type": "markdown",
   "metadata": {},
   "source": [
    "## Comparing Sensors by Year"
   ]
  },
  {
   "cell_type": "code",
   "execution_count": 19,
   "metadata": {},
   "outputs": [
    {
     "data": {
      "application/vnd.jupyter.widget-view+json": {
       "model_id": "a653d5955c6c40b79b61301de94cfef0",
       "version_major": 2,
       "version_minor": 0
      },
      "text/plain": [
       "HBox(children=(VBox(children=(HTML(value='<H1>Comparing Sensors by Year</h1>'), Dropdown(options=('231 Bourke …"
      ]
     },
     "metadata": {},
     "output_type": "display_data"
    }
   ],
   "source": [
    "import functools\n",
    "\n",
    "# inputs\n",
    "sensor_input = widgets.Dropdown(options=SENSORS)\n",
    "year_input = widgets.Dropdown(options=YEARS)\n",
    "month_input = widgets.Dropdown(options=MONTHS)\n",
    "\n",
    "# binding inputs to output function\n",
    "out = widgets.interactive_output(\n",
    "    display_output(functools.partial(plot_years, foot_df)),\n",
    "    {\"sensor\": sensor_input, \"month\": month_input},\n",
    ")\n",
    "\n",
    "# layout\n",
    "widgets.HBox(\n",
    "    [\n",
    "        widgets.VBox(\n",
    "            [\n",
    "                widgets.HTML(\"<H1>Comparing Sensors by Year</h1>\"),\n",
    "                sensor_input,\n",
    "                month_input,\n",
    "            ]\n",
    "        ),\n",
    "        out,\n",
    "    ]\n",
    ")"
   ]
  },
  {
   "cell_type": "markdown",
   "metadata": {},
   "source": [
    "Ideas:\n",
    "* align to eg first Monday of the month\n",
    "* get rid of the 2000 from the initial x value see `tickformatstops` example near bottom of [this page](https://plotly.com/python/time-series/)\n",
    "* extend to `sensor_plot`\n",
    "* add ability to overlay mean/median lines from custom date (ranges)\n",
    "* work out how to combine `plot_sensors` and `plot_year` into single `plot_comparison` that also allows selecting month, and even day?\n",
    "* improve hover label"
   ]
  },
  {
   "cell_type": "code",
   "execution_count": null,
   "metadata": {},
   "outputs": [],
   "source": []
  },
  {
   "cell_type": "code",
   "execution_count": null,
   "metadata": {},
   "outputs": [],
   "source": []
  }
 ],
 "metadata": {
  "kernelspec": {
   "display_name": "Python 3",
   "language": "python",
   "name": "python3"
  },
  "language_info": {
   "codemirror_mode": {
    "name": "ipython",
    "version": 3
   },
   "file_extension": ".py",
   "mimetype": "text/x-python",
   "name": "python",
   "nbconvert_exporter": "python",
   "pygments_lexer": "ipython3",
   "version": "3.8.3"
  }
 },
 "nbformat": 4,
 "nbformat_minor": 4
}
