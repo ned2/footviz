{
 "cells": [
  {
   "cell_type": "markdown",
   "metadata": {},
   "source": [
    "# Ipywidgets based Dashboard\n",
    "\n",
    "This notebook contains a prototype dashboard built with [ipywidgets](https://ipywidgets.readthedocs.io). The dashboard definitely started to push the limits of `ipywidgets`, suggesting that for this type of dashboard, going straight to Dash or Panel would be a better move."
   ]
  },
  {
   "cell_type": "code",
   "execution_count": 1,
   "metadata": {},
   "outputs": [],
   "source": [
    "%load_ext autoreload\n",
    "%autoreload 2\n",
    "\n",
    "from melbviz.prototype import PedestrianDemo\n",
    "from melbviz.config import COUNTS_CSV_PATH, SENSOR_CSV_PATH, ROOT_PATH, CLEANED_DATA_PATH"
   ]
  },
  {
   "cell_type": "code",
   "execution_count": 2,
   "metadata": {},
   "outputs": [
    {
     "name": "stdout",
     "output_type": "stream",
     "text": [
      "loading dataset from Parquet\n"
     ]
    }
   ],
   "source": [
    "if CLEANED_DATA_PATH.is_file():\n",
    "    print(\"loading dataset from Parquet\")\n",
    "    demo = PedestrianDemo.from_parquet(CLEANED_DATA_PATH)\n",
    "else:\n",
    "    print(\"loading abd cleaning dataset from CVS\")\n",
    "    demo = PedestrianDemo.load(COUNTS_CSV_PATH, sensor_csv_path=SENSOR_CSV_PATH)"
   ]
  },
  {
   "cell_type": "code",
   "execution_count": 3,
   "metadata": {},
   "outputs": [
    {
     "data": {
      "application/vnd.jupyter.widget-view+json": {
       "model_id": "91eb122012994571afb993310fad94a9",
       "version_major": 2,
       "version_minor": 0
      },
      "text/plain": [
       "VBox(children=(HBox(children=(HTML(value='<H1>Melbourne CBD Pedestrian Traffic</h1>'),), layout=Layout(justify…"
      ]
     },
     "metadata": {},
     "output_type": "display_data"
    }
   ],
   "source": [
    "demo.prototype()"
   ]
  },
  {
   "cell_type": "code",
   "execution_count": null,
   "metadata": {},
   "outputs": [],
   "source": []
  }
 ],
 "metadata": {
  "kernelspec": {
   "display_name": "Python 3",
   "language": "python",
   "name": "python3"
  },
  "language_info": {
   "codemirror_mode": {
    "name": "ipython",
    "version": 3
   },
   "file_extension": ".py",
   "mimetype": "text/x-python",
   "name": "python",
   "nbconvert_exporter": "python",
   "pygments_lexer": "ipython3",
   "version": "3.8.6"
  }
 },
 "nbformat": 4,
 "nbformat_minor": 4
}
