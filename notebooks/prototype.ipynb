{
 "cells": [
  {
   "cell_type": "markdown",
   "metadata": {},
   "source": [
    "# Prototype Development"
   ]
  },
  {
   "cell_type": "code",
   "execution_count": 49,
   "metadata": {},
   "outputs": [
    {
     "name": "stdout",
     "output_type": "stream",
     "text": [
      "The autoreload extension is already loaded. To reload it, use:\n",
      "  %reload_ext autoreload\n"
     ]
    }
   ],
   "source": [
    "%matplotlib inline\n",
    "%load_ext autoreload\n",
    "%autoreload 2\n",
    "\n",
    "from pathlib import Path\n",
    "\n",
    "import plotly.express as px\n",
    "import plotly.graph_objects as go\n",
    "import pandas as pd\n",
    "\n",
    "from utils import *\n",
    "from plots import *\n",
    "\n",
    "data_path = Path(\"..\") / \"data\"\n",
    "counts_path = data_path / \"Pedestrian_Counting_System___2009_to_Present__counts_per_hour_.csv\"\n",
    "sensor_path = data_path / \"Pedestrian_Counting_System_-_Sensor_Locations.csv\""
   ]
  },
  {
   "cell_type": "markdown",
   "metadata": {},
   "source": [
    "First we'll prep some dataset metadata that we'll need: "
   ]
  },
  {
   "cell_type": "code",
   "execution_count": 8,
   "metadata": {},
   "outputs": [],
   "source": [
    "foot_df = load_and_clean_pedestrian_data(counts_path, lat_long_path=sensor_path)"
   ]
  },
  {
   "cell_type": "code",
   "execution_count": 14,
   "metadata": {},
   "outputs": [],
   "source": [
    "import calendar\n",
    "\n",
    "MONTHS = list(calendar.month_name)[1:]\n",
    "WEEKDAYS = list(calendar.day_name)\n",
    "YEARS = sorted(foot_df[\"Year\"].unique())\n",
    "SENSORS = sorted(foot_df[\"Sensor_Name\"].unique())\n",
    "NUM_SNESORS = len(SENSORS)"
   ]
  },
  {
   "cell_type": "markdown",
   "metadata": {},
   "source": [
    "## Ipywidgets\n",
    "\n",
    "* input controls\n",
    "* display outputs\n",
    "* binding inputs and outputs to interactions"
   ]
  },
  {
   "cell_type": "code",
   "execution_count": 15,
   "metadata": {},
   "outputs": [],
   "source": [
    "import ipywidgets as widgets"
   ]
  },
  {
   "cell_type": "code",
   "execution_count": 16,
   "metadata": {},
   "outputs": [
    {
     "data": {
      "application/vnd.jupyter.widget-view+json": {
       "model_id": "05e624ee3e2d4470b91a6f0ca452cb7d",
       "version_major": 2,
       "version_minor": 0
      },
      "text/plain": [
       "Dropdown(options=('231 Bourke St', 'Alfred Place', 'Australia on Collins', 'Birrarung Marr', 'Bourke St - Spen…"
      ]
     },
     "metadata": {},
     "output_type": "display_data"
    }
   ],
   "source": [
    "widgets.Dropdown(options=SENSORS)"
   ]
  },
  {
   "cell_type": "code",
   "execution_count": 17,
   "metadata": {},
   "outputs": [
    {
     "data": {
      "application/vnd.jupyter.widget-view+json": {
       "model_id": "1a72ae427dfa43d5bbb7c93097e25de6",
       "version_major": 2,
       "version_minor": 0
      },
      "text/plain": [
       "Dropdown(options=(2009, 2010, 2011, 2012, 2013, 2014, 2015, 2016, 2017, 2018, 2019, 2020), value=2009)"
      ]
     },
     "metadata": {},
     "output_type": "display_data"
    }
   ],
   "source": [
    "widgets.Dropdown(options=YEARS)"
   ]
  },
  {
   "cell_type": "code",
   "execution_count": 18,
   "metadata": {},
   "outputs": [
    {
     "data": {
      "application/vnd.jupyter.widget-view+json": {
       "model_id": "45ad31e24cc24cbdb2fe1875643b0725",
       "version_major": 2,
       "version_minor": 0
      },
      "text/plain": [
       "IntRangeSlider(value=(2009, 2020), max=2020, min=2009)"
      ]
     },
     "metadata": {},
     "output_type": "display_data"
    }
   ],
   "source": [
    "first_year = min(YEARS)\n",
    "last_year = max(YEARS)\n",
    "widgets.IntRangeSlider(\n",
    "    value=[first_year, last_year],\n",
    "    min=first_year,\n",
    "    max=last_year,\n",
    ")"
   ]
  },
  {
   "cell_type": "markdown",
   "metadata": {},
   "source": [
    "## Prototype"
   ]
  },
  {
   "cell_type": "code",
   "execution_count": 186,
   "metadata": {},
   "outputs": [
    {
     "data": {
      "application/vnd.jupyter.widget-view+json": {
       "model_id": "94d86ffaaf5b4059951d7c5d8eed91f1",
       "version_major": 2,
       "version_minor": 0
      },
      "text/plain": [
       "VBox(children=(HBox(children=(VBox(children=(HTML(value='<H1>Melbourne City Council Pedestrian Traffic</h1>'),…"
      ]
     },
     "metadata": {},
     "output_type": "display_data"
    }
   ],
   "source": [
    "# TODO\n",
    "# * values of control widgets should be constrained by current value of other widgets\n",
    "#   - change update_inputs func to use the change param\n",
    "#   - need to sort the new month order according to months\n",
    "\n",
    "from functools import partial\n",
    "\n",
    "def prototype(df):\n",
    "    # inputs\n",
    "    year_input = widgets.Dropdown(options=YEARS, value=YEARS[-1])\n",
    "    sensor_input = widgets.SelectMultiple(options=SENSORS, value=[])\n",
    "    month_input = widgets.Dropdown(options=MONTHS, value=None)\n",
    "\n",
    "    def update_inputs(change):\n",
    "        print(args)\n",
    "        filtered_df = filter_foot_df(\n",
    "            df,\n",
    "            year=year_input.value,\n",
    "            month=month_input.value,\n",
    "            sensor=sensor_input.value,\n",
    "        )\n",
    "        return\n",
    "        if \"month\" in args:\n",
    "            month_input.options = sorted(filtered_df[\"Month\"].unique())\n",
    "            if month_input.value not in month_input.options:\n",
    "                month_input.value = month_input.options[0]\n",
    "        if \"year\" in args:\n",
    "            year_input.options = sorted(filtered_df[\"Year\"].unique())\n",
    "            if year_input.value not in year_input.options:\n",
    "                year_input.value = year_input.options[0]\n",
    "        if \"sensor\" in args:\n",
    "            sensor_input.options = sorted(filtered_df[\"Sensor_Name\"].unique())\n",
    "            sensor_input.value = [sensor for sensor in sensor.value if sensor in sensor_input.options]\n",
    "            \n",
    "    # outputs\n",
    "    month_counts_output = widgets.interactive_output(\n",
    "        display_output(functools.partial(plot_month_counts, df)),\n",
    "        {\"sensor\": sensor_input, \"year\": year_input},\n",
    "    )\n",
    "    sensor_counts_output = widgets.interactive_output(\n",
    "        display_output(functools.partial(plot_sensor_counts, df)),\n",
    "        {\"sensor\": sensor_input, \"year\": year_input, \"month\": month_input},\n",
    "    )\n",
    "    sensors_output = widgets.interactive_output(\n",
    "        display_output(functools.partial(plot_sensors, df, width=1500)),\n",
    "        {\"sensor\": sensor_input, \"year\": year_input, \"month\": month_input},\n",
    "    )\n",
    "    sensors_map_output = widgets.interactive_output(\n",
    "        display_output(functools.partial(plot_scatter_map, df, height=900)),\n",
    "        {\"sensor\": sensor_input, \"year\": year_input, \"month\": month_input},\n",
    "    )\n",
    "    \n",
    "    year_input.observe(update_inputs, \"value\")\n",
    "    month_input.observe(update_inputs, \"value\")\n",
    "    sensor_input.observe(update_inputs, \"value\")\n",
    "\n",
    "    # layout\n",
    "    label_layout = {\"width\": \"5em\"}\n",
    "    row1 = widgets.HBox(\n",
    "        [\n",
    "            widgets.VBox(\n",
    "                [\n",
    "                    widgets.HTML(\"<H1>Melbourne City Council Pedestrian Traffic</h1>\"),\n",
    "                    widgets.HBox(\n",
    "                        [widgets.HTML(\"<b>Year</b>\", layout=label_layout), year_input]\n",
    "                    ),\n",
    "                    widgets.HBox(\n",
    "                        [widgets.HTML(\"<b>Month</b>\", layout=label_layout), month_input]\n",
    "                    ),\n",
    "                    widgets.HBox(\n",
    "                        [\n",
    "                            widgets.HTML(\"<b>Sensors</b>\", layout=label_layout),\n",
    "                            sensor_input,\n",
    "                        ]\n",
    "                    ),\n",
    "                ]\n",
    "            ),\n",
    "            month_counts_output,\n",
    "        ]\n",
    "    )\n",
    "    row2 = widgets.HBox([sensors_map_output, sensor_counts_output])\n",
    "    row3 = widgets.HBox([sensors_output])\n",
    "    layout = widgets.VBox([row1, row2, row3])\n",
    "    return layout\n",
    "\n",
    "\n",
    "prototype(foot_df)"
   ]
  },
  {
   "cell_type": "code",
   "execution_count": null,
   "metadata": {},
   "outputs": [],
   "source": [
    "def update_x_range(*args):\n",
    "    x_widget.max = 2.0 * y_widget.value\n",
    "y_widget.observe(update_x_range, 'value')"
   ]
  },
  {
   "cell_type": "code",
   "execution_count": null,
   "metadata": {},
   "outputs": [],
   "source": [
    "    row1 = widgets.HBox(\n",
    "        [\n",
    "            widgets.VBox(\n",
    "                [\n",
    "                    widgets.HTML(\"<H1>Melbourne City Council Pedestrian Traffic</h1>\"),\n",
    "                    widgets.HBox(\n",
    "                        [widgets.HTML(\"<b>Year</b>\", layout=label_layout), year_input]\n",
    "                    ),\n",
    "                    widgets.HBox(\n",
    "                        [widgets.HTML(\"<b>Month</b>\", layout=label_layout), month_input]\n",
    "                    ),\n",
    "                    widgets.HBox(\n",
    "                        [\n",
    "                            widgets.HTML(\"<b>Sensors</b>\", layout=label_layout),\n",
    "                            sensor_input,\n",
    "                        ]\n",
    "                    ),\n",
    "                ]\n",
    "            ),\n",
    "            month_counts_output,\n",
    "        ]\n",
    "    )"
   ]
  },
  {
   "cell_type": "code",
   "execution_count": 156,
   "metadata": {},
   "outputs": [
    {
     "data": {
      "text/plain": [
       "\u001b[0;31mInit signature:\u001b[0m \u001b[0mwidgets\u001b[0m\u001b[0;34m.\u001b[0m\u001b[0mLabel\u001b[0m\u001b[0;34m(\u001b[0m\u001b[0;34m*\u001b[0m\u001b[0margs\u001b[0m\u001b[0;34m,\u001b[0m \u001b[0;34m**\u001b[0m\u001b[0mkwargs\u001b[0m\u001b[0;34m)\u001b[0m\u001b[0;34m\u001b[0m\u001b[0;34m\u001b[0m\u001b[0m\n",
       "\u001b[0;31mDocstring:\u001b[0m     \n",
       "Label widget.\n",
       "\n",
       "It also renders math inside the string `value` as Latex (requires $ $ or\n",
       "$$ $$ and similar latex tags).\n",
       "\u001b[0;31mInit docstring:\u001b[0m Public constructor\n",
       "\u001b[0;31mFile:\u001b[0m           ~/.pyenv/versions/3.8.3/envs/footviz/lib/python3.8/site-packages/ipywidgets/widgets/widget_string.py\n",
       "\u001b[0;31mType:\u001b[0m           MetaHasTraits\n",
       "\u001b[0;31mSubclasses:\u001b[0m     \n"
      ]
     },
     "metadata": {},
     "output_type": "display_data"
    }
   ],
   "source": [
    "widgets.?"
   ]
  },
  {
   "cell_type": "code",
   "execution_count": 158,
   "metadata": {},
   "outputs": [
    {
     "data": {
      "text/plain": [
       "['_model_module',\n",
       " '_model_module_version',\n",
       " '_model_name',\n",
       " '_view_count',\n",
       " '_view_module',\n",
       " '_view_module_version',\n",
       " '_view_name',\n",
       " 'description_width']"
      ]
     },
     "execution_count": 158,
     "metadata": {},
     "output_type": "execute_result"
    }
   ],
   "source": [
    "b = widgets.HTML(\"Foo\")\n",
    "b.style.keys"
   ]
  },
  {
   "cell_type": "markdown",
   "metadata": {},
   "source": [
    "## Comparing Sensors by Year"
   ]
  },
  {
   "cell_type": "code",
   "execution_count": 72,
   "metadata": {},
   "outputs": [
    {
     "data": {
      "application/vnd.jupyter.widget-view+json": {
       "model_id": "9a631af3899a431e9dcb9da3d4af5df5",
       "version_major": 2,
       "version_minor": 0
      },
      "text/plain": [
       "HBox(children=(VBox(children=(HTML(value='<H1>Comparing Sensors by Year</h1>'), Dropdown(options=('231 Bourke …"
      ]
     },
     "metadata": {},
     "output_type": "display_data"
    }
   ],
   "source": [
    "import functools\n",
    "\n",
    "# inputs\n",
    "sensor_input = widgets.Dropdown(options=SENSORS)\n",
    "year_input = widgets.Dropdown(options=YEARS)\n",
    "month_input = widgets.Dropdown(options=MONTHS)\n",
    "\n",
    "# binding inputs to output function\n",
    "out = widgets.interactive_output(\n",
    "    display_output(functools.partial(plot_years, foot_df)),\n",
    "    {\"sensor\": sensor_input, \"month\": month_input},\n",
    ")\n",
    "\n",
    "# layout\n",
    "widgets.HBox(\n",
    "    [\n",
    "        widgets.VBox(\n",
    "            [\n",
    "                widgets.HTML(\"<H1>Comparing Sensors by Year</h1>\"),\n",
    "                sensor_input,\n",
    "                month_input,\n",
    "            ]\n",
    "        ),\n",
    "        out,\n",
    "    ]\n",
    ")"
   ]
  },
  {
   "cell_type": "markdown",
   "metadata": {},
   "source": [
    "Ideas:\n",
    "* align to eg first Monday of the month\n",
    "* get rid of the 2000 from the initial x value see `tickformatstops` example near bottom of [this page](https://plotly.com/python/time-series/)\n",
    "* extend to `sensor_plot`\n",
    "* add ability to overlay mean/median lines from custom date (ranges)\n",
    "* work out how to combine `plot_sensors` and `plot_year` into single `plot_comparison` that also allows selecting month, and even day?\n",
    "* improve hover label"
   ]
  },
  {
   "cell_type": "code",
   "execution_count": 30,
   "metadata": {},
   "outputs": [
    {
     "data": {
      "text/plain": [
       "True"
      ]
     },
     "execution_count": 30,
     "metadata": {},
     "output_type": "execute_result"
    }
   ],
   "source": [
    "is_str_or_non_empty([1,2,4])"
   ]
  },
  {
   "cell_type": "code",
   "execution_count": 41,
   "metadata": {},
   "outputs": [],
   "source": [
    "import numpy as np\n",
    "import numbers"
   ]
  },
  {
   "cell_type": "code",
   "execution_count": 43,
   "metadata": {},
   "outputs": [
    {
     "data": {
      "text/plain": [
       "True"
      ]
     },
     "execution_count": 43,
     "metadata": {},
     "output_type": "execute_result"
    }
   ],
   "source": [
    "isinstance(np.array([1])[0], numbers.Number)"
   ]
  },
  {
   "cell_type": "code",
   "execution_count": 63,
   "metadata": {},
   "outputs": [
    {
     "data": {
      "text/plain": [
       "False"
      ]
     },
     "execution_count": 63,
     "metadata": {},
     "output_type": "execute_result"
    }
   ],
   "source": [
    "isinstance(np.array([1]), collections.abc.MutableSequence)"
   ]
  }
 ],
 "metadata": {
  "kernelspec": {
   "display_name": "Python 3",
   "language": "python",
   "name": "python3"
  },
  "language_info": {
   "codemirror_mode": {
    "name": "ipython",
    "version": 3
   },
   "file_extension": ".py",
   "mimetype": "text/x-python",
   "name": "python",
   "nbconvert_exporter": "python",
   "pygments_lexer": "ipython3",
   "version": "3.8.3"
  }
 },
 "nbformat": 4,
 "nbformat_minor": 4
}
