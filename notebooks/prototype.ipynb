{
 "cells": [
  {
   "cell_type": "markdown",
   "metadata": {},
   "source": [
    "# Prototype Development"
   ]
  },
  {
   "cell_type": "code",
   "execution_count": 1,
   "metadata": {},
   "outputs": [],
   "source": [
    "%matplotlib inline\n",
    "%load_ext autoreload\n",
    "%autoreload 2\n",
    "\n",
    "from pathlib import Path\n",
    "\n",
    "import plotly.express as px\n",
    "import plotly.graph_objects as go\n",
    "import pandas as pd\n",
    "\n",
    "from utils import *\n",
    "from plots import *\n",
    "\n",
    "data_path = Path(\"..\") / \"data\"\n",
    "counts_path = data_path / \"Pedestrian_Counting_System___2009_to_Present__counts_per_hour_.csv\"\n",
    "sensor_path = data_path / \"Pedestrian_Counting_System_-_Sensor_Locations.csv\""
   ]
  },
  {
   "cell_type": "markdown",
   "metadata": {},
   "source": [
    "First we'll prep some dataset metadata that we'll need: "
   ]
  },
  {
   "cell_type": "code",
   "execution_count": 3,
   "metadata": {},
   "outputs": [],
   "source": [
    "foot_df = load_and_clean_pedestrian_data(counts_path, lat_long_path=sensor_path)"
   ]
  },
  {
   "cell_type": "code",
   "execution_count": 4,
   "metadata": {},
   "outputs": [],
   "source": [
    "import calendar\n",
    "\n",
    "MONTHS = list(calendar.month_name)[1:]\n",
    "WEEKDAYS = list(calendar.day_name)\n",
    "YEARS = sorted(foot_df[\"Year\"].unique())\n",
    "SENSORS = sorted(foot_df[\"Sensor_Name\"].unique())\n",
    "NUM_SNESORS = len(SENSORS)"
   ]
  },
  {
   "cell_type": "markdown",
   "metadata": {},
   "source": [
    "## Ipywidgets\n",
    "\n",
    "* input controls\n",
    "* display outputs\n",
    "* binding inputs and outputs to interactions"
   ]
  },
  {
   "cell_type": "code",
   "execution_count": 5,
   "metadata": {},
   "outputs": [],
   "source": [
    "import ipywidgets as widgets"
   ]
  },
  {
   "cell_type": "code",
   "execution_count": 6,
   "metadata": {},
   "outputs": [
    {
     "data": {
      "application/vnd.jupyter.widget-view+json": {
       "model_id": "df71a142a844469bac12ead40ee3f742",
       "version_major": 2,
       "version_minor": 0
      },
      "text/plain": [
       "Dropdown(options=('231 Bourke St', 'Alfred Place', 'Australia on Collins', 'Birrarung Marr', 'Bourke St - Spen…"
      ]
     },
     "metadata": {},
     "output_type": "display_data"
    }
   ],
   "source": [
    "widgets.Dropdown(options=SENSORS)"
   ]
  },
  {
   "cell_type": "code",
   "execution_count": 7,
   "metadata": {},
   "outputs": [
    {
     "data": {
      "application/vnd.jupyter.widget-view+json": {
       "model_id": "408ee90aa73142a8bd2db40beaa17262",
       "version_major": 2,
       "version_minor": 0
      },
      "text/plain": [
       "Dropdown(options=(2009, 2010, 2011, 2012, 2013, 2014, 2015, 2016, 2017, 2018, 2019, 2020), value=2009)"
      ]
     },
     "metadata": {},
     "output_type": "display_data"
    }
   ],
   "source": [
    "widgets.Dropdown(options=YEARS)"
   ]
  },
  {
   "cell_type": "code",
   "execution_count": 8,
   "metadata": {},
   "outputs": [
    {
     "data": {
      "application/vnd.jupyter.widget-view+json": {
       "model_id": "382061c9176e488197ce76cb155236bc",
       "version_major": 2,
       "version_minor": 0
      },
      "text/plain": [
       "IntRangeSlider(value=(2009, 2020), max=2020, min=2009)"
      ]
     },
     "metadata": {},
     "output_type": "display_data"
    }
   ],
   "source": [
    "first_year = min(YEARS)\n",
    "last_year = max(YEARS)\n",
    "widgets.IntRangeSlider(\n",
    "    value=[first_year, last_year],\n",
    "    min=first_year,\n",
    "    max=last_year,\n",
    ")"
   ]
  },
  {
   "cell_type": "markdown",
   "metadata": {},
   "source": [
    "## Prototype"
   ]
  },
  {
   "cell_type": "code",
   "execution_count": 71,
   "metadata": {},
   "outputs": [
    {
     "data": {
      "application/vnd.jupyter.widget-view+json": {
       "model_id": "ea57358df70e46d593207a6551098f8e",
       "version_major": 2,
       "version_minor": 0
      },
      "text/plain": [
       "VBox(children=(HBox(children=(Output(layout=Layout(border='1px solid black')),)), HBox(children=(VBox(children…"
      ]
     },
     "metadata": {},
     "output_type": "display_data"
    }
   ],
   "source": [
    "# TODO\n",
    "# -- add current filter value to each plot title?\n",
    "# -- initial month values need constraining\n",
    "# -- see if I can get filter_foot_df return values cached\n",
    "\n",
    "def prototype(df, debug=False):\n",
    "    \"\"\"Create a prototype Dashboard\"\"\"\n",
    "    # inputs\n",
    "    year_input = widgets.Dropdown(options=YEARS, value=YEARS[-1], description=\"Year\")\n",
    "    month_input = widgets.Dropdown(options=MONTHS, value=None, description=\"Month\")\n",
    "    sensor_input = widgets.SelectMultiple(\n",
    "        options=SENSORS, value=[], description=\"Sensor\"\n",
    "    )\n",
    "\n",
    "    def update_inputs(change):\n",
    "        \"\"\"Update available options for month and sensor inputs based on current year\"\"\"\n",
    "        filtered_df = filter_foot_df(df, year=year_input.value)\n",
    "        # Need to temporarily disable handlers all other custom handlers\n",
    "        # to prevent input value/option changes triggering a UI ipdate\n",
    "        month_handlers = month_input._trait_notifiers[\"value\"][\"change\"]\n",
    "        month_input._trait_notifiers[\"value\"][\"change\"] = []\n",
    "        month_input.options = filtered_df[\"Month\"].unique()\n",
    "        month_input.value = None\n",
    "        month_input._trait_notifiers[\"value\"][\"change\"] = month_handlers\n",
    "\n",
    "        sensor_handlers = sensor_input._trait_notifiers[\"value\"][\"change\"]\n",
    "        sensor_input._trait_notifiers[\"value\"][\"change\"] = []\n",
    "        sensor_input.options = sorted(filtered_df[\"Sensor_Name\"].unique())\n",
    "        sensor_input.value = []\n",
    "        sensor_input._trait_notifiers[\"value\"][\"change\"] = sensor_handlers\n",
    "\n",
    "    if debug:\n",
    "        debug_view = widgets.Output(layout={\"border\": \"1px solid black\"})\n",
    "        update_inputs = debug_view.capture(clear_output=True)(update_inputs)\n",
    "    \n",
    "    year_input.observe(update_inputs, \"value\")\n",
    "    \n",
    "    # outputs\n",
    "    month_counts_output = widgets.interactive_output(\n",
    "        display_output(functools.partial(plot_month_counts, df)),\n",
    "        {\"sensor\": sensor_input, \"year\": year_input},\n",
    "    )\n",
    "    sensor_counts_output = widgets.interactive_output(\n",
    "        display_output(functools.partial(plot_sensor_counts, df)),\n",
    "        {\"sensor\": sensor_input, \"year\": year_input, \"month\": month_input},\n",
    "    )\n",
    "    sensors_output = widgets.interactive_output(\n",
    "        display_output(\n",
    "            functools.partial(plot_sensors, df, same_yscale=True, width=1500)\n",
    "        ),\n",
    "        {\"sensor\": sensor_input, \"year\": year_input, \"month\": month_input},\n",
    "    )\n",
    "    sensors_map_output = widgets.interactive_output(\n",
    "        display_output(functools.partial(plot_scatter_map, df, height=900)),\n",
    "        {\"sensor\": sensor_input, \"year\": year_input, \"month\": month_input},\n",
    "    )\n",
    "\n",
    "    # layout\n",
    "    row1 = widgets.HBox(\n",
    "        [\n",
    "            widgets.VBox(\n",
    "                [\n",
    "                    widgets.HTML(\"<H1>Melbourne City Council Pedestrian Traffic</h1>\"),\n",
    "                    widgets.HBox([year_input]),\n",
    "                    widgets.HBox([month_input]),\n",
    "                    widgets.HBox([sensor_input,]),\n",
    "                ]\n",
    "            ),\n",
    "            month_counts_output,\n",
    "        ]\n",
    "    )\n",
    "    row2 = widgets.HBox([sensors_map_output, sensor_counts_output])\n",
    "    row3 = widgets.HBox([sensors_output])\n",
    "    rows = [row1, row2, row3]\n",
    "\n",
    "    if debug:\n",
    "        debug_row = widgets.HBox([debug_view])\n",
    "        rows.insert(0, debug_row)\n",
    "\n",
    "    return widgets.VBox(rows)\n",
    "\n",
    "\n",
    "prototype(foot_df, debug=True)"
   ]
  },
  {
   "cell_type": "markdown",
   "metadata": {},
   "source": [
    "## Comparing Sensors by Year"
   ]
  },
  {
   "cell_type": "code",
   "execution_count": null,
   "metadata": {},
   "outputs": [],
   "source": [
    "import functools\n",
    "\n",
    "# inputs\n",
    "sensor_input = widgets.Dropdown(options=SENSORS)\n",
    "year_input = widgets.Dropdown(options=YEARS)\n",
    "month_input = widgets.Dropdown(options=MONTHS)\n",
    "\n",
    "# binding inputs to output function\n",
    "out = widgets.interactive_output(\n",
    "    display_output(functools.partial(plot_years, foot_df)),\n",
    "    {\"sensor\": sensor_input, \"month\": month_input},\n",
    ")\n",
    "\n",
    "# layout\n",
    "widgets.HBox(\n",
    "    [\n",
    "        widgets.VBox(\n",
    "            [\n",
    "                widgets.HTML(\"<H1>Comparing Sensors by Year</h1>\"),\n",
    "                sensor_input,\n",
    "                month_input,\n",
    "            ]\n",
    "        ),\n",
    "        out,\n",
    "    ]\n",
    ")"
   ]
  },
  {
   "cell_type": "markdown",
   "metadata": {},
   "source": [
    "Ideas:\n",
    "* align to eg first Monday of the month\n",
    "* get rid of the 2000 from the initial x value see `tickformatstops` example near bottom of [this page](https://plotly.com/python/time-series/)\n",
    "* extend to `sensor_plot`\n",
    "* add ability to overlay mean/median lines from custom date (ranges)\n",
    "* work out how to combine `plot_sensors` and `plot_year` into single `plot_comparison` that also allows selecting month, and even day?\n",
    "* improve hover label"
   ]
  },
  {
   "cell_type": "code",
   "execution_count": null,
   "metadata": {},
   "outputs": [],
   "source": [
    "is_str_or_non_empty([1,2,4])"
   ]
  },
  {
   "cell_type": "code",
   "execution_count": null,
   "metadata": {},
   "outputs": [],
   "source": [
    "import numpy as np\n",
    "import numbers"
   ]
  },
  {
   "cell_type": "code",
   "execution_count": null,
   "metadata": {},
   "outputs": [],
   "source": [
    "isinstance(np.array([1])[0], numbers.Number)"
   ]
  },
  {
   "cell_type": "code",
   "execution_count": null,
   "metadata": {},
   "outputs": [],
   "source": [
    "isinstance(np.array([1]), collections.abc.MutableSequence)"
   ]
  }
 ],
 "metadata": {
  "kernelspec": {
   "display_name": "Python 3",
   "language": "python",
   "name": "python3"
  },
  "language_info": {
   "codemirror_mode": {
    "name": "ipython",
    "version": 3
   },
   "file_extension": ".py",
   "mimetype": "text/x-python",
   "name": "python",
   "nbconvert_exporter": "python",
   "pygments_lexer": "ipython3",
   "version": "3.8.3"
  }
 },
 "nbformat": 4,
 "nbformat_minor": 4
}
