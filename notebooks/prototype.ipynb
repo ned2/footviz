{
 "cells": [
  {
   "cell_type": "markdown",
   "metadata": {},
   "source": [
    "# Prototype Development"
   ]
  },
  {
   "cell_type": "code",
   "execution_count": 1,
   "metadata": {},
   "outputs": [],
   "source": [
    "%matplotlib inline\n",
    "%load_ext autoreload\n",
    "%autoreload 2\n",
    "\n",
    "from pathlib import Path\n",
    "\n",
    "import plotly.express as px\n",
    "import plotly.graph_objects as go\n",
    "import pandas as pd\n",
    "\n",
    "from utils import *\n",
    "from plots import *\n",
    "\n",
    "data_path = Path(\"..\") / \"data\"\n",
    "counts_path = data_path / \"Pedestrian_Counting_System___2009_to_Present__counts_per_hour_.csv\"\n",
    "sensor_path = data_path / \"Pedestrian_Counting_System_-_Sensor_Locations.csv\""
   ]
  },
  {
   "cell_type": "markdown",
   "metadata": {},
   "source": [
    "First we'll prep some dataset metadata that we'll need: "
   ]
  },
  {
   "cell_type": "code",
   "execution_count": 3,
   "metadata": {},
   "outputs": [],
   "source": [
    "foot_df = load_and_clean_pedestrian_data(counts_path, lat_long_path=sensor_path)"
   ]
  },
  {
   "cell_type": "code",
   "execution_count": 4,
   "metadata": {},
   "outputs": [],
   "source": [
    "import calendar\n",
    "\n",
    "MONTHS = list(calendar.month_name)[1:]\n",
    "WEEKDAYS = list(calendar.day_name)\n",
    "YEARS = sorted(foot_df[\"Year\"].unique())\n",
    "SENSORS = sorted(foot_df[\"Sensor_Name\"].unique())\n",
    "NUM_SNESORS = len(SENSORS)"
   ]
  },
  {
   "cell_type": "markdown",
   "metadata": {},
   "source": [
    "## Ipywidgets\n",
    "\n",
    "* input controls\n",
    "* display outputs\n",
    "* binding inputs and outputs to interactions"
   ]
  },
  {
   "cell_type": "code",
   "execution_count": 173,
   "metadata": {},
   "outputs": [],
   "source": [
    "import ipywidgets as widgets"
   ]
  },
  {
   "cell_type": "code",
   "execution_count": 177,
   "metadata": {},
   "outputs": [
    {
     "data": {
      "application/vnd.jupyter.widget-view+json": {
       "model_id": "21ef679ea4654463bb9106a48b6b3079",
       "version_major": 2,
       "version_minor": 0
      },
      "text/plain": [
       "Dropdown(options=('cat', 'dog'), value='cat')"
      ]
     },
     "metadata": {},
     "output_type": "display_data"
    }
   ],
   "source": [
    "widgets.Dropdown(options=[\"cat\", \"dog\"])"
   ]
  },
  {
   "cell_type": "code",
   "execution_count": 179,
   "metadata": {},
   "outputs": [
    {
     "data": {
      "application/vnd.jupyter.widget-view+json": {
       "model_id": "4689be662ef44eb9b6432fda2dc67116",
       "version_major": 2,
       "version_minor": 0
      },
      "text/plain": [
       "Dropdown(options=(1, 2, 3, 4, 5), value=1)"
      ]
     },
     "metadata": {},
     "output_type": "display_data"
    }
   ],
   "source": [
    "widgets.Dropdown(options=[1,2,3,4, 5])"
   ]
  },
  {
   "cell_type": "code",
   "execution_count": 176,
   "metadata": {},
   "outputs": [
    {
     "data": {
      "application/vnd.jupyter.widget-view+json": {
       "model_id": "f5ef9fb5b0f84e8a8a3f013b37b3e071",
       "version_major": 2,
       "version_minor": 0
      },
      "text/plain": [
       "IntRangeSlider(value=(2009, 2020), max=2020, min=2009)"
      ]
     },
     "metadata": {},
     "output_type": "display_data"
    }
   ],
   "source": [
    "first_year = min(YEARS)\n",
    "last_year = max(YEARS)\n",
    "widgets.IntRangeSlider(\n",
    "    value=[first_year, last_year],\n",
    "    min=first_year,\n",
    "    max=last_year,\n",
    ")"
   ]
  },
  {
   "cell_type": "markdown",
   "metadata": {},
   "source": [
    "## Prototype"
   ]
  },
  {
   "cell_type": "code",
   "execution_count": 189,
   "metadata": {},
   "outputs": [
    {
     "data": {
      "application/vnd.jupyter.widget-view+json": {
       "model_id": "3053cb82a51f43f88461784d806f8aa2",
       "version_major": 2,
       "version_minor": 0
      },
      "text/plain": [
       "VBox(children=(HTML(value='<H1>Melbourne CBD Pedestrian Traffic</h1>'), HBox(children=(VBox(children=(HBox(chi…"
      ]
     },
     "metadata": {},
     "output_type": "display_data"
    }
   ],
   "source": [
    "# TODO\n",
    "# -- diagnose and fix issues with souns count/ sensor time series plots when one/few plots displayed\n",
    "# -- add titles with current filter values to each plot\n",
    "# -- sort out margins\n",
    "# -- address artefcts in plots\n",
    "# -- add prev 4 week average to time series plots etc\n",
    "# -- see if any options for caching\n",
    "\n",
    "from prototype import prototype\n",
    "\n",
    "prototype(foot_df)"
   ]
  },
  {
   "cell_type": "markdown",
   "metadata": {},
   "source": [
    "## Comparing Sensors by Year"
   ]
  },
  {
   "cell_type": "code",
   "execution_count": null,
   "metadata": {},
   "outputs": [],
   "source": [
    "import functools\n",
    "\n",
    "# inputs\n",
    "sensor_input = widgets.Dropdown(options=SENSORS)\n",
    "year_input = widgets.Dropdown(options=YEARS)\n",
    "month_input = widgets.Dropdown(options=MONTHS)\n",
    "\n",
    "# binding inputs to output function\n",
    "out = widgets.interactive_output(\n",
    "    display_output(functools.partial(plot_years, foot_df)),\n",
    "    {\"sensor\": sensor_input, \"month\": month_input},\n",
    ")\n",
    "\n",
    "# layout\n",
    "widgets.HBox(\n",
    "    [\n",
    "        widgets.VBox(\n",
    "            [\n",
    "                widgets.HTML(\"<H1>Comparing Sensors by Year</h1>\"),\n",
    "                sensor_input,\n",
    "                month_input,\n",
    "            ]\n",
    "        ),\n",
    "        out,\n",
    "    ]\n",
    ")"
   ]
  },
  {
   "cell_type": "markdown",
   "metadata": {},
   "source": [
    "Ideas:\n",
    "* align to eg first Monday of the month\n",
    "* get rid of the 2000 from the initial x value see `tickformatstops` example near bottom of [this page](https://plotly.com/python/time-series/)\n",
    "* extend to `sensor_plot`\n",
    "* add ability to overlay mean/median lines from custom date (ranges)\n",
    "* work out how to combine `plot_sensors` and `plot_year` into single `plot_comparison` that also allows selecting month, and even day?\n",
    "* improve hover label"
   ]
  },
  {
   "cell_type": "code",
   "execution_count": null,
   "metadata": {},
   "outputs": [],
   "source": [
    "is_str_or_non_empty([1,2,4])"
   ]
  },
  {
   "cell_type": "code",
   "execution_count": null,
   "metadata": {},
   "outputs": [],
   "source": [
    "import numpy as np\n",
    "import numbers"
   ]
  },
  {
   "cell_type": "code",
   "execution_count": null,
   "metadata": {},
   "outputs": [],
   "source": [
    "isinstance(np.array([1])[0], numbers.Number)"
   ]
  },
  {
   "cell_type": "code",
   "execution_count": null,
   "metadata": {},
   "outputs": [],
   "source": [
    "isinstance(np.array([1]), collections.abc.MutableSequence)"
   ]
  }
 ],
 "metadata": {
  "kernelspec": {
   "display_name": "Python 3",
   "language": "python",
   "name": "python3"
  },
  "language_info": {
   "codemirror_mode": {
    "name": "ipython",
    "version": 3
   },
   "file_extension": ".py",
   "mimetype": "text/x-python",
   "name": "python",
   "nbconvert_exporter": "python",
   "pygments_lexer": "ipython3",
   "version": "3.8.3"
  }
 },
 "nbformat": 4,
 "nbformat_minor": 4
}
