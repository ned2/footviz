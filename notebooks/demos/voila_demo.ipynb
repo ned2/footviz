{
 "cells": [
  {
   "cell_type": "markdown",
   "metadata": {},
   "source": [
    "# Simple ipywidgets interface to Demo with Voila"
   ]
  },
  {
   "cell_type": "code",
   "execution_count": 2,
   "metadata": {},
   "outputs": [],
   "source": [
    "import os\n",
    "import warnings\n",
    "from pathlib import Path\n",
    "\n",
    "from ipywidgets import interact, fixed\n",
    "import pandas as pd\n",
    "import plotly.express as px\n",
    "\n",
    "warnings.simplefilter(action='ignore', category=FutureWarning)\n",
    "data_path = Path(os.getenv(\"MELBVIZ_DATA_PATH\", \"../data\"))\n",
    "counts_csv_path = data_path / \"Pedestrian_Counting_System___2009_to_Present__counts_per_hour_.csv\"\n",
    "counts_df = pd.read_csv(counts_csv_path, index_col=\"ID\", parse_dates=[\"Date_Time\"]);"
   ]
  },
  {
   "cell_type": "code",
   "execution_count": 3,
   "metadata": {},
   "outputs": [],
   "source": [
    "def plot_months(counts_df, year, truncate_y=False):\n",
    "    \"\"\"Plot Monthly traffic for a given year.\"\"\"\n",
    "    \n",
    "    # 1. Collect and shape data\n",
    "    year_df = counts_df[counts_df[\"Year\"] == year]\n",
    "    months_df = year_df.groupby(\"Month\")[\"Hourly_Counts\"].sum().reset_index(name=\"total_counts\")\n",
    "    sorted_months_df = months_df.sort_values(\n",
    "        by=\"Month\", \n",
    "        key=lambda x:pd.to_datetime(x, format=\"%B\").dt.month\n",
    "    )\n",
    "\n",
    "    # 2. Make plot\n",
    "    figure = px.line(\n",
    "        sorted_months_df, \n",
    "        x=\"Month\", \n",
    "        y=\"total_counts\", \n",
    "        title=\"Monthly Total Pedestrian Counts\",\n",
    "        width=1500,\n",
    "        height=500\n",
    "    )\n",
    "    \n",
    "    # 3. Fine-tune plot's appearance \n",
    "    figure.update_traces(mode='lines+markers')\n",
    "    figure.update_layout(yaxis_title=\"Total Pedestrian Counts\", title_x=0.5)\n",
    "    if not truncate_y:\n",
    "        figure.update_layout(yaxis_rangemode='tozero')\n",
    "    \n",
    "    return figure"
   ]
  },
  {
   "cell_type": "code",
   "execution_count": 4,
   "metadata": {},
   "outputs": [
    {
     "data": {
      "application/vnd.jupyter.widget-view+json": {
       "model_id": "30e94f89be7b47dc850b802a21e71649",
       "version_major": 2,
       "version_minor": 0
      },
      "text/plain": [
       "interactive(children=(Dropdown(description='year', options=(2009, 2010, 2011, 2012, 2013, 2014, 2015, 2016, 20…"
      ]
     },
     "metadata": {},
     "output_type": "display_data"
    }
   ],
   "source": [
    "interact(plot_months, year=range(2009, 2021), counts_df=fixed(counts_df));"
   ]
  }
 ],
 "metadata": {
  "kernelspec": {
   "display_name": "Python 3",
   "language": "python",
   "name": "python3"
  },
  "language_info": {
   "codemirror_mode": {
    "name": "ipython",
    "version": 3
   },
   "file_extension": ".py",
   "mimetype": "text/x-python",
   "name": "python",
   "nbconvert_exporter": "python",
   "pygments_lexer": "ipython3",
   "version": "3.8.6"
  }
 },
 "nbformat": 4,
 "nbformat_minor": 4
}
