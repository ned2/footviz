{
 "cells": [
  {
   "cell_type": "code",
   "execution_count": 1,
   "id": "b2af4554-1e21-45fe-985c-89ecb1a94f58",
   "metadata": {},
   "outputs": [],
   "source": [
    "from melbviz.pedestrian import PedestrianDataset\n",
    "from melbviz.config import MELBVIZ_CLEANED_DATA_PATH\n",
    "from ipywidgets import interact, Dropdown"
   ]
  },
  {
   "cell_type": "code",
   "execution_count": 2,
   "id": "dcfa6e86-88fb-46bd-bbcb-d4425db87a9e",
   "metadata": {},
   "outputs": [],
   "source": [
    "def interactive_sensor_traffic(dataset):\n",
    "    \"\"\"Make an interactive\"\"\"\n",
    "    year_widget = Dropdown(options=dataset.years)\n",
    "    month_widget = Dropdown(options=dataset.months)\n",
    "    sensor_widget = Dropdown(options=data.sensors)\n",
    "\n",
    "    def update_widgets(*args):\n",
    "        \"\"\"Update month and sensor values to be only those available for selected year\"\"\"\n",
    "        filtered_data = dataset.filter(year=year_widget.value)\n",
    "        month_widget.options = filtered_data.months\n",
    "        sensor_widget.options = filtered_data.sensors\n",
    "\n",
    "    # register update_widgets as callback to be run on year change\n",
    "    year_widget.observe(update_widgets)\n",
    "\n",
    "    @interact(year=year_widget, month=month_widget, sensor=sensor_widget)\n",
    "    def plot(year, month, sensor):\n",
    "        \"\"\"Plot the sensor traffic for selected year, month, and sensor\"\"\"\n",
    "        filtered_data = dataset.filter(year=year, month=month, sensor=sensor)\n",
    "        if len(filtered_data.df) == 0:\n",
    "            return f\"No records for {year}, {month}, {sensor}\"\n",
    "        return filtered_data.plot(\"sensor_traffic\")"
   ]
  },
  {
   "cell_type": "code",
   "execution_count": 3,
   "id": "1fd6305c-a65e-410b-9615-938a7aab36f1",
   "metadata": {},
   "outputs": [],
   "source": [
    "data = PedestrianDataset.from_parquet(MELBVIZ_CLEANED_DATA_PATH)"
   ]
  },
  {
   "cell_type": "code",
   "execution_count": 4,
   "id": "517940d6-74bf-418c-a5d4-640b4fd5bdc8",
   "metadata": {},
   "outputs": [
    {
     "data": {
      "application/vnd.jupyter.widget-view+json": {
       "model_id": "af4485947f3345fca73ce521c5389a49",
       "version_major": 2,
       "version_minor": 0
      },
      "text/plain": [
       "interactive(children=(Dropdown(description='year', options=(2009, 2010, 2011, 2012, 2013, 2014, 2015, 2016, 20…"
      ]
     },
     "metadata": {},
     "output_type": "display_data"
    }
   ],
   "source": [
    "interactive_sensor_traffic(data)"
   ]
  }
 ],
 "metadata": {
  "kernelspec": {
   "display_name": "Python 3",
   "language": "python",
   "name": "python3"
  },
  "language_info": {
   "codemirror_mode": {
    "name": "ipython",
    "version": 3
   },
   "file_extension": ".py",
   "mimetype": "text/x-python",
   "name": "python",
   "nbconvert_exporter": "python",
   "pygments_lexer": "ipython3",
   "version": "3.9.4"
  }
 },
 "nbformat": 4,
 "nbformat_minor": 5
}
