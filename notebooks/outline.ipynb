{
 "cells": [
  {
   "cell_type": "markdown",
   "metadata": {},
   "source": [
    "## Pro-tips\n",
    "\n",
    "* plot your damned data\n",
    "* use functions to capture re-usable logic and decreae clutter of the global namespace\n",
    "* save cleaned dataframes using parquet\n",
    "* use ngrok to share initial versions of dashboards\n",
    " * static plots in notebook with voila\n",
    " * basic interactivity with voila \n",
    " * whole dash app\n",
    " * "
   ]
  },
  {
   "cell_type": "markdown",
   "metadata": {},
   "source": [
    "# Workshop Outline"
   ]
  },
  {
   "cell_type": "markdown",
   "metadata": {},
   "source": [
    "## Intro and Outline\n",
    "* Intro myself and outline workshop agenda\n",
    "* Aims/outcomes \n",
    " * make a dazzling logo cloud of libraries\n",
    " * highlight that the point is not to go through all in detail but to see how they fit together and understand how to go about the process of building such a data tool from a high level perspective. And then be able to come back and fill in the missing skills.\n",
    " * we will be going on a dashboarding journey, from start to end, stopping here an there to get our hands dirty. But this definitely is a whirlwind tour."
   ]
  },
  {
   "cell_type": "markdown",
   "metadata": {},
   "source": [
    "## Setup Interlude\n",
    "* create docker image using repo2docker\n",
    "* get mapbox token"
   ]
  },
  {
   "cell_type": "markdown",
   "metadata": {},
   "source": [
    "## Value-driven Dashboards\n",
    "* What is a dashboard?\n",
    "* What don't people like about Dashboards?\n",
    "* What makes a Dashboard value-driven?"
   ]
  },
  {
   "cell_type": "markdown",
   "metadata": {},
   "source": [
    "## The Brief\n",
    "* Describe the dataset\n",
    "* Describe how it's used at Melbourne city council\n",
    "* Your task is to create a dashboard that would help an analysist answer the following questions:\n",
    " 1. How does the pedestrian traffic differ across locations and across different years?\n",
    " 2. What is peak and off-peak period time for different months, season?\n",
    " 3. What is the effect of specific events on pedestrian movement?\n",
    "  - White Night\n",
    "  - Moomba\n",
    "  - The Australian Open\n",
    "  - COVID-19\n"
   ]
  },
  {
   "cell_type": "markdown",
   "metadata": {},
   "source": [
    "## The Dashboard Journey\n",
    "\n",
    "* identify an information need of a stakeholder\n",
    "* discovery/inception with user\n",
    "* EDA\n",
    " * __(ex)__ basic Jupyter & data cleaning with Pandas\n",
    " * __(ex)__ visualisation with Plotly (start with jsut Plotly Express?)\n",
    " * best practice coding in notebooks (eg use functions)\n",
    "* development of plots\n",
    " * __(ex)__ months\n",
    " * map\n",
    " * list\n",
    " * traffic\n",
    " * validation with stakeholder -- viola & ipywidgets as an option\n",
    "* refactor code during above process\n",
    " * make useful abstractions\n",
    " * convert to package\n",
    " * __(ex)__ install package into project\n",
    " * __(ex)__ try out new abstractions to answer questions\n",
    "* mockup dashboard design\n",
    "* build out dashboard in Dash\n",
    " * intro to Dash -- layout and widgets, callbacks \n",
    " * __(ex)__ extend basic Dash app template to include month plot with dropdown\n",
    " * styling \n",
    " * walkthrough my app\n",
    " * __(ex)__ work on your own enhancement\n",
    "* stakeholder feedback loop\n",
    " * save polish until at least one round of feedback \n",
    "* deploying the dashboard\n",
    " * don't use the dev server in production\n",
    " * deploying WSGI apps\n",
    " * using multiple workers\n",
    " * __(ex)__ running your own app over voila and showing to a friend\n",
    " * things to know about WSGI (eg use buffering web server with nginx)\n",
    "* notes for things to explore\n",
    " * can develop react components\n",
    "TODO: find/make a feedback-loopy diagram thing showing iterative cycle between analysis work and stakeholder feedback to refer back to"
   ]
  },
  {
   "cell_type": "code",
   "execution_count": null,
   "metadata": {},
   "outputs": [],
   "source": []
  },
  {
   "cell_type": "markdown",
   "metadata": {},
   "source": [
    "## Feedback Please!\n",
    "\n",
    "TODO: make a form"
   ]
  },
  {
   "cell_type": "markdown",
   "metadata": {},
   "source": [
    "__Code process:__\n",
    "* start with scrappy eda in a notebook\n",
    "* when repeated patterns of code applications emerge, turn into functions\n",
    " * gives yourself tools for performing anlaysis faster\n",
    " * removes pollution from global namespace of the notebook\n",
    "* when a function is needed in another notebook, move into shared module (not earlier)"
   ]
  },
  {
   "cell_type": "markdown",
   "metadata": {},
   "source": [
    "## Initial Visualisation Development"
   ]
  },
  {
   "cell_type": "markdown",
   "metadata": {},
   "source": [
    "## Exploratory Data Analysis\n",
    "\n",
    "* Plot your damn data.\n",
    "* EDA will involve crash course in Pandas and Plotly\n"
   ]
  },
  {
   "cell_type": "markdown",
   "metadata": {},
   "source": [
    "### Sensor Traffic Analysis\n"
   ]
  },
  {
   "cell_type": "markdown",
   "metadata": {},
   "source": [
    "### Peak/off-peak Analysis"
   ]
  },
  {
   "cell_type": "markdown",
   "metadata": {},
   "source": [
    "## Soliciting Feedback"
   ]
  },
  {
   "cell_type": "markdown",
   "metadata": {},
   "source": [
    "### Making a Prototype\n",
    "\n",
    "* create interactivity using Jupyter widgets"
   ]
  },
  {
   "cell_type": "markdown",
   "metadata": {},
   "source": [
    "### Presenting to consumers\n",
    "* Use Voila"
   ]
  },
  {
   "cell_type": "markdown",
   "metadata": {},
   "source": [
    "### Incorporating feedback\n",
    "* candidate feedback\n",
    " * couldn't work out when a sensor might have data in advance. some kind of visualisation to see what's going on at a high level?"
   ]
  },
  {
   "cell_type": "markdown",
   "metadata": {},
   "source": [
    "## Dashboard Development"
   ]
  },
  {
   "cell_type": "markdown",
   "metadata": {},
   "source": [
    "### Initial Design"
   ]
  },
  {
   "cell_type": "markdown",
   "metadata": {},
   "source": [
    "### Construction"
   ]
  },
  {
   "cell_type": "markdown",
   "metadata": {},
   "source": [
    "### Solicit Feedback "
   ]
  },
  {
   "cell_type": "markdown",
   "metadata": {},
   "source": [
    "## Dashboard Deployment"
   ]
  },
  {
   "cell_type": "code",
   "execution_count": null,
   "metadata": {},
   "outputs": [],
   "source": []
  }
 ],
 "metadata": {
  "kernelspec": {
   "display_name": "Python 3",
   "language": "python",
   "name": "python3"
  },
  "language_info": {
   "codemirror_mode": {
    "name": "ipython",
    "version": 3
   },
   "file_extension": ".py",
   "mimetype": "text/x-python",
   "name": "python",
   "nbconvert_exporter": "python",
   "pygments_lexer": "ipython3",
   "version": "3.8.4"
  }
 },
 "nbformat": 4,
 "nbformat_minor": 4
}
