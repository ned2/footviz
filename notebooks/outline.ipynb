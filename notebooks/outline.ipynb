{
 "cells": [
  {
   "cell_type": "markdown",
   "metadata": {},
   "source": [
    "## The Dashboard Journey\n",
    "\n",
    "* identify an information need of a stakeholder\n",
    "* discovery/inception with user\n",
    " * outcomes: TODO\n",
    " * get Jan's help with this\n",
    "* exploratary data analysis\n",
    " * data cleaning\n",
    " * visualisation\n",
    "* experimental development of plots for dashboard\n",
    "* create prototype with minimal tooling (but that can be re-used)\n",
    "* get feedback on prototype from stakeholder\n",
    "* incorporate changes into prototype (can skip this, goin straight to next)\n",
    "* build out production dashboard\n",
    "* get feedback and refine\n",
    "\n",
    "Q: Where does design of final dashboard go in this stage?"
   ]
  },
  {
   "cell_type": "markdown",
   "metadata": {},
   "source": [
    "__Code process:__\n",
    "* start with scrappy eda in a notebook\n",
    "* when repeated patterns of code applications emerge, turn into functions\n",
    " * gives yourself tools for performing anlaysis faster\n",
    " * removes pollution from global namespace of the notebook\n",
    "* when a function is needed in another notebook, move into shared module (not earlier)"
   ]
  },
  {
   "cell_type": "markdown",
   "metadata": {},
   "source": [
    "# Workshop Outline"
   ]
  },
  {
   "cell_type": "markdown",
   "metadata": {},
   "source": [
    "## Presentation\n",
    "* Intro and outline workshop contents\n",
    "* Aims/outcomes \n",
    " * make a dazzling logo cloud of libraries\n",
    " * highlight that the point is not to go through all in detail but to see how they fit together and understand how to go about the process of building such a data tool from a high level perspective. And then be able to come back and fill in the missing skills.\n",
    " * we will be going on a dashboarding journey, from start to end, stopping here an there to get our hands dirty. But this definitely is a whirlwind tour.\n",
    "* What is a dashboard?\n",
    "* What don't people like about Dashboards?\n",
    "* What makes a Dashboard value-driven?"
   ]
  },
  {
   "cell_type": "markdown",
   "metadata": {},
   "source": [
    "## The Brief\n",
    "* Describe the dataset\n",
    "* Describe how it's used at Melbourne city council\n",
    "* Your task is to create a dashboard that would help an analysist answer the following questions:\n",
    " 1. How does the pedestrian traffic differ across locations and across different years?\n",
    " 2. What is peak and off-peak period time for different months, season?\n",
    " 3. What is the effect of specific events on pedestrian movement?\n",
    "  - White Night\n",
    "  - Moomba\n",
    "  - The Australian Open\n",
    "  - COVID-19\n"
   ]
  },
  {
   "cell_type": "markdown",
   "metadata": {},
   "source": [
    "## Exploratory Data Analysis\n",
    "\n",
    "* Plot your damn data.\n",
    "* EDA will involve crash course in Pandas and Plotly\n"
   ]
  },
  {
   "cell_type": "markdown",
   "metadata": {},
   "source": [
    "## Initial Visualisation Development"
   ]
  },
  {
   "cell_type": "markdown",
   "metadata": {},
   "source": [
    "### Sensor Traffic Analysis\n",
    "\n",
    "Exercises:\n",
    "* refactor DataFrame filtering into a function\n",
    "* create a `plot_years` function by extending `plot_sensors`\n",
    "* create an interactive version of the `plot_year` by extending the interactive plot sensors "
   ]
  },
  {
   "cell_type": "markdown",
   "metadata": {},
   "source": [
    "### Peak/off-peak Analysis"
   ]
  },
  {
   "cell_type": "markdown",
   "metadata": {},
   "source": [
    "## Soliciting Feedback"
   ]
  },
  {
   "cell_type": "markdown",
   "metadata": {},
   "source": [
    "### Making a Prototype\n",
    "\n",
    "* create interactivity using Jupyter widgets"
   ]
  },
  {
   "cell_type": "markdown",
   "metadata": {},
   "source": [
    "### Presenting to consumers\n",
    "* Use Voila"
   ]
  },
  {
   "cell_type": "markdown",
   "metadata": {},
   "source": [
    "### Incorporating feedback\n",
    "* candidate feedback\n",
    " * couldn't work out when a sensor might have data in advance. some kind of visualisation to see what's going on at a high level?"
   ]
  },
  {
   "cell_type": "markdown",
   "metadata": {},
   "source": [
    "## Dashboard Development"
   ]
  },
  {
   "cell_type": "markdown",
   "metadata": {},
   "source": [
    "### Initial Design"
   ]
  },
  {
   "cell_type": "markdown",
   "metadata": {},
   "source": [
    "### Construction"
   ]
  },
  {
   "cell_type": "markdown",
   "metadata": {},
   "source": [
    "### Solicit Feedback "
   ]
  },
  {
   "cell_type": "markdown",
   "metadata": {},
   "source": [
    "## Dashboard Deployment"
   ]
  },
  {
   "cell_type": "code",
   "execution_count": null,
   "metadata": {},
   "outputs": [],
   "source": []
  }
 ],
 "metadata": {
  "kernelspec": {
   "display_name": "Python 3",
   "language": "python",
   "name": "python3"
  },
  "language_info": {
   "codemirror_mode": {
    "name": "ipython",
    "version": 3
   },
   "file_extension": ".py",
   "mimetype": "text/x-python",
   "name": "python",
   "nbconvert_exporter": "python",
   "pygments_lexer": "ipython3",
   "version": "3.8.3"
  }
 },
 "nbformat": 4,
 "nbformat_minor": 4
}
