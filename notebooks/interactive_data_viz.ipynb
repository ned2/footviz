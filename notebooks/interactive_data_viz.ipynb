{
 "cells": [
  {
   "cell_type": "code",
   "execution_count": null,
   "metadata": {},
   "outputs": [],
   "source": [
    "# notebook setup\n",
    "\n",
    "# automatically reload modules when they change\n",
    "%load_ext autoreload\n",
    "%autoreload 2\n",
    "\n",
    "# Hide scary looking warnings\n",
    "import warnings\n",
    "warnings.simplefilter(action='ignore', category=FutureWarning)\n",
    "\n",
    "# display value of cell-final assignment statement in addition to expressions \n",
    "from IPython.core.interactiveshell import InteractiveShell\n",
    "InteractiveShell.ast_node_interactivity = \"last_expr_or_assign\""
   ]
  },
  {
   "cell_type": "markdown",
   "metadata": {},
   "source": [
    "# Interactive Data Visualisation with Python"
   ]
  },
  {
   "cell_type": "markdown",
   "metadata": {},
   "source": [
    "## Jupyter Notebooks\n",
    "\n",
    "Interactive development environment (IDE) that's great for data analysis.\n",
    "\n",
    "A Jupyter Notebook is a sequence of _cells_ that are of two main types:\n",
    "1. **Text cells** (using Markdown)\n",
    "2. **Code cells** (Python for us)\n",
    "\n",
    "Cells are run, and produce visual outputs:\n",
    "* Standard output produced by Python \n",
    "* Tabular data\n",
    "* Visualisations\n"
   ]
  },
  {
   "cell_type": "markdown",
   "metadata": {},
   "source": [
    "## The Dataset\n",
    "\n",
    "The Melbourne City Council's Pedestrian Counting System datasets.\n",
    "\n",
    "_This dataset contains hourly pedestrian counts since 2009 from pedestrian sensor devices located across the city. The data is updated on a monthly basis and can be used to determine variations in pedestrian activity throughout the day._\n",
    "\n",
    "Two separate datasets:\n",
    "\n",
    "1. [The Pedestrian Counting System dataset](https://data.melbourne.vic.gov.au/Transport/Pedestrian-Counting-System-2009-to-Present-counts-/b2ak-trbp), which contains the hourly traffic data.\n",
    "2. [Pedestrian Sensor Locations](https://data.melbourne.vic.gov.au/Transport/Pedestrian-Counting-System-Sensor-Locations/h57g-5234) dataset, which contains data about the sensors collecting the above data. "
   ]
  },
  {
   "cell_type": "code",
   "execution_count": null,
   "metadata": {},
   "outputs": [],
   "source": [
    "import os\n",
    "from pathlib import Path\n",
    "\n",
    "data_path = Path(os.getenv(\"DATA_PATH\", \"../data\"))\n",
    "sensor_csv_path = data_path / \"Pedestrian_Counting_System_-_Sensor_Locations.csv\"\n",
    "counts_csv_path = data_path / \"Pedestrian_Counting_System___2009_to_Present__counts_per_hour_.csv\""
   ]
  },
  {
   "cell_type": "markdown",
   "metadata": {},
   "source": [
    "## Outcomes\n",
    "\n",
    "What questions are we trying to answer?\n",
    "\n",
    "1. _What does monthly traffic look like over the years?_\n",
    "2. _What are the most trafficked parts of Melbourne’s CBD?_\n",
    "4. _What does daily traffic look like?_"
   ]
  },
  {
   "cell_type": "markdown",
   "metadata": {},
   "source": [
    "### A Crash Course in Pandas\n",
    "\n",
    "Pandas is a Python tool for general purpose data manipulation and analysis.\n",
    "\n",
    "Kind of like Excel + SQL for Python... but so much more!\n",
    "\n",
    "Two main data types:\n",
    "* `DataFrame`\n",
    "* `Series`\n"
   ]
  },
  {
   "cell_type": "markdown",
   "metadata": {},
   "source": [
    "Let's load the dataset of hourly pedestrian counts:"
   ]
  },
  {
   "cell_type": "code",
   "execution_count": null,
   "metadata": {},
   "outputs": [],
   "source": [
    "import pandas as pd\n",
    "\n",
    "counts_df = pd.read_csv(counts_csv_path, index_col=\"ID\", parse_dates=[\"Date_Time\"]);"
   ]
  },
  {
   "cell_type": "code",
   "execution_count": null,
   "metadata": {},
   "outputs": [],
   "source": [
    "type(counts_df)"
   ]
  },
  {
   "cell_type": "code",
   "execution_count": null,
   "metadata": {},
   "outputs": [],
   "source": [
    "counts_df.head()"
   ]
  },
  {
   "cell_type": "code",
   "execution_count": null,
   "metadata": {},
   "outputs": [],
   "source": [
    "counts_df.dtypes"
   ]
  },
  {
   "cell_type": "markdown",
   "metadata": {},
   "source": [
    "#### Working with DataFrame and Series Objects\n",
    "\n",
    "Think of `DataFrame`s as 2-dimensional data structure: **rows** x **columns**"
   ]
  },
  {
   "cell_type": "code",
   "execution_count": null,
   "metadata": {},
   "outputs": [],
   "source": [
    "counts_df.shape"
   ]
  },
  {
   "cell_type": "markdown",
   "metadata": {},
   "source": [
    "Each column of a `DataFrame` is a `Series`.\n",
    "\n",
    "A `Series` is a 1-dimensional data structure.\n",
    "\n",
    "Like a Python list, but:\n",
    "* has a type\n",
    "* has an index"
   ]
  },
  {
   "cell_type": "code",
   "execution_count": null,
   "metadata": {},
   "outputs": [],
   "source": [
    "counts_df[\"Hourly_Counts\"]"
   ]
  },
  {
   "cell_type": "code",
   "execution_count": null,
   "metadata": {},
   "outputs": [],
   "source": [
    "# filtering the dataframe to Southbank Sensor records\n",
    "\n",
    "southbank_df = counts_df[counts_df[\"Sensor_Name\"] == \"Southbank\"]"
   ]
  },
  {
   "cell_type": "code",
   "execution_count": null,
   "metadata": {},
   "outputs": [],
   "source": [
    "# filtering further to only saturday \n",
    "\n",
    "southbank_sat_df = southbank_df[southbank_df[\"Day\"] == \"Saturday\"]"
   ]
  },
  {
   "cell_type": "code",
   "execution_count": null,
   "metadata": {},
   "outputs": [],
   "source": [
    "# Total pedestrians through Southbank on Saturday\n",
    "\n",
    "southbank_sat_df[\"Hourly_Counts\"].sum()"
   ]
  },
  {
   "cell_type": "code",
   "execution_count": null,
   "metadata": {},
   "outputs": [],
   "source": [
    "# vectorised arithmetic\n",
    "\n",
    "southbank_sat_df[\"Hourly_Counts\"] + 1"
   ]
  },
  {
   "cell_type": "markdown",
   "metadata": {},
   "source": [
    "**Key points:**\n",
    "\n",
    "When working with Pandas, you are manipulating `DataFrame` objects and their columns, which are `Series` objects.\n",
    "\n",
    "Try to use vectorised operations over these data structures rather than `for` loops."
   ]
  },
  {
   "cell_type": "markdown",
   "metadata": {},
   "source": [
    "## Exploratory Data Analysis (EDA)\n",
    "\n",
    "Dive into your data and get your hands dirty in order to:\n",
    "* Identify data quality or integrity issues\n",
    "* Understand applications the data supports (and does not support!)\n",
    "\n",
    "Involves: \n",
    "* Extracting summary stastistics of the data\n",
    "* Visualising your data"
   ]
  },
  {
   "cell_type": "markdown",
   "metadata": {},
   "source": [
    "### Let's do some exploratory analysis on records from 2019"
   ]
  },
  {
   "cell_type": "code",
   "execution_count": null,
   "metadata": {},
   "outputs": [],
   "source": [
    "# filter down to 2019\n",
    "\n",
    "counts_2019_df = counts_df[counts_df[\"Year\"] == 2019]"
   ]
  },
  {
   "cell_type": "code",
   "execution_count": null,
   "metadata": {},
   "outputs": [],
   "source": [
    "# group by Month\n",
    "\n",
    "months_2019 = counts_2019_df.groupby(\"Month\")[\"Hourly_Counts\"].sum()"
   ]
  },
  {
   "cell_type": "code",
   "execution_count": null,
   "metadata": {},
   "outputs": [],
   "source": [
    "# get various summary statistics\n",
    "\n",
    "months_2019.describe()"
   ]
  },
  {
   "cell_type": "code",
   "execution_count": null,
   "metadata": {},
   "outputs": [],
   "source": [
    "# idxmax and idxmin are like max and min but return indexes\n",
    "\n",
    "print(f\"Busiest month is: {months_2019.idxmax()}\")\n",
    "print(f\"Least busy month is: {months_2019.idxmin()}\")"
   ]
  },
  {
   "cell_type": "markdown",
   "metadata": {},
   "source": [
    "### Visual Exploration with Plotly Express"
   ]
  },
  {
   "cell_type": "markdown",
   "metadata": {},
   "source": [
    "<center>\n",
    "    <img src=\"img/python_viz_libs.svg\" style=\"height:70vh\"/>\n",
    "</center>"
   ]
  },
  {
   "cell_type": "code",
   "execution_count": null,
   "metadata": {},
   "outputs": [],
   "source": [
    "months_2019"
   ]
  },
  {
   "cell_type": "code",
   "execution_count": null,
   "metadata": {},
   "outputs": [],
   "source": [
    "# turn the series into a DataFrame\n",
    "\n",
    "months_2019_df = months_2019.reset_index()"
   ]
  },
  {
   "cell_type": "code",
   "execution_count": null,
   "metadata": {},
   "outputs": [],
   "source": [
    "import plotly.express as px\n",
    "\n",
    "px.line(months_2019_df, x=\"Month\", y=\"Hourly_Counts\")"
   ]
  },
  {
   "cell_type": "markdown",
   "metadata": {},
   "source": [
    "Problems:\n",
    "1. It's alphabetically sorted\n",
    "2. 1. y-axis is truncated\n",
    "3. Data points aren't easily identifable\n",
    "4. Plot is not well documented\n",
    "\n",
    "Let's fix these!"
   ]
  },
  {
   "cell_type": "code",
   "execution_count": null,
   "metadata": {},
   "outputs": [],
   "source": [
    "# sort by month numbers\n",
    "from datetime import datetime\n",
    "\n",
    "sorted_months_2019_df = months_2019_df.sort_values(\n",
    "    by=\"Month\", \n",
    "    key=lambda series:pd.to_datetime(series, format=\"%B\").dt.month\n",
    ")"
   ]
  },
  {
   "cell_type": "code",
   "execution_count": null,
   "metadata": {},
   "outputs": [],
   "source": [
    "px.line(sorted_months_2019_df, x=\"Month\", y=\"Hourly_Counts\")"
   ]
  },
  {
   "cell_type": "code",
   "execution_count": null,
   "metadata": {},
   "outputs": [],
   "source": [
    "# add markers to data points\n",
    "\n",
    "figure = px.line(sorted_months_2019_df, x=\"Month\", y=\"Hourly_Counts\")\n",
    "figure.update_traces(mode='lines+markers')"
   ]
  },
  {
   "cell_type": "markdown",
   "metadata": {},
   "source": [
    "#### __*Hot Tip:*__ Always title your plots!"
   ]
  },
  {
   "cell_type": "code",
   "execution_count": null,
   "metadata": {},
   "outputs": [],
   "source": [
    "# Improve accessability of the plot with title and better y-axis label\n",
    "\n",
    "figure = px.line(\n",
    "    sorted_months_2019_df, \n",
    "    x=\"Month\", \n",
    "    y=\"Hourly_Counts\", \n",
    "    title=\"Monthly Total Pedestrian Counts\"\n",
    ")\n",
    "figure.update_traces(mode='lines+markers')\n",
    "figure.update_layout(yaxis_title=\"Total Pedestrian Counts\", title_x=0.5)"
   ]
  },
  {
   "cell_type": "markdown",
   "metadata": {},
   "source": [
    "## Q1: _What does monthly traffic look like across years?_\n",
    "\n",
    "We have a way to visualise monthly traffic over a single year.\n",
    "\n",
    "Problems:\n",
    "* It's spread over many notebooks cells\n",
    "* Changing the year is annoying\n"
   ]
  },
  {
   "cell_type": "markdown",
   "metadata": {},
   "source": [
    "#### __*Hot Tip:*__ Move code into reusable functions!"
   ]
  },
  {
   "cell_type": "code",
   "execution_count": null,
   "metadata": {},
   "outputs": [],
   "source": [
    "def plot_months(counts_df, year):\n",
    "    \"\"\"Plot Monthly traffic for a given year.\"\"\"\n",
    "    \n",
    "    # 1. Collect and shape data\n",
    "    year_df = counts_df[counts_df[\"Year\"] == year]\n",
    "    months_df = year_df.groupby(\"Month\")[\"Hourly_Counts\"].sum().reset_index()\n",
    "    sorted_months_df = months_df.sort_values(\n",
    "        by=\"Month\", \n",
    "        key=lambda x:pd.to_datetime(x, format=\"%B\").dt.month\n",
    "    )\n",
    "\n",
    "    # 2. Make plot\n",
    "    figure = px.line(\n",
    "        sorted_months_df, \n",
    "        x=\"Month\", \n",
    "        y=\"Hourly_Counts\", \n",
    "        title=\"Monthly Total Pedestrian Counts\"\n",
    "    )\n",
    "    \n",
    "    # 3. Fine-tune plot's appearance \n",
    "    figure.update_traces(mode='lines+markers')\n",
    "    figure.update_layout(yaxis_title=\"Total Pedestrian Counts\", title_x=0.5)\n",
    "    \n",
    "    return figure"
   ]
  },
  {
   "cell_type": "markdown",
   "metadata": {},
   "source": [
    "Note common pattern when building plots:\n",
    "\n",
    "1. Collect and shape data\n",
    "2. Make plot\n",
    "3. Fine-tune plot's appearance"
   ]
  },
  {
   "cell_type": "code",
   "execution_count": null,
   "metadata": {},
   "outputs": [],
   "source": [
    "plot_months(counts_df, 2020)"
   ]
  },
  {
   "cell_type": "markdown",
   "metadata": {},
   "source": [
    "Problem: Answering questions about different years is still slower than would be nicce.\n"
   ]
  },
  {
   "cell_type": "markdown",
   "metadata": {},
   "source": [
    "### Using ipywidgets to make an interactive tool!"
   ]
  },
  {
   "cell_type": "code",
   "execution_count": null,
   "metadata": {},
   "outputs": [],
   "source": [
    "from ipywidgets import interact, fixed\n",
    "\n",
    "interact(plot_months, year=2019, counts_df=fixed(counts_df))"
   ]
  },
  {
   "cell_type": "code",
   "execution_count": null,
   "metadata": {},
   "outputs": [],
   "source": [
    "interact(plot_months, year=range(2009, 2021), counts_df=fixed(counts_df));"
   ]
  },
  {
   "cell_type": "markdown",
   "metadata": {},
   "source": [
    "Another problem: truncated y-axis is misleading when comparing."
   ]
  },
  {
   "cell_type": "code",
   "execution_count": null,
   "metadata": {},
   "outputs": [],
   "source": [
    "# add a truncate_y parameter to our function\n",
    "\n",
    "def plot_months(counts_df, year, truncate_y=False):\n",
    "    \"\"\"Plot Monthly traffic for a given year.\"\"\"\n",
    "    \n",
    "    # 1. Collect and shape data\n",
    "    year_df = counts_df[counts_df[\"Year\"] == year]\n",
    "    months_df = year_df.groupby(\"Month\")[\"Hourly_Counts\"].sum().reset_index()\n",
    "    sorted_months_df = months_df.sort_values(\n",
    "        by=\"Month\", \n",
    "        key=lambda x:pd.to_datetime(x, format=\"%B\").dt.month\n",
    "    )\n",
    "\n",
    "    # 2. Make plot\n",
    "    figure = px.line(\n",
    "        sorted_months_df, \n",
    "        x=\"Month\", \n",
    "        y=\"Hourly_Counts\", \n",
    "        title=\"Monthly Total Pedestrian Counts\"\n",
    "    )\n",
    "    \n",
    "    # 3. Fine-tune plot's appearance \n",
    "    figure.update_traces(mode='lines+markers')\n",
    "    figure.update_layout(yaxis_title=\"Total Pedestrian Counts\", title_x=0.5)\n",
    "    if not truncate_y:\n",
    "        figure.update_layout(yaxis_rangemode='tozero')\n",
    "    \n",
    "    return figure"
   ]
  },
  {
   "cell_type": "code",
   "execution_count": null,
   "metadata": {},
   "outputs": [],
   "source": [
    "interact(plot_months, year=range(2009, 2021), counts_df=fixed(counts_df));"
   ]
  },
  {
   "cell_type": "markdown",
   "metadata": {},
   "source": [
    "#### __*Hot Tip:*__ Share you interactive visualisation with ngrok and Voila"
   ]
  },
  {
   "cell_type": "markdown",
   "metadata": {},
   "source": [
    "### Abstracting The filtering out of our plotting function"
   ]
  },
  {
   "cell_type": "code",
   "execution_count": null,
   "metadata": {},
   "outputs": [],
   "source": [
    "import numbers\n",
    "import collections\n",
    "\n",
    "def filter_df(df, year=None, month=None, sensor=None):\n",
    "    \"\"\"Filter a pedestrian counts DataFrame\n",
    "\n",
    "    All params {year, month, sensor} take a value or sequence of values\n",
    "    filtering the input DataFrame to only rows that matches those values. (A\n",
    "    sequence filters to rows with fields matching *any* value in the sequence)\n",
    "    \"\"\"\n",
    "    params = {\"Year\": year, \"Sensor_Name\": sensor, \"Month\": month}\n",
    "    for param, param_val in params.items():\n",
    "        if param_val is None:\n",
    "            continue\n",
    "        elif is_value(param_val):\n",
    "            param_val = [param_val]\n",
    "        elif isinstance(param_val, collections.abc.Iterable):\n",
    "            param_val = list(param_val)\n",
    "        else:\n",
    "            raise Exception(\n",
    "                f\"Invalid value {param_val}, params must be str, numeric, or\"\n",
    "                \" an iterable\"\n",
    "            )\n",
    "        if len(param_val) == 0:\n",
    "            continue\n",
    "        df = df[df[param].isin(set(param_val))]\n",
    "    return df\n",
    "\n",
    "\n",
    "def is_value(obj):\n",
    "    \"\"\"Check if an object is a string or numeric value\"\"\"\n",
    "    return isinstance(obj, str) or isinstance(obj, numbers.Number)"
   ]
  },
  {
   "cell_type": "code",
   "execution_count": null,
   "metadata": {},
   "outputs": [],
   "source": [
    "# get all records from 2020, for the following sen:\n",
    "sensors = [\"Lygon St (East)\", \"Lygon St (West)\", \"Faraday St-Lygon St (West)\"]\n",
    "lygon_2020_df = filter_df(counts_df, year=2020, sensor=sensors)"
   ]
  },
  {
   "cell_type": "markdown",
   "metadata": {},
   "source": [
    "### A different version"
   ]
  },
  {
   "cell_type": "code",
   "execution_count": null,
   "metadata": {},
   "outputs": [],
   "source": [
    "# second version by sensors with bar charts\n",
    "\n",
    "def plot_month_counts(df, split_sensors=False, **kwargs):\n",
    "    \"\"\"Make a bar plot of monthly counts\"\"\"\n",
    "    if split_sensors:\n",
    "        group_cols = [\"Month\", \"Sensor_Name\"]\n",
    "        color = \"Sensor_Name\"\n",
    "    else:\n",
    "        group_cols = [\"Month\"]\n",
    "        color = None\n",
    "    \n",
    "    # 1. Collect and shape data\n",
    "    month_df = (\n",
    "        df.groupby(group_cols)[\"Hourly_Counts\"]\n",
    "        .sum()\n",
    "        .reset_index()\n",
    "        .sort_values(by=\"Month\", key=lambda x: pd.to_datetime(x, format=\"%B\").dt.month)\n",
    "    )\n",
    "\n",
    "    # 2. Make plot\n",
    "    figure = px.bar(\n",
    "        month_df,\n",
    "        x=\"Month\",\n",
    "        y=\"Hourly_Counts\",\n",
    "        barmode=\"group\",\n",
    "        color=color,\n",
    "        title=\"Monthly Sensor Traffic\",\n",
    "        **kwargs,\n",
    "    )\n",
    "\n",
    "    # 3. Fine-tune plot's appearance\n",
    "    figure.update_layout(\n",
    "        title_x=0.5,\n",
    "        yaxis_title=\"Total Counts\",\n",
    "        yaxis_showgrid=False,\n",
    "        yaxis_zeroline=False,\n",
    "        xaxis_title=None,\n",
    "        legend=dict(\n",
    "            title_text=\"\",\n",
    "            orientation=\"h\",\n",
    "            yanchor=\"bottom\",\n",
    "            y=-0.6,\n",
    "            xanchor=\"right\",\n",
    "            x=1,\n",
    "        ),\n",
    "    )\n",
    "    return figure"
   ]
  },
  {
   "cell_type": "code",
   "execution_count": null,
   "metadata": {},
   "outputs": [],
   "source": [
    "plot_month_counts(lygon_2020_df, split_sensors=True)"
   ]
  },
  {
   "cell_type": "code",
   "execution_count": null,
   "metadata": {},
   "outputs": [],
   "source": [
    "sensors = [\"Lygon St (East)\", \"Lygon St (West)\", \"Faraday St-Lygon St (West)\", \"Southbank\"]\n",
    "new_2020_df = filter_df(counts_df, year=2020, sensor=sensors)\n",
    "plot_month_counts(new_2020_df, split_sensors=True)"
   ]
  },
  {
   "cell_type": "markdown",
   "metadata": {},
   "source": [
    "## Q2: _What does daily traffic look like?_"
   ]
  },
  {
   "cell_type": "code",
   "execution_count": null,
   "metadata": {},
   "outputs": [],
   "source": [
    "def plot_sensor_traffic(\n",
    "    df,\n",
    "    same_yscale=False,\n",
    "    row_height=150,\n",
    "    limit=5,\n",
    "    **kwargs,\n",
    "):\n",
    "    \"\"\"Plot hourly traffic for one or more sensors\"\"\"\n",
    "    \n",
    "    # 1. Collect and shape data\n",
    "    target_sensors = (\n",
    "        df.groupby(\"Sensor_Name\")[\"Hourly_Counts\"].sum().sort_values(ascending=False)\n",
    "    )[:limit]\n",
    "    df = df[df[\"Sensor_Name\"].isin(set(target_sensors.index))]\n",
    "\n",
    "    # 2. Make plot\n",
    "    if \"height\" not in kwargs:\n",
    "        kwargs[\"height\"] = max(len(target_sensors) * row_height, 400)\n",
    "    figure = px.line(\n",
    "        df,\n",
    "        y=\"Hourly_Counts\",\n",
    "        x=\"Date_Time\",\n",
    "        facet_row=\"Sensor_Name\",\n",
    "        title=\"Hourly Pedestrian Traffic by Sensor\",\n",
    "        category_orders={\"Sensor_Name\": list(target_sensors.index)},\n",
    "        **kwargs,\n",
    "    )\n",
    "    \n",
    "    # 3. Fine-tune plot's appearance\n",
    "    figure.update_layout(title_x=0.5)\n",
    "    figure.update_yaxes(\n",
    "        matches=None if same_yscale else \"y\",\n",
    "        showgrid=False,\n",
    "        zeroline=False,\n",
    "        title_text=None,\n",
    "    )\n",
    "    figure.update_xaxes(showgrid=True, title_text=None)\n",
    "    figure.for_each_annotation(\n",
    "        lambda a: a.update(textangle=0, text=a.text.split(\"=\")[-1])\n",
    "    )\n",
    "    return figure"
   ]
  },
  {
   "cell_type": "code",
   "execution_count": null,
   "metadata": {},
   "outputs": [],
   "source": [
    "counts_2020_df = filter_df(counts_df, year=2020, sensor=\"Southbank\")\n",
    "plot_sensor_traffic(counts_2020_df)"
   ]
  },
  {
   "cell_type": "markdown",
   "metadata": {},
   "source": [
    "## Q3: _What are the most trafficked parts of Melbourne’s CBD?_"
   ]
  },
  {
   "cell_type": "code",
   "execution_count": null,
   "metadata": {},
   "outputs": [],
   "source": [
    "# load the sensors datasets\n",
    "\n",
    "sensors_df = pd.read_csv(sensor_csv_path, index_col=\"sensor_id\")"
   ]
  },
  {
   "cell_type": "code",
   "execution_count": null,
   "metadata": {},
   "outputs": [],
   "source": [
    "from melbviz.config import MAPBOX_KEY\n",
    "\n",
    "px.set_mapbox_access_token(MAPBOX_KEY)\n",
    "\n",
    "\n",
    "def plot_sensor_map(df, **kwargs):\n",
    "    \"\"\"Plot a spatial scatter plot of sensor traffic.\"\"\"\n",
    "    \n",
    "    # 1. Collect and shape data\n",
    "    sensor_totals_df = (\n",
    "        df.groupby(\"Sensor_Name\")\n",
    "        .agg(\n",
    "            {\n",
    "                \"Hourly_Counts\": sum,\n",
    "                \"latitude\": lambda x: x.iloc[0],\n",
    "                \"longitude\": lambda x: x.iloc[0],\n",
    "            }\n",
    "        )\n",
    "        .reset_index()\n",
    "        .rename(columns={\"Hourly_Counts\": \"Total Counts\"})\n",
    "    )\n",
    "    \n",
    "    # 2. Make plot\n",
    "    figure = px.scatter_mapbox(\n",
    "        sensor_totals_df,\n",
    "        lat=\"latitude\",\n",
    "        lon=\"longitude\",\n",
    "        color=\"Total Counts\",\n",
    "        size=\"Total Counts\",\n",
    "        text=\"Sensor_Name\",\n",
    "        color_continuous_scale=px.colors.sequential.Plasma,\n",
    "        size_max=50,\n",
    "        zoom=13,\n",
    "        title=\"Sensor Traffic\",\n",
    "        **kwargs,\n",
    "    )\n",
    "\n",
    "    # 3. Fine-tune plot's appearance\n",
    "    figure.update_layout(title_x=0.5)\n",
    "    return figure"
   ]
  },
  {
   "cell_type": "markdown",
   "metadata": {},
   "source": [
    "This function requires sensor lat/lon information, so we'll use an already joined dataset:"
   ]
  },
  {
   "cell_type": "code",
   "execution_count": null,
   "metadata": {},
   "outputs": [],
   "source": [
    "from melbviz.pedestrian import PedestrianDataset\n",
    "from melbviz.config import DATA_PATH, COUNTS_CSV_PATH, SENSOR_CSV_PATH\n",
    "\n",
    "data = PedestrianDataset.load(COUNTS_CSV_PATH, sensor_csv_path=SENSOR_CSV_PATH);"
   ]
  },
  {
   "cell_type": "code",
   "execution_count": null,
   "metadata": {},
   "outputs": [],
   "source": [
    "counts_2020_df = filter_df(counts_df, year=2020)\n",
    "plot_sensor_map(data.filter(year=2020).df, height=800)"
   ]
  },
  {
   "cell_type": "markdown",
   "metadata": {},
   "source": [
    "### How do we share our interfaces?"
   ]
  },
  {
   "cell_type": "markdown",
   "metadata": {},
   "source": [
    "Option 1: Voila + ngrok"
   ]
  },
  {
   "cell_type": "markdown",
   "metadata": {},
   "source": [
    "#### Option 2: Dash and deploy somewhere"
   ]
  },
  {
   "cell_type": "code",
   "execution_count": null,
   "metadata": {},
   "outputs": [],
   "source": []
  },
  {
   "cell_type": "markdown",
   "metadata": {},
   "source": [
    "## Some Resources\n",
    "\n",
    "### Getting Started with Jupyter Lab\n",
    "I recommend the Anaconda Python distribution: [anaconda.com](https://www.anaconda.com)\n",
    "\n",
    "<img src=\"img/anaconda_logo.png\" width=\"300\"/>\n",
    "\n"
   ]
  },
  {
   "cell_type": "markdown",
   "metadata": {},
   "source": [
    "### Tools for Building Data Apps\n",
    "\n",
    "<img src=\"img/data_app_libs.png\" width=\"300\"/>\n",
    "\n",
    "See my talk surveying all of them: [youtu.be/jI5zLf9Hvd8](https://youtu.be/jI5zLf9Hvd8)"
   ]
  }
 ],
 "metadata": {
  "kernelspec": {
   "display_name": "Python 3",
   "language": "python",
   "name": "python3"
  },
  "language_info": {
   "codemirror_mode": {
    "name": "ipython",
    "version": 3
   },
   "file_extension": ".py",
   "mimetype": "text/x-python",
   "name": "python",
   "nbconvert_exporter": "python",
   "pygments_lexer": "ipython3",
   "version": "3.8.6"
  }
 },
 "nbformat": 4,
 "nbformat_minor": 4
}
