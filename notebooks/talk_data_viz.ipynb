{
 "cells": [
  {
   "cell_type": "markdown",
   "metadata": {
    "slideshow": {
     "slide_type": "skip"
    }
   },
   "source": [
    "This notebook is a RISE presentation. \n",
    "\n",
    "In addition to the `RISE` Python package, you will also need the `hide_code` Python package installed.\n",
    "\n",
    "To run, load [this notebook in the classic Jupyter Notebook](/notebooks/notebooks/talk_data_viz.ipynb) and click the _Enter/Exit RISE Slideshow_ button."
   ]
  },
  {
   "cell_type": "code",
   "execution_count": 3,
   "metadata": {
    "slideshow": {
     "slide_type": "skip"
    }
   },
   "outputs": [
    {
     "name": "stdout",
     "output_type": "stream",
     "text": [
      "The autoreload extension is already loaded. To reload it, use:\n",
      "  %reload_ext autoreload\n"
     ]
    }
   ],
   "source": [
    "%load_ext autoreload\n",
    "%autoreload 2\n",
    "\n",
    "# import modules and load data required for this presentation\n",
    "\n",
    "import os\n",
    "from pathlib import Path\n",
    "\n",
    "from ipywidgets import interact, fixed, HBox, Output, Dropdown\n",
    "from IPython.display import display\n",
    "import pandas as pd\n",
    "import plotly.express as px\n",
    "import plotly.graph_objs as go\n",
    "\n",
    "from melbviz.pedestrian import PedestrianDataset\n",
    "from melbviz.config import MELBVIZ_DATA_PATH, MELBVIZ_COUNTS_CSV_PATH, MELBVIZ_SENSOR_CSV_PATH"
   ]
  },
  {
   "cell_type": "markdown",
   "metadata": {
    "slideshow": {
     "slide_type": "slide"
    }
   },
   "source": [
    "<center>\n",
    "    <h1>Interactive Data Visualisation with Python</h1>\n",
    "    <br><br><br>\n",
    "    <img src=\"/files/notebooks/img/title_viz.png\" width=\"500\"/>\n",
    "    <br>\n",
    "    <img src=\"/files/notebooks/img/python_logo.svg\" width=\"300\"/>\n",
    "</center>"
   ]
  },
  {
   "cell_type": "code",
   "execution_count": 5,
   "metadata": {
    "slideshow": {
     "slide_type": "skip"
    }
   },
   "outputs": [
    {
     "data": {
      "text/html": [
       "\n",
       "<style>\n",
       ".people-table {\n",
       "    border-spacing: 3em !important;\n",
       "    border-collapse: separate !important;\n",
       "    color: white !important;\n",
       "}\n",
       "\n",
       ".people-table tr {\n",
       "    background: white !important;\n",
       "}\n",
       "\n",
       ".people-table img {\n",
       "    box-shadow: 1px 1px 5px 1px black !important;\n",
       "}\n",
       "</style>\n"
      ],
      "text/plain": [
       "<IPython.core.display.HTML object>"
      ]
     },
     "metadata": {},
     "output_type": "display_data"
    }
   ],
   "source": [
    "%%html \n",
    "\n",
    "<style>\n",
    ".people-table {\n",
    "    border-spacing: 3em !important;\n",
    "    border-collapse: separate !important;\n",
    "    color: white !important;\n",
    "}\n",
    "\n",
    ".people-table tr {\n",
    "    background: white !important;\n",
    "}\n",
    "\n",
    ".people-table img {\n",
    "    box-shadow: 1px 1px 5px 1px black !important;\n",
    "}\n",
    "</style>"
   ]
  },
  {
   "cell_type": "markdown",
   "metadata": {
    "slideshow": {
     "slide_type": "slide"
    }
   },
   "source": [
    "## Who are we?\n",
    "\n",
    "<table class=\"people-table\">\n",
    "    <tr>\n",
    "        <td><img src=\"/files/notebooks/img/ned.jpg\"/></td>\n",
    "    </tr>\n",
    "    <tr>\n",
    "        <td><center><h4>Ned Letcher</h4></center></td>\n",
    "    </tr>\n",
    "</table>\n",
    "\n",
    "<center>\n",
    "    <img src=\"/files/notebooks/img/thoughtworks.png\"/>\n",
    "</center>"
   ]
  },
  {
   "cell_type": "markdown",
   "metadata": {
    "slideshow": {
     "slide_type": "slide"
    }
   },
   "source": [
    "## Where are we?"
   ]
  },
  {
   "cell_type": "code",
   "execution_count": 11,
   "metadata": {
    "code_folding": [],
    "slideshow": {
     "slide_type": "fragment"
    }
   },
   "outputs": [
    {
     "data": {
      "application/vnd.plotly.v1+json": {
       "config": {
        "plotlyServerURL": "https://plot.ly"
       },
       "data": [
        {
         "hovertemplate": "<b>%{hovertext}</b><br><br>lat=%{lat}<br>lon=%{lon}<extra></extra>",
         "hovertext": [
          "Melbourne"
         ],
         "lat": [
          -37.8136
         ],
         "legendgroup": "",
         "lon": [
          144.9631
         ],
         "marker": {
          "color": "#636efa"
         },
         "mode": "markers",
         "name": "",
         "showlegend": false,
         "subplot": "mapbox",
         "type": "scattermapbox"
        }
       ],
       "layout": {
        "legend": {
         "tracegroupgap": 0
        },
        "mapbox": {
         "accesstoken": "pk.eyJ1IjoibmVkMiIsImEiOiJja2FlMGRsNnIxcmplMnNyeThsdzV2bW44In0.7G2hmZROkebNbyv1UivRoQ",
         "center": {
          "lat": -37.8136,
          "lon": 144.9631
         },
         "domain": {
          "x": [
           0,
           1
          ],
          "y": [
           0,
           1
          ]
         },
         "zoom": 1.3
        },
        "margin": {
         "t": 60
        },
        "template": {
         "data": {
          "bar": [
           {
            "error_x": {
             "color": "#2a3f5f"
            },
            "error_y": {
             "color": "#2a3f5f"
            },
            "marker": {
             "line": {
              "color": "#E5ECF6",
              "width": 0.5
             }
            },
            "type": "bar"
           }
          ],
          "barpolar": [
           {
            "marker": {
             "line": {
              "color": "#E5ECF6",
              "width": 0.5
             }
            },
            "type": "barpolar"
           }
          ],
          "carpet": [
           {
            "aaxis": {
             "endlinecolor": "#2a3f5f",
             "gridcolor": "white",
             "linecolor": "white",
             "minorgridcolor": "white",
             "startlinecolor": "#2a3f5f"
            },
            "baxis": {
             "endlinecolor": "#2a3f5f",
             "gridcolor": "white",
             "linecolor": "white",
             "minorgridcolor": "white",
             "startlinecolor": "#2a3f5f"
            },
            "type": "carpet"
           }
          ],
          "choropleth": [
           {
            "colorbar": {
             "outlinewidth": 0,
             "ticks": ""
            },
            "type": "choropleth"
           }
          ],
          "contour": [
           {
            "colorbar": {
             "outlinewidth": 0,
             "ticks": ""
            },
            "colorscale": [
             [
              0,
              "#0d0887"
             ],
             [
              0.1111111111111111,
              "#46039f"
             ],
             [
              0.2222222222222222,
              "#7201a8"
             ],
             [
              0.3333333333333333,
              "#9c179e"
             ],
             [
              0.4444444444444444,
              "#bd3786"
             ],
             [
              0.5555555555555556,
              "#d8576b"
             ],
             [
              0.6666666666666666,
              "#ed7953"
             ],
             [
              0.7777777777777778,
              "#fb9f3a"
             ],
             [
              0.8888888888888888,
              "#fdca26"
             ],
             [
              1,
              "#f0f921"
             ]
            ],
            "type": "contour"
           }
          ],
          "contourcarpet": [
           {
            "colorbar": {
             "outlinewidth": 0,
             "ticks": ""
            },
            "type": "contourcarpet"
           }
          ],
          "heatmap": [
           {
            "colorbar": {
             "outlinewidth": 0,
             "ticks": ""
            },
            "colorscale": [
             [
              0,
              "#0d0887"
             ],
             [
              0.1111111111111111,
              "#46039f"
             ],
             [
              0.2222222222222222,
              "#7201a8"
             ],
             [
              0.3333333333333333,
              "#9c179e"
             ],
             [
              0.4444444444444444,
              "#bd3786"
             ],
             [
              0.5555555555555556,
              "#d8576b"
             ],
             [
              0.6666666666666666,
              "#ed7953"
             ],
             [
              0.7777777777777778,
              "#fb9f3a"
             ],
             [
              0.8888888888888888,
              "#fdca26"
             ],
             [
              1,
              "#f0f921"
             ]
            ],
            "type": "heatmap"
           }
          ],
          "heatmapgl": [
           {
            "colorbar": {
             "outlinewidth": 0,
             "ticks": ""
            },
            "colorscale": [
             [
              0,
              "#0d0887"
             ],
             [
              0.1111111111111111,
              "#46039f"
             ],
             [
              0.2222222222222222,
              "#7201a8"
             ],
             [
              0.3333333333333333,
              "#9c179e"
             ],
             [
              0.4444444444444444,
              "#bd3786"
             ],
             [
              0.5555555555555556,
              "#d8576b"
             ],
             [
              0.6666666666666666,
              "#ed7953"
             ],
             [
              0.7777777777777778,
              "#fb9f3a"
             ],
             [
              0.8888888888888888,
              "#fdca26"
             ],
             [
              1,
              "#f0f921"
             ]
            ],
            "type": "heatmapgl"
           }
          ],
          "histogram": [
           {
            "marker": {
             "colorbar": {
              "outlinewidth": 0,
              "ticks": ""
             }
            },
            "type": "histogram"
           }
          ],
          "histogram2d": [
           {
            "colorbar": {
             "outlinewidth": 0,
             "ticks": ""
            },
            "colorscale": [
             [
              0,
              "#0d0887"
             ],
             [
              0.1111111111111111,
              "#46039f"
             ],
             [
              0.2222222222222222,
              "#7201a8"
             ],
             [
              0.3333333333333333,
              "#9c179e"
             ],
             [
              0.4444444444444444,
              "#bd3786"
             ],
             [
              0.5555555555555556,
              "#d8576b"
             ],
             [
              0.6666666666666666,
              "#ed7953"
             ],
             [
              0.7777777777777778,
              "#fb9f3a"
             ],
             [
              0.8888888888888888,
              "#fdca26"
             ],
             [
              1,
              "#f0f921"
             ]
            ],
            "type": "histogram2d"
           }
          ],
          "histogram2dcontour": [
           {
            "colorbar": {
             "outlinewidth": 0,
             "ticks": ""
            },
            "colorscale": [
             [
              0,
              "#0d0887"
             ],
             [
              0.1111111111111111,
              "#46039f"
             ],
             [
              0.2222222222222222,
              "#7201a8"
             ],
             [
              0.3333333333333333,
              "#9c179e"
             ],
             [
              0.4444444444444444,
              "#bd3786"
             ],
             [
              0.5555555555555556,
              "#d8576b"
             ],
             [
              0.6666666666666666,
              "#ed7953"
             ],
             [
              0.7777777777777778,
              "#fb9f3a"
             ],
             [
              0.8888888888888888,
              "#fdca26"
             ],
             [
              1,
              "#f0f921"
             ]
            ],
            "type": "histogram2dcontour"
           }
          ],
          "mesh3d": [
           {
            "colorbar": {
             "outlinewidth": 0,
             "ticks": ""
            },
            "type": "mesh3d"
           }
          ],
          "parcoords": [
           {
            "line": {
             "colorbar": {
              "outlinewidth": 0,
              "ticks": ""
             }
            },
            "type": "parcoords"
           }
          ],
          "pie": [
           {
            "automargin": true,
            "type": "pie"
           }
          ],
          "scatter": [
           {
            "marker": {
             "colorbar": {
              "outlinewidth": 0,
              "ticks": ""
             }
            },
            "type": "scatter"
           }
          ],
          "scatter3d": [
           {
            "line": {
             "colorbar": {
              "outlinewidth": 0,
              "ticks": ""
             }
            },
            "marker": {
             "colorbar": {
              "outlinewidth": 0,
              "ticks": ""
             }
            },
            "type": "scatter3d"
           }
          ],
          "scattercarpet": [
           {
            "marker": {
             "colorbar": {
              "outlinewidth": 0,
              "ticks": ""
             }
            },
            "type": "scattercarpet"
           }
          ],
          "scattergeo": [
           {
            "marker": {
             "colorbar": {
              "outlinewidth": 0,
              "ticks": ""
             }
            },
            "type": "scattergeo"
           }
          ],
          "scattergl": [
           {
            "marker": {
             "colorbar": {
              "outlinewidth": 0,
              "ticks": ""
             }
            },
            "type": "scattergl"
           }
          ],
          "scattermapbox": [
           {
            "marker": {
             "colorbar": {
              "outlinewidth": 0,
              "ticks": ""
             }
            },
            "type": "scattermapbox"
           }
          ],
          "scatterpolar": [
           {
            "marker": {
             "colorbar": {
              "outlinewidth": 0,
              "ticks": ""
             }
            },
            "type": "scatterpolar"
           }
          ],
          "scatterpolargl": [
           {
            "marker": {
             "colorbar": {
              "outlinewidth": 0,
              "ticks": ""
             }
            },
            "type": "scatterpolargl"
           }
          ],
          "scatterternary": [
           {
            "marker": {
             "colorbar": {
              "outlinewidth": 0,
              "ticks": ""
             }
            },
            "type": "scatterternary"
           }
          ],
          "surface": [
           {
            "colorbar": {
             "outlinewidth": 0,
             "ticks": ""
            },
            "colorscale": [
             [
              0,
              "#0d0887"
             ],
             [
              0.1111111111111111,
              "#46039f"
             ],
             [
              0.2222222222222222,
              "#7201a8"
             ],
             [
              0.3333333333333333,
              "#9c179e"
             ],
             [
              0.4444444444444444,
              "#bd3786"
             ],
             [
              0.5555555555555556,
              "#d8576b"
             ],
             [
              0.6666666666666666,
              "#ed7953"
             ],
             [
              0.7777777777777778,
              "#fb9f3a"
             ],
             [
              0.8888888888888888,
              "#fdca26"
             ],
             [
              1,
              "#f0f921"
             ]
            ],
            "type": "surface"
           }
          ],
          "table": [
           {
            "cells": {
             "fill": {
              "color": "#EBF0F8"
             },
             "line": {
              "color": "white"
             }
            },
            "header": {
             "fill": {
              "color": "#C8D4E3"
             },
             "line": {
              "color": "white"
             }
            },
            "type": "table"
           }
          ]
         },
         "layout": {
          "annotationdefaults": {
           "arrowcolor": "#2a3f5f",
           "arrowhead": 0,
           "arrowwidth": 1
          },
          "autotypenumbers": "strict",
          "coloraxis": {
           "colorbar": {
            "outlinewidth": 0,
            "ticks": ""
           }
          },
          "colorscale": {
           "diverging": [
            [
             0,
             "#8e0152"
            ],
            [
             0.1,
             "#c51b7d"
            ],
            [
             0.2,
             "#de77ae"
            ],
            [
             0.3,
             "#f1b6da"
            ],
            [
             0.4,
             "#fde0ef"
            ],
            [
             0.5,
             "#f7f7f7"
            ],
            [
             0.6,
             "#e6f5d0"
            ],
            [
             0.7,
             "#b8e186"
            ],
            [
             0.8,
             "#7fbc41"
            ],
            [
             0.9,
             "#4d9221"
            ],
            [
             1,
             "#276419"
            ]
           ],
           "sequential": [
            [
             0,
             "#0d0887"
            ],
            [
             0.1111111111111111,
             "#46039f"
            ],
            [
             0.2222222222222222,
             "#7201a8"
            ],
            [
             0.3333333333333333,
             "#9c179e"
            ],
            [
             0.4444444444444444,
             "#bd3786"
            ],
            [
             0.5555555555555556,
             "#d8576b"
            ],
            [
             0.6666666666666666,
             "#ed7953"
            ],
            [
             0.7777777777777778,
             "#fb9f3a"
            ],
            [
             0.8888888888888888,
             "#fdca26"
            ],
            [
             1,
             "#f0f921"
            ]
           ],
           "sequentialminus": [
            [
             0,
             "#0d0887"
            ],
            [
             0.1111111111111111,
             "#46039f"
            ],
            [
             0.2222222222222222,
             "#7201a8"
            ],
            [
             0.3333333333333333,
             "#9c179e"
            ],
            [
             0.4444444444444444,
             "#bd3786"
            ],
            [
             0.5555555555555556,
             "#d8576b"
            ],
            [
             0.6666666666666666,
             "#ed7953"
            ],
            [
             0.7777777777777778,
             "#fb9f3a"
            ],
            [
             0.8888888888888888,
             "#fdca26"
            ],
            [
             1,
             "#f0f921"
            ]
           ]
          },
          "colorway": [
           "#636efa",
           "#EF553B",
           "#00cc96",
           "#ab63fa",
           "#FFA15A",
           "#19d3f3",
           "#FF6692",
           "#B6E880",
           "#FF97FF",
           "#FECB52"
          ],
          "font": {
           "color": "#2a3f5f"
          },
          "geo": {
           "bgcolor": "white",
           "lakecolor": "white",
           "landcolor": "#E5ECF6",
           "showlakes": true,
           "showland": true,
           "subunitcolor": "white"
          },
          "hoverlabel": {
           "align": "left"
          },
          "hovermode": "closest",
          "mapbox": {
           "style": "light"
          },
          "paper_bgcolor": "white",
          "plot_bgcolor": "#E5ECF6",
          "polar": {
           "angularaxis": {
            "gridcolor": "white",
            "linecolor": "white",
            "ticks": ""
           },
           "bgcolor": "#E5ECF6",
           "radialaxis": {
            "gridcolor": "white",
            "linecolor": "white",
            "ticks": ""
           }
          },
          "scene": {
           "xaxis": {
            "backgroundcolor": "#E5ECF6",
            "gridcolor": "white",
            "gridwidth": 2,
            "linecolor": "white",
            "showbackground": true,
            "ticks": "",
            "zerolinecolor": "white"
           },
           "yaxis": {
            "backgroundcolor": "#E5ECF6",
            "gridcolor": "white",
            "gridwidth": 2,
            "linecolor": "white",
            "showbackground": true,
            "ticks": "",
            "zerolinecolor": "white"
           },
           "zaxis": {
            "backgroundcolor": "#E5ECF6",
            "gridcolor": "white",
            "gridwidth": 2,
            "linecolor": "white",
            "showbackground": true,
            "ticks": "",
            "zerolinecolor": "white"
           }
          },
          "shapedefaults": {
           "line": {
            "color": "#2a3f5f"
           }
          },
          "ternary": {
           "aaxis": {
            "gridcolor": "white",
            "linecolor": "white",
            "ticks": ""
           },
           "baxis": {
            "gridcolor": "white",
            "linecolor": "white",
            "ticks": ""
           },
           "bgcolor": "#E5ECF6",
           "caxis": {
            "gridcolor": "white",
            "linecolor": "white",
            "ticks": ""
           }
          },
          "title": {
           "x": 0.05
          },
          "xaxis": {
           "automargin": true,
           "gridcolor": "white",
           "linecolor": "white",
           "ticks": "",
           "title": {
            "standoff": 15
           },
           "zerolinecolor": "white",
           "zerolinewidth": 2
          },
          "yaxis": {
           "automargin": true,
           "gridcolor": "white",
           "linecolor": "white",
           "ticks": "",
           "title": {
            "standoff": 15
           },
           "zerolinecolor": "white",
           "zerolinewidth": 2
          }
         }
        }
       }
      },
      "text/html": [
       "<div>                            <div id=\"b48f3d94-ccfb-47c5-bf7c-80d493b92d0a\" class=\"plotly-graph-div\" style=\"height:525px; width:100%;\"></div>            <script type=\"text/javascript\">                require([\"plotly\"], function(Plotly) {                    window.PLOTLYENV=window.PLOTLYENV || {};                                    if (document.getElementById(\"b48f3d94-ccfb-47c5-bf7c-80d493b92d0a\")) {                    Plotly.newPlot(                        \"b48f3d94-ccfb-47c5-bf7c-80d493b92d0a\",                        [{\"hovertemplate\": \"<b>%{hovertext}</b><br><br>lat=%{lat}<br>lon=%{lon}<extra></extra>\", \"hovertext\": [\"Melbourne\"], \"lat\": [-37.8136], \"legendgroup\": \"\", \"lon\": [144.9631], \"marker\": {\"color\": \"#636efa\"}, \"mode\": \"markers\", \"name\": \"\", \"showlegend\": false, \"subplot\": \"mapbox\", \"type\": \"scattermapbox\"}],                        {\"legend\": {\"tracegroupgap\": 0}, \"mapbox\": {\"accesstoken\": \"pk.eyJ1IjoibmVkMiIsImEiOiJja2FlMGRsNnIxcmplMnNyeThsdzV2bW44In0.7G2hmZROkebNbyv1UivRoQ\", \"center\": {\"lat\": -37.8136, \"lon\": 144.9631}, \"domain\": {\"x\": [0.0, 1.0], \"y\": [0.0, 1.0]}, \"zoom\": 1.3}, \"margin\": {\"t\": 60}, \"template\": {\"data\": {\"bar\": [{\"error_x\": {\"color\": \"#2a3f5f\"}, \"error_y\": {\"color\": \"#2a3f5f\"}, \"marker\": {\"line\": {\"color\": \"#E5ECF6\", \"width\": 0.5}}, \"type\": \"bar\"}], \"barpolar\": [{\"marker\": {\"line\": {\"color\": \"#E5ECF6\", \"width\": 0.5}}, \"type\": \"barpolar\"}], \"carpet\": [{\"aaxis\": {\"endlinecolor\": \"#2a3f5f\", \"gridcolor\": \"white\", \"linecolor\": \"white\", \"minorgridcolor\": \"white\", \"startlinecolor\": \"#2a3f5f\"}, \"baxis\": {\"endlinecolor\": \"#2a3f5f\", \"gridcolor\": \"white\", \"linecolor\": \"white\", \"minorgridcolor\": \"white\", \"startlinecolor\": \"#2a3f5f\"}, \"type\": \"carpet\"}], \"choropleth\": [{\"colorbar\": {\"outlinewidth\": 0, \"ticks\": \"\"}, \"type\": \"choropleth\"}], \"contour\": [{\"colorbar\": {\"outlinewidth\": 0, \"ticks\": \"\"}, \"colorscale\": [[0.0, \"#0d0887\"], [0.1111111111111111, \"#46039f\"], [0.2222222222222222, \"#7201a8\"], [0.3333333333333333, \"#9c179e\"], [0.4444444444444444, \"#bd3786\"], [0.5555555555555556, \"#d8576b\"], [0.6666666666666666, \"#ed7953\"], [0.7777777777777778, \"#fb9f3a\"], [0.8888888888888888, \"#fdca26\"], [1.0, \"#f0f921\"]], \"type\": \"contour\"}], \"contourcarpet\": [{\"colorbar\": {\"outlinewidth\": 0, \"ticks\": \"\"}, \"type\": \"contourcarpet\"}], \"heatmap\": [{\"colorbar\": {\"outlinewidth\": 0, \"ticks\": \"\"}, \"colorscale\": [[0.0, \"#0d0887\"], [0.1111111111111111, \"#46039f\"], [0.2222222222222222, \"#7201a8\"], [0.3333333333333333, \"#9c179e\"], [0.4444444444444444, \"#bd3786\"], [0.5555555555555556, \"#d8576b\"], [0.6666666666666666, \"#ed7953\"], [0.7777777777777778, \"#fb9f3a\"], [0.8888888888888888, \"#fdca26\"], [1.0, \"#f0f921\"]], \"type\": \"heatmap\"}], \"heatmapgl\": [{\"colorbar\": {\"outlinewidth\": 0, \"ticks\": \"\"}, \"colorscale\": [[0.0, \"#0d0887\"], [0.1111111111111111, \"#46039f\"], [0.2222222222222222, \"#7201a8\"], [0.3333333333333333, \"#9c179e\"], [0.4444444444444444, \"#bd3786\"], [0.5555555555555556, \"#d8576b\"], [0.6666666666666666, \"#ed7953\"], [0.7777777777777778, \"#fb9f3a\"], [0.8888888888888888, \"#fdca26\"], [1.0, \"#f0f921\"]], \"type\": \"heatmapgl\"}], \"histogram\": [{\"marker\": {\"colorbar\": {\"outlinewidth\": 0, \"ticks\": \"\"}}, \"type\": \"histogram\"}], \"histogram2d\": [{\"colorbar\": {\"outlinewidth\": 0, \"ticks\": \"\"}, \"colorscale\": [[0.0, \"#0d0887\"], [0.1111111111111111, \"#46039f\"], [0.2222222222222222, \"#7201a8\"], [0.3333333333333333, \"#9c179e\"], [0.4444444444444444, \"#bd3786\"], [0.5555555555555556, \"#d8576b\"], [0.6666666666666666, \"#ed7953\"], [0.7777777777777778, \"#fb9f3a\"], [0.8888888888888888, \"#fdca26\"], [1.0, \"#f0f921\"]], \"type\": \"histogram2d\"}], \"histogram2dcontour\": [{\"colorbar\": {\"outlinewidth\": 0, \"ticks\": \"\"}, \"colorscale\": [[0.0, \"#0d0887\"], [0.1111111111111111, \"#46039f\"], [0.2222222222222222, \"#7201a8\"], [0.3333333333333333, \"#9c179e\"], [0.4444444444444444, \"#bd3786\"], [0.5555555555555556, \"#d8576b\"], [0.6666666666666666, \"#ed7953\"], [0.7777777777777778, \"#fb9f3a\"], [0.8888888888888888, \"#fdca26\"], [1.0, \"#f0f921\"]], \"type\": \"histogram2dcontour\"}], \"mesh3d\": [{\"colorbar\": {\"outlinewidth\": 0, \"ticks\": \"\"}, \"type\": \"mesh3d\"}], \"parcoords\": [{\"line\": {\"colorbar\": {\"outlinewidth\": 0, \"ticks\": \"\"}}, \"type\": \"parcoords\"}], \"pie\": [{\"automargin\": true, \"type\": \"pie\"}], \"scatter\": [{\"marker\": {\"colorbar\": {\"outlinewidth\": 0, \"ticks\": \"\"}}, \"type\": \"scatter\"}], \"scatter3d\": [{\"line\": {\"colorbar\": {\"outlinewidth\": 0, \"ticks\": \"\"}}, \"marker\": {\"colorbar\": {\"outlinewidth\": 0, \"ticks\": \"\"}}, \"type\": \"scatter3d\"}], \"scattercarpet\": [{\"marker\": {\"colorbar\": {\"outlinewidth\": 0, \"ticks\": \"\"}}, \"type\": \"scattercarpet\"}], \"scattergeo\": [{\"marker\": {\"colorbar\": {\"outlinewidth\": 0, \"ticks\": \"\"}}, \"type\": \"scattergeo\"}], \"scattergl\": [{\"marker\": {\"colorbar\": {\"outlinewidth\": 0, \"ticks\": \"\"}}, \"type\": \"scattergl\"}], \"scattermapbox\": [{\"marker\": {\"colorbar\": {\"outlinewidth\": 0, \"ticks\": \"\"}}, \"type\": \"scattermapbox\"}], \"scatterpolar\": [{\"marker\": {\"colorbar\": {\"outlinewidth\": 0, \"ticks\": \"\"}}, \"type\": \"scatterpolar\"}], \"scatterpolargl\": [{\"marker\": {\"colorbar\": {\"outlinewidth\": 0, \"ticks\": \"\"}}, \"type\": \"scatterpolargl\"}], \"scatterternary\": [{\"marker\": {\"colorbar\": {\"outlinewidth\": 0, \"ticks\": \"\"}}, \"type\": \"scatterternary\"}], \"surface\": [{\"colorbar\": {\"outlinewidth\": 0, \"ticks\": \"\"}, \"colorscale\": [[0.0, \"#0d0887\"], [0.1111111111111111, \"#46039f\"], [0.2222222222222222, \"#7201a8\"], [0.3333333333333333, \"#9c179e\"], [0.4444444444444444, \"#bd3786\"], [0.5555555555555556, \"#d8576b\"], [0.6666666666666666, \"#ed7953\"], [0.7777777777777778, \"#fb9f3a\"], [0.8888888888888888, \"#fdca26\"], [1.0, \"#f0f921\"]], \"type\": \"surface\"}], \"table\": [{\"cells\": {\"fill\": {\"color\": \"#EBF0F8\"}, \"line\": {\"color\": \"white\"}}, \"header\": {\"fill\": {\"color\": \"#C8D4E3\"}, \"line\": {\"color\": \"white\"}}, \"type\": \"table\"}]}, \"layout\": {\"annotationdefaults\": {\"arrowcolor\": \"#2a3f5f\", \"arrowhead\": 0, \"arrowwidth\": 1}, \"autotypenumbers\": \"strict\", \"coloraxis\": {\"colorbar\": {\"outlinewidth\": 0, \"ticks\": \"\"}}, \"colorscale\": {\"diverging\": [[0, \"#8e0152\"], [0.1, \"#c51b7d\"], [0.2, \"#de77ae\"], [0.3, \"#f1b6da\"], [0.4, \"#fde0ef\"], [0.5, \"#f7f7f7\"], [0.6, \"#e6f5d0\"], [0.7, \"#b8e186\"], [0.8, \"#7fbc41\"], [0.9, \"#4d9221\"], [1, \"#276419\"]], \"sequential\": [[0.0, \"#0d0887\"], [0.1111111111111111, \"#46039f\"], [0.2222222222222222, \"#7201a8\"], [0.3333333333333333, \"#9c179e\"], [0.4444444444444444, \"#bd3786\"], [0.5555555555555556, \"#d8576b\"], [0.6666666666666666, \"#ed7953\"], [0.7777777777777778, \"#fb9f3a\"], [0.8888888888888888, \"#fdca26\"], [1.0, \"#f0f921\"]], \"sequentialminus\": [[0.0, \"#0d0887\"], [0.1111111111111111, \"#46039f\"], [0.2222222222222222, \"#7201a8\"], [0.3333333333333333, \"#9c179e\"], [0.4444444444444444, \"#bd3786\"], [0.5555555555555556, \"#d8576b\"], [0.6666666666666666, \"#ed7953\"], [0.7777777777777778, \"#fb9f3a\"], [0.8888888888888888, \"#fdca26\"], [1.0, \"#f0f921\"]]}, \"colorway\": [\"#636efa\", \"#EF553B\", \"#00cc96\", \"#ab63fa\", \"#FFA15A\", \"#19d3f3\", \"#FF6692\", \"#B6E880\", \"#FF97FF\", \"#FECB52\"], \"font\": {\"color\": \"#2a3f5f\"}, \"geo\": {\"bgcolor\": \"white\", \"lakecolor\": \"white\", \"landcolor\": \"#E5ECF6\", \"showlakes\": true, \"showland\": true, \"subunitcolor\": \"white\"}, \"hoverlabel\": {\"align\": \"left\"}, \"hovermode\": \"closest\", \"mapbox\": {\"style\": \"light\"}, \"paper_bgcolor\": \"white\", \"plot_bgcolor\": \"#E5ECF6\", \"polar\": {\"angularaxis\": {\"gridcolor\": \"white\", \"linecolor\": \"white\", \"ticks\": \"\"}, \"bgcolor\": \"#E5ECF6\", \"radialaxis\": {\"gridcolor\": \"white\", \"linecolor\": \"white\", \"ticks\": \"\"}}, \"scene\": {\"xaxis\": {\"backgroundcolor\": \"#E5ECF6\", \"gridcolor\": \"white\", \"gridwidth\": 2, \"linecolor\": \"white\", \"showbackground\": true, \"ticks\": \"\", \"zerolinecolor\": \"white\"}, \"yaxis\": {\"backgroundcolor\": \"#E5ECF6\", \"gridcolor\": \"white\", \"gridwidth\": 2, \"linecolor\": \"white\", \"showbackground\": true, \"ticks\": \"\", \"zerolinecolor\": \"white\"}, \"zaxis\": {\"backgroundcolor\": \"#E5ECF6\", \"gridcolor\": \"white\", \"gridwidth\": 2, \"linecolor\": \"white\", \"showbackground\": true, \"ticks\": \"\", \"zerolinecolor\": \"white\"}}, \"shapedefaults\": {\"line\": {\"color\": \"#2a3f5f\"}}, \"ternary\": {\"aaxis\": {\"gridcolor\": \"white\", \"linecolor\": \"white\", \"ticks\": \"\"}, \"baxis\": {\"gridcolor\": \"white\", \"linecolor\": \"white\", \"ticks\": \"\"}, \"bgcolor\": \"#E5ECF6\", \"caxis\": {\"gridcolor\": \"white\", \"linecolor\": \"white\", \"ticks\": \"\"}}, \"title\": {\"x\": 0.05}, \"xaxis\": {\"automargin\": true, \"gridcolor\": \"white\", \"linecolor\": \"white\", \"ticks\": \"\", \"title\": {\"standoff\": 15}, \"zerolinecolor\": \"white\", \"zerolinewidth\": 2}, \"yaxis\": {\"automargin\": true, \"gridcolor\": \"white\", \"linecolor\": \"white\", \"ticks\": \"\", \"title\": {\"standoff\": 15}, \"zerolinecolor\": \"white\", \"zerolinewidth\": 2}}}},                        {\"responsive\": true}                    ).then(function(){\n",
       "                            \n",
       "var gd = document.getElementById('b48f3d94-ccfb-47c5-bf7c-80d493b92d0a');\n",
       "var x = new MutationObserver(function (mutations, observer) {{\n",
       "        var display = window.getComputedStyle(gd).display;\n",
       "        if (!display || display === 'none') {{\n",
       "            console.log([gd, 'removed!']);\n",
       "            Plotly.purge(gd);\n",
       "            observer.disconnect();\n",
       "        }}\n",
       "}});\n",
       "\n",
       "// Listen for the removal of the full notebook cells\n",
       "var notebookContainer = gd.closest('#notebook-container');\n",
       "if (notebookContainer) {{\n",
       "    x.observe(notebookContainer, {childList: true});\n",
       "}}\n",
       "\n",
       "// Listen for the clearing of the current output cell\n",
       "var outputEl = gd.closest('.output');\n",
       "if (outputEl) {{\n",
       "    x.observe(outputEl, {childList: true});\n",
       "}}\n",
       "\n",
       "                        })                };                });            </script>        </div>"
      ]
     },
     "metadata": {},
     "output_type": "display_data"
    }
   ],
   "source": [
    "px.scatter_mapbox(lat=[-37.8136], lon=[144.9631], hover_name=[\"Melbourne\"], zoom=1.3)"
   ]
  },
  {
   "cell_type": "markdown",
   "metadata": {
    "slideshow": {
     "slide_type": "slide"
    }
   },
   "source": [
    "## What is data visualisation?"
   ]
  },
  {
   "cell_type": "markdown",
   "metadata": {
    "slideshow": {
     "slide_type": "fragment"
    }
   },
   "source": [
    "* Graphic representation of data that visually encodes information"
   ]
  },
  {
   "cell_type": "markdown",
   "metadata": {
    "slideshow": {
     "slide_type": "fragment"
    }
   },
   "source": [
    "* Reveals patterns, trends, relationships"
   ]
  },
  {
   "cell_type": "markdown",
   "metadata": {
    "slideshow": {
     "slide_type": "fragment"
    }
   },
   "source": [
    "* Used to discover and communicate insights"
   ]
  },
  {
   "cell_type": "markdown",
   "metadata": {
    "slideshow": {
     "slide_type": "slide"
    }
   },
   "source": [
    "<center>\n",
    "    <h3>Examples of Visualisations</h3>\n",
    "    <img src=\"/files/notebooks/img/plot_types.svg\" width=\"800\"/>\n",
    "</center>"
   ]
  },
  {
   "cell_type": "code",
   "execution_count": 7,
   "metadata": {
    "slideshow": {
     "slide_type": "skip"
    }
   },
   "outputs": [],
   "source": [
    "# prep data for the next section\n",
    "\n",
    "data = PedestrianDataset.load(MELBVIZ_COUNTS_CSV_PATH, sensor_csv_path=MELBVIZ_SENSOR_CSV_PATH)\n",
    "pedestrian_data = data.filter(year=2019, month=\"March\", sensor=\"Southern Cross Station\")\n",
    "pedestrian_df = pedestrian_data.df\n",
    "data.years = list(reversed(data.years))\n",
    "\n",
    "def filter_df(year=None, month=None, sensor=None):\n",
    "    return data.filter(year=year, month=month, sensor=sensor).df\n",
    "\n",
    "def plot_sensor_traffic(df):\n",
    "    fig_func = data.get_plot_func(\"sensor_traffic\")\n",
    "    fig = fig_func(df, width=1500, height=500)\n",
    "    fig.update_layout(font_size=18, margin_r=170)\n",
    "    return fig"
   ]
  },
  {
   "cell_type": "markdown",
   "metadata": {
    "slideshow": {
     "slide_type": "slide"
    }
   },
   "source": [
    "## Why visualise data?"
   ]
  },
  {
   "cell_type": "markdown",
   "metadata": {
    "slideshow": {
     "slide_type": "fragment"
    }
   },
   "source": [
    "_Tabular representations of datasets are difficult to interpret_"
   ]
  },
  {
   "cell_type": "code",
   "execution_count": 5,
   "metadata": {
    "hideCode": false,
    "hidePrompt": false,
    "slideshow": {
     "slide_type": "fragment"
    }
   },
   "outputs": [
    {
     "data": {
      "text/html": [
       "<div>\n",
       "<style scoped>\n",
       "    .dataframe tbody tr th:only-of-type {\n",
       "        vertical-align: middle;\n",
       "    }\n",
       "\n",
       "    .dataframe tbody tr th {\n",
       "        vertical-align: top;\n",
       "    }\n",
       "\n",
       "    .dataframe thead th {\n",
       "        text-align: right;\n",
       "    }\n",
       "</style>\n",
       "<table border=\"1\" class=\"dataframe\">\n",
       "  <thead>\n",
       "    <tr style=\"text-align: right;\">\n",
       "      <th></th>\n",
       "      <th>Date_Time</th>\n",
       "      <th>Year</th>\n",
       "      <th>Month</th>\n",
       "      <th>Mdate</th>\n",
       "      <th>Day</th>\n",
       "      <th>Time</th>\n",
       "      <th>Sensor_ID</th>\n",
       "      <th>Sensor_Name</th>\n",
       "      <th>Hourly_Counts</th>\n",
       "      <th>datetime_flat_year</th>\n",
       "      <th>sensor_id</th>\n",
       "      <th>latitude</th>\n",
       "      <th>longitude</th>\n",
       "    </tr>\n",
       "  </thead>\n",
       "  <tbody>\n",
       "    <tr>\n",
       "      <th>1630174</th>\n",
       "      <td>2019-03-01 00:00:00</td>\n",
       "      <td>2019</td>\n",
       "      <td>March</td>\n",
       "      <td>1</td>\n",
       "      <td>Friday</td>\n",
       "      <td>0</td>\n",
       "      <td>9</td>\n",
       "      <td>Southern Cross Station</td>\n",
       "      <td>28</td>\n",
       "      <td>2000-03-01 00:00:00</td>\n",
       "      <td>9</td>\n",
       "      <td>-37.81983</td>\n",
       "      <td>144.951026</td>\n",
       "    </tr>\n",
       "    <tr>\n",
       "      <th>1630175</th>\n",
       "      <td>2019-03-01 01:00:00</td>\n",
       "      <td>2019</td>\n",
       "      <td>March</td>\n",
       "      <td>1</td>\n",
       "      <td>Friday</td>\n",
       "      <td>1</td>\n",
       "      <td>9</td>\n",
       "      <td>Southern Cross Station</td>\n",
       "      <td>19</td>\n",
       "      <td>2000-03-01 01:00:00</td>\n",
       "      <td>9</td>\n",
       "      <td>-37.81983</td>\n",
       "      <td>144.951026</td>\n",
       "    </tr>\n",
       "    <tr>\n",
       "      <th>1630176</th>\n",
       "      <td>2019-03-01 02:00:00</td>\n",
       "      <td>2019</td>\n",
       "      <td>March</td>\n",
       "      <td>1</td>\n",
       "      <td>Friday</td>\n",
       "      <td>2</td>\n",
       "      <td>9</td>\n",
       "      <td>Southern Cross Station</td>\n",
       "      <td>5</td>\n",
       "      <td>2000-03-01 02:00:00</td>\n",
       "      <td>9</td>\n",
       "      <td>-37.81983</td>\n",
       "      <td>144.951026</td>\n",
       "    </tr>\n",
       "    <tr>\n",
       "      <th>1630177</th>\n",
       "      <td>2019-03-01 03:00:00</td>\n",
       "      <td>2019</td>\n",
       "      <td>March</td>\n",
       "      <td>1</td>\n",
       "      <td>Friday</td>\n",
       "      <td>3</td>\n",
       "      <td>9</td>\n",
       "      <td>Southern Cross Station</td>\n",
       "      <td>8</td>\n",
       "      <td>2000-03-01 03:00:00</td>\n",
       "      <td>9</td>\n",
       "      <td>-37.81983</td>\n",
       "      <td>144.951026</td>\n",
       "    </tr>\n",
       "    <tr>\n",
       "      <th>1630178</th>\n",
       "      <td>2019-03-01 04:00:00</td>\n",
       "      <td>2019</td>\n",
       "      <td>March</td>\n",
       "      <td>1</td>\n",
       "      <td>Friday</td>\n",
       "      <td>4</td>\n",
       "      <td>9</td>\n",
       "      <td>Southern Cross Station</td>\n",
       "      <td>11</td>\n",
       "      <td>2000-03-01 04:00:00</td>\n",
       "      <td>9</td>\n",
       "      <td>-37.81983</td>\n",
       "      <td>144.951026</td>\n",
       "    </tr>\n",
       "    <tr>\n",
       "      <th>1630179</th>\n",
       "      <td>2019-03-01 05:00:00</td>\n",
       "      <td>2019</td>\n",
       "      <td>March</td>\n",
       "      <td>1</td>\n",
       "      <td>Friday</td>\n",
       "      <td>5</td>\n",
       "      <td>9</td>\n",
       "      <td>Southern Cross Station</td>\n",
       "      <td>134</td>\n",
       "      <td>2000-03-01 05:00:00</td>\n",
       "      <td>9</td>\n",
       "      <td>-37.81983</td>\n",
       "      <td>144.951026</td>\n",
       "    </tr>\n",
       "    <tr>\n",
       "      <th>1630180</th>\n",
       "      <td>2019-03-01 06:00:00</td>\n",
       "      <td>2019</td>\n",
       "      <td>March</td>\n",
       "      <td>1</td>\n",
       "      <td>Friday</td>\n",
       "      <td>6</td>\n",
       "      <td>9</td>\n",
       "      <td>Southern Cross Station</td>\n",
       "      <td>578</td>\n",
       "      <td>2000-03-01 06:00:00</td>\n",
       "      <td>9</td>\n",
       "      <td>-37.81983</td>\n",
       "      <td>144.951026</td>\n",
       "    </tr>\n",
       "    <tr>\n",
       "      <th>1630181</th>\n",
       "      <td>2019-03-01 07:00:00</td>\n",
       "      <td>2019</td>\n",
       "      <td>March</td>\n",
       "      <td>1</td>\n",
       "      <td>Friday</td>\n",
       "      <td>7</td>\n",
       "      <td>9</td>\n",
       "      <td>Southern Cross Station</td>\n",
       "      <td>2065</td>\n",
       "      <td>2000-03-01 07:00:00</td>\n",
       "      <td>9</td>\n",
       "      <td>-37.81983</td>\n",
       "      <td>144.951026</td>\n",
       "    </tr>\n",
       "    <tr>\n",
       "      <th>1630182</th>\n",
       "      <td>2019-03-01 08:00:00</td>\n",
       "      <td>2019</td>\n",
       "      <td>March</td>\n",
       "      <td>1</td>\n",
       "      <td>Friday</td>\n",
       "      <td>8</td>\n",
       "      <td>9</td>\n",
       "      <td>Southern Cross Station</td>\n",
       "      <td>4406</td>\n",
       "      <td>2000-03-01 08:00:00</td>\n",
       "      <td>9</td>\n",
       "      <td>-37.81983</td>\n",
       "      <td>144.951026</td>\n",
       "    </tr>\n",
       "    <tr>\n",
       "      <th>1630183</th>\n",
       "      <td>2019-03-01 09:00:00</td>\n",
       "      <td>2019</td>\n",
       "      <td>March</td>\n",
       "      <td>1</td>\n",
       "      <td>Friday</td>\n",
       "      <td>9</td>\n",
       "      <td>9</td>\n",
       "      <td>Southern Cross Station</td>\n",
       "      <td>2801</td>\n",
       "      <td>2000-03-01 09:00:00</td>\n",
       "      <td>9</td>\n",
       "      <td>-37.81983</td>\n",
       "      <td>144.951026</td>\n",
       "    </tr>\n",
       "    <tr>\n",
       "      <th>1630184</th>\n",
       "      <td>2019-03-01 10:00:00</td>\n",
       "      <td>2019</td>\n",
       "      <td>March</td>\n",
       "      <td>1</td>\n",
       "      <td>Friday</td>\n",
       "      <td>10</td>\n",
       "      <td>9</td>\n",
       "      <td>Southern Cross Station</td>\n",
       "      <td>958</td>\n",
       "      <td>2000-03-01 10:00:00</td>\n",
       "      <td>9</td>\n",
       "      <td>-37.81983</td>\n",
       "      <td>144.951026</td>\n",
       "    </tr>\n",
       "    <tr>\n",
       "      <th>1630185</th>\n",
       "      <td>2019-03-01 11:00:00</td>\n",
       "      <td>2019</td>\n",
       "      <td>March</td>\n",
       "      <td>1</td>\n",
       "      <td>Friday</td>\n",
       "      <td>11</td>\n",
       "      <td>9</td>\n",
       "      <td>Southern Cross Station</td>\n",
       "      <td>896</td>\n",
       "      <td>2000-03-01 11:00:00</td>\n",
       "      <td>9</td>\n",
       "      <td>-37.81983</td>\n",
       "      <td>144.951026</td>\n",
       "    </tr>\n",
       "    <tr>\n",
       "      <th>1630186</th>\n",
       "      <td>2019-03-01 12:00:00</td>\n",
       "      <td>2019</td>\n",
       "      <td>March</td>\n",
       "      <td>1</td>\n",
       "      <td>Friday</td>\n",
       "      <td>12</td>\n",
       "      <td>9</td>\n",
       "      <td>Southern Cross Station</td>\n",
       "      <td>1656</td>\n",
       "      <td>2000-03-01 12:00:00</td>\n",
       "      <td>9</td>\n",
       "      <td>-37.81983</td>\n",
       "      <td>144.951026</td>\n",
       "    </tr>\n",
       "    <tr>\n",
       "      <th>1630187</th>\n",
       "      <td>2019-03-01 13:00:00</td>\n",
       "      <td>2019</td>\n",
       "      <td>March</td>\n",
       "      <td>1</td>\n",
       "      <td>Friday</td>\n",
       "      <td>13</td>\n",
       "      <td>9</td>\n",
       "      <td>Southern Cross Station</td>\n",
       "      <td>1310</td>\n",
       "      <td>2000-03-01 13:00:00</td>\n",
       "      <td>9</td>\n",
       "      <td>-37.81983</td>\n",
       "      <td>144.951026</td>\n",
       "    </tr>\n",
       "    <tr>\n",
       "      <th>1630188</th>\n",
       "      <td>2019-03-01 14:00:00</td>\n",
       "      <td>2019</td>\n",
       "      <td>March</td>\n",
       "      <td>1</td>\n",
       "      <td>Friday</td>\n",
       "      <td>14</td>\n",
       "      <td>9</td>\n",
       "      <td>Southern Cross Station</td>\n",
       "      <td>991</td>\n",
       "      <td>2000-03-01 14:00:00</td>\n",
       "      <td>9</td>\n",
       "      <td>-37.81983</td>\n",
       "      <td>144.951026</td>\n",
       "    </tr>\n",
       "  </tbody>\n",
       "</table>\n",
       "</div>"
      ],
      "text/plain": [
       "                  Date_Time  Year  Month  Mdate     Day  Time  Sensor_ID  \\\n",
       "1630174 2019-03-01 00:00:00  2019  March      1  Friday     0          9   \n",
       "1630175 2019-03-01 01:00:00  2019  March      1  Friday     1          9   \n",
       "1630176 2019-03-01 02:00:00  2019  March      1  Friday     2          9   \n",
       "1630177 2019-03-01 03:00:00  2019  March      1  Friday     3          9   \n",
       "1630178 2019-03-01 04:00:00  2019  March      1  Friday     4          9   \n",
       "1630179 2019-03-01 05:00:00  2019  March      1  Friday     5          9   \n",
       "1630180 2019-03-01 06:00:00  2019  March      1  Friday     6          9   \n",
       "1630181 2019-03-01 07:00:00  2019  March      1  Friday     7          9   \n",
       "1630182 2019-03-01 08:00:00  2019  March      1  Friday     8          9   \n",
       "1630183 2019-03-01 09:00:00  2019  March      1  Friday     9          9   \n",
       "1630184 2019-03-01 10:00:00  2019  March      1  Friday    10          9   \n",
       "1630185 2019-03-01 11:00:00  2019  March      1  Friday    11          9   \n",
       "1630186 2019-03-01 12:00:00  2019  March      1  Friday    12          9   \n",
       "1630187 2019-03-01 13:00:00  2019  March      1  Friday    13          9   \n",
       "1630188 2019-03-01 14:00:00  2019  March      1  Friday    14          9   \n",
       "\n",
       "                    Sensor_Name  Hourly_Counts  datetime_flat_year  sensor_id  \\\n",
       "1630174  Southern Cross Station             28 2000-03-01 00:00:00          9   \n",
       "1630175  Southern Cross Station             19 2000-03-01 01:00:00          9   \n",
       "1630176  Southern Cross Station              5 2000-03-01 02:00:00          9   \n",
       "1630177  Southern Cross Station              8 2000-03-01 03:00:00          9   \n",
       "1630178  Southern Cross Station             11 2000-03-01 04:00:00          9   \n",
       "1630179  Southern Cross Station            134 2000-03-01 05:00:00          9   \n",
       "1630180  Southern Cross Station            578 2000-03-01 06:00:00          9   \n",
       "1630181  Southern Cross Station           2065 2000-03-01 07:00:00          9   \n",
       "1630182  Southern Cross Station           4406 2000-03-01 08:00:00          9   \n",
       "1630183  Southern Cross Station           2801 2000-03-01 09:00:00          9   \n",
       "1630184  Southern Cross Station            958 2000-03-01 10:00:00          9   \n",
       "1630185  Southern Cross Station            896 2000-03-01 11:00:00          9   \n",
       "1630186  Southern Cross Station           1656 2000-03-01 12:00:00          9   \n",
       "1630187  Southern Cross Station           1310 2000-03-01 13:00:00          9   \n",
       "1630188  Southern Cross Station            991 2000-03-01 14:00:00          9   \n",
       "\n",
       "         latitude   longitude  \n",
       "1630174 -37.81983  144.951026  \n",
       "1630175 -37.81983  144.951026  \n",
       "1630176 -37.81983  144.951026  \n",
       "1630177 -37.81983  144.951026  \n",
       "1630178 -37.81983  144.951026  \n",
       "1630179 -37.81983  144.951026  \n",
       "1630180 -37.81983  144.951026  \n",
       "1630181 -37.81983  144.951026  \n",
       "1630182 -37.81983  144.951026  \n",
       "1630183 -37.81983  144.951026  \n",
       "1630184 -37.81983  144.951026  \n",
       "1630185 -37.81983  144.951026  \n",
       "1630186 -37.81983  144.951026  \n",
       "1630187 -37.81983  144.951026  \n",
       "1630188 -37.81983  144.951026  "
      ]
     },
     "execution_count": 5,
     "metadata": {},
     "output_type": "execute_result"
    }
   ],
   "source": [
    "pedestrian_df.head(15)"
   ]
  },
  {
   "cell_type": "markdown",
   "metadata": {
    "slideshow": {
     "slide_type": "slide"
    }
   },
   "source": [
    "## Why visualise data?"
   ]
  },
  {
   "cell_type": "markdown",
   "metadata": {
    "slideshow": {
     "slide_type": "-"
    }
   },
   "source": [
    "_Visual representations help patterns jump out_"
   ]
  },
  {
   "cell_type": "code",
   "execution_count": 6,
   "metadata": {
    "hideCode": false,
    "hidePrompt": false,
    "slideshow": {
     "slide_type": "fragment"
    }
   },
   "outputs": [
    {
     "data": {
      "application/vnd.plotly.v1+json": {
       "config": {
        "plotlyServerURL": "https://plot.ly"
       },
       "data": [
        {
         "hovertemplate": "Sensor_Name=Southern Cross Station<br>Date_Time=%{x}<br>Hourly_Counts=%{y}<extra></extra>",
         "legendgroup": "",
         "line": {
          "color": "#636efa",
          "dash": "solid"
         },
         "mode": "lines",
         "name": "",
         "orientation": "v",
         "showlegend": false,
         "type": "scatter",
         "x": [
          "2019-03-01T00:00:00",
          "2019-03-01T01:00:00",
          "2019-03-01T02:00:00",
          "2019-03-01T03:00:00",
          "2019-03-01T04:00:00",
          "2019-03-01T05:00:00",
          "2019-03-01T06:00:00",
          "2019-03-01T07:00:00",
          "2019-03-01T08:00:00",
          "2019-03-01T09:00:00",
          "2019-03-01T10:00:00",
          "2019-03-01T11:00:00",
          "2019-03-01T12:00:00",
          "2019-03-01T13:00:00",
          "2019-03-01T14:00:00",
          "2019-03-01T15:00:00",
          "2019-03-01T16:00:00",
          "2019-03-01T17:00:00",
          "2019-03-01T18:00:00",
          "2019-03-01T19:00:00",
          "2019-03-01T20:00:00",
          "2019-03-01T21:00:00",
          "2019-03-01T22:00:00",
          "2019-03-01T23:00:00",
          "2019-03-02T00:00:00",
          "2019-03-02T01:00:00",
          "2019-03-02T02:00:00",
          "2019-03-02T03:00:00",
          "2019-03-02T04:00:00",
          "2019-03-02T05:00:00",
          "2019-03-02T06:00:00",
          "2019-03-02T07:00:00",
          "2019-03-02T08:00:00",
          "2019-03-02T09:00:00",
          "2019-03-02T10:00:00",
          "2019-03-02T11:00:00",
          "2019-03-02T12:00:00",
          "2019-03-02T13:00:00",
          "2019-03-02T14:00:00",
          "2019-03-02T15:00:00",
          "2019-03-02T16:00:00",
          "2019-03-02T17:00:00",
          "2019-03-02T18:00:00",
          "2019-03-02T19:00:00",
          "2019-03-02T20:00:00",
          "2019-03-02T21:00:00",
          "2019-03-02T22:00:00",
          "2019-03-02T23:00:00",
          "2019-03-03T00:00:00",
          "2019-03-03T01:00:00",
          "2019-03-03T02:00:00",
          "2019-03-03T03:00:00",
          "2019-03-03T04:00:00",
          "2019-03-03T05:00:00",
          "2019-03-03T06:00:00",
          "2019-03-03T07:00:00",
          "2019-03-03T08:00:00",
          "2019-03-03T09:00:00",
          "2019-03-03T10:00:00",
          "2019-03-03T11:00:00",
          "2019-03-03T12:00:00",
          "2019-03-03T13:00:00",
          "2019-03-03T14:00:00",
          "2019-03-03T15:00:00",
          "2019-03-03T16:00:00",
          "2019-03-03T17:00:00",
          "2019-03-03T18:00:00",
          "2019-03-03T19:00:00",
          "2019-03-03T20:00:00",
          "2019-03-03T21:00:00",
          "2019-03-03T22:00:00",
          "2019-03-03T23:00:00",
          "2019-03-04T00:00:00",
          "2019-03-04T01:00:00",
          "2019-03-04T02:00:00",
          "2019-03-04T03:00:00",
          "2019-03-04T04:00:00",
          "2019-03-04T05:00:00",
          "2019-03-04T06:00:00",
          "2019-03-04T07:00:00",
          "2019-03-04T08:00:00",
          "2019-03-04T09:00:00",
          "2019-03-04T10:00:00",
          "2019-03-04T11:00:00",
          "2019-03-04T12:00:00",
          "2019-03-04T13:00:00",
          "2019-03-04T14:00:00",
          "2019-03-04T15:00:00",
          "2019-03-04T16:00:00",
          "2019-03-04T17:00:00",
          "2019-03-04T18:00:00",
          "2019-03-04T19:00:00",
          "2019-03-04T20:00:00",
          "2019-03-04T21:00:00",
          "2019-03-04T22:00:00",
          "2019-03-04T23:00:00",
          "2019-03-05T00:00:00",
          "2019-03-05T01:00:00",
          "2019-03-05T02:00:00",
          "2019-03-05T03:00:00",
          "2019-03-05T04:00:00",
          "2019-03-05T05:00:00",
          "2019-03-05T06:00:00",
          "2019-03-05T07:00:00",
          "2019-03-05T08:00:00",
          "2019-03-05T09:00:00",
          "2019-03-05T10:00:00",
          "2019-03-05T11:00:00",
          "2019-03-05T12:00:00",
          "2019-03-05T13:00:00",
          "2019-03-05T14:00:00",
          "2019-03-05T15:00:00",
          "2019-03-05T16:00:00",
          "2019-03-05T17:00:00",
          "2019-03-05T18:00:00",
          "2019-03-05T19:00:00",
          "2019-03-05T20:00:00",
          "2019-03-05T21:00:00",
          "2019-03-05T22:00:00",
          "2019-03-05T23:00:00",
          "2019-03-06T00:00:00",
          "2019-03-06T01:00:00",
          "2019-03-06T02:00:00",
          "2019-03-06T03:00:00",
          "2019-03-06T04:00:00",
          "2019-03-06T05:00:00",
          "2019-03-06T06:00:00",
          "2019-03-06T07:00:00",
          "2019-03-06T08:00:00",
          "2019-03-06T09:00:00",
          "2019-03-06T10:00:00",
          "2019-03-06T11:00:00",
          "2019-03-06T12:00:00",
          "2019-03-06T13:00:00",
          "2019-03-06T14:00:00",
          "2019-03-06T15:00:00",
          "2019-03-06T16:00:00",
          "2019-03-06T17:00:00",
          "2019-03-06T18:00:00",
          "2019-03-06T19:00:00",
          "2019-03-06T20:00:00",
          "2019-03-06T21:00:00",
          "2019-03-06T22:00:00",
          "2019-03-06T23:00:00",
          "2019-03-07T00:00:00",
          "2019-03-07T01:00:00",
          "2019-03-07T02:00:00",
          "2019-03-07T03:00:00",
          "2019-03-07T04:00:00",
          "2019-03-07T05:00:00",
          "2019-03-07T06:00:00",
          "2019-03-07T07:00:00",
          "2019-03-07T08:00:00",
          "2019-03-07T09:00:00",
          "2019-03-07T10:00:00",
          "2019-03-07T11:00:00",
          "2019-03-07T12:00:00",
          "2019-03-07T13:00:00",
          "2019-03-07T14:00:00",
          "2019-03-07T15:00:00",
          "2019-03-07T16:00:00",
          "2019-03-07T17:00:00",
          "2019-03-07T18:00:00",
          "2019-03-07T19:00:00",
          "2019-03-07T20:00:00",
          "2019-03-07T21:00:00",
          "2019-03-07T22:00:00",
          "2019-03-07T23:00:00",
          "2019-03-08T00:00:00",
          "2019-03-08T01:00:00",
          "2019-03-08T02:00:00",
          "2019-03-08T03:00:00",
          "2019-03-08T04:00:00",
          "2019-03-08T05:00:00",
          "2019-03-08T06:00:00",
          "2019-03-08T07:00:00",
          "2019-03-08T08:00:00",
          "2019-03-08T09:00:00",
          "2019-03-08T10:00:00",
          "2019-03-08T11:00:00",
          "2019-03-08T12:00:00",
          "2019-03-08T13:00:00",
          "2019-03-08T14:00:00",
          "2019-03-08T15:00:00",
          "2019-03-08T16:00:00",
          "2019-03-08T17:00:00",
          "2019-03-08T18:00:00",
          "2019-03-08T19:00:00",
          "2019-03-08T20:00:00",
          "2019-03-08T21:00:00",
          "2019-03-08T22:00:00",
          "2019-03-08T23:00:00",
          "2019-03-09T00:00:00",
          "2019-03-09T01:00:00",
          "2019-03-09T02:00:00",
          "2019-03-09T03:00:00",
          "2019-03-09T04:00:00",
          "2019-03-09T05:00:00",
          "2019-03-09T06:00:00",
          "2019-03-09T07:00:00",
          "2019-03-09T08:00:00",
          "2019-03-09T09:00:00",
          "2019-03-09T10:00:00",
          "2019-03-09T11:00:00",
          "2019-03-09T12:00:00",
          "2019-03-09T13:00:00",
          "2019-03-09T14:00:00",
          "2019-03-09T15:00:00",
          "2019-03-09T16:00:00",
          "2019-03-09T17:00:00",
          "2019-03-09T18:00:00",
          "2019-03-09T19:00:00",
          "2019-03-09T20:00:00",
          "2019-03-09T21:00:00",
          "2019-03-09T22:00:00",
          "2019-03-09T23:00:00",
          "2019-03-10T00:00:00",
          "2019-03-10T01:00:00",
          "2019-03-10T02:00:00",
          "2019-03-10T03:00:00",
          "2019-03-10T04:00:00",
          "2019-03-10T05:00:00",
          "2019-03-10T06:00:00",
          "2019-03-10T07:00:00",
          "2019-03-10T08:00:00",
          "2019-03-10T09:00:00",
          "2019-03-10T10:00:00",
          "2019-03-10T11:00:00",
          "2019-03-10T12:00:00",
          "2019-03-10T13:00:00",
          "2019-03-10T14:00:00",
          "2019-03-10T15:00:00",
          "2019-03-10T16:00:00",
          "2019-03-10T17:00:00",
          "2019-03-10T18:00:00",
          "2019-03-10T19:00:00",
          "2019-03-10T20:00:00",
          "2019-03-10T21:00:00",
          "2019-03-10T22:00:00",
          "2019-03-10T23:00:00",
          "2019-03-11T00:00:00",
          "2019-03-11T01:00:00",
          "2019-03-11T02:00:00",
          "2019-03-11T03:00:00",
          "2019-03-11T04:00:00",
          "2019-03-11T05:00:00",
          "2019-03-11T06:00:00",
          "2019-03-11T07:00:00",
          "2019-03-11T08:00:00",
          "2019-03-11T09:00:00",
          "2019-03-11T10:00:00",
          "2019-03-11T11:00:00",
          "2019-03-11T12:00:00",
          "2019-03-11T13:00:00",
          "2019-03-11T14:00:00",
          "2019-03-11T15:00:00",
          "2019-03-11T16:00:00",
          "2019-03-11T17:00:00",
          "2019-03-11T18:00:00",
          "2019-03-11T19:00:00",
          "2019-03-11T20:00:00",
          "2019-03-11T21:00:00",
          "2019-03-11T22:00:00",
          "2019-03-11T23:00:00",
          "2019-03-12T00:00:00",
          "2019-03-12T01:00:00",
          "2019-03-12T02:00:00",
          "2019-03-12T03:00:00",
          "2019-03-12T04:00:00",
          "2019-03-12T05:00:00",
          "2019-03-12T06:00:00",
          "2019-03-12T07:00:00",
          "2019-03-12T08:00:00",
          "2019-03-12T09:00:00",
          "2019-03-12T10:00:00",
          "2019-03-12T11:00:00",
          "2019-03-12T12:00:00",
          "2019-03-12T13:00:00",
          "2019-03-12T14:00:00",
          "2019-03-12T15:00:00",
          "2019-03-12T16:00:00",
          "2019-03-12T17:00:00",
          "2019-03-12T18:00:00",
          "2019-03-12T19:00:00",
          "2019-03-12T20:00:00",
          "2019-03-12T21:00:00",
          "2019-03-12T22:00:00",
          "2019-03-12T23:00:00",
          "2019-03-13T00:00:00",
          "2019-03-13T01:00:00",
          "2019-03-13T02:00:00",
          "2019-03-13T03:00:00",
          "2019-03-13T04:00:00",
          "2019-03-13T05:00:00",
          "2019-03-13T06:00:00",
          "2019-03-13T07:00:00",
          "2019-03-13T08:00:00",
          "2019-03-13T09:00:00",
          "2019-03-13T10:00:00",
          "2019-03-13T11:00:00",
          "2019-03-13T12:00:00",
          "2019-03-13T13:00:00",
          "2019-03-13T14:00:00",
          "2019-03-13T15:00:00",
          "2019-03-13T16:00:00",
          "2019-03-13T17:00:00",
          "2019-03-13T18:00:00",
          "2019-03-13T19:00:00",
          "2019-03-13T20:00:00",
          "2019-03-13T21:00:00",
          "2019-03-13T22:00:00",
          "2019-03-13T23:00:00",
          "2019-03-14T00:00:00",
          "2019-03-14T01:00:00",
          "2019-03-14T02:00:00",
          "2019-03-14T03:00:00",
          "2019-03-14T04:00:00",
          "2019-03-14T05:00:00",
          "2019-03-14T06:00:00",
          "2019-03-14T07:00:00",
          "2019-03-14T08:00:00",
          "2019-03-14T09:00:00",
          "2019-03-14T10:00:00",
          "2019-03-14T11:00:00",
          "2019-03-14T12:00:00",
          "2019-03-14T13:00:00",
          "2019-03-14T14:00:00",
          "2019-03-14T15:00:00",
          "2019-03-14T16:00:00",
          "2019-03-14T17:00:00",
          "2019-03-14T18:00:00",
          "2019-03-14T19:00:00",
          "2019-03-14T20:00:00",
          "2019-03-14T21:00:00",
          "2019-03-14T22:00:00",
          "2019-03-14T23:00:00",
          "2019-03-15T00:00:00",
          "2019-03-15T01:00:00",
          "2019-03-15T02:00:00",
          "2019-03-15T03:00:00",
          "2019-03-15T04:00:00",
          "2019-03-15T05:00:00",
          "2019-03-15T06:00:00",
          "2019-03-15T07:00:00",
          "2019-03-15T08:00:00",
          "2019-03-15T09:00:00",
          "2019-03-15T10:00:00",
          "2019-03-15T11:00:00",
          "2019-03-15T12:00:00",
          "2019-03-15T13:00:00",
          "2019-03-15T14:00:00",
          "2019-03-15T15:00:00",
          "2019-03-15T16:00:00",
          "2019-03-15T17:00:00",
          "2019-03-15T18:00:00",
          "2019-03-15T19:00:00",
          "2019-03-15T20:00:00",
          "2019-03-15T21:00:00",
          "2019-03-15T22:00:00",
          "2019-03-15T23:00:00",
          "2019-03-16T00:00:00",
          "2019-03-16T01:00:00",
          "2019-03-16T02:00:00",
          "2019-03-16T03:00:00",
          "2019-03-16T04:00:00",
          "2019-03-16T05:00:00",
          "2019-03-16T06:00:00",
          "2019-03-16T07:00:00",
          "2019-03-16T08:00:00",
          "2019-03-16T09:00:00",
          "2019-03-16T10:00:00",
          "2019-03-16T11:00:00",
          "2019-03-16T12:00:00",
          "2019-03-16T13:00:00",
          "2019-03-16T14:00:00",
          "2019-03-16T15:00:00",
          "2019-03-16T16:00:00",
          "2019-03-16T17:00:00",
          "2019-03-16T18:00:00",
          "2019-03-16T19:00:00",
          "2019-03-16T20:00:00",
          "2019-03-16T21:00:00",
          "2019-03-16T22:00:00",
          "2019-03-16T23:00:00",
          "2019-03-17T00:00:00",
          "2019-03-17T01:00:00",
          "2019-03-17T02:00:00",
          "2019-03-17T03:00:00",
          "2019-03-17T04:00:00",
          "2019-03-17T05:00:00",
          "2019-03-17T06:00:00",
          "2019-03-17T07:00:00",
          "2019-03-17T08:00:00",
          "2019-03-17T09:00:00",
          "2019-03-17T10:00:00",
          "2019-03-17T11:00:00",
          "2019-03-17T12:00:00",
          "2019-03-17T13:00:00",
          "2019-03-17T14:00:00",
          "2019-03-17T15:00:00",
          "2019-03-17T16:00:00",
          "2019-03-17T17:00:00",
          "2019-03-17T18:00:00",
          "2019-03-17T19:00:00",
          "2019-03-17T20:00:00",
          "2019-03-17T21:00:00",
          "2019-03-17T22:00:00",
          "2019-03-17T23:00:00",
          "2019-03-18T00:00:00",
          "2019-03-18T01:00:00",
          "2019-03-18T02:00:00",
          "2019-03-18T03:00:00",
          "2019-03-18T04:00:00",
          "2019-03-18T05:00:00",
          "2019-03-18T06:00:00",
          "2019-03-18T07:00:00",
          "2019-03-18T08:00:00",
          "2019-03-18T09:00:00",
          "2019-03-18T10:00:00",
          "2019-03-18T11:00:00",
          "2019-03-18T12:00:00",
          "2019-03-18T13:00:00",
          "2019-03-18T14:00:00",
          "2019-03-18T15:00:00",
          "2019-03-18T16:00:00",
          "2019-03-18T17:00:00",
          "2019-03-18T18:00:00",
          "2019-03-18T19:00:00",
          "2019-03-18T20:00:00",
          "2019-03-18T21:00:00",
          "2019-03-18T22:00:00",
          "2019-03-18T23:00:00",
          "2019-03-19T00:00:00",
          "2019-03-19T01:00:00",
          "2019-03-19T02:00:00",
          "2019-03-19T03:00:00",
          "2019-03-19T04:00:00",
          "2019-03-19T05:00:00",
          "2019-03-19T06:00:00",
          "2019-03-19T07:00:00",
          "2019-03-19T08:00:00",
          "2019-03-19T09:00:00",
          "2019-03-19T10:00:00",
          "2019-03-19T11:00:00",
          "2019-03-19T12:00:00",
          "2019-03-19T13:00:00",
          "2019-03-19T14:00:00",
          "2019-03-19T15:00:00",
          "2019-03-19T16:00:00",
          "2019-03-19T17:00:00",
          "2019-03-19T18:00:00",
          "2019-03-19T19:00:00",
          "2019-03-19T20:00:00",
          "2019-03-19T21:00:00",
          "2019-03-19T22:00:00",
          "2019-03-19T23:00:00",
          "2019-03-20T00:00:00",
          "2019-03-20T01:00:00",
          "2019-03-20T02:00:00",
          "2019-03-20T03:00:00",
          "2019-03-20T04:00:00",
          "2019-03-20T05:00:00",
          "2019-03-20T06:00:00",
          "2019-03-20T07:00:00",
          "2019-03-20T08:00:00",
          "2019-03-20T09:00:00",
          "2019-03-20T10:00:00",
          "2019-03-20T11:00:00",
          "2019-03-20T12:00:00",
          "2019-03-20T13:00:00",
          "2019-03-20T14:00:00",
          "2019-03-20T15:00:00",
          "2019-03-20T16:00:00",
          "2019-03-20T17:00:00",
          "2019-03-20T18:00:00",
          "2019-03-20T19:00:00",
          "2019-03-20T20:00:00",
          "2019-03-20T21:00:00",
          "2019-03-20T22:00:00",
          "2019-03-20T23:00:00",
          "2019-03-21T00:00:00",
          "2019-03-21T01:00:00",
          "2019-03-21T02:00:00",
          "2019-03-21T03:00:00",
          "2019-03-21T04:00:00",
          "2019-03-21T05:00:00",
          "2019-03-21T06:00:00",
          "2019-03-21T07:00:00",
          "2019-03-21T08:00:00",
          "2019-03-21T09:00:00",
          "2019-03-21T10:00:00",
          "2019-03-21T11:00:00",
          "2019-03-21T12:00:00",
          "2019-03-21T13:00:00",
          "2019-03-21T14:00:00",
          "2019-03-21T15:00:00",
          "2019-03-21T16:00:00",
          "2019-03-21T17:00:00",
          "2019-03-21T18:00:00",
          "2019-03-21T19:00:00",
          "2019-03-21T20:00:00",
          "2019-03-21T21:00:00",
          "2019-03-21T22:00:00",
          "2019-03-21T23:00:00",
          "2019-03-22T00:00:00",
          "2019-03-22T01:00:00",
          "2019-03-22T02:00:00",
          "2019-03-22T03:00:00",
          "2019-03-22T04:00:00",
          "2019-03-22T05:00:00",
          "2019-03-22T06:00:00",
          "2019-03-22T07:00:00",
          "2019-03-22T08:00:00",
          "2019-03-22T09:00:00",
          "2019-03-22T10:00:00",
          "2019-03-22T11:00:00",
          "2019-03-22T12:00:00",
          "2019-03-22T13:00:00",
          "2019-03-22T14:00:00",
          "2019-03-22T15:00:00",
          "2019-03-22T16:00:00",
          "2019-03-22T17:00:00",
          "2019-03-22T18:00:00",
          "2019-03-22T19:00:00",
          "2019-03-22T20:00:00",
          "2019-03-22T21:00:00",
          "2019-03-22T22:00:00",
          "2019-03-22T23:00:00",
          "2019-03-23T00:00:00",
          "2019-03-23T01:00:00",
          "2019-03-23T02:00:00",
          "2019-03-23T03:00:00",
          "2019-03-23T04:00:00",
          "2019-03-23T05:00:00",
          "2019-03-23T06:00:00",
          "2019-03-23T07:00:00",
          "2019-03-23T08:00:00",
          "2019-03-23T09:00:00",
          "2019-03-23T10:00:00",
          "2019-03-23T11:00:00",
          "2019-03-23T12:00:00",
          "2019-03-23T13:00:00",
          "2019-03-23T14:00:00",
          "2019-03-23T15:00:00",
          "2019-03-23T16:00:00",
          "2019-03-23T17:00:00",
          "2019-03-23T18:00:00",
          "2019-03-23T19:00:00",
          "2019-03-23T20:00:00",
          "2019-03-23T21:00:00",
          "2019-03-23T22:00:00",
          "2019-03-23T23:00:00",
          "2019-03-24T00:00:00",
          "2019-03-24T01:00:00",
          "2019-03-24T02:00:00",
          "2019-03-24T03:00:00",
          "2019-03-24T04:00:00",
          "2019-03-24T05:00:00",
          "2019-03-24T06:00:00",
          "2019-03-24T07:00:00",
          "2019-03-24T08:00:00",
          "2019-03-24T09:00:00",
          "2019-03-24T10:00:00",
          "2019-03-24T11:00:00",
          "2019-03-24T12:00:00",
          "2019-03-24T13:00:00",
          "2019-03-24T14:00:00",
          "2019-03-24T15:00:00",
          "2019-03-24T16:00:00",
          "2019-03-24T17:00:00",
          "2019-03-24T18:00:00",
          "2019-03-24T19:00:00",
          "2019-03-24T20:00:00",
          "2019-03-24T21:00:00",
          "2019-03-24T22:00:00",
          "2019-03-24T23:00:00",
          "2019-03-25T00:00:00",
          "2019-03-25T01:00:00",
          "2019-03-25T02:00:00",
          "2019-03-25T03:00:00",
          "2019-03-25T04:00:00",
          "2019-03-25T05:00:00",
          "2019-03-25T06:00:00",
          "2019-03-25T07:00:00",
          "2019-03-25T08:00:00",
          "2019-03-25T09:00:00",
          "2019-03-25T10:00:00",
          "2019-03-25T11:00:00",
          "2019-03-25T12:00:00",
          "2019-03-25T13:00:00",
          "2019-03-25T14:00:00",
          "2019-03-25T15:00:00",
          "2019-03-25T16:00:00",
          "2019-03-25T17:00:00",
          "2019-03-25T18:00:00",
          "2019-03-25T19:00:00",
          "2019-03-25T20:00:00",
          "2019-03-25T21:00:00",
          "2019-03-25T22:00:00",
          "2019-03-25T23:00:00",
          "2019-03-26T00:00:00",
          "2019-03-26T01:00:00",
          "2019-03-26T02:00:00",
          "2019-03-26T03:00:00",
          "2019-03-26T04:00:00",
          "2019-03-26T05:00:00",
          "2019-03-26T06:00:00",
          "2019-03-26T07:00:00",
          "2019-03-26T08:00:00",
          "2019-03-26T09:00:00",
          "2019-03-26T10:00:00",
          "2019-03-26T11:00:00",
          "2019-03-26T12:00:00",
          "2019-03-26T13:00:00",
          "2019-03-26T14:00:00",
          "2019-03-26T15:00:00",
          "2019-03-26T16:00:00",
          "2019-03-26T17:00:00",
          "2019-03-26T18:00:00",
          "2019-03-26T19:00:00",
          "2019-03-26T20:00:00",
          "2019-03-26T21:00:00",
          "2019-03-26T22:00:00",
          "2019-03-26T23:00:00",
          "2019-03-27T00:00:00",
          "2019-03-27T01:00:00",
          "2019-03-27T02:00:00",
          "2019-03-27T03:00:00",
          "2019-03-27T04:00:00",
          "2019-03-27T05:00:00",
          "2019-03-27T06:00:00",
          "2019-03-27T07:00:00",
          "2019-03-27T08:00:00",
          "2019-03-27T09:00:00",
          "2019-03-27T10:00:00",
          "2019-03-27T11:00:00",
          "2019-03-27T12:00:00",
          "2019-03-27T13:00:00",
          "2019-03-27T14:00:00",
          "2019-03-27T15:00:00",
          "2019-03-27T16:00:00",
          "2019-03-27T17:00:00",
          "2019-03-27T18:00:00",
          "2019-03-27T19:00:00",
          "2019-03-27T20:00:00",
          "2019-03-27T21:00:00",
          "2019-03-27T22:00:00",
          "2019-03-27T23:00:00",
          "2019-03-28T00:00:00",
          "2019-03-28T01:00:00",
          "2019-03-28T02:00:00",
          "2019-03-28T03:00:00",
          "2019-03-28T04:00:00",
          "2019-03-28T05:00:00",
          "2019-03-28T06:00:00",
          "2019-03-28T07:00:00",
          "2019-03-28T08:00:00",
          "2019-03-28T09:00:00",
          "2019-03-28T10:00:00",
          "2019-03-28T11:00:00",
          "2019-03-28T12:00:00",
          "2019-03-28T13:00:00",
          "2019-03-28T14:00:00",
          "2019-03-28T15:00:00",
          "2019-03-28T16:00:00",
          "2019-03-28T17:00:00",
          "2019-03-28T18:00:00",
          "2019-03-28T19:00:00",
          "2019-03-28T20:00:00",
          "2019-03-28T21:00:00",
          "2019-03-28T22:00:00",
          "2019-03-28T23:00:00",
          "2019-03-29T00:00:00",
          "2019-03-29T01:00:00",
          "2019-03-29T02:00:00",
          "2019-03-29T03:00:00",
          "2019-03-29T04:00:00",
          "2019-03-29T05:00:00",
          "2019-03-29T06:00:00",
          "2019-03-29T07:00:00",
          "2019-03-29T08:00:00",
          "2019-03-29T09:00:00",
          "2019-03-29T10:00:00",
          "2019-03-29T11:00:00",
          "2019-03-29T12:00:00",
          "2019-03-29T13:00:00",
          "2019-03-29T14:00:00",
          "2019-03-29T15:00:00",
          "2019-03-29T16:00:00",
          "2019-03-29T17:00:00",
          "2019-03-29T18:00:00",
          "2019-03-29T19:00:00",
          "2019-03-29T20:00:00",
          "2019-03-29T21:00:00",
          "2019-03-29T22:00:00",
          "2019-03-29T23:00:00",
          "2019-03-30T00:00:00",
          "2019-03-30T01:00:00",
          "2019-03-30T02:00:00",
          "2019-03-30T03:00:00",
          "2019-03-30T04:00:00",
          "2019-03-30T05:00:00",
          "2019-03-30T06:00:00",
          "2019-03-30T07:00:00",
          "2019-03-30T08:00:00",
          "2019-03-30T09:00:00",
          "2019-03-30T10:00:00",
          "2019-03-30T11:00:00",
          "2019-03-30T12:00:00",
          "2019-03-30T13:00:00",
          "2019-03-30T14:00:00",
          "2019-03-30T15:00:00",
          "2019-03-30T16:00:00",
          "2019-03-30T17:00:00",
          "2019-03-30T18:00:00",
          "2019-03-30T19:00:00",
          "2019-03-30T20:00:00",
          "2019-03-30T21:00:00",
          "2019-03-30T22:00:00",
          "2019-03-30T23:00:00",
          "2019-03-31T00:00:00",
          "2019-03-31T01:00:00",
          "2019-03-31T02:00:00",
          "2019-03-31T03:00:00",
          "2019-03-31T04:00:00",
          "2019-03-31T05:00:00",
          "2019-03-31T06:00:00",
          "2019-03-31T07:00:00",
          "2019-03-31T08:00:00",
          "2019-03-31T09:00:00",
          "2019-03-31T10:00:00",
          "2019-03-31T11:00:00",
          "2019-03-31T12:00:00",
          "2019-03-31T13:00:00",
          "2019-03-31T14:00:00",
          "2019-03-31T15:00:00",
          "2019-03-31T16:00:00",
          "2019-03-31T17:00:00",
          "2019-03-31T18:00:00",
          "2019-03-31T19:00:00",
          "2019-03-31T20:00:00",
          "2019-03-31T21:00:00",
          "2019-03-31T22:00:00",
          "2019-03-31T23:00:00"
         ],
         "xaxis": "x",
         "y": [
          28,
          19,
          5,
          8,
          11,
          134,
          578,
          2065,
          4406,
          2801,
          958,
          896,
          1656,
          1310,
          991,
          1365,
          2663,
          3197,
          1353,
          527,
          290,
          188,
          157,
          94,
          41,
          27,
          19,
          13,
          10,
          33,
          61,
          85,
          137,
          123,
          144,
          162,
          135,
          121,
          110,
          157,
          144,
          155,
          170,
          126,
          104,
          103,
          80,
          68,
          38,
          38,
          36,
          16,
          8,
          19,
          43,
          43,
          86,
          69,
          84,
          130,
          92,
          92,
          94,
          84,
          132,
          141,
          106,
          99,
          76,
          71,
          41,
          32,
          14,
          12,
          4,
          7,
          5,
          76,
          475,
          1813,
          3442,
          2175,
          709,
          622,
          1368,
          905,
          765,
          1152,
          2246,
          3079,
          1489,
          443,
          236,
          100,
          94,
          52,
          12,
          10,
          11,
          4,
          11,
          100,
          631,
          2189,
          4290,
          2612,
          830,
          726,
          1483,
          1160,
          887,
          1274,
          2587,
          3317,
          1609,
          551,
          283,
          135,
          99,
          70,
          29,
          2,
          6,
          8,
          10,
          98,
          510,
          1655,
          3298,
          2574,
          966,
          713,
          1456,
          1226,
          964,
          1301,
          2482,
          3546,
          1817,
          570,
          295,
          157,
          107,
          56,
          34,
          7,
          5,
          6,
          11,
          113,
          568,
          2152,
          4273,
          2731,
          978,
          814,
          1698,
          1500,
          952,
          1486,
          2831,
          4057,
          1952,
          611,
          259,
          163,
          142,
          64,
          27,
          26,
          12,
          7,
          9,
          121,
          522,
          1950,
          4032,
          2598,
          1036,
          860,
          1701,
          1553,
          1092,
          1430,
          3042,
          3312,
          1419,
          569,
          293,
          207,
          157,
          88,
          27,
          27,
          31,
          15,
          15,
          22,
          39,
          53,
          104,
          145,
          140,
          144,
          167,
          171,
          129,
          160,
          143,
          179,
          256,
          147,
          168,
          113,
          115,
          75,
          52,
          27,
          38,
          27,
          8,
          14,
          34,
          37,
          88,
          129,
          132,
          136,
          154,
          147,
          121,
          129,
          173,
          173,
          168,
          118,
          100,
          120,
          95,
          63,
          41,
          30,
          16,
          27,
          16,
          27,
          52,
          174,
          286,
          221,
          207,
          233,
          200,
          204,
          161,
          171,
          283,
          264,
          284,
          182,
          101,
          84,
          94,
          43,
          24,
          8,
          6,
          4,
          12,
          100,
          595,
          2290,
          4681,
          3009,
          982,
          719,
          1565,
          1354,
          912,
          1323,
          2960,
          4157,
          1957,
          643,
          234,
          103,
          103,
          45,
          13,
          25,
          5,
          4,
          12,
          122,
          627,
          2161,
          4312,
          2887,
          910,
          794,
          1609,
          1408,
          881,
          1272,
          2842,
          4052,
          1928,
          716,
          271,
          173,
          126,
          63,
          17,
          10,
          9,
          2,
          8,
          125,
          641,
          2401,
          4491,
          2789,
          1124,
          927,
          1684,
          1670,
          985,
          1436,
          2595,
          3899,
          2061,
          734,
          315,
          156,
          125,
          79,
          44,
          28,
          11,
          4,
          9,
          121,
          613,
          2244,
          4025,
          2958,
          1024,
          911,
          1987,
          1688,
          1191,
          1319,
          2575,
          3356,
          1680,
          648,
          374,
          261,
          166,
          129,
          43,
          26,
          30,
          26,
          9,
          34,
          59,
          86,
          162,
          210,
          243,
          271,
          229,
          217,
          165,
          182,
          214,
          222,
          277,
          322,
          227,
          174,
          102,
          64,
          44,
          44,
          29,
          21,
          18,
          17,
          29,
          62,
          123,
          161,
          184,
          186,
          185,
          171,
          138,
          130,
          119,
          138,
          236,
          205,
          121,
          80,
          66,
          61,
          30,
          13,
          6,
          8,
          12,
          106,
          599,
          2242,
          4627,
          3025,
          962,
          783,
          1662,
          1422,
          865,
          1288,
          2952,
          4027,
          1917,
          581,
          269,
          118,
          110,
          57,
          26,
          21,
          11,
          2,
          4,
          133,
          609,
          2464,
          4765,
          2864,
          968,
          875,
          1696,
          1392,
          849,
          1314,
          2839,
          4255,
          1855,
          584,
          288,
          164,
          93,
          62,
          19,
          15,
          9,
          0,
          6,
          128,
          650,
          2272,
          4349,
          2889,
          1036,
          880,
          1795,
          1485,
          969,
          1373,
          3040,
          4003,
          1999,
          632,
          285,
          213,
          112,
          54,
          23,
          10,
          2,
          2,
          2,
          120,
          626,
          2370,
          4577,
          2934,
          1119,
          798,
          1648,
          1503,
          976,
          1332,
          3016,
          4003,
          2111,
          668,
          303,
          180,
          163,
          74,
          39,
          15,
          7,
          11,
          12,
          98,
          513,
          2139,
          3810,
          3067,
          1023,
          918,
          1824,
          1517,
          974,
          1231,
          2505,
          3179,
          1470,
          604,
          326,
          209,
          159,
          145,
          56,
          34,
          24,
          22,
          14,
          23,
          41,
          57,
          98,
          134,
          172,
          186,
          183,
          154,
          171,
          158,
          158,
          213,
          175,
          130,
          107,
          64,
          188,
          61,
          45,
          37,
          20,
          24,
          11,
          11,
          24,
          58,
          98,
          113,
          130,
          153,
          182,
          150,
          133,
          111,
          173,
          125,
          148,
          82,
          84,
          76,
          47,
          28,
          27,
          7,
          9,
          3,
          15,
          103,
          528,
          2022,
          3580,
          2234,
          845,
          729,
          1392,
          1175,
          714,
          1050,
          2241,
          3176,
          1627,
          489,
          197,
          114,
          86,
          39,
          16,
          14,
          4,
          2,
          3,
          120,
          584,
          2252,
          4615,
          2758,
          962,
          753,
          1655,
          1389,
          969,
          1288,
          2797,
          3608,
          1834,
          618,
          278,
          125,
          136,
          36,
          25,
          14,
          5,
          3,
          7,
          103,
          634,
          2168,
          4152,
          2885,
          1005,
          860,
          1626,
          1446,
          930,
          1292,
          2866,
          3867,
          1984,
          624,
          263,
          171,
          106,
          71,
          17,
          15,
          5,
          5,
          6,
          112,
          646,
          2450,
          3731,
          3367,
          1121,
          954,
          1847,
          1484,
          1001,
          1530,
          2902,
          4112,
          2018,
          691,
          333,
          191,
          200,
          97,
          27,
          20,
          8,
          17,
          7,
          104,
          578,
          2094,
          4314,
          2792,
          980,
          887,
          1919,
          1627,
          1046,
          1473,
          3209,
          2822,
          1271,
          495,
          270,
          156,
          141,
          97,
          37,
          28,
          14,
          12,
          15,
          32,
          70,
          65,
          99,
          140,
          160,
          149,
          188,
          181,
          221,
          230,
          175,
          144,
          150,
          240,
          102,
          70,
          56,
          53,
          34,
          21,
          27,
          21,
          21,
          10,
          28,
          41,
          90,
          138,
          134,
          148,
          180,
          206,
          168,
          85,
          192,
          154,
          159,
          67,
          55,
          65,
          44,
          40
         ],
         "yaxis": "y"
        }
       ],
       "layout": {
        "annotations": [
         {
          "font": {},
          "showarrow": false,
          "text": "Southern Cross Station",
          "textangle": 0,
          "x": 0.98,
          "xanchor": "left",
          "xref": "paper",
          "y": 0.5,
          "yanchor": "middle",
          "yref": "paper"
         }
        ],
        "font": {
         "size": 18
        },
        "height": 500,
        "legend": {
         "tracegroupgap": 0
        },
        "margin": {
         "r": 170
        },
        "template": {
         "data": {
          "bar": [
           {
            "error_x": {
             "color": "#2a3f5f"
            },
            "error_y": {
             "color": "#2a3f5f"
            },
            "marker": {
             "line": {
              "color": "#E5ECF6",
              "width": 0.5
             }
            },
            "type": "bar"
           }
          ],
          "barpolar": [
           {
            "marker": {
             "line": {
              "color": "#E5ECF6",
              "width": 0.5
             }
            },
            "type": "barpolar"
           }
          ],
          "carpet": [
           {
            "aaxis": {
             "endlinecolor": "#2a3f5f",
             "gridcolor": "white",
             "linecolor": "white",
             "minorgridcolor": "white",
             "startlinecolor": "#2a3f5f"
            },
            "baxis": {
             "endlinecolor": "#2a3f5f",
             "gridcolor": "white",
             "linecolor": "white",
             "minorgridcolor": "white",
             "startlinecolor": "#2a3f5f"
            },
            "type": "carpet"
           }
          ],
          "choropleth": [
           {
            "colorbar": {
             "outlinewidth": 0,
             "ticks": ""
            },
            "type": "choropleth"
           }
          ],
          "contour": [
           {
            "colorbar": {
             "outlinewidth": 0,
             "ticks": ""
            },
            "colorscale": [
             [
              0,
              "#0d0887"
             ],
             [
              0.1111111111111111,
              "#46039f"
             ],
             [
              0.2222222222222222,
              "#7201a8"
             ],
             [
              0.3333333333333333,
              "#9c179e"
             ],
             [
              0.4444444444444444,
              "#bd3786"
             ],
             [
              0.5555555555555556,
              "#d8576b"
             ],
             [
              0.6666666666666666,
              "#ed7953"
             ],
             [
              0.7777777777777778,
              "#fb9f3a"
             ],
             [
              0.8888888888888888,
              "#fdca26"
             ],
             [
              1,
              "#f0f921"
             ]
            ],
            "type": "contour"
           }
          ],
          "contourcarpet": [
           {
            "colorbar": {
             "outlinewidth": 0,
             "ticks": ""
            },
            "type": "contourcarpet"
           }
          ],
          "heatmap": [
           {
            "colorbar": {
             "outlinewidth": 0,
             "ticks": ""
            },
            "colorscale": [
             [
              0,
              "#0d0887"
             ],
             [
              0.1111111111111111,
              "#46039f"
             ],
             [
              0.2222222222222222,
              "#7201a8"
             ],
             [
              0.3333333333333333,
              "#9c179e"
             ],
             [
              0.4444444444444444,
              "#bd3786"
             ],
             [
              0.5555555555555556,
              "#d8576b"
             ],
             [
              0.6666666666666666,
              "#ed7953"
             ],
             [
              0.7777777777777778,
              "#fb9f3a"
             ],
             [
              0.8888888888888888,
              "#fdca26"
             ],
             [
              1,
              "#f0f921"
             ]
            ],
            "type": "heatmap"
           }
          ],
          "heatmapgl": [
           {
            "colorbar": {
             "outlinewidth": 0,
             "ticks": ""
            },
            "colorscale": [
             [
              0,
              "#0d0887"
             ],
             [
              0.1111111111111111,
              "#46039f"
             ],
             [
              0.2222222222222222,
              "#7201a8"
             ],
             [
              0.3333333333333333,
              "#9c179e"
             ],
             [
              0.4444444444444444,
              "#bd3786"
             ],
             [
              0.5555555555555556,
              "#d8576b"
             ],
             [
              0.6666666666666666,
              "#ed7953"
             ],
             [
              0.7777777777777778,
              "#fb9f3a"
             ],
             [
              0.8888888888888888,
              "#fdca26"
             ],
             [
              1,
              "#f0f921"
             ]
            ],
            "type": "heatmapgl"
           }
          ],
          "histogram": [
           {
            "marker": {
             "colorbar": {
              "outlinewidth": 0,
              "ticks": ""
             }
            },
            "type": "histogram"
           }
          ],
          "histogram2d": [
           {
            "colorbar": {
             "outlinewidth": 0,
             "ticks": ""
            },
            "colorscale": [
             [
              0,
              "#0d0887"
             ],
             [
              0.1111111111111111,
              "#46039f"
             ],
             [
              0.2222222222222222,
              "#7201a8"
             ],
             [
              0.3333333333333333,
              "#9c179e"
             ],
             [
              0.4444444444444444,
              "#bd3786"
             ],
             [
              0.5555555555555556,
              "#d8576b"
             ],
             [
              0.6666666666666666,
              "#ed7953"
             ],
             [
              0.7777777777777778,
              "#fb9f3a"
             ],
             [
              0.8888888888888888,
              "#fdca26"
             ],
             [
              1,
              "#f0f921"
             ]
            ],
            "type": "histogram2d"
           }
          ],
          "histogram2dcontour": [
           {
            "colorbar": {
             "outlinewidth": 0,
             "ticks": ""
            },
            "colorscale": [
             [
              0,
              "#0d0887"
             ],
             [
              0.1111111111111111,
              "#46039f"
             ],
             [
              0.2222222222222222,
              "#7201a8"
             ],
             [
              0.3333333333333333,
              "#9c179e"
             ],
             [
              0.4444444444444444,
              "#bd3786"
             ],
             [
              0.5555555555555556,
              "#d8576b"
             ],
             [
              0.6666666666666666,
              "#ed7953"
             ],
             [
              0.7777777777777778,
              "#fb9f3a"
             ],
             [
              0.8888888888888888,
              "#fdca26"
             ],
             [
              1,
              "#f0f921"
             ]
            ],
            "type": "histogram2dcontour"
           }
          ],
          "mesh3d": [
           {
            "colorbar": {
             "outlinewidth": 0,
             "ticks": ""
            },
            "type": "mesh3d"
           }
          ],
          "parcoords": [
           {
            "line": {
             "colorbar": {
              "outlinewidth": 0,
              "ticks": ""
             }
            },
            "type": "parcoords"
           }
          ],
          "pie": [
           {
            "automargin": true,
            "type": "pie"
           }
          ],
          "scatter": [
           {
            "marker": {
             "colorbar": {
              "outlinewidth": 0,
              "ticks": ""
             }
            },
            "type": "scatter"
           }
          ],
          "scatter3d": [
           {
            "line": {
             "colorbar": {
              "outlinewidth": 0,
              "ticks": ""
             }
            },
            "marker": {
             "colorbar": {
              "outlinewidth": 0,
              "ticks": ""
             }
            },
            "type": "scatter3d"
           }
          ],
          "scattercarpet": [
           {
            "marker": {
             "colorbar": {
              "outlinewidth": 0,
              "ticks": ""
             }
            },
            "type": "scattercarpet"
           }
          ],
          "scattergeo": [
           {
            "marker": {
             "colorbar": {
              "outlinewidth": 0,
              "ticks": ""
             }
            },
            "type": "scattergeo"
           }
          ],
          "scattergl": [
           {
            "marker": {
             "colorbar": {
              "outlinewidth": 0,
              "ticks": ""
             }
            },
            "type": "scattergl"
           }
          ],
          "scattermapbox": [
           {
            "marker": {
             "colorbar": {
              "outlinewidth": 0,
              "ticks": ""
             }
            },
            "type": "scattermapbox"
           }
          ],
          "scatterpolar": [
           {
            "marker": {
             "colorbar": {
              "outlinewidth": 0,
              "ticks": ""
             }
            },
            "type": "scatterpolar"
           }
          ],
          "scatterpolargl": [
           {
            "marker": {
             "colorbar": {
              "outlinewidth": 0,
              "ticks": ""
             }
            },
            "type": "scatterpolargl"
           }
          ],
          "scatterternary": [
           {
            "marker": {
             "colorbar": {
              "outlinewidth": 0,
              "ticks": ""
             }
            },
            "type": "scatterternary"
           }
          ],
          "surface": [
           {
            "colorbar": {
             "outlinewidth": 0,
             "ticks": ""
            },
            "colorscale": [
             [
              0,
              "#0d0887"
             ],
             [
              0.1111111111111111,
              "#46039f"
             ],
             [
              0.2222222222222222,
              "#7201a8"
             ],
             [
              0.3333333333333333,
              "#9c179e"
             ],
             [
              0.4444444444444444,
              "#bd3786"
             ],
             [
              0.5555555555555556,
              "#d8576b"
             ],
             [
              0.6666666666666666,
              "#ed7953"
             ],
             [
              0.7777777777777778,
              "#fb9f3a"
             ],
             [
              0.8888888888888888,
              "#fdca26"
             ],
             [
              1,
              "#f0f921"
             ]
            ],
            "type": "surface"
           }
          ],
          "table": [
           {
            "cells": {
             "fill": {
              "color": "#EBF0F8"
             },
             "line": {
              "color": "white"
             }
            },
            "header": {
             "fill": {
              "color": "#C8D4E3"
             },
             "line": {
              "color": "white"
             }
            },
            "type": "table"
           }
          ]
         },
         "layout": {
          "annotationdefaults": {
           "arrowcolor": "#2a3f5f",
           "arrowhead": 0,
           "arrowwidth": 1
          },
          "coloraxis": {
           "colorbar": {
            "outlinewidth": 0,
            "ticks": ""
           }
          },
          "colorscale": {
           "diverging": [
            [
             0,
             "#8e0152"
            ],
            [
             0.1,
             "#c51b7d"
            ],
            [
             0.2,
             "#de77ae"
            ],
            [
             0.3,
             "#f1b6da"
            ],
            [
             0.4,
             "#fde0ef"
            ],
            [
             0.5,
             "#f7f7f7"
            ],
            [
             0.6,
             "#e6f5d0"
            ],
            [
             0.7,
             "#b8e186"
            ],
            [
             0.8,
             "#7fbc41"
            ],
            [
             0.9,
             "#4d9221"
            ],
            [
             1,
             "#276419"
            ]
           ],
           "sequential": [
            [
             0,
             "#0d0887"
            ],
            [
             0.1111111111111111,
             "#46039f"
            ],
            [
             0.2222222222222222,
             "#7201a8"
            ],
            [
             0.3333333333333333,
             "#9c179e"
            ],
            [
             0.4444444444444444,
             "#bd3786"
            ],
            [
             0.5555555555555556,
             "#d8576b"
            ],
            [
             0.6666666666666666,
             "#ed7953"
            ],
            [
             0.7777777777777778,
             "#fb9f3a"
            ],
            [
             0.8888888888888888,
             "#fdca26"
            ],
            [
             1,
             "#f0f921"
            ]
           ],
           "sequentialminus": [
            [
             0,
             "#0d0887"
            ],
            [
             0.1111111111111111,
             "#46039f"
            ],
            [
             0.2222222222222222,
             "#7201a8"
            ],
            [
             0.3333333333333333,
             "#9c179e"
            ],
            [
             0.4444444444444444,
             "#bd3786"
            ],
            [
             0.5555555555555556,
             "#d8576b"
            ],
            [
             0.6666666666666666,
             "#ed7953"
            ],
            [
             0.7777777777777778,
             "#fb9f3a"
            ],
            [
             0.8888888888888888,
             "#fdca26"
            ],
            [
             1,
             "#f0f921"
            ]
           ]
          },
          "colorway": [
           "#636efa",
           "#EF553B",
           "#00cc96",
           "#ab63fa",
           "#FFA15A",
           "#19d3f3",
           "#FF6692",
           "#B6E880",
           "#FF97FF",
           "#FECB52"
          ],
          "font": {
           "color": "#2a3f5f"
          },
          "geo": {
           "bgcolor": "white",
           "lakecolor": "white",
           "landcolor": "#E5ECF6",
           "showlakes": true,
           "showland": true,
           "subunitcolor": "white"
          },
          "hoverlabel": {
           "align": "left"
          },
          "hovermode": "closest",
          "mapbox": {
           "style": "light"
          },
          "paper_bgcolor": "white",
          "plot_bgcolor": "#E5ECF6",
          "polar": {
           "angularaxis": {
            "gridcolor": "white",
            "linecolor": "white",
            "ticks": ""
           },
           "bgcolor": "#E5ECF6",
           "radialaxis": {
            "gridcolor": "white",
            "linecolor": "white",
            "ticks": ""
           }
          },
          "scene": {
           "xaxis": {
            "backgroundcolor": "#E5ECF6",
            "gridcolor": "white",
            "gridwidth": 2,
            "linecolor": "white",
            "showbackground": true,
            "ticks": "",
            "zerolinecolor": "white"
           },
           "yaxis": {
            "backgroundcolor": "#E5ECF6",
            "gridcolor": "white",
            "gridwidth": 2,
            "linecolor": "white",
            "showbackground": true,
            "ticks": "",
            "zerolinecolor": "white"
           },
           "zaxis": {
            "backgroundcolor": "#E5ECF6",
            "gridcolor": "white",
            "gridwidth": 2,
            "linecolor": "white",
            "showbackground": true,
            "ticks": "",
            "zerolinecolor": "white"
           }
          },
          "shapedefaults": {
           "line": {
            "color": "#2a3f5f"
           }
          },
          "ternary": {
           "aaxis": {
            "gridcolor": "white",
            "linecolor": "white",
            "ticks": ""
           },
           "baxis": {
            "gridcolor": "white",
            "linecolor": "white",
            "ticks": ""
           },
           "bgcolor": "#E5ECF6",
           "caxis": {
            "gridcolor": "white",
            "linecolor": "white",
            "ticks": ""
           }
          },
          "title": {
           "x": 0.05
          },
          "xaxis": {
           "automargin": true,
           "gridcolor": "white",
           "linecolor": "white",
           "ticks": "",
           "title": {
            "standoff": 15
           },
           "zerolinecolor": "white",
           "zerolinewidth": 2
          },
          "yaxis": {
           "automargin": true,
           "gridcolor": "white",
           "linecolor": "white",
           "ticks": "",
           "title": {
            "standoff": 15
           },
           "zerolinecolor": "white",
           "zerolinewidth": 2
          }
         }
        },
        "title": {
         "text": "Hourly Pedestrian Traffic by Sensor",
         "x": 0.5
        },
        "width": 1500,
        "xaxis": {
         "anchor": "y",
         "domain": [
          0,
          0.98
         ],
         "showgrid": true,
         "title": {}
        },
        "yaxis": {
         "anchor": "x",
         "domain": [
          0,
          1
         ],
         "matches": "y",
         "showgrid": false,
         "title": {},
         "zeroline": false
        }
       }
      },
      "text/html": [
       "<div>                            <div id=\"27a6e51a-5cdc-473b-9d71-c5283de25e67\" class=\"plotly-graph-div\" style=\"height:500px; width:1500px;\"></div>            <script type=\"text/javascript\">                require([\"plotly\"], function(Plotly) {                    window.PLOTLYENV=window.PLOTLYENV || {};                                    if (document.getElementById(\"27a6e51a-5cdc-473b-9d71-c5283de25e67\")) {                    Plotly.newPlot(                        \"27a6e51a-5cdc-473b-9d71-c5283de25e67\",                        [{\"hovertemplate\": \"Sensor_Name=Southern Cross Station<br>Date_Time=%{x}<br>Hourly_Counts=%{y}<extra></extra>\", \"legendgroup\": \"\", \"line\": {\"color\": \"#636efa\", \"dash\": \"solid\"}, \"mode\": \"lines\", \"name\": \"\", \"orientation\": \"v\", \"showlegend\": false, \"type\": \"scatter\", \"x\": [\"2019-03-01T00:00:00\", \"2019-03-01T01:00:00\", \"2019-03-01T02:00:00\", \"2019-03-01T03:00:00\", \"2019-03-01T04:00:00\", \"2019-03-01T05:00:00\", \"2019-03-01T06:00:00\", \"2019-03-01T07:00:00\", \"2019-03-01T08:00:00\", \"2019-03-01T09:00:00\", \"2019-03-01T10:00:00\", \"2019-03-01T11:00:00\", \"2019-03-01T12:00:00\", \"2019-03-01T13:00:00\", \"2019-03-01T14:00:00\", \"2019-03-01T15:00:00\", \"2019-03-01T16:00:00\", \"2019-03-01T17:00:00\", \"2019-03-01T18:00:00\", \"2019-03-01T19:00:00\", \"2019-03-01T20:00:00\", \"2019-03-01T21:00:00\", \"2019-03-01T22:00:00\", \"2019-03-01T23:00:00\", \"2019-03-02T00:00:00\", \"2019-03-02T01:00:00\", \"2019-03-02T02:00:00\", \"2019-03-02T03:00:00\", \"2019-03-02T04:00:00\", \"2019-03-02T05:00:00\", \"2019-03-02T06:00:00\", \"2019-03-02T07:00:00\", \"2019-03-02T08:00:00\", \"2019-03-02T09:00:00\", \"2019-03-02T10:00:00\", \"2019-03-02T11:00:00\", \"2019-03-02T12:00:00\", \"2019-03-02T13:00:00\", \"2019-03-02T14:00:00\", \"2019-03-02T15:00:00\", \"2019-03-02T16:00:00\", \"2019-03-02T17:00:00\", \"2019-03-02T18:00:00\", \"2019-03-02T19:00:00\", \"2019-03-02T20:00:00\", \"2019-03-02T21:00:00\", \"2019-03-02T22:00:00\", \"2019-03-02T23:00:00\", \"2019-03-03T00:00:00\", \"2019-03-03T01:00:00\", \"2019-03-03T02:00:00\", \"2019-03-03T03:00:00\", \"2019-03-03T04:00:00\", \"2019-03-03T05:00:00\", \"2019-03-03T06:00:00\", \"2019-03-03T07:00:00\", \"2019-03-03T08:00:00\", \"2019-03-03T09:00:00\", \"2019-03-03T10:00:00\", \"2019-03-03T11:00:00\", \"2019-03-03T12:00:00\", \"2019-03-03T13:00:00\", \"2019-03-03T14:00:00\", \"2019-03-03T15:00:00\", \"2019-03-03T16:00:00\", \"2019-03-03T17:00:00\", \"2019-03-03T18:00:00\", \"2019-03-03T19:00:00\", \"2019-03-03T20:00:00\", \"2019-03-03T21:00:00\", \"2019-03-03T22:00:00\", \"2019-03-03T23:00:00\", \"2019-03-04T00:00:00\", \"2019-03-04T01:00:00\", \"2019-03-04T02:00:00\", \"2019-03-04T03:00:00\", \"2019-03-04T04:00:00\", \"2019-03-04T05:00:00\", \"2019-03-04T06:00:00\", \"2019-03-04T07:00:00\", \"2019-03-04T08:00:00\", \"2019-03-04T09:00:00\", \"2019-03-04T10:00:00\", \"2019-03-04T11:00:00\", \"2019-03-04T12:00:00\", \"2019-03-04T13:00:00\", \"2019-03-04T14:00:00\", \"2019-03-04T15:00:00\", \"2019-03-04T16:00:00\", \"2019-03-04T17:00:00\", \"2019-03-04T18:00:00\", \"2019-03-04T19:00:00\", \"2019-03-04T20:00:00\", \"2019-03-04T21:00:00\", \"2019-03-04T22:00:00\", \"2019-03-04T23:00:00\", \"2019-03-05T00:00:00\", \"2019-03-05T01:00:00\", \"2019-03-05T02:00:00\", \"2019-03-05T03:00:00\", \"2019-03-05T04:00:00\", \"2019-03-05T05:00:00\", \"2019-03-05T06:00:00\", \"2019-03-05T07:00:00\", \"2019-03-05T08:00:00\", \"2019-03-05T09:00:00\", \"2019-03-05T10:00:00\", \"2019-03-05T11:00:00\", \"2019-03-05T12:00:00\", \"2019-03-05T13:00:00\", \"2019-03-05T14:00:00\", \"2019-03-05T15:00:00\", \"2019-03-05T16:00:00\", \"2019-03-05T17:00:00\", \"2019-03-05T18:00:00\", \"2019-03-05T19:00:00\", \"2019-03-05T20:00:00\", \"2019-03-05T21:00:00\", \"2019-03-05T22:00:00\", \"2019-03-05T23:00:00\", \"2019-03-06T00:00:00\", \"2019-03-06T01:00:00\", \"2019-03-06T02:00:00\", \"2019-03-06T03:00:00\", \"2019-03-06T04:00:00\", \"2019-03-06T05:00:00\", \"2019-03-06T06:00:00\", \"2019-03-06T07:00:00\", \"2019-03-06T08:00:00\", \"2019-03-06T09:00:00\", \"2019-03-06T10:00:00\", \"2019-03-06T11:00:00\", \"2019-03-06T12:00:00\", \"2019-03-06T13:00:00\", \"2019-03-06T14:00:00\", \"2019-03-06T15:00:00\", \"2019-03-06T16:00:00\", \"2019-03-06T17:00:00\", \"2019-03-06T18:00:00\", \"2019-03-06T19:00:00\", \"2019-03-06T20:00:00\", \"2019-03-06T21:00:00\", \"2019-03-06T22:00:00\", \"2019-03-06T23:00:00\", \"2019-03-07T00:00:00\", \"2019-03-07T01:00:00\", \"2019-03-07T02:00:00\", \"2019-03-07T03:00:00\", \"2019-03-07T04:00:00\", \"2019-03-07T05:00:00\", \"2019-03-07T06:00:00\", \"2019-03-07T07:00:00\", \"2019-03-07T08:00:00\", \"2019-03-07T09:00:00\", \"2019-03-07T10:00:00\", \"2019-03-07T11:00:00\", \"2019-03-07T12:00:00\", \"2019-03-07T13:00:00\", \"2019-03-07T14:00:00\", \"2019-03-07T15:00:00\", \"2019-03-07T16:00:00\", \"2019-03-07T17:00:00\", \"2019-03-07T18:00:00\", \"2019-03-07T19:00:00\", \"2019-03-07T20:00:00\", \"2019-03-07T21:00:00\", \"2019-03-07T22:00:00\", \"2019-03-07T23:00:00\", \"2019-03-08T00:00:00\", \"2019-03-08T01:00:00\", \"2019-03-08T02:00:00\", \"2019-03-08T03:00:00\", \"2019-03-08T04:00:00\", \"2019-03-08T05:00:00\", \"2019-03-08T06:00:00\", \"2019-03-08T07:00:00\", \"2019-03-08T08:00:00\", \"2019-03-08T09:00:00\", \"2019-03-08T10:00:00\", \"2019-03-08T11:00:00\", \"2019-03-08T12:00:00\", \"2019-03-08T13:00:00\", \"2019-03-08T14:00:00\", \"2019-03-08T15:00:00\", \"2019-03-08T16:00:00\", \"2019-03-08T17:00:00\", \"2019-03-08T18:00:00\", \"2019-03-08T19:00:00\", \"2019-03-08T20:00:00\", \"2019-03-08T21:00:00\", \"2019-03-08T22:00:00\", \"2019-03-08T23:00:00\", \"2019-03-09T00:00:00\", \"2019-03-09T01:00:00\", \"2019-03-09T02:00:00\", \"2019-03-09T03:00:00\", \"2019-03-09T04:00:00\", \"2019-03-09T05:00:00\", \"2019-03-09T06:00:00\", \"2019-03-09T07:00:00\", \"2019-03-09T08:00:00\", \"2019-03-09T09:00:00\", \"2019-03-09T10:00:00\", \"2019-03-09T11:00:00\", \"2019-03-09T12:00:00\", \"2019-03-09T13:00:00\", \"2019-03-09T14:00:00\", \"2019-03-09T15:00:00\", \"2019-03-09T16:00:00\", \"2019-03-09T17:00:00\", \"2019-03-09T18:00:00\", \"2019-03-09T19:00:00\", \"2019-03-09T20:00:00\", \"2019-03-09T21:00:00\", \"2019-03-09T22:00:00\", \"2019-03-09T23:00:00\", \"2019-03-10T00:00:00\", \"2019-03-10T01:00:00\", \"2019-03-10T02:00:00\", \"2019-03-10T03:00:00\", \"2019-03-10T04:00:00\", \"2019-03-10T05:00:00\", \"2019-03-10T06:00:00\", \"2019-03-10T07:00:00\", \"2019-03-10T08:00:00\", \"2019-03-10T09:00:00\", \"2019-03-10T10:00:00\", \"2019-03-10T11:00:00\", \"2019-03-10T12:00:00\", \"2019-03-10T13:00:00\", \"2019-03-10T14:00:00\", \"2019-03-10T15:00:00\", \"2019-03-10T16:00:00\", \"2019-03-10T17:00:00\", \"2019-03-10T18:00:00\", \"2019-03-10T19:00:00\", \"2019-03-10T20:00:00\", \"2019-03-10T21:00:00\", \"2019-03-10T22:00:00\", \"2019-03-10T23:00:00\", \"2019-03-11T00:00:00\", \"2019-03-11T01:00:00\", \"2019-03-11T02:00:00\", \"2019-03-11T03:00:00\", \"2019-03-11T04:00:00\", \"2019-03-11T05:00:00\", \"2019-03-11T06:00:00\", \"2019-03-11T07:00:00\", \"2019-03-11T08:00:00\", \"2019-03-11T09:00:00\", \"2019-03-11T10:00:00\", \"2019-03-11T11:00:00\", \"2019-03-11T12:00:00\", \"2019-03-11T13:00:00\", \"2019-03-11T14:00:00\", \"2019-03-11T15:00:00\", \"2019-03-11T16:00:00\", \"2019-03-11T17:00:00\", \"2019-03-11T18:00:00\", \"2019-03-11T19:00:00\", \"2019-03-11T20:00:00\", \"2019-03-11T21:00:00\", \"2019-03-11T22:00:00\", \"2019-03-11T23:00:00\", \"2019-03-12T00:00:00\", \"2019-03-12T01:00:00\", \"2019-03-12T02:00:00\", \"2019-03-12T03:00:00\", \"2019-03-12T04:00:00\", \"2019-03-12T05:00:00\", \"2019-03-12T06:00:00\", \"2019-03-12T07:00:00\", \"2019-03-12T08:00:00\", \"2019-03-12T09:00:00\", \"2019-03-12T10:00:00\", \"2019-03-12T11:00:00\", \"2019-03-12T12:00:00\", \"2019-03-12T13:00:00\", \"2019-03-12T14:00:00\", \"2019-03-12T15:00:00\", \"2019-03-12T16:00:00\", \"2019-03-12T17:00:00\", \"2019-03-12T18:00:00\", \"2019-03-12T19:00:00\", \"2019-03-12T20:00:00\", \"2019-03-12T21:00:00\", \"2019-03-12T22:00:00\", \"2019-03-12T23:00:00\", \"2019-03-13T00:00:00\", \"2019-03-13T01:00:00\", \"2019-03-13T02:00:00\", \"2019-03-13T03:00:00\", \"2019-03-13T04:00:00\", \"2019-03-13T05:00:00\", \"2019-03-13T06:00:00\", \"2019-03-13T07:00:00\", \"2019-03-13T08:00:00\", \"2019-03-13T09:00:00\", \"2019-03-13T10:00:00\", \"2019-03-13T11:00:00\", \"2019-03-13T12:00:00\", \"2019-03-13T13:00:00\", \"2019-03-13T14:00:00\", \"2019-03-13T15:00:00\", \"2019-03-13T16:00:00\", \"2019-03-13T17:00:00\", \"2019-03-13T18:00:00\", \"2019-03-13T19:00:00\", \"2019-03-13T20:00:00\", \"2019-03-13T21:00:00\", \"2019-03-13T22:00:00\", \"2019-03-13T23:00:00\", \"2019-03-14T00:00:00\", \"2019-03-14T01:00:00\", \"2019-03-14T02:00:00\", \"2019-03-14T03:00:00\", \"2019-03-14T04:00:00\", \"2019-03-14T05:00:00\", \"2019-03-14T06:00:00\", \"2019-03-14T07:00:00\", \"2019-03-14T08:00:00\", \"2019-03-14T09:00:00\", \"2019-03-14T10:00:00\", \"2019-03-14T11:00:00\", \"2019-03-14T12:00:00\", \"2019-03-14T13:00:00\", \"2019-03-14T14:00:00\", \"2019-03-14T15:00:00\", \"2019-03-14T16:00:00\", \"2019-03-14T17:00:00\", \"2019-03-14T18:00:00\", \"2019-03-14T19:00:00\", \"2019-03-14T20:00:00\", \"2019-03-14T21:00:00\", \"2019-03-14T22:00:00\", \"2019-03-14T23:00:00\", \"2019-03-15T00:00:00\", \"2019-03-15T01:00:00\", \"2019-03-15T02:00:00\", \"2019-03-15T03:00:00\", \"2019-03-15T04:00:00\", \"2019-03-15T05:00:00\", \"2019-03-15T06:00:00\", \"2019-03-15T07:00:00\", \"2019-03-15T08:00:00\", \"2019-03-15T09:00:00\", \"2019-03-15T10:00:00\", \"2019-03-15T11:00:00\", \"2019-03-15T12:00:00\", \"2019-03-15T13:00:00\", \"2019-03-15T14:00:00\", \"2019-03-15T15:00:00\", \"2019-03-15T16:00:00\", \"2019-03-15T17:00:00\", \"2019-03-15T18:00:00\", \"2019-03-15T19:00:00\", \"2019-03-15T20:00:00\", \"2019-03-15T21:00:00\", \"2019-03-15T22:00:00\", \"2019-03-15T23:00:00\", \"2019-03-16T00:00:00\", \"2019-03-16T01:00:00\", \"2019-03-16T02:00:00\", \"2019-03-16T03:00:00\", \"2019-03-16T04:00:00\", \"2019-03-16T05:00:00\", \"2019-03-16T06:00:00\", \"2019-03-16T07:00:00\", \"2019-03-16T08:00:00\", \"2019-03-16T09:00:00\", \"2019-03-16T10:00:00\", \"2019-03-16T11:00:00\", \"2019-03-16T12:00:00\", \"2019-03-16T13:00:00\", \"2019-03-16T14:00:00\", \"2019-03-16T15:00:00\", \"2019-03-16T16:00:00\", \"2019-03-16T17:00:00\", \"2019-03-16T18:00:00\", \"2019-03-16T19:00:00\", \"2019-03-16T20:00:00\", \"2019-03-16T21:00:00\", \"2019-03-16T22:00:00\", \"2019-03-16T23:00:00\", \"2019-03-17T00:00:00\", \"2019-03-17T01:00:00\", \"2019-03-17T02:00:00\", \"2019-03-17T03:00:00\", \"2019-03-17T04:00:00\", \"2019-03-17T05:00:00\", \"2019-03-17T06:00:00\", \"2019-03-17T07:00:00\", \"2019-03-17T08:00:00\", \"2019-03-17T09:00:00\", \"2019-03-17T10:00:00\", \"2019-03-17T11:00:00\", \"2019-03-17T12:00:00\", \"2019-03-17T13:00:00\", \"2019-03-17T14:00:00\", \"2019-03-17T15:00:00\", \"2019-03-17T16:00:00\", \"2019-03-17T17:00:00\", \"2019-03-17T18:00:00\", \"2019-03-17T19:00:00\", \"2019-03-17T20:00:00\", \"2019-03-17T21:00:00\", \"2019-03-17T22:00:00\", \"2019-03-17T23:00:00\", \"2019-03-18T00:00:00\", \"2019-03-18T01:00:00\", \"2019-03-18T02:00:00\", \"2019-03-18T03:00:00\", \"2019-03-18T04:00:00\", \"2019-03-18T05:00:00\", \"2019-03-18T06:00:00\", \"2019-03-18T07:00:00\", \"2019-03-18T08:00:00\", \"2019-03-18T09:00:00\", \"2019-03-18T10:00:00\", \"2019-03-18T11:00:00\", \"2019-03-18T12:00:00\", \"2019-03-18T13:00:00\", \"2019-03-18T14:00:00\", \"2019-03-18T15:00:00\", \"2019-03-18T16:00:00\", \"2019-03-18T17:00:00\", \"2019-03-18T18:00:00\", \"2019-03-18T19:00:00\", \"2019-03-18T20:00:00\", \"2019-03-18T21:00:00\", \"2019-03-18T22:00:00\", \"2019-03-18T23:00:00\", \"2019-03-19T00:00:00\", \"2019-03-19T01:00:00\", \"2019-03-19T02:00:00\", \"2019-03-19T03:00:00\", \"2019-03-19T04:00:00\", \"2019-03-19T05:00:00\", \"2019-03-19T06:00:00\", \"2019-03-19T07:00:00\", \"2019-03-19T08:00:00\", \"2019-03-19T09:00:00\", \"2019-03-19T10:00:00\", \"2019-03-19T11:00:00\", \"2019-03-19T12:00:00\", \"2019-03-19T13:00:00\", \"2019-03-19T14:00:00\", \"2019-03-19T15:00:00\", \"2019-03-19T16:00:00\", \"2019-03-19T17:00:00\", \"2019-03-19T18:00:00\", \"2019-03-19T19:00:00\", \"2019-03-19T20:00:00\", \"2019-03-19T21:00:00\", \"2019-03-19T22:00:00\", \"2019-03-19T23:00:00\", \"2019-03-20T00:00:00\", \"2019-03-20T01:00:00\", \"2019-03-20T02:00:00\", \"2019-03-20T03:00:00\", \"2019-03-20T04:00:00\", \"2019-03-20T05:00:00\", \"2019-03-20T06:00:00\", \"2019-03-20T07:00:00\", \"2019-03-20T08:00:00\", \"2019-03-20T09:00:00\", \"2019-03-20T10:00:00\", \"2019-03-20T11:00:00\", \"2019-03-20T12:00:00\", \"2019-03-20T13:00:00\", \"2019-03-20T14:00:00\", \"2019-03-20T15:00:00\", \"2019-03-20T16:00:00\", \"2019-03-20T17:00:00\", \"2019-03-20T18:00:00\", \"2019-03-20T19:00:00\", \"2019-03-20T20:00:00\", \"2019-03-20T21:00:00\", \"2019-03-20T22:00:00\", \"2019-03-20T23:00:00\", \"2019-03-21T00:00:00\", \"2019-03-21T01:00:00\", \"2019-03-21T02:00:00\", \"2019-03-21T03:00:00\", \"2019-03-21T04:00:00\", \"2019-03-21T05:00:00\", \"2019-03-21T06:00:00\", \"2019-03-21T07:00:00\", \"2019-03-21T08:00:00\", \"2019-03-21T09:00:00\", \"2019-03-21T10:00:00\", \"2019-03-21T11:00:00\", \"2019-03-21T12:00:00\", \"2019-03-21T13:00:00\", \"2019-03-21T14:00:00\", \"2019-03-21T15:00:00\", \"2019-03-21T16:00:00\", \"2019-03-21T17:00:00\", \"2019-03-21T18:00:00\", \"2019-03-21T19:00:00\", \"2019-03-21T20:00:00\", \"2019-03-21T21:00:00\", \"2019-03-21T22:00:00\", \"2019-03-21T23:00:00\", \"2019-03-22T00:00:00\", \"2019-03-22T01:00:00\", \"2019-03-22T02:00:00\", \"2019-03-22T03:00:00\", \"2019-03-22T04:00:00\", \"2019-03-22T05:00:00\", \"2019-03-22T06:00:00\", \"2019-03-22T07:00:00\", \"2019-03-22T08:00:00\", \"2019-03-22T09:00:00\", \"2019-03-22T10:00:00\", \"2019-03-22T11:00:00\", \"2019-03-22T12:00:00\", \"2019-03-22T13:00:00\", \"2019-03-22T14:00:00\", \"2019-03-22T15:00:00\", \"2019-03-22T16:00:00\", \"2019-03-22T17:00:00\", \"2019-03-22T18:00:00\", \"2019-03-22T19:00:00\", \"2019-03-22T20:00:00\", \"2019-03-22T21:00:00\", \"2019-03-22T22:00:00\", \"2019-03-22T23:00:00\", \"2019-03-23T00:00:00\", \"2019-03-23T01:00:00\", \"2019-03-23T02:00:00\", \"2019-03-23T03:00:00\", \"2019-03-23T04:00:00\", \"2019-03-23T05:00:00\", \"2019-03-23T06:00:00\", \"2019-03-23T07:00:00\", \"2019-03-23T08:00:00\", \"2019-03-23T09:00:00\", \"2019-03-23T10:00:00\", \"2019-03-23T11:00:00\", \"2019-03-23T12:00:00\", \"2019-03-23T13:00:00\", \"2019-03-23T14:00:00\", \"2019-03-23T15:00:00\", \"2019-03-23T16:00:00\", \"2019-03-23T17:00:00\", \"2019-03-23T18:00:00\", \"2019-03-23T19:00:00\", \"2019-03-23T20:00:00\", \"2019-03-23T21:00:00\", \"2019-03-23T22:00:00\", \"2019-03-23T23:00:00\", \"2019-03-24T00:00:00\", \"2019-03-24T01:00:00\", \"2019-03-24T02:00:00\", \"2019-03-24T03:00:00\", \"2019-03-24T04:00:00\", \"2019-03-24T05:00:00\", \"2019-03-24T06:00:00\", \"2019-03-24T07:00:00\", \"2019-03-24T08:00:00\", \"2019-03-24T09:00:00\", \"2019-03-24T10:00:00\", \"2019-03-24T11:00:00\", \"2019-03-24T12:00:00\", \"2019-03-24T13:00:00\", \"2019-03-24T14:00:00\", \"2019-03-24T15:00:00\", \"2019-03-24T16:00:00\", \"2019-03-24T17:00:00\", \"2019-03-24T18:00:00\", \"2019-03-24T19:00:00\", \"2019-03-24T20:00:00\", \"2019-03-24T21:00:00\", \"2019-03-24T22:00:00\", \"2019-03-24T23:00:00\", \"2019-03-25T00:00:00\", \"2019-03-25T01:00:00\", \"2019-03-25T02:00:00\", \"2019-03-25T03:00:00\", \"2019-03-25T04:00:00\", \"2019-03-25T05:00:00\", \"2019-03-25T06:00:00\", \"2019-03-25T07:00:00\", \"2019-03-25T08:00:00\", \"2019-03-25T09:00:00\", \"2019-03-25T10:00:00\", \"2019-03-25T11:00:00\", \"2019-03-25T12:00:00\", \"2019-03-25T13:00:00\", \"2019-03-25T14:00:00\", \"2019-03-25T15:00:00\", \"2019-03-25T16:00:00\", \"2019-03-25T17:00:00\", \"2019-03-25T18:00:00\", \"2019-03-25T19:00:00\", \"2019-03-25T20:00:00\", \"2019-03-25T21:00:00\", \"2019-03-25T22:00:00\", \"2019-03-25T23:00:00\", \"2019-03-26T00:00:00\", \"2019-03-26T01:00:00\", \"2019-03-26T02:00:00\", \"2019-03-26T03:00:00\", \"2019-03-26T04:00:00\", \"2019-03-26T05:00:00\", \"2019-03-26T06:00:00\", \"2019-03-26T07:00:00\", \"2019-03-26T08:00:00\", \"2019-03-26T09:00:00\", \"2019-03-26T10:00:00\", \"2019-03-26T11:00:00\", \"2019-03-26T12:00:00\", \"2019-03-26T13:00:00\", \"2019-03-26T14:00:00\", \"2019-03-26T15:00:00\", \"2019-03-26T16:00:00\", \"2019-03-26T17:00:00\", \"2019-03-26T18:00:00\", \"2019-03-26T19:00:00\", \"2019-03-26T20:00:00\", \"2019-03-26T21:00:00\", \"2019-03-26T22:00:00\", \"2019-03-26T23:00:00\", \"2019-03-27T00:00:00\", \"2019-03-27T01:00:00\", \"2019-03-27T02:00:00\", \"2019-03-27T03:00:00\", \"2019-03-27T04:00:00\", \"2019-03-27T05:00:00\", \"2019-03-27T06:00:00\", \"2019-03-27T07:00:00\", \"2019-03-27T08:00:00\", \"2019-03-27T09:00:00\", \"2019-03-27T10:00:00\", \"2019-03-27T11:00:00\", \"2019-03-27T12:00:00\", \"2019-03-27T13:00:00\", \"2019-03-27T14:00:00\", \"2019-03-27T15:00:00\", \"2019-03-27T16:00:00\", \"2019-03-27T17:00:00\", \"2019-03-27T18:00:00\", \"2019-03-27T19:00:00\", \"2019-03-27T20:00:00\", \"2019-03-27T21:00:00\", \"2019-03-27T22:00:00\", \"2019-03-27T23:00:00\", \"2019-03-28T00:00:00\", \"2019-03-28T01:00:00\", \"2019-03-28T02:00:00\", \"2019-03-28T03:00:00\", \"2019-03-28T04:00:00\", \"2019-03-28T05:00:00\", \"2019-03-28T06:00:00\", \"2019-03-28T07:00:00\", \"2019-03-28T08:00:00\", \"2019-03-28T09:00:00\", \"2019-03-28T10:00:00\", \"2019-03-28T11:00:00\", \"2019-03-28T12:00:00\", \"2019-03-28T13:00:00\", \"2019-03-28T14:00:00\", \"2019-03-28T15:00:00\", \"2019-03-28T16:00:00\", \"2019-03-28T17:00:00\", \"2019-03-28T18:00:00\", \"2019-03-28T19:00:00\", \"2019-03-28T20:00:00\", \"2019-03-28T21:00:00\", \"2019-03-28T22:00:00\", \"2019-03-28T23:00:00\", \"2019-03-29T00:00:00\", \"2019-03-29T01:00:00\", \"2019-03-29T02:00:00\", \"2019-03-29T03:00:00\", \"2019-03-29T04:00:00\", \"2019-03-29T05:00:00\", \"2019-03-29T06:00:00\", \"2019-03-29T07:00:00\", \"2019-03-29T08:00:00\", \"2019-03-29T09:00:00\", \"2019-03-29T10:00:00\", \"2019-03-29T11:00:00\", \"2019-03-29T12:00:00\", \"2019-03-29T13:00:00\", \"2019-03-29T14:00:00\", \"2019-03-29T15:00:00\", \"2019-03-29T16:00:00\", \"2019-03-29T17:00:00\", \"2019-03-29T18:00:00\", \"2019-03-29T19:00:00\", \"2019-03-29T20:00:00\", \"2019-03-29T21:00:00\", \"2019-03-29T22:00:00\", \"2019-03-29T23:00:00\", \"2019-03-30T00:00:00\", \"2019-03-30T01:00:00\", \"2019-03-30T02:00:00\", \"2019-03-30T03:00:00\", \"2019-03-30T04:00:00\", \"2019-03-30T05:00:00\", \"2019-03-30T06:00:00\", \"2019-03-30T07:00:00\", \"2019-03-30T08:00:00\", \"2019-03-30T09:00:00\", \"2019-03-30T10:00:00\", \"2019-03-30T11:00:00\", \"2019-03-30T12:00:00\", \"2019-03-30T13:00:00\", \"2019-03-30T14:00:00\", \"2019-03-30T15:00:00\", \"2019-03-30T16:00:00\", \"2019-03-30T17:00:00\", \"2019-03-30T18:00:00\", \"2019-03-30T19:00:00\", \"2019-03-30T20:00:00\", \"2019-03-30T21:00:00\", \"2019-03-30T22:00:00\", \"2019-03-30T23:00:00\", \"2019-03-31T00:00:00\", \"2019-03-31T01:00:00\", \"2019-03-31T02:00:00\", \"2019-03-31T03:00:00\", \"2019-03-31T04:00:00\", \"2019-03-31T05:00:00\", \"2019-03-31T06:00:00\", \"2019-03-31T07:00:00\", \"2019-03-31T08:00:00\", \"2019-03-31T09:00:00\", \"2019-03-31T10:00:00\", \"2019-03-31T11:00:00\", \"2019-03-31T12:00:00\", \"2019-03-31T13:00:00\", \"2019-03-31T14:00:00\", \"2019-03-31T15:00:00\", \"2019-03-31T16:00:00\", \"2019-03-31T17:00:00\", \"2019-03-31T18:00:00\", \"2019-03-31T19:00:00\", \"2019-03-31T20:00:00\", \"2019-03-31T21:00:00\", \"2019-03-31T22:00:00\", \"2019-03-31T23:00:00\"], \"xaxis\": \"x\", \"y\": [28, 19, 5, 8, 11, 134, 578, 2065, 4406, 2801, 958, 896, 1656, 1310, 991, 1365, 2663, 3197, 1353, 527, 290, 188, 157, 94, 41, 27, 19, 13, 10, 33, 61, 85, 137, 123, 144, 162, 135, 121, 110, 157, 144, 155, 170, 126, 104, 103, 80, 68, 38, 38, 36, 16, 8, 19, 43, 43, 86, 69, 84, 130, 92, 92, 94, 84, 132, 141, 106, 99, 76, 71, 41, 32, 14, 12, 4, 7, 5, 76, 475, 1813, 3442, 2175, 709, 622, 1368, 905, 765, 1152, 2246, 3079, 1489, 443, 236, 100, 94, 52, 12, 10, 11, 4, 11, 100, 631, 2189, 4290, 2612, 830, 726, 1483, 1160, 887, 1274, 2587, 3317, 1609, 551, 283, 135, 99, 70, 29, 2, 6, 8, 10, 98, 510, 1655, 3298, 2574, 966, 713, 1456, 1226, 964, 1301, 2482, 3546, 1817, 570, 295, 157, 107, 56, 34, 7, 5, 6, 11, 113, 568, 2152, 4273, 2731, 978, 814, 1698, 1500, 952, 1486, 2831, 4057, 1952, 611, 259, 163, 142, 64, 27, 26, 12, 7, 9, 121, 522, 1950, 4032, 2598, 1036, 860, 1701, 1553, 1092, 1430, 3042, 3312, 1419, 569, 293, 207, 157, 88, 27, 27, 31, 15, 15, 22, 39, 53, 104, 145, 140, 144, 167, 171, 129, 160, 143, 179, 256, 147, 168, 113, 115, 75, 52, 27, 38, 27, 8, 14, 34, 37, 88, 129, 132, 136, 154, 147, 121, 129, 173, 173, 168, 118, 100, 120, 95, 63, 41, 30, 16, 27, 16, 27, 52, 174, 286, 221, 207, 233, 200, 204, 161, 171, 283, 264, 284, 182, 101, 84, 94, 43, 24, 8, 6, 4, 12, 100, 595, 2290, 4681, 3009, 982, 719, 1565, 1354, 912, 1323, 2960, 4157, 1957, 643, 234, 103, 103, 45, 13, 25, 5, 4, 12, 122, 627, 2161, 4312, 2887, 910, 794, 1609, 1408, 881, 1272, 2842, 4052, 1928, 716, 271, 173, 126, 63, 17, 10, 9, 2, 8, 125, 641, 2401, 4491, 2789, 1124, 927, 1684, 1670, 985, 1436, 2595, 3899, 2061, 734, 315, 156, 125, 79, 44, 28, 11, 4, 9, 121, 613, 2244, 4025, 2958, 1024, 911, 1987, 1688, 1191, 1319, 2575, 3356, 1680, 648, 374, 261, 166, 129, 43, 26, 30, 26, 9, 34, 59, 86, 162, 210, 243, 271, 229, 217, 165, 182, 214, 222, 277, 322, 227, 174, 102, 64, 44, 44, 29, 21, 18, 17, 29, 62, 123, 161, 184, 186, 185, 171, 138, 130, 119, 138, 236, 205, 121, 80, 66, 61, 30, 13, 6, 8, 12, 106, 599, 2242, 4627, 3025, 962, 783, 1662, 1422, 865, 1288, 2952, 4027, 1917, 581, 269, 118, 110, 57, 26, 21, 11, 2, 4, 133, 609, 2464, 4765, 2864, 968, 875, 1696, 1392, 849, 1314, 2839, 4255, 1855, 584, 288, 164, 93, 62, 19, 15, 9, 0, 6, 128, 650, 2272, 4349, 2889, 1036, 880, 1795, 1485, 969, 1373, 3040, 4003, 1999, 632, 285, 213, 112, 54, 23, 10, 2, 2, 2, 120, 626, 2370, 4577, 2934, 1119, 798, 1648, 1503, 976, 1332, 3016, 4003, 2111, 668, 303, 180, 163, 74, 39, 15, 7, 11, 12, 98, 513, 2139, 3810, 3067, 1023, 918, 1824, 1517, 974, 1231, 2505, 3179, 1470, 604, 326, 209, 159, 145, 56, 34, 24, 22, 14, 23, 41, 57, 98, 134, 172, 186, 183, 154, 171, 158, 158, 213, 175, 130, 107, 64, 188, 61, 45, 37, 20, 24, 11, 11, 24, 58, 98, 113, 130, 153, 182, 150, 133, 111, 173, 125, 148, 82, 84, 76, 47, 28, 27, 7, 9, 3, 15, 103, 528, 2022, 3580, 2234, 845, 729, 1392, 1175, 714, 1050, 2241, 3176, 1627, 489, 197, 114, 86, 39, 16, 14, 4, 2, 3, 120, 584, 2252, 4615, 2758, 962, 753, 1655, 1389, 969, 1288, 2797, 3608, 1834, 618, 278, 125, 136, 36, 25, 14, 5, 3, 7, 103, 634, 2168, 4152, 2885, 1005, 860, 1626, 1446, 930, 1292, 2866, 3867, 1984, 624, 263, 171, 106, 71, 17, 15, 5, 5, 6, 112, 646, 2450, 3731, 3367, 1121, 954, 1847, 1484, 1001, 1530, 2902, 4112, 2018, 691, 333, 191, 200, 97, 27, 20, 8, 17, 7, 104, 578, 2094, 4314, 2792, 980, 887, 1919, 1627, 1046, 1473, 3209, 2822, 1271, 495, 270, 156, 141, 97, 37, 28, 14, 12, 15, 32, 70, 65, 99, 140, 160, 149, 188, 181, 221, 230, 175, 144, 150, 240, 102, 70, 56, 53, 34, 21, 27, 21, 21, 10, 28, 41, 90, 138, 134, 148, 180, 206, 168, 85, 192, 154, 159, 67, 55, 65, 44, 40], \"yaxis\": \"y\"}],                        {\"annotations\": [{\"font\": {}, \"showarrow\": false, \"text\": \"Southern Cross Station\", \"textangle\": 0, \"x\": 0.98, \"xanchor\": \"left\", \"xref\": \"paper\", \"y\": 0.5, \"yanchor\": \"middle\", \"yref\": \"paper\"}], \"font\": {\"size\": 18}, \"height\": 500, \"legend\": {\"tracegroupgap\": 0}, \"margin\": {\"r\": 170}, \"template\": {\"data\": {\"bar\": [{\"error_x\": {\"color\": \"#2a3f5f\"}, \"error_y\": {\"color\": \"#2a3f5f\"}, \"marker\": {\"line\": {\"color\": \"#E5ECF6\", \"width\": 0.5}}, \"type\": \"bar\"}], \"barpolar\": [{\"marker\": {\"line\": {\"color\": \"#E5ECF6\", \"width\": 0.5}}, \"type\": \"barpolar\"}], \"carpet\": [{\"aaxis\": {\"endlinecolor\": \"#2a3f5f\", \"gridcolor\": \"white\", \"linecolor\": \"white\", \"minorgridcolor\": \"white\", \"startlinecolor\": \"#2a3f5f\"}, \"baxis\": {\"endlinecolor\": \"#2a3f5f\", \"gridcolor\": \"white\", \"linecolor\": \"white\", \"minorgridcolor\": \"white\", \"startlinecolor\": \"#2a3f5f\"}, \"type\": \"carpet\"}], \"choropleth\": [{\"colorbar\": {\"outlinewidth\": 0, \"ticks\": \"\"}, \"type\": \"choropleth\"}], \"contour\": [{\"colorbar\": {\"outlinewidth\": 0, \"ticks\": \"\"}, \"colorscale\": [[0.0, \"#0d0887\"], [0.1111111111111111, \"#46039f\"], [0.2222222222222222, \"#7201a8\"], [0.3333333333333333, \"#9c179e\"], [0.4444444444444444, \"#bd3786\"], [0.5555555555555556, \"#d8576b\"], [0.6666666666666666, \"#ed7953\"], [0.7777777777777778, \"#fb9f3a\"], [0.8888888888888888, \"#fdca26\"], [1.0, \"#f0f921\"]], \"type\": \"contour\"}], \"contourcarpet\": [{\"colorbar\": {\"outlinewidth\": 0, \"ticks\": \"\"}, \"type\": \"contourcarpet\"}], \"heatmap\": [{\"colorbar\": {\"outlinewidth\": 0, \"ticks\": \"\"}, \"colorscale\": [[0.0, \"#0d0887\"], [0.1111111111111111, \"#46039f\"], [0.2222222222222222, \"#7201a8\"], [0.3333333333333333, \"#9c179e\"], [0.4444444444444444, \"#bd3786\"], [0.5555555555555556, \"#d8576b\"], [0.6666666666666666, \"#ed7953\"], [0.7777777777777778, \"#fb9f3a\"], [0.8888888888888888, \"#fdca26\"], [1.0, \"#f0f921\"]], \"type\": \"heatmap\"}], \"heatmapgl\": [{\"colorbar\": {\"outlinewidth\": 0, \"ticks\": \"\"}, \"colorscale\": [[0.0, \"#0d0887\"], [0.1111111111111111, \"#46039f\"], [0.2222222222222222, \"#7201a8\"], [0.3333333333333333, \"#9c179e\"], [0.4444444444444444, \"#bd3786\"], [0.5555555555555556, \"#d8576b\"], [0.6666666666666666, \"#ed7953\"], [0.7777777777777778, \"#fb9f3a\"], [0.8888888888888888, \"#fdca26\"], [1.0, \"#f0f921\"]], \"type\": \"heatmapgl\"}], \"histogram\": [{\"marker\": {\"colorbar\": {\"outlinewidth\": 0, \"ticks\": \"\"}}, \"type\": \"histogram\"}], \"histogram2d\": [{\"colorbar\": {\"outlinewidth\": 0, \"ticks\": \"\"}, \"colorscale\": [[0.0, \"#0d0887\"], [0.1111111111111111, \"#46039f\"], [0.2222222222222222, \"#7201a8\"], [0.3333333333333333, \"#9c179e\"], [0.4444444444444444, \"#bd3786\"], [0.5555555555555556, \"#d8576b\"], [0.6666666666666666, \"#ed7953\"], [0.7777777777777778, \"#fb9f3a\"], [0.8888888888888888, \"#fdca26\"], [1.0, \"#f0f921\"]], \"type\": \"histogram2d\"}], \"histogram2dcontour\": [{\"colorbar\": {\"outlinewidth\": 0, \"ticks\": \"\"}, \"colorscale\": [[0.0, \"#0d0887\"], [0.1111111111111111, \"#46039f\"], [0.2222222222222222, \"#7201a8\"], [0.3333333333333333, \"#9c179e\"], [0.4444444444444444, \"#bd3786\"], [0.5555555555555556, \"#d8576b\"], [0.6666666666666666, \"#ed7953\"], [0.7777777777777778, \"#fb9f3a\"], [0.8888888888888888, \"#fdca26\"], [1.0, \"#f0f921\"]], \"type\": \"histogram2dcontour\"}], \"mesh3d\": [{\"colorbar\": {\"outlinewidth\": 0, \"ticks\": \"\"}, \"type\": \"mesh3d\"}], \"parcoords\": [{\"line\": {\"colorbar\": {\"outlinewidth\": 0, \"ticks\": \"\"}}, \"type\": \"parcoords\"}], \"pie\": [{\"automargin\": true, \"type\": \"pie\"}], \"scatter\": [{\"marker\": {\"colorbar\": {\"outlinewidth\": 0, \"ticks\": \"\"}}, \"type\": \"scatter\"}], \"scatter3d\": [{\"line\": {\"colorbar\": {\"outlinewidth\": 0, \"ticks\": \"\"}}, \"marker\": {\"colorbar\": {\"outlinewidth\": 0, \"ticks\": \"\"}}, \"type\": \"scatter3d\"}], \"scattercarpet\": [{\"marker\": {\"colorbar\": {\"outlinewidth\": 0, \"ticks\": \"\"}}, \"type\": \"scattercarpet\"}], \"scattergeo\": [{\"marker\": {\"colorbar\": {\"outlinewidth\": 0, \"ticks\": \"\"}}, \"type\": \"scattergeo\"}], \"scattergl\": [{\"marker\": {\"colorbar\": {\"outlinewidth\": 0, \"ticks\": \"\"}}, \"type\": \"scattergl\"}], \"scattermapbox\": [{\"marker\": {\"colorbar\": {\"outlinewidth\": 0, \"ticks\": \"\"}}, \"type\": \"scattermapbox\"}], \"scatterpolar\": [{\"marker\": {\"colorbar\": {\"outlinewidth\": 0, \"ticks\": \"\"}}, \"type\": \"scatterpolar\"}], \"scatterpolargl\": [{\"marker\": {\"colorbar\": {\"outlinewidth\": 0, \"ticks\": \"\"}}, \"type\": \"scatterpolargl\"}], \"scatterternary\": [{\"marker\": {\"colorbar\": {\"outlinewidth\": 0, \"ticks\": \"\"}}, \"type\": \"scatterternary\"}], \"surface\": [{\"colorbar\": {\"outlinewidth\": 0, \"ticks\": \"\"}, \"colorscale\": [[0.0, \"#0d0887\"], [0.1111111111111111, \"#46039f\"], [0.2222222222222222, \"#7201a8\"], [0.3333333333333333, \"#9c179e\"], [0.4444444444444444, \"#bd3786\"], [0.5555555555555556, \"#d8576b\"], [0.6666666666666666, \"#ed7953\"], [0.7777777777777778, \"#fb9f3a\"], [0.8888888888888888, \"#fdca26\"], [1.0, \"#f0f921\"]], \"type\": \"surface\"}], \"table\": [{\"cells\": {\"fill\": {\"color\": \"#EBF0F8\"}, \"line\": {\"color\": \"white\"}}, \"header\": {\"fill\": {\"color\": \"#C8D4E3\"}, \"line\": {\"color\": \"white\"}}, \"type\": \"table\"}]}, \"layout\": {\"annotationdefaults\": {\"arrowcolor\": \"#2a3f5f\", \"arrowhead\": 0, \"arrowwidth\": 1}, \"coloraxis\": {\"colorbar\": {\"outlinewidth\": 0, \"ticks\": \"\"}}, \"colorscale\": {\"diverging\": [[0, \"#8e0152\"], [0.1, \"#c51b7d\"], [0.2, \"#de77ae\"], [0.3, \"#f1b6da\"], [0.4, \"#fde0ef\"], [0.5, \"#f7f7f7\"], [0.6, \"#e6f5d0\"], [0.7, \"#b8e186\"], [0.8, \"#7fbc41\"], [0.9, \"#4d9221\"], [1, \"#276419\"]], \"sequential\": [[0.0, \"#0d0887\"], [0.1111111111111111, \"#46039f\"], [0.2222222222222222, \"#7201a8\"], [0.3333333333333333, \"#9c179e\"], [0.4444444444444444, \"#bd3786\"], [0.5555555555555556, \"#d8576b\"], [0.6666666666666666, \"#ed7953\"], [0.7777777777777778, \"#fb9f3a\"], [0.8888888888888888, \"#fdca26\"], [1.0, \"#f0f921\"]], \"sequentialminus\": [[0.0, \"#0d0887\"], [0.1111111111111111, \"#46039f\"], [0.2222222222222222, \"#7201a8\"], [0.3333333333333333, \"#9c179e\"], [0.4444444444444444, \"#bd3786\"], [0.5555555555555556, \"#d8576b\"], [0.6666666666666666, \"#ed7953\"], [0.7777777777777778, \"#fb9f3a\"], [0.8888888888888888, \"#fdca26\"], [1.0, \"#f0f921\"]]}, \"colorway\": [\"#636efa\", \"#EF553B\", \"#00cc96\", \"#ab63fa\", \"#FFA15A\", \"#19d3f3\", \"#FF6692\", \"#B6E880\", \"#FF97FF\", \"#FECB52\"], \"font\": {\"color\": \"#2a3f5f\"}, \"geo\": {\"bgcolor\": \"white\", \"lakecolor\": \"white\", \"landcolor\": \"#E5ECF6\", \"showlakes\": true, \"showland\": true, \"subunitcolor\": \"white\"}, \"hoverlabel\": {\"align\": \"left\"}, \"hovermode\": \"closest\", \"mapbox\": {\"style\": \"light\"}, \"paper_bgcolor\": \"white\", \"plot_bgcolor\": \"#E5ECF6\", \"polar\": {\"angularaxis\": {\"gridcolor\": \"white\", \"linecolor\": \"white\", \"ticks\": \"\"}, \"bgcolor\": \"#E5ECF6\", \"radialaxis\": {\"gridcolor\": \"white\", \"linecolor\": \"white\", \"ticks\": \"\"}}, \"scene\": {\"xaxis\": {\"backgroundcolor\": \"#E5ECF6\", \"gridcolor\": \"white\", \"gridwidth\": 2, \"linecolor\": \"white\", \"showbackground\": true, \"ticks\": \"\", \"zerolinecolor\": \"white\"}, \"yaxis\": {\"backgroundcolor\": \"#E5ECF6\", \"gridcolor\": \"white\", \"gridwidth\": 2, \"linecolor\": \"white\", \"showbackground\": true, \"ticks\": \"\", \"zerolinecolor\": \"white\"}, \"zaxis\": {\"backgroundcolor\": \"#E5ECF6\", \"gridcolor\": \"white\", \"gridwidth\": 2, \"linecolor\": \"white\", \"showbackground\": true, \"ticks\": \"\", \"zerolinecolor\": \"white\"}}, \"shapedefaults\": {\"line\": {\"color\": \"#2a3f5f\"}}, \"ternary\": {\"aaxis\": {\"gridcolor\": \"white\", \"linecolor\": \"white\", \"ticks\": \"\"}, \"baxis\": {\"gridcolor\": \"white\", \"linecolor\": \"white\", \"ticks\": \"\"}, \"bgcolor\": \"#E5ECF6\", \"caxis\": {\"gridcolor\": \"white\", \"linecolor\": \"white\", \"ticks\": \"\"}}, \"title\": {\"x\": 0.05}, \"xaxis\": {\"automargin\": true, \"gridcolor\": \"white\", \"linecolor\": \"white\", \"ticks\": \"\", \"title\": {\"standoff\": 15}, \"zerolinecolor\": \"white\", \"zerolinewidth\": 2}, \"yaxis\": {\"automargin\": true, \"gridcolor\": \"white\", \"linecolor\": \"white\", \"ticks\": \"\", \"title\": {\"standoff\": 15}, \"zerolinecolor\": \"white\", \"zerolinewidth\": 2}}}, \"title\": {\"text\": \"Hourly Pedestrian Traffic by Sensor\", \"x\": 0.5}, \"width\": 1500, \"xaxis\": {\"anchor\": \"y\", \"domain\": [0.0, 0.98], \"showgrid\": true, \"title\": {}}, \"yaxis\": {\"anchor\": \"x\", \"domain\": [0.0, 1.0], \"matches\": \"y\", \"showgrid\": false, \"title\": {}, \"zeroline\": false}},                        {\"responsive\": true}                    ).then(function(){\n",
       "                            \n",
       "var gd = document.getElementById('27a6e51a-5cdc-473b-9d71-c5283de25e67');\n",
       "var x = new MutationObserver(function (mutations, observer) {{\n",
       "        var display = window.getComputedStyle(gd).display;\n",
       "        if (!display || display === 'none') {{\n",
       "            console.log([gd, 'removed!']);\n",
       "            Plotly.purge(gd);\n",
       "            observer.disconnect();\n",
       "        }}\n",
       "}});\n",
       "\n",
       "// Listen for the removal of the full notebook cells\n",
       "var notebookContainer = gd.closest('#notebook-container');\n",
       "if (notebookContainer) {{\n",
       "    x.observe(notebookContainer, {childList: true});\n",
       "}}\n",
       "\n",
       "// Listen for the clearing of the current output cell\n",
       "var outputEl = gd.closest('.output');\n",
       "if (outputEl) {{\n",
       "    x.observe(outputEl, {childList: true});\n",
       "}}\n",
       "\n",
       "                        })                };                });            </script>        </div>"
      ]
     },
     "metadata": {},
     "output_type": "display_data"
    }
   ],
   "source": [
    "plot_sensor_traffic(pedestrian_df)"
   ]
  },
  {
   "cell_type": "markdown",
   "metadata": {
    "slideshow": {
     "slide_type": "slide"
    }
   },
   "source": [
    "## Why visualise data?"
   ]
  },
  {
   "cell_type": "markdown",
   "metadata": {
    "slideshow": {
     "slide_type": "-"
    }
   },
   "source": [
    "_Summary statistics mislead_"
   ]
  },
  {
   "cell_type": "markdown",
   "metadata": {
    "slideshow": {
     "slide_type": "fragment"
    }
   },
   "source": [
    "* mean\n",
    "* median\n",
    "* standard deviation\n",
    "* correlations between variables"
   ]
  },
  {
   "cell_type": "code",
   "execution_count": 9,
   "metadata": {
    "scrolled": true,
    "slideshow": {
     "slide_type": "skip"
    }
   },
   "outputs": [],
   "source": [
    "def object_as_widget(obj):\n",
    "    out = Output()\n",
    "    with out:\n",
    "        display(obj)\n",
    "    return out\n",
    "\n",
    "\n",
    "def show_datasaurus(datasauraus_df, column):\n",
    "    if column == \"all\":\n",
    "        df = datasauraus_df\n",
    "    else:\n",
    "        df = datasauraus_df[datasauraus_df[\"dataset\"] == column]\n",
    "    stats_df = pd.DataFrame({\n",
    "        \"statistic\": [\"x_mean\", \"y_mean\", \"x_std\", \"y_std\", \"corr\"],\n",
    "        \"value\": [\n",
    "            df[\"x\"].mean(), df[\"y\"].mean(), df[\"x\"].std(), df[\"y\"].std(), df[\"x\"].corr(df[\"y\"])\n",
    "        ],\n",
    "    })\n",
    "    if column == \"all\":\n",
    "        fig = px.scatter(datasauraus_df, facet_col_wrap=5, facet_col=\"dataset\", x=\"x\", y=\"y\")\n",
    "        fig.for_each_annotation(lambda a: a.update(text=a.text.split(\"=\")[-1]))\n",
    "    else:\n",
    "        fig = px.scatter(df, x=\"x\", y=\"y\")\n",
    "    fig.update_layout(\n",
    "        margin={\"r\": 10, \"t\": 40, \"b\": 10},\n",
    "        font_size=18,\n",
    "        width=600,\n",
    "        height=500,\n",
    "    )\n",
    "    return HBox([object_as_widget(stats_df), go.FigureWidget(fig)])\n",
    "\n",
    "\n",
    "def make_datasaurus(path=\"data/DatasaurusDozen.tsv\"):\n",
    "    datasauraus_df = pd.read_csv(path, delimiter=\"\\t\")\n",
    "    columns = list(datasauraus_df[\"dataset\"].unique())\n",
    "    columns.append(\"all\")\n",
    "    widget = interact(show_datasaurus, datasauraus_df=fixed(datasauraus_df), column=columns)\n",
    "    return widget"
   ]
  },
  {
   "cell_type": "markdown",
   "metadata": {
    "slideshow": {
     "slide_type": "slide"
    }
   },
   "source": [
    "## The Datasaurus\n",
    "\n",
    "https://www.autodesk.com/research/publications/same-stats-different-graphs"
   ]
  },
  {
   "cell_type": "code",
   "execution_count": 10,
   "metadata": {
    "code_folding": [],
    "slideshow": {
     "slide_type": "fragment"
    }
   },
   "outputs": [
    {
     "data": {
      "application/vnd.jupyter.widget-view+json": {
       "model_id": "b5c4f0d7fe4949798b702674c46b3d76",
       "version_major": 2,
       "version_minor": 0
      },
      "text/plain": [
       "interactive(children=(Dropdown(description='column', options=('dino', 'away', 'h_lines', 'v_lines', 'x_shape',…"
      ]
     },
     "metadata": {},
     "output_type": "display_data"
    }
   ],
   "source": [
    "make_datasaurus();"
   ]
  },
  {
   "cell_type": "markdown",
   "metadata": {
    "slideshow": {
     "slide_type": "slide"
    }
   },
   "source": [
    "## Why visualise data?"
   ]
  },
  {
   "cell_type": "markdown",
   "metadata": {
    "slideshow": {
     "slide_type": "-"
    }
   },
   "source": [
    "_Human visual system is a powerful tool_"
   ]
  },
  {
   "cell_type": "markdown",
   "metadata": {
    "slideshow": {
     "slide_type": "slide"
    }
   },
   "source": [
    "<center>\n",
    "    <img src=\"/files/notebooks/img/horizon_plot.jpg\" style=\"height:80vh\"/>\n",
    "    <small><a href=\"https://twitter.com/xangregg/status/883763762381152256\">@xangregg</a></small>\n",
    "</center>"
   ]
  },
  {
   "cell_type": "markdown",
   "metadata": {
    "slideshow": {
     "slide_type": "slide"
    }
   },
   "source": [
    "## Why interactive visualisations?"
   ]
  },
  {
   "cell_type": "markdown",
   "metadata": {
    "slideshow": {
     "slide_type": "fragment"
    }
   },
   "source": [
    "* more ergonomic data analysis"
   ]
  },
  {
   "cell_type": "markdown",
   "metadata": {
    "slideshow": {
     "slide_type": "fragment"
    }
   },
   "source": [
    "* faster time to insights"
   ]
  },
  {
   "cell_type": "markdown",
   "metadata": {
    "slideshow": {
     "slide_type": "fragment"
    }
   },
   "source": [
    "* self-service insights (eg dashboards)"
   ]
  },
  {
   "cell_type": "markdown",
   "metadata": {
    "slideshow": {
     "slide_type": "fragment"
    }
   },
   "source": [
    "* agile prototypes"
   ]
  },
  {
   "cell_type": "markdown",
   "metadata": {
    "slideshow": {
     "slide_type": "slide"
    }
   },
   "source": [
    "## Why _interactive_ visualisations?"
   ]
  },
  {
   "cell_type": "code",
   "execution_count": 14,
   "metadata": {},
   "outputs": [
    {
     "data": {
      "application/vnd.plotly.v1+json": {
       "config": {
        "plotlyServerURL": "https://plot.ly"
       },
       "data": [
        {
         "hovertemplate": "Sensor_Name=Southern Cross Station<br>Date_Time=%{x}<br>Hourly_Counts=%{y}<extra></extra>",
         "legendgroup": "",
         "line": {
          "color": "#636efa",
          "dash": "solid"
         },
         "mode": "lines",
         "name": "",
         "orientation": "v",
         "showlegend": false,
         "type": "scatter",
         "x": [
          "2019-03-01T00:00:00",
          "2019-03-01T01:00:00",
          "2019-03-01T02:00:00",
          "2019-03-01T03:00:00",
          "2019-03-01T04:00:00",
          "2019-03-01T05:00:00",
          "2019-03-01T06:00:00",
          "2019-03-01T07:00:00",
          "2019-03-01T08:00:00",
          "2019-03-01T09:00:00",
          "2019-03-01T10:00:00",
          "2019-03-01T11:00:00",
          "2019-03-01T12:00:00",
          "2019-03-01T13:00:00",
          "2019-03-01T14:00:00",
          "2019-03-01T15:00:00",
          "2019-03-01T16:00:00",
          "2019-03-01T17:00:00",
          "2019-03-01T18:00:00",
          "2019-03-01T19:00:00",
          "2019-03-01T20:00:00",
          "2019-03-01T21:00:00",
          "2019-03-01T22:00:00",
          "2019-03-01T23:00:00",
          "2019-03-02T00:00:00",
          "2019-03-02T01:00:00",
          "2019-03-02T02:00:00",
          "2019-03-02T03:00:00",
          "2019-03-02T04:00:00",
          "2019-03-02T05:00:00",
          "2019-03-02T06:00:00",
          "2019-03-02T07:00:00",
          "2019-03-02T08:00:00",
          "2019-03-02T09:00:00",
          "2019-03-02T10:00:00",
          "2019-03-02T11:00:00",
          "2019-03-02T12:00:00",
          "2019-03-02T13:00:00",
          "2019-03-02T14:00:00",
          "2019-03-02T15:00:00",
          "2019-03-02T16:00:00",
          "2019-03-02T17:00:00",
          "2019-03-02T18:00:00",
          "2019-03-02T19:00:00",
          "2019-03-02T20:00:00",
          "2019-03-02T21:00:00",
          "2019-03-02T22:00:00",
          "2019-03-02T23:00:00",
          "2019-03-03T00:00:00",
          "2019-03-03T01:00:00",
          "2019-03-03T02:00:00",
          "2019-03-03T03:00:00",
          "2019-03-03T04:00:00",
          "2019-03-03T05:00:00",
          "2019-03-03T06:00:00",
          "2019-03-03T07:00:00",
          "2019-03-03T08:00:00",
          "2019-03-03T09:00:00",
          "2019-03-03T10:00:00",
          "2019-03-03T11:00:00",
          "2019-03-03T12:00:00",
          "2019-03-03T13:00:00",
          "2019-03-03T14:00:00",
          "2019-03-03T15:00:00",
          "2019-03-03T16:00:00",
          "2019-03-03T17:00:00",
          "2019-03-03T18:00:00",
          "2019-03-03T19:00:00",
          "2019-03-03T20:00:00",
          "2019-03-03T21:00:00",
          "2019-03-03T22:00:00",
          "2019-03-03T23:00:00",
          "2019-03-04T00:00:00",
          "2019-03-04T01:00:00",
          "2019-03-04T02:00:00",
          "2019-03-04T03:00:00",
          "2019-03-04T04:00:00",
          "2019-03-04T05:00:00",
          "2019-03-04T06:00:00",
          "2019-03-04T07:00:00",
          "2019-03-04T08:00:00",
          "2019-03-04T09:00:00",
          "2019-03-04T10:00:00",
          "2019-03-04T11:00:00",
          "2019-03-04T12:00:00",
          "2019-03-04T13:00:00",
          "2019-03-04T14:00:00",
          "2019-03-04T15:00:00",
          "2019-03-04T16:00:00",
          "2019-03-04T17:00:00",
          "2019-03-04T18:00:00",
          "2019-03-04T19:00:00",
          "2019-03-04T20:00:00",
          "2019-03-04T21:00:00",
          "2019-03-04T22:00:00",
          "2019-03-04T23:00:00",
          "2019-03-05T00:00:00",
          "2019-03-05T01:00:00",
          "2019-03-05T02:00:00",
          "2019-03-05T03:00:00",
          "2019-03-05T04:00:00",
          "2019-03-05T05:00:00",
          "2019-03-05T06:00:00",
          "2019-03-05T07:00:00",
          "2019-03-05T08:00:00",
          "2019-03-05T09:00:00",
          "2019-03-05T10:00:00",
          "2019-03-05T11:00:00",
          "2019-03-05T12:00:00",
          "2019-03-05T13:00:00",
          "2019-03-05T14:00:00",
          "2019-03-05T15:00:00",
          "2019-03-05T16:00:00",
          "2019-03-05T17:00:00",
          "2019-03-05T18:00:00",
          "2019-03-05T19:00:00",
          "2019-03-05T20:00:00",
          "2019-03-05T21:00:00",
          "2019-03-05T22:00:00",
          "2019-03-05T23:00:00",
          "2019-03-06T00:00:00",
          "2019-03-06T01:00:00",
          "2019-03-06T02:00:00",
          "2019-03-06T03:00:00",
          "2019-03-06T04:00:00",
          "2019-03-06T05:00:00",
          "2019-03-06T06:00:00",
          "2019-03-06T07:00:00",
          "2019-03-06T08:00:00",
          "2019-03-06T09:00:00",
          "2019-03-06T10:00:00",
          "2019-03-06T11:00:00",
          "2019-03-06T12:00:00",
          "2019-03-06T13:00:00",
          "2019-03-06T14:00:00",
          "2019-03-06T15:00:00",
          "2019-03-06T16:00:00",
          "2019-03-06T17:00:00",
          "2019-03-06T18:00:00",
          "2019-03-06T19:00:00",
          "2019-03-06T20:00:00",
          "2019-03-06T21:00:00",
          "2019-03-06T22:00:00",
          "2019-03-06T23:00:00",
          "2019-03-07T00:00:00",
          "2019-03-07T01:00:00",
          "2019-03-07T02:00:00",
          "2019-03-07T03:00:00",
          "2019-03-07T04:00:00",
          "2019-03-07T05:00:00",
          "2019-03-07T06:00:00",
          "2019-03-07T07:00:00",
          "2019-03-07T08:00:00",
          "2019-03-07T09:00:00",
          "2019-03-07T10:00:00",
          "2019-03-07T11:00:00",
          "2019-03-07T12:00:00",
          "2019-03-07T13:00:00",
          "2019-03-07T14:00:00",
          "2019-03-07T15:00:00",
          "2019-03-07T16:00:00",
          "2019-03-07T17:00:00",
          "2019-03-07T18:00:00",
          "2019-03-07T19:00:00",
          "2019-03-07T20:00:00",
          "2019-03-07T21:00:00",
          "2019-03-07T22:00:00",
          "2019-03-07T23:00:00",
          "2019-03-08T00:00:00",
          "2019-03-08T01:00:00",
          "2019-03-08T02:00:00",
          "2019-03-08T03:00:00",
          "2019-03-08T04:00:00",
          "2019-03-08T05:00:00",
          "2019-03-08T06:00:00",
          "2019-03-08T07:00:00",
          "2019-03-08T08:00:00",
          "2019-03-08T09:00:00",
          "2019-03-08T10:00:00",
          "2019-03-08T11:00:00",
          "2019-03-08T12:00:00",
          "2019-03-08T13:00:00",
          "2019-03-08T14:00:00",
          "2019-03-08T15:00:00",
          "2019-03-08T16:00:00",
          "2019-03-08T17:00:00",
          "2019-03-08T18:00:00",
          "2019-03-08T19:00:00",
          "2019-03-08T20:00:00",
          "2019-03-08T21:00:00",
          "2019-03-08T22:00:00",
          "2019-03-08T23:00:00",
          "2019-03-09T00:00:00",
          "2019-03-09T01:00:00",
          "2019-03-09T02:00:00",
          "2019-03-09T03:00:00",
          "2019-03-09T04:00:00",
          "2019-03-09T05:00:00",
          "2019-03-09T06:00:00",
          "2019-03-09T07:00:00",
          "2019-03-09T08:00:00",
          "2019-03-09T09:00:00",
          "2019-03-09T10:00:00",
          "2019-03-09T11:00:00",
          "2019-03-09T12:00:00",
          "2019-03-09T13:00:00",
          "2019-03-09T14:00:00",
          "2019-03-09T15:00:00",
          "2019-03-09T16:00:00",
          "2019-03-09T17:00:00",
          "2019-03-09T18:00:00",
          "2019-03-09T19:00:00",
          "2019-03-09T20:00:00",
          "2019-03-09T21:00:00",
          "2019-03-09T22:00:00",
          "2019-03-09T23:00:00",
          "2019-03-10T00:00:00",
          "2019-03-10T01:00:00",
          "2019-03-10T02:00:00",
          "2019-03-10T03:00:00",
          "2019-03-10T04:00:00",
          "2019-03-10T05:00:00",
          "2019-03-10T06:00:00",
          "2019-03-10T07:00:00",
          "2019-03-10T08:00:00",
          "2019-03-10T09:00:00",
          "2019-03-10T10:00:00",
          "2019-03-10T11:00:00",
          "2019-03-10T12:00:00",
          "2019-03-10T13:00:00",
          "2019-03-10T14:00:00",
          "2019-03-10T15:00:00",
          "2019-03-10T16:00:00",
          "2019-03-10T17:00:00",
          "2019-03-10T18:00:00",
          "2019-03-10T19:00:00",
          "2019-03-10T20:00:00",
          "2019-03-10T21:00:00",
          "2019-03-10T22:00:00",
          "2019-03-10T23:00:00",
          "2019-03-11T00:00:00",
          "2019-03-11T01:00:00",
          "2019-03-11T02:00:00",
          "2019-03-11T03:00:00",
          "2019-03-11T04:00:00",
          "2019-03-11T05:00:00",
          "2019-03-11T06:00:00",
          "2019-03-11T07:00:00",
          "2019-03-11T08:00:00",
          "2019-03-11T09:00:00",
          "2019-03-11T10:00:00",
          "2019-03-11T11:00:00",
          "2019-03-11T12:00:00",
          "2019-03-11T13:00:00",
          "2019-03-11T14:00:00",
          "2019-03-11T15:00:00",
          "2019-03-11T16:00:00",
          "2019-03-11T17:00:00",
          "2019-03-11T18:00:00",
          "2019-03-11T19:00:00",
          "2019-03-11T20:00:00",
          "2019-03-11T21:00:00",
          "2019-03-11T22:00:00",
          "2019-03-11T23:00:00",
          "2019-03-12T00:00:00",
          "2019-03-12T01:00:00",
          "2019-03-12T02:00:00",
          "2019-03-12T03:00:00",
          "2019-03-12T04:00:00",
          "2019-03-12T05:00:00",
          "2019-03-12T06:00:00",
          "2019-03-12T07:00:00",
          "2019-03-12T08:00:00",
          "2019-03-12T09:00:00",
          "2019-03-12T10:00:00",
          "2019-03-12T11:00:00",
          "2019-03-12T12:00:00",
          "2019-03-12T13:00:00",
          "2019-03-12T14:00:00",
          "2019-03-12T15:00:00",
          "2019-03-12T16:00:00",
          "2019-03-12T17:00:00",
          "2019-03-12T18:00:00",
          "2019-03-12T19:00:00",
          "2019-03-12T20:00:00",
          "2019-03-12T21:00:00",
          "2019-03-12T22:00:00",
          "2019-03-12T23:00:00",
          "2019-03-13T00:00:00",
          "2019-03-13T01:00:00",
          "2019-03-13T02:00:00",
          "2019-03-13T03:00:00",
          "2019-03-13T04:00:00",
          "2019-03-13T05:00:00",
          "2019-03-13T06:00:00",
          "2019-03-13T07:00:00",
          "2019-03-13T08:00:00",
          "2019-03-13T09:00:00",
          "2019-03-13T10:00:00",
          "2019-03-13T11:00:00",
          "2019-03-13T12:00:00",
          "2019-03-13T13:00:00",
          "2019-03-13T14:00:00",
          "2019-03-13T15:00:00",
          "2019-03-13T16:00:00",
          "2019-03-13T17:00:00",
          "2019-03-13T18:00:00",
          "2019-03-13T19:00:00",
          "2019-03-13T20:00:00",
          "2019-03-13T21:00:00",
          "2019-03-13T22:00:00",
          "2019-03-13T23:00:00",
          "2019-03-14T00:00:00",
          "2019-03-14T01:00:00",
          "2019-03-14T02:00:00",
          "2019-03-14T03:00:00",
          "2019-03-14T04:00:00",
          "2019-03-14T05:00:00",
          "2019-03-14T06:00:00",
          "2019-03-14T07:00:00",
          "2019-03-14T08:00:00",
          "2019-03-14T09:00:00",
          "2019-03-14T10:00:00",
          "2019-03-14T11:00:00",
          "2019-03-14T12:00:00",
          "2019-03-14T13:00:00",
          "2019-03-14T14:00:00",
          "2019-03-14T15:00:00",
          "2019-03-14T16:00:00",
          "2019-03-14T17:00:00",
          "2019-03-14T18:00:00",
          "2019-03-14T19:00:00",
          "2019-03-14T20:00:00",
          "2019-03-14T21:00:00",
          "2019-03-14T22:00:00",
          "2019-03-14T23:00:00",
          "2019-03-15T00:00:00",
          "2019-03-15T01:00:00",
          "2019-03-15T02:00:00",
          "2019-03-15T03:00:00",
          "2019-03-15T04:00:00",
          "2019-03-15T05:00:00",
          "2019-03-15T06:00:00",
          "2019-03-15T07:00:00",
          "2019-03-15T08:00:00",
          "2019-03-15T09:00:00",
          "2019-03-15T10:00:00",
          "2019-03-15T11:00:00",
          "2019-03-15T12:00:00",
          "2019-03-15T13:00:00",
          "2019-03-15T14:00:00",
          "2019-03-15T15:00:00",
          "2019-03-15T16:00:00",
          "2019-03-15T17:00:00",
          "2019-03-15T18:00:00",
          "2019-03-15T19:00:00",
          "2019-03-15T20:00:00",
          "2019-03-15T21:00:00",
          "2019-03-15T22:00:00",
          "2019-03-15T23:00:00",
          "2019-03-16T00:00:00",
          "2019-03-16T01:00:00",
          "2019-03-16T02:00:00",
          "2019-03-16T03:00:00",
          "2019-03-16T04:00:00",
          "2019-03-16T05:00:00",
          "2019-03-16T06:00:00",
          "2019-03-16T07:00:00",
          "2019-03-16T08:00:00",
          "2019-03-16T09:00:00",
          "2019-03-16T10:00:00",
          "2019-03-16T11:00:00",
          "2019-03-16T12:00:00",
          "2019-03-16T13:00:00",
          "2019-03-16T14:00:00",
          "2019-03-16T15:00:00",
          "2019-03-16T16:00:00",
          "2019-03-16T17:00:00",
          "2019-03-16T18:00:00",
          "2019-03-16T19:00:00",
          "2019-03-16T20:00:00",
          "2019-03-16T21:00:00",
          "2019-03-16T22:00:00",
          "2019-03-16T23:00:00",
          "2019-03-17T00:00:00",
          "2019-03-17T01:00:00",
          "2019-03-17T02:00:00",
          "2019-03-17T03:00:00",
          "2019-03-17T04:00:00",
          "2019-03-17T05:00:00",
          "2019-03-17T06:00:00",
          "2019-03-17T07:00:00",
          "2019-03-17T08:00:00",
          "2019-03-17T09:00:00",
          "2019-03-17T10:00:00",
          "2019-03-17T11:00:00",
          "2019-03-17T12:00:00",
          "2019-03-17T13:00:00",
          "2019-03-17T14:00:00",
          "2019-03-17T15:00:00",
          "2019-03-17T16:00:00",
          "2019-03-17T17:00:00",
          "2019-03-17T18:00:00",
          "2019-03-17T19:00:00",
          "2019-03-17T20:00:00",
          "2019-03-17T21:00:00",
          "2019-03-17T22:00:00",
          "2019-03-17T23:00:00",
          "2019-03-18T00:00:00",
          "2019-03-18T01:00:00",
          "2019-03-18T02:00:00",
          "2019-03-18T03:00:00",
          "2019-03-18T04:00:00",
          "2019-03-18T05:00:00",
          "2019-03-18T06:00:00",
          "2019-03-18T07:00:00",
          "2019-03-18T08:00:00",
          "2019-03-18T09:00:00",
          "2019-03-18T10:00:00",
          "2019-03-18T11:00:00",
          "2019-03-18T12:00:00",
          "2019-03-18T13:00:00",
          "2019-03-18T14:00:00",
          "2019-03-18T15:00:00",
          "2019-03-18T16:00:00",
          "2019-03-18T17:00:00",
          "2019-03-18T18:00:00",
          "2019-03-18T19:00:00",
          "2019-03-18T20:00:00",
          "2019-03-18T21:00:00",
          "2019-03-18T22:00:00",
          "2019-03-18T23:00:00",
          "2019-03-19T00:00:00",
          "2019-03-19T01:00:00",
          "2019-03-19T02:00:00",
          "2019-03-19T03:00:00",
          "2019-03-19T04:00:00",
          "2019-03-19T05:00:00",
          "2019-03-19T06:00:00",
          "2019-03-19T07:00:00",
          "2019-03-19T08:00:00",
          "2019-03-19T09:00:00",
          "2019-03-19T10:00:00",
          "2019-03-19T11:00:00",
          "2019-03-19T12:00:00",
          "2019-03-19T13:00:00",
          "2019-03-19T14:00:00",
          "2019-03-19T15:00:00",
          "2019-03-19T16:00:00",
          "2019-03-19T17:00:00",
          "2019-03-19T18:00:00",
          "2019-03-19T19:00:00",
          "2019-03-19T20:00:00",
          "2019-03-19T21:00:00",
          "2019-03-19T22:00:00",
          "2019-03-19T23:00:00",
          "2019-03-20T00:00:00",
          "2019-03-20T01:00:00",
          "2019-03-20T02:00:00",
          "2019-03-20T03:00:00",
          "2019-03-20T04:00:00",
          "2019-03-20T05:00:00",
          "2019-03-20T06:00:00",
          "2019-03-20T07:00:00",
          "2019-03-20T08:00:00",
          "2019-03-20T09:00:00",
          "2019-03-20T10:00:00",
          "2019-03-20T11:00:00",
          "2019-03-20T12:00:00",
          "2019-03-20T13:00:00",
          "2019-03-20T14:00:00",
          "2019-03-20T15:00:00",
          "2019-03-20T16:00:00",
          "2019-03-20T17:00:00",
          "2019-03-20T18:00:00",
          "2019-03-20T19:00:00",
          "2019-03-20T20:00:00",
          "2019-03-20T21:00:00",
          "2019-03-20T22:00:00",
          "2019-03-20T23:00:00",
          "2019-03-21T00:00:00",
          "2019-03-21T01:00:00",
          "2019-03-21T02:00:00",
          "2019-03-21T03:00:00",
          "2019-03-21T04:00:00",
          "2019-03-21T05:00:00",
          "2019-03-21T06:00:00",
          "2019-03-21T07:00:00",
          "2019-03-21T08:00:00",
          "2019-03-21T09:00:00",
          "2019-03-21T10:00:00",
          "2019-03-21T11:00:00",
          "2019-03-21T12:00:00",
          "2019-03-21T13:00:00",
          "2019-03-21T14:00:00",
          "2019-03-21T15:00:00",
          "2019-03-21T16:00:00",
          "2019-03-21T17:00:00",
          "2019-03-21T18:00:00",
          "2019-03-21T19:00:00",
          "2019-03-21T20:00:00",
          "2019-03-21T21:00:00",
          "2019-03-21T22:00:00",
          "2019-03-21T23:00:00",
          "2019-03-22T00:00:00",
          "2019-03-22T01:00:00",
          "2019-03-22T02:00:00",
          "2019-03-22T03:00:00",
          "2019-03-22T04:00:00",
          "2019-03-22T05:00:00",
          "2019-03-22T06:00:00",
          "2019-03-22T07:00:00",
          "2019-03-22T08:00:00",
          "2019-03-22T09:00:00",
          "2019-03-22T10:00:00",
          "2019-03-22T11:00:00",
          "2019-03-22T12:00:00",
          "2019-03-22T13:00:00",
          "2019-03-22T14:00:00",
          "2019-03-22T15:00:00",
          "2019-03-22T16:00:00",
          "2019-03-22T17:00:00",
          "2019-03-22T18:00:00",
          "2019-03-22T19:00:00",
          "2019-03-22T20:00:00",
          "2019-03-22T21:00:00",
          "2019-03-22T22:00:00",
          "2019-03-22T23:00:00",
          "2019-03-23T00:00:00",
          "2019-03-23T01:00:00",
          "2019-03-23T02:00:00",
          "2019-03-23T03:00:00",
          "2019-03-23T04:00:00",
          "2019-03-23T05:00:00",
          "2019-03-23T06:00:00",
          "2019-03-23T07:00:00",
          "2019-03-23T08:00:00",
          "2019-03-23T09:00:00",
          "2019-03-23T10:00:00",
          "2019-03-23T11:00:00",
          "2019-03-23T12:00:00",
          "2019-03-23T13:00:00",
          "2019-03-23T14:00:00",
          "2019-03-23T15:00:00",
          "2019-03-23T16:00:00",
          "2019-03-23T17:00:00",
          "2019-03-23T18:00:00",
          "2019-03-23T19:00:00",
          "2019-03-23T20:00:00",
          "2019-03-23T21:00:00",
          "2019-03-23T22:00:00",
          "2019-03-23T23:00:00",
          "2019-03-24T00:00:00",
          "2019-03-24T01:00:00",
          "2019-03-24T02:00:00",
          "2019-03-24T03:00:00",
          "2019-03-24T04:00:00",
          "2019-03-24T05:00:00",
          "2019-03-24T06:00:00",
          "2019-03-24T07:00:00",
          "2019-03-24T08:00:00",
          "2019-03-24T09:00:00",
          "2019-03-24T10:00:00",
          "2019-03-24T11:00:00",
          "2019-03-24T12:00:00",
          "2019-03-24T13:00:00",
          "2019-03-24T14:00:00",
          "2019-03-24T15:00:00",
          "2019-03-24T16:00:00",
          "2019-03-24T17:00:00",
          "2019-03-24T18:00:00",
          "2019-03-24T19:00:00",
          "2019-03-24T20:00:00",
          "2019-03-24T21:00:00",
          "2019-03-24T22:00:00",
          "2019-03-24T23:00:00",
          "2019-03-25T00:00:00",
          "2019-03-25T01:00:00",
          "2019-03-25T02:00:00",
          "2019-03-25T03:00:00",
          "2019-03-25T04:00:00",
          "2019-03-25T05:00:00",
          "2019-03-25T06:00:00",
          "2019-03-25T07:00:00",
          "2019-03-25T08:00:00",
          "2019-03-25T09:00:00",
          "2019-03-25T10:00:00",
          "2019-03-25T11:00:00",
          "2019-03-25T12:00:00",
          "2019-03-25T13:00:00",
          "2019-03-25T14:00:00",
          "2019-03-25T15:00:00",
          "2019-03-25T16:00:00",
          "2019-03-25T17:00:00",
          "2019-03-25T18:00:00",
          "2019-03-25T19:00:00",
          "2019-03-25T20:00:00",
          "2019-03-25T21:00:00",
          "2019-03-25T22:00:00",
          "2019-03-25T23:00:00",
          "2019-03-26T00:00:00",
          "2019-03-26T01:00:00",
          "2019-03-26T02:00:00",
          "2019-03-26T03:00:00",
          "2019-03-26T04:00:00",
          "2019-03-26T05:00:00",
          "2019-03-26T06:00:00",
          "2019-03-26T07:00:00",
          "2019-03-26T08:00:00",
          "2019-03-26T09:00:00",
          "2019-03-26T10:00:00",
          "2019-03-26T11:00:00",
          "2019-03-26T12:00:00",
          "2019-03-26T13:00:00",
          "2019-03-26T14:00:00",
          "2019-03-26T15:00:00",
          "2019-03-26T16:00:00",
          "2019-03-26T17:00:00",
          "2019-03-26T18:00:00",
          "2019-03-26T19:00:00",
          "2019-03-26T20:00:00",
          "2019-03-26T21:00:00",
          "2019-03-26T22:00:00",
          "2019-03-26T23:00:00",
          "2019-03-27T00:00:00",
          "2019-03-27T01:00:00",
          "2019-03-27T02:00:00",
          "2019-03-27T03:00:00",
          "2019-03-27T04:00:00",
          "2019-03-27T05:00:00",
          "2019-03-27T06:00:00",
          "2019-03-27T07:00:00",
          "2019-03-27T08:00:00",
          "2019-03-27T09:00:00",
          "2019-03-27T10:00:00",
          "2019-03-27T11:00:00",
          "2019-03-27T12:00:00",
          "2019-03-27T13:00:00",
          "2019-03-27T14:00:00",
          "2019-03-27T15:00:00",
          "2019-03-27T16:00:00",
          "2019-03-27T17:00:00",
          "2019-03-27T18:00:00",
          "2019-03-27T19:00:00",
          "2019-03-27T20:00:00",
          "2019-03-27T21:00:00",
          "2019-03-27T22:00:00",
          "2019-03-27T23:00:00",
          "2019-03-28T00:00:00",
          "2019-03-28T01:00:00",
          "2019-03-28T02:00:00",
          "2019-03-28T03:00:00",
          "2019-03-28T04:00:00",
          "2019-03-28T05:00:00",
          "2019-03-28T06:00:00",
          "2019-03-28T07:00:00",
          "2019-03-28T08:00:00",
          "2019-03-28T09:00:00",
          "2019-03-28T10:00:00",
          "2019-03-28T11:00:00",
          "2019-03-28T12:00:00",
          "2019-03-28T13:00:00",
          "2019-03-28T14:00:00",
          "2019-03-28T15:00:00",
          "2019-03-28T16:00:00",
          "2019-03-28T17:00:00",
          "2019-03-28T18:00:00",
          "2019-03-28T19:00:00",
          "2019-03-28T20:00:00",
          "2019-03-28T21:00:00",
          "2019-03-28T22:00:00",
          "2019-03-28T23:00:00",
          "2019-03-29T00:00:00",
          "2019-03-29T01:00:00",
          "2019-03-29T02:00:00",
          "2019-03-29T03:00:00",
          "2019-03-29T04:00:00",
          "2019-03-29T05:00:00",
          "2019-03-29T06:00:00",
          "2019-03-29T07:00:00",
          "2019-03-29T08:00:00",
          "2019-03-29T09:00:00",
          "2019-03-29T10:00:00",
          "2019-03-29T11:00:00",
          "2019-03-29T12:00:00",
          "2019-03-29T13:00:00",
          "2019-03-29T14:00:00",
          "2019-03-29T15:00:00",
          "2019-03-29T16:00:00",
          "2019-03-29T17:00:00",
          "2019-03-29T18:00:00",
          "2019-03-29T19:00:00",
          "2019-03-29T20:00:00",
          "2019-03-29T21:00:00",
          "2019-03-29T22:00:00",
          "2019-03-29T23:00:00",
          "2019-03-30T00:00:00",
          "2019-03-30T01:00:00",
          "2019-03-30T02:00:00",
          "2019-03-30T03:00:00",
          "2019-03-30T04:00:00",
          "2019-03-30T05:00:00",
          "2019-03-30T06:00:00",
          "2019-03-30T07:00:00",
          "2019-03-30T08:00:00",
          "2019-03-30T09:00:00",
          "2019-03-30T10:00:00",
          "2019-03-30T11:00:00",
          "2019-03-30T12:00:00",
          "2019-03-30T13:00:00",
          "2019-03-30T14:00:00",
          "2019-03-30T15:00:00",
          "2019-03-30T16:00:00",
          "2019-03-30T17:00:00",
          "2019-03-30T18:00:00",
          "2019-03-30T19:00:00",
          "2019-03-30T20:00:00",
          "2019-03-30T21:00:00",
          "2019-03-30T22:00:00",
          "2019-03-30T23:00:00",
          "2019-03-31T00:00:00",
          "2019-03-31T01:00:00",
          "2019-03-31T02:00:00",
          "2019-03-31T03:00:00",
          "2019-03-31T04:00:00",
          "2019-03-31T05:00:00",
          "2019-03-31T06:00:00",
          "2019-03-31T07:00:00",
          "2019-03-31T08:00:00",
          "2019-03-31T09:00:00",
          "2019-03-31T10:00:00",
          "2019-03-31T11:00:00",
          "2019-03-31T12:00:00",
          "2019-03-31T13:00:00",
          "2019-03-31T14:00:00",
          "2019-03-31T15:00:00",
          "2019-03-31T16:00:00",
          "2019-03-31T17:00:00",
          "2019-03-31T18:00:00",
          "2019-03-31T19:00:00",
          "2019-03-31T20:00:00",
          "2019-03-31T21:00:00",
          "2019-03-31T22:00:00",
          "2019-03-31T23:00:00"
         ],
         "xaxis": "x",
         "y": [
          28,
          19,
          5,
          8,
          11,
          134,
          578,
          2065,
          4406,
          2801,
          958,
          896,
          1656,
          1310,
          991,
          1365,
          2663,
          3197,
          1353,
          527,
          290,
          188,
          157,
          94,
          41,
          27,
          19,
          13,
          10,
          33,
          61,
          85,
          137,
          123,
          144,
          162,
          135,
          121,
          110,
          157,
          144,
          155,
          170,
          126,
          104,
          103,
          80,
          68,
          38,
          38,
          36,
          16,
          8,
          19,
          43,
          43,
          86,
          69,
          84,
          130,
          92,
          92,
          94,
          84,
          132,
          141,
          106,
          99,
          76,
          71,
          41,
          32,
          14,
          12,
          4,
          7,
          5,
          76,
          475,
          1813,
          3442,
          2175,
          709,
          622,
          1368,
          905,
          765,
          1152,
          2246,
          3079,
          1489,
          443,
          236,
          100,
          94,
          52,
          12,
          10,
          11,
          4,
          11,
          100,
          631,
          2189,
          4290,
          2612,
          830,
          726,
          1483,
          1160,
          887,
          1274,
          2587,
          3317,
          1609,
          551,
          283,
          135,
          99,
          70,
          29,
          2,
          6,
          8,
          10,
          98,
          510,
          1655,
          3298,
          2574,
          966,
          713,
          1456,
          1226,
          964,
          1301,
          2482,
          3546,
          1817,
          570,
          295,
          157,
          107,
          56,
          34,
          7,
          5,
          6,
          11,
          113,
          568,
          2152,
          4273,
          2731,
          978,
          814,
          1698,
          1500,
          952,
          1486,
          2831,
          4057,
          1952,
          611,
          259,
          163,
          142,
          64,
          27,
          26,
          12,
          7,
          9,
          121,
          522,
          1950,
          4032,
          2598,
          1036,
          860,
          1701,
          1553,
          1092,
          1430,
          3042,
          3312,
          1419,
          569,
          293,
          207,
          157,
          88,
          27,
          27,
          31,
          15,
          15,
          22,
          39,
          53,
          104,
          145,
          140,
          144,
          167,
          171,
          129,
          160,
          143,
          179,
          256,
          147,
          168,
          113,
          115,
          75,
          52,
          27,
          38,
          27,
          8,
          14,
          34,
          37,
          88,
          129,
          132,
          136,
          154,
          147,
          121,
          129,
          173,
          173,
          168,
          118,
          100,
          120,
          95,
          63,
          41,
          30,
          16,
          27,
          16,
          27,
          52,
          174,
          286,
          221,
          207,
          233,
          200,
          204,
          161,
          171,
          283,
          264,
          284,
          182,
          101,
          84,
          94,
          43,
          24,
          8,
          6,
          4,
          12,
          100,
          595,
          2290,
          4681,
          3009,
          982,
          719,
          1565,
          1354,
          912,
          1323,
          2960,
          4157,
          1957,
          643,
          234,
          103,
          103,
          45,
          13,
          25,
          5,
          4,
          12,
          122,
          627,
          2161,
          4312,
          2887,
          910,
          794,
          1609,
          1408,
          881,
          1272,
          2842,
          4052,
          1928,
          716,
          271,
          173,
          126,
          63,
          17,
          10,
          9,
          2,
          8,
          125,
          641,
          2401,
          4491,
          2789,
          1124,
          927,
          1684,
          1670,
          985,
          1436,
          2595,
          3899,
          2061,
          734,
          315,
          156,
          125,
          79,
          44,
          28,
          11,
          4,
          9,
          121,
          613,
          2244,
          4025,
          2958,
          1024,
          911,
          1987,
          1688,
          1191,
          1319,
          2575,
          3356,
          1680,
          648,
          374,
          261,
          166,
          129,
          43,
          26,
          30,
          26,
          9,
          34,
          59,
          86,
          162,
          210,
          243,
          271,
          229,
          217,
          165,
          182,
          214,
          222,
          277,
          322,
          227,
          174,
          102,
          64,
          44,
          44,
          29,
          21,
          18,
          17,
          29,
          62,
          123,
          161,
          184,
          186,
          185,
          171,
          138,
          130,
          119,
          138,
          236,
          205,
          121,
          80,
          66,
          61,
          30,
          13,
          6,
          8,
          12,
          106,
          599,
          2242,
          4627,
          3025,
          962,
          783,
          1662,
          1422,
          865,
          1288,
          2952,
          4027,
          1917,
          581,
          269,
          118,
          110,
          57,
          26,
          21,
          11,
          2,
          4,
          133,
          609,
          2464,
          4765,
          2864,
          968,
          875,
          1696,
          1392,
          849,
          1314,
          2839,
          4255,
          1855,
          584,
          288,
          164,
          93,
          62,
          19,
          15,
          9,
          0,
          6,
          128,
          650,
          2272,
          4349,
          2889,
          1036,
          880,
          1795,
          1485,
          969,
          1373,
          3040,
          4003,
          1999,
          632,
          285,
          213,
          112,
          54,
          23,
          10,
          2,
          2,
          2,
          120,
          626,
          2370,
          4577,
          2934,
          1119,
          798,
          1648,
          1503,
          976,
          1332,
          3016,
          4003,
          2111,
          668,
          303,
          180,
          163,
          74,
          39,
          15,
          7,
          11,
          12,
          98,
          513,
          2139,
          3810,
          3067,
          1023,
          918,
          1824,
          1517,
          974,
          1231,
          2505,
          3179,
          1470,
          604,
          326,
          209,
          159,
          145,
          56,
          34,
          24,
          22,
          14,
          23,
          41,
          57,
          98,
          134,
          172,
          186,
          183,
          154,
          171,
          158,
          158,
          213,
          175,
          130,
          107,
          64,
          188,
          61,
          45,
          37,
          20,
          24,
          11,
          11,
          24,
          58,
          98,
          113,
          130,
          153,
          182,
          150,
          133,
          111,
          173,
          125,
          148,
          82,
          84,
          76,
          47,
          28,
          27,
          7,
          9,
          3,
          15,
          103,
          528,
          2022,
          3580,
          2234,
          845,
          729,
          1392,
          1175,
          714,
          1050,
          2241,
          3176,
          1627,
          489,
          197,
          114,
          86,
          39,
          16,
          14,
          4,
          2,
          3,
          120,
          584,
          2252,
          4615,
          2758,
          962,
          753,
          1655,
          1389,
          969,
          1288,
          2797,
          3608,
          1834,
          618,
          278,
          125,
          136,
          36,
          25,
          14,
          5,
          3,
          7,
          103,
          634,
          2168,
          4152,
          2885,
          1005,
          860,
          1626,
          1446,
          930,
          1292,
          2866,
          3867,
          1984,
          624,
          263,
          171,
          106,
          71,
          17,
          15,
          5,
          5,
          6,
          112,
          646,
          2450,
          3731,
          3367,
          1121,
          954,
          1847,
          1484,
          1001,
          1530,
          2902,
          4112,
          2018,
          691,
          333,
          191,
          200,
          97,
          27,
          20,
          8,
          17,
          7,
          104,
          578,
          2094,
          4314,
          2792,
          980,
          887,
          1919,
          1627,
          1046,
          1473,
          3209,
          2822,
          1271,
          495,
          270,
          156,
          141,
          97,
          37,
          28,
          14,
          12,
          15,
          32,
          70,
          65,
          99,
          140,
          160,
          149,
          188,
          181,
          221,
          230,
          175,
          144,
          150,
          240,
          102,
          70,
          56,
          53,
          34,
          21,
          27,
          21,
          21,
          10,
          28,
          41,
          90,
          138,
          134,
          148,
          180,
          206,
          168,
          85,
          192,
          154,
          159,
          67,
          55,
          65,
          44,
          40
         ],
         "yaxis": "y"
        }
       ],
       "layout": {
        "annotations": [
         {
          "font": {},
          "showarrow": false,
          "text": "Southern Cross Station",
          "textangle": 0,
          "x": 0.98,
          "xanchor": "left",
          "xref": "paper",
          "y": 0.5,
          "yanchor": "middle",
          "yref": "paper"
         }
        ],
        "font": {
         "size": 18
        },
        "height": 500,
        "legend": {
         "tracegroupgap": 0
        },
        "margin": {
         "r": 170
        },
        "template": {
         "data": {
          "bar": [
           {
            "error_x": {
             "color": "#2a3f5f"
            },
            "error_y": {
             "color": "#2a3f5f"
            },
            "marker": {
             "line": {
              "color": "#E5ECF6",
              "width": 0.5
             }
            },
            "type": "bar"
           }
          ],
          "barpolar": [
           {
            "marker": {
             "line": {
              "color": "#E5ECF6",
              "width": 0.5
             }
            },
            "type": "barpolar"
           }
          ],
          "carpet": [
           {
            "aaxis": {
             "endlinecolor": "#2a3f5f",
             "gridcolor": "white",
             "linecolor": "white",
             "minorgridcolor": "white",
             "startlinecolor": "#2a3f5f"
            },
            "baxis": {
             "endlinecolor": "#2a3f5f",
             "gridcolor": "white",
             "linecolor": "white",
             "minorgridcolor": "white",
             "startlinecolor": "#2a3f5f"
            },
            "type": "carpet"
           }
          ],
          "choropleth": [
           {
            "colorbar": {
             "outlinewidth": 0,
             "ticks": ""
            },
            "type": "choropleth"
           }
          ],
          "contour": [
           {
            "colorbar": {
             "outlinewidth": 0,
             "ticks": ""
            },
            "colorscale": [
             [
              0,
              "#0d0887"
             ],
             [
              0.1111111111111111,
              "#46039f"
             ],
             [
              0.2222222222222222,
              "#7201a8"
             ],
             [
              0.3333333333333333,
              "#9c179e"
             ],
             [
              0.4444444444444444,
              "#bd3786"
             ],
             [
              0.5555555555555556,
              "#d8576b"
             ],
             [
              0.6666666666666666,
              "#ed7953"
             ],
             [
              0.7777777777777778,
              "#fb9f3a"
             ],
             [
              0.8888888888888888,
              "#fdca26"
             ],
             [
              1,
              "#f0f921"
             ]
            ],
            "type": "contour"
           }
          ],
          "contourcarpet": [
           {
            "colorbar": {
             "outlinewidth": 0,
             "ticks": ""
            },
            "type": "contourcarpet"
           }
          ],
          "heatmap": [
           {
            "colorbar": {
             "outlinewidth": 0,
             "ticks": ""
            },
            "colorscale": [
             [
              0,
              "#0d0887"
             ],
             [
              0.1111111111111111,
              "#46039f"
             ],
             [
              0.2222222222222222,
              "#7201a8"
             ],
             [
              0.3333333333333333,
              "#9c179e"
             ],
             [
              0.4444444444444444,
              "#bd3786"
             ],
             [
              0.5555555555555556,
              "#d8576b"
             ],
             [
              0.6666666666666666,
              "#ed7953"
             ],
             [
              0.7777777777777778,
              "#fb9f3a"
             ],
             [
              0.8888888888888888,
              "#fdca26"
             ],
             [
              1,
              "#f0f921"
             ]
            ],
            "type": "heatmap"
           }
          ],
          "heatmapgl": [
           {
            "colorbar": {
             "outlinewidth": 0,
             "ticks": ""
            },
            "colorscale": [
             [
              0,
              "#0d0887"
             ],
             [
              0.1111111111111111,
              "#46039f"
             ],
             [
              0.2222222222222222,
              "#7201a8"
             ],
             [
              0.3333333333333333,
              "#9c179e"
             ],
             [
              0.4444444444444444,
              "#bd3786"
             ],
             [
              0.5555555555555556,
              "#d8576b"
             ],
             [
              0.6666666666666666,
              "#ed7953"
             ],
             [
              0.7777777777777778,
              "#fb9f3a"
             ],
             [
              0.8888888888888888,
              "#fdca26"
             ],
             [
              1,
              "#f0f921"
             ]
            ],
            "type": "heatmapgl"
           }
          ],
          "histogram": [
           {
            "marker": {
             "colorbar": {
              "outlinewidth": 0,
              "ticks": ""
             }
            },
            "type": "histogram"
           }
          ],
          "histogram2d": [
           {
            "colorbar": {
             "outlinewidth": 0,
             "ticks": ""
            },
            "colorscale": [
             [
              0,
              "#0d0887"
             ],
             [
              0.1111111111111111,
              "#46039f"
             ],
             [
              0.2222222222222222,
              "#7201a8"
             ],
             [
              0.3333333333333333,
              "#9c179e"
             ],
             [
              0.4444444444444444,
              "#bd3786"
             ],
             [
              0.5555555555555556,
              "#d8576b"
             ],
             [
              0.6666666666666666,
              "#ed7953"
             ],
             [
              0.7777777777777778,
              "#fb9f3a"
             ],
             [
              0.8888888888888888,
              "#fdca26"
             ],
             [
              1,
              "#f0f921"
             ]
            ],
            "type": "histogram2d"
           }
          ],
          "histogram2dcontour": [
           {
            "colorbar": {
             "outlinewidth": 0,
             "ticks": ""
            },
            "colorscale": [
             [
              0,
              "#0d0887"
             ],
             [
              0.1111111111111111,
              "#46039f"
             ],
             [
              0.2222222222222222,
              "#7201a8"
             ],
             [
              0.3333333333333333,
              "#9c179e"
             ],
             [
              0.4444444444444444,
              "#bd3786"
             ],
             [
              0.5555555555555556,
              "#d8576b"
             ],
             [
              0.6666666666666666,
              "#ed7953"
             ],
             [
              0.7777777777777778,
              "#fb9f3a"
             ],
             [
              0.8888888888888888,
              "#fdca26"
             ],
             [
              1,
              "#f0f921"
             ]
            ],
            "type": "histogram2dcontour"
           }
          ],
          "mesh3d": [
           {
            "colorbar": {
             "outlinewidth": 0,
             "ticks": ""
            },
            "type": "mesh3d"
           }
          ],
          "parcoords": [
           {
            "line": {
             "colorbar": {
              "outlinewidth": 0,
              "ticks": ""
             }
            },
            "type": "parcoords"
           }
          ],
          "pie": [
           {
            "automargin": true,
            "type": "pie"
           }
          ],
          "scatter": [
           {
            "marker": {
             "colorbar": {
              "outlinewidth": 0,
              "ticks": ""
             }
            },
            "type": "scatter"
           }
          ],
          "scatter3d": [
           {
            "line": {
             "colorbar": {
              "outlinewidth": 0,
              "ticks": ""
             }
            },
            "marker": {
             "colorbar": {
              "outlinewidth": 0,
              "ticks": ""
             }
            },
            "type": "scatter3d"
           }
          ],
          "scattercarpet": [
           {
            "marker": {
             "colorbar": {
              "outlinewidth": 0,
              "ticks": ""
             }
            },
            "type": "scattercarpet"
           }
          ],
          "scattergeo": [
           {
            "marker": {
             "colorbar": {
              "outlinewidth": 0,
              "ticks": ""
             }
            },
            "type": "scattergeo"
           }
          ],
          "scattergl": [
           {
            "marker": {
             "colorbar": {
              "outlinewidth": 0,
              "ticks": ""
             }
            },
            "type": "scattergl"
           }
          ],
          "scattermapbox": [
           {
            "marker": {
             "colorbar": {
              "outlinewidth": 0,
              "ticks": ""
             }
            },
            "type": "scattermapbox"
           }
          ],
          "scatterpolar": [
           {
            "marker": {
             "colorbar": {
              "outlinewidth": 0,
              "ticks": ""
             }
            },
            "type": "scatterpolar"
           }
          ],
          "scatterpolargl": [
           {
            "marker": {
             "colorbar": {
              "outlinewidth": 0,
              "ticks": ""
             }
            },
            "type": "scatterpolargl"
           }
          ],
          "scatterternary": [
           {
            "marker": {
             "colorbar": {
              "outlinewidth": 0,
              "ticks": ""
             }
            },
            "type": "scatterternary"
           }
          ],
          "surface": [
           {
            "colorbar": {
             "outlinewidth": 0,
             "ticks": ""
            },
            "colorscale": [
             [
              0,
              "#0d0887"
             ],
             [
              0.1111111111111111,
              "#46039f"
             ],
             [
              0.2222222222222222,
              "#7201a8"
             ],
             [
              0.3333333333333333,
              "#9c179e"
             ],
             [
              0.4444444444444444,
              "#bd3786"
             ],
             [
              0.5555555555555556,
              "#d8576b"
             ],
             [
              0.6666666666666666,
              "#ed7953"
             ],
             [
              0.7777777777777778,
              "#fb9f3a"
             ],
             [
              0.8888888888888888,
              "#fdca26"
             ],
             [
              1,
              "#f0f921"
             ]
            ],
            "type": "surface"
           }
          ],
          "table": [
           {
            "cells": {
             "fill": {
              "color": "#EBF0F8"
             },
             "line": {
              "color": "white"
             }
            },
            "header": {
             "fill": {
              "color": "#C8D4E3"
             },
             "line": {
              "color": "white"
             }
            },
            "type": "table"
           }
          ]
         },
         "layout": {
          "annotationdefaults": {
           "arrowcolor": "#2a3f5f",
           "arrowhead": 0,
           "arrowwidth": 1
          },
          "coloraxis": {
           "colorbar": {
            "outlinewidth": 0,
            "ticks": ""
           }
          },
          "colorscale": {
           "diverging": [
            [
             0,
             "#8e0152"
            ],
            [
             0.1,
             "#c51b7d"
            ],
            [
             0.2,
             "#de77ae"
            ],
            [
             0.3,
             "#f1b6da"
            ],
            [
             0.4,
             "#fde0ef"
            ],
            [
             0.5,
             "#f7f7f7"
            ],
            [
             0.6,
             "#e6f5d0"
            ],
            [
             0.7,
             "#b8e186"
            ],
            [
             0.8,
             "#7fbc41"
            ],
            [
             0.9,
             "#4d9221"
            ],
            [
             1,
             "#276419"
            ]
           ],
           "sequential": [
            [
             0,
             "#0d0887"
            ],
            [
             0.1111111111111111,
             "#46039f"
            ],
            [
             0.2222222222222222,
             "#7201a8"
            ],
            [
             0.3333333333333333,
             "#9c179e"
            ],
            [
             0.4444444444444444,
             "#bd3786"
            ],
            [
             0.5555555555555556,
             "#d8576b"
            ],
            [
             0.6666666666666666,
             "#ed7953"
            ],
            [
             0.7777777777777778,
             "#fb9f3a"
            ],
            [
             0.8888888888888888,
             "#fdca26"
            ],
            [
             1,
             "#f0f921"
            ]
           ],
           "sequentialminus": [
            [
             0,
             "#0d0887"
            ],
            [
             0.1111111111111111,
             "#46039f"
            ],
            [
             0.2222222222222222,
             "#7201a8"
            ],
            [
             0.3333333333333333,
             "#9c179e"
            ],
            [
             0.4444444444444444,
             "#bd3786"
            ],
            [
             0.5555555555555556,
             "#d8576b"
            ],
            [
             0.6666666666666666,
             "#ed7953"
            ],
            [
             0.7777777777777778,
             "#fb9f3a"
            ],
            [
             0.8888888888888888,
             "#fdca26"
            ],
            [
             1,
             "#f0f921"
            ]
           ]
          },
          "colorway": [
           "#636efa",
           "#EF553B",
           "#00cc96",
           "#ab63fa",
           "#FFA15A",
           "#19d3f3",
           "#FF6692",
           "#B6E880",
           "#FF97FF",
           "#FECB52"
          ],
          "font": {
           "color": "#2a3f5f"
          },
          "geo": {
           "bgcolor": "white",
           "lakecolor": "white",
           "landcolor": "#E5ECF6",
           "showlakes": true,
           "showland": true,
           "subunitcolor": "white"
          },
          "hoverlabel": {
           "align": "left"
          },
          "hovermode": "closest",
          "mapbox": {
           "style": "light"
          },
          "paper_bgcolor": "white",
          "plot_bgcolor": "#E5ECF6",
          "polar": {
           "angularaxis": {
            "gridcolor": "white",
            "linecolor": "white",
            "ticks": ""
           },
           "bgcolor": "#E5ECF6",
           "radialaxis": {
            "gridcolor": "white",
            "linecolor": "white",
            "ticks": ""
           }
          },
          "scene": {
           "xaxis": {
            "backgroundcolor": "#E5ECF6",
            "gridcolor": "white",
            "gridwidth": 2,
            "linecolor": "white",
            "showbackground": true,
            "ticks": "",
            "zerolinecolor": "white"
           },
           "yaxis": {
            "backgroundcolor": "#E5ECF6",
            "gridcolor": "white",
            "gridwidth": 2,
            "linecolor": "white",
            "showbackground": true,
            "ticks": "",
            "zerolinecolor": "white"
           },
           "zaxis": {
            "backgroundcolor": "#E5ECF6",
            "gridcolor": "white",
            "gridwidth": 2,
            "linecolor": "white",
            "showbackground": true,
            "ticks": "",
            "zerolinecolor": "white"
           }
          },
          "shapedefaults": {
           "line": {
            "color": "#2a3f5f"
           }
          },
          "ternary": {
           "aaxis": {
            "gridcolor": "white",
            "linecolor": "white",
            "ticks": ""
           },
           "baxis": {
            "gridcolor": "white",
            "linecolor": "white",
            "ticks": ""
           },
           "bgcolor": "#E5ECF6",
           "caxis": {
            "gridcolor": "white",
            "linecolor": "white",
            "ticks": ""
           }
          },
          "title": {
           "x": 0.05
          },
          "xaxis": {
           "automargin": true,
           "gridcolor": "white",
           "linecolor": "white",
           "ticks": "",
           "title": {
            "standoff": 15
           },
           "zerolinecolor": "white",
           "zerolinewidth": 2
          },
          "yaxis": {
           "automargin": true,
           "gridcolor": "white",
           "linecolor": "white",
           "ticks": "",
           "title": {
            "standoff": 15
           },
           "zerolinecolor": "white",
           "zerolinewidth": 2
          }
         }
        },
        "title": {
         "text": "Hourly Pedestrian Traffic by Sensor",
         "x": 0.5
        },
        "width": 1500,
        "xaxis": {
         "anchor": "y",
         "domain": [
          0,
          0.98
         ],
         "showgrid": true,
         "title": {}
        },
        "yaxis": {
         "anchor": "x",
         "domain": [
          0,
          1
         ],
         "matches": "y",
         "showgrid": false,
         "title": {},
         "zeroline": false
        }
       }
      },
      "text/html": [
       "<div>                            <div id=\"fe0bae90-47e5-4d6c-8bf5-a93379e76b2a\" class=\"plotly-graph-div\" style=\"height:500px; width:1500px;\"></div>            <script type=\"text/javascript\">                require([\"plotly\"], function(Plotly) {                    window.PLOTLYENV=window.PLOTLYENV || {};                                    if (document.getElementById(\"fe0bae90-47e5-4d6c-8bf5-a93379e76b2a\")) {                    Plotly.newPlot(                        \"fe0bae90-47e5-4d6c-8bf5-a93379e76b2a\",                        [{\"hovertemplate\": \"Sensor_Name=Southern Cross Station<br>Date_Time=%{x}<br>Hourly_Counts=%{y}<extra></extra>\", \"legendgroup\": \"\", \"line\": {\"color\": \"#636efa\", \"dash\": \"solid\"}, \"mode\": \"lines\", \"name\": \"\", \"orientation\": \"v\", \"showlegend\": false, \"type\": \"scatter\", \"x\": [\"2019-03-01T00:00:00\", \"2019-03-01T01:00:00\", \"2019-03-01T02:00:00\", \"2019-03-01T03:00:00\", \"2019-03-01T04:00:00\", \"2019-03-01T05:00:00\", \"2019-03-01T06:00:00\", \"2019-03-01T07:00:00\", \"2019-03-01T08:00:00\", \"2019-03-01T09:00:00\", \"2019-03-01T10:00:00\", \"2019-03-01T11:00:00\", \"2019-03-01T12:00:00\", \"2019-03-01T13:00:00\", \"2019-03-01T14:00:00\", \"2019-03-01T15:00:00\", \"2019-03-01T16:00:00\", \"2019-03-01T17:00:00\", \"2019-03-01T18:00:00\", \"2019-03-01T19:00:00\", \"2019-03-01T20:00:00\", \"2019-03-01T21:00:00\", \"2019-03-01T22:00:00\", \"2019-03-01T23:00:00\", \"2019-03-02T00:00:00\", \"2019-03-02T01:00:00\", \"2019-03-02T02:00:00\", \"2019-03-02T03:00:00\", \"2019-03-02T04:00:00\", \"2019-03-02T05:00:00\", \"2019-03-02T06:00:00\", \"2019-03-02T07:00:00\", \"2019-03-02T08:00:00\", \"2019-03-02T09:00:00\", \"2019-03-02T10:00:00\", \"2019-03-02T11:00:00\", \"2019-03-02T12:00:00\", \"2019-03-02T13:00:00\", \"2019-03-02T14:00:00\", \"2019-03-02T15:00:00\", \"2019-03-02T16:00:00\", \"2019-03-02T17:00:00\", \"2019-03-02T18:00:00\", \"2019-03-02T19:00:00\", \"2019-03-02T20:00:00\", \"2019-03-02T21:00:00\", \"2019-03-02T22:00:00\", \"2019-03-02T23:00:00\", \"2019-03-03T00:00:00\", \"2019-03-03T01:00:00\", \"2019-03-03T02:00:00\", \"2019-03-03T03:00:00\", \"2019-03-03T04:00:00\", \"2019-03-03T05:00:00\", \"2019-03-03T06:00:00\", \"2019-03-03T07:00:00\", \"2019-03-03T08:00:00\", \"2019-03-03T09:00:00\", \"2019-03-03T10:00:00\", \"2019-03-03T11:00:00\", \"2019-03-03T12:00:00\", \"2019-03-03T13:00:00\", \"2019-03-03T14:00:00\", \"2019-03-03T15:00:00\", \"2019-03-03T16:00:00\", \"2019-03-03T17:00:00\", \"2019-03-03T18:00:00\", \"2019-03-03T19:00:00\", \"2019-03-03T20:00:00\", \"2019-03-03T21:00:00\", \"2019-03-03T22:00:00\", \"2019-03-03T23:00:00\", \"2019-03-04T00:00:00\", \"2019-03-04T01:00:00\", \"2019-03-04T02:00:00\", \"2019-03-04T03:00:00\", \"2019-03-04T04:00:00\", \"2019-03-04T05:00:00\", \"2019-03-04T06:00:00\", \"2019-03-04T07:00:00\", \"2019-03-04T08:00:00\", \"2019-03-04T09:00:00\", \"2019-03-04T10:00:00\", \"2019-03-04T11:00:00\", \"2019-03-04T12:00:00\", \"2019-03-04T13:00:00\", \"2019-03-04T14:00:00\", \"2019-03-04T15:00:00\", \"2019-03-04T16:00:00\", \"2019-03-04T17:00:00\", \"2019-03-04T18:00:00\", \"2019-03-04T19:00:00\", \"2019-03-04T20:00:00\", \"2019-03-04T21:00:00\", \"2019-03-04T22:00:00\", \"2019-03-04T23:00:00\", \"2019-03-05T00:00:00\", \"2019-03-05T01:00:00\", \"2019-03-05T02:00:00\", \"2019-03-05T03:00:00\", \"2019-03-05T04:00:00\", \"2019-03-05T05:00:00\", \"2019-03-05T06:00:00\", \"2019-03-05T07:00:00\", \"2019-03-05T08:00:00\", \"2019-03-05T09:00:00\", \"2019-03-05T10:00:00\", \"2019-03-05T11:00:00\", \"2019-03-05T12:00:00\", \"2019-03-05T13:00:00\", \"2019-03-05T14:00:00\", \"2019-03-05T15:00:00\", \"2019-03-05T16:00:00\", \"2019-03-05T17:00:00\", \"2019-03-05T18:00:00\", \"2019-03-05T19:00:00\", \"2019-03-05T20:00:00\", \"2019-03-05T21:00:00\", \"2019-03-05T22:00:00\", \"2019-03-05T23:00:00\", \"2019-03-06T00:00:00\", \"2019-03-06T01:00:00\", \"2019-03-06T02:00:00\", \"2019-03-06T03:00:00\", \"2019-03-06T04:00:00\", \"2019-03-06T05:00:00\", \"2019-03-06T06:00:00\", \"2019-03-06T07:00:00\", \"2019-03-06T08:00:00\", \"2019-03-06T09:00:00\", \"2019-03-06T10:00:00\", \"2019-03-06T11:00:00\", \"2019-03-06T12:00:00\", \"2019-03-06T13:00:00\", \"2019-03-06T14:00:00\", \"2019-03-06T15:00:00\", \"2019-03-06T16:00:00\", \"2019-03-06T17:00:00\", \"2019-03-06T18:00:00\", \"2019-03-06T19:00:00\", \"2019-03-06T20:00:00\", \"2019-03-06T21:00:00\", \"2019-03-06T22:00:00\", \"2019-03-06T23:00:00\", \"2019-03-07T00:00:00\", \"2019-03-07T01:00:00\", \"2019-03-07T02:00:00\", \"2019-03-07T03:00:00\", \"2019-03-07T04:00:00\", \"2019-03-07T05:00:00\", \"2019-03-07T06:00:00\", \"2019-03-07T07:00:00\", \"2019-03-07T08:00:00\", \"2019-03-07T09:00:00\", \"2019-03-07T10:00:00\", \"2019-03-07T11:00:00\", \"2019-03-07T12:00:00\", \"2019-03-07T13:00:00\", \"2019-03-07T14:00:00\", \"2019-03-07T15:00:00\", \"2019-03-07T16:00:00\", \"2019-03-07T17:00:00\", \"2019-03-07T18:00:00\", \"2019-03-07T19:00:00\", \"2019-03-07T20:00:00\", \"2019-03-07T21:00:00\", \"2019-03-07T22:00:00\", \"2019-03-07T23:00:00\", \"2019-03-08T00:00:00\", \"2019-03-08T01:00:00\", \"2019-03-08T02:00:00\", \"2019-03-08T03:00:00\", \"2019-03-08T04:00:00\", \"2019-03-08T05:00:00\", \"2019-03-08T06:00:00\", \"2019-03-08T07:00:00\", \"2019-03-08T08:00:00\", \"2019-03-08T09:00:00\", \"2019-03-08T10:00:00\", \"2019-03-08T11:00:00\", \"2019-03-08T12:00:00\", \"2019-03-08T13:00:00\", \"2019-03-08T14:00:00\", \"2019-03-08T15:00:00\", \"2019-03-08T16:00:00\", \"2019-03-08T17:00:00\", \"2019-03-08T18:00:00\", \"2019-03-08T19:00:00\", \"2019-03-08T20:00:00\", \"2019-03-08T21:00:00\", \"2019-03-08T22:00:00\", \"2019-03-08T23:00:00\", \"2019-03-09T00:00:00\", \"2019-03-09T01:00:00\", \"2019-03-09T02:00:00\", \"2019-03-09T03:00:00\", \"2019-03-09T04:00:00\", \"2019-03-09T05:00:00\", \"2019-03-09T06:00:00\", \"2019-03-09T07:00:00\", \"2019-03-09T08:00:00\", \"2019-03-09T09:00:00\", \"2019-03-09T10:00:00\", \"2019-03-09T11:00:00\", \"2019-03-09T12:00:00\", \"2019-03-09T13:00:00\", \"2019-03-09T14:00:00\", \"2019-03-09T15:00:00\", \"2019-03-09T16:00:00\", \"2019-03-09T17:00:00\", \"2019-03-09T18:00:00\", \"2019-03-09T19:00:00\", \"2019-03-09T20:00:00\", \"2019-03-09T21:00:00\", \"2019-03-09T22:00:00\", \"2019-03-09T23:00:00\", \"2019-03-10T00:00:00\", \"2019-03-10T01:00:00\", \"2019-03-10T02:00:00\", \"2019-03-10T03:00:00\", \"2019-03-10T04:00:00\", \"2019-03-10T05:00:00\", \"2019-03-10T06:00:00\", \"2019-03-10T07:00:00\", \"2019-03-10T08:00:00\", \"2019-03-10T09:00:00\", \"2019-03-10T10:00:00\", \"2019-03-10T11:00:00\", \"2019-03-10T12:00:00\", \"2019-03-10T13:00:00\", \"2019-03-10T14:00:00\", \"2019-03-10T15:00:00\", \"2019-03-10T16:00:00\", \"2019-03-10T17:00:00\", \"2019-03-10T18:00:00\", \"2019-03-10T19:00:00\", \"2019-03-10T20:00:00\", \"2019-03-10T21:00:00\", \"2019-03-10T22:00:00\", \"2019-03-10T23:00:00\", \"2019-03-11T00:00:00\", \"2019-03-11T01:00:00\", \"2019-03-11T02:00:00\", \"2019-03-11T03:00:00\", \"2019-03-11T04:00:00\", \"2019-03-11T05:00:00\", \"2019-03-11T06:00:00\", \"2019-03-11T07:00:00\", \"2019-03-11T08:00:00\", \"2019-03-11T09:00:00\", \"2019-03-11T10:00:00\", \"2019-03-11T11:00:00\", \"2019-03-11T12:00:00\", \"2019-03-11T13:00:00\", \"2019-03-11T14:00:00\", \"2019-03-11T15:00:00\", \"2019-03-11T16:00:00\", \"2019-03-11T17:00:00\", \"2019-03-11T18:00:00\", \"2019-03-11T19:00:00\", \"2019-03-11T20:00:00\", \"2019-03-11T21:00:00\", \"2019-03-11T22:00:00\", \"2019-03-11T23:00:00\", \"2019-03-12T00:00:00\", \"2019-03-12T01:00:00\", \"2019-03-12T02:00:00\", \"2019-03-12T03:00:00\", \"2019-03-12T04:00:00\", \"2019-03-12T05:00:00\", \"2019-03-12T06:00:00\", \"2019-03-12T07:00:00\", \"2019-03-12T08:00:00\", \"2019-03-12T09:00:00\", \"2019-03-12T10:00:00\", \"2019-03-12T11:00:00\", \"2019-03-12T12:00:00\", \"2019-03-12T13:00:00\", \"2019-03-12T14:00:00\", \"2019-03-12T15:00:00\", \"2019-03-12T16:00:00\", \"2019-03-12T17:00:00\", \"2019-03-12T18:00:00\", \"2019-03-12T19:00:00\", \"2019-03-12T20:00:00\", \"2019-03-12T21:00:00\", \"2019-03-12T22:00:00\", \"2019-03-12T23:00:00\", \"2019-03-13T00:00:00\", \"2019-03-13T01:00:00\", \"2019-03-13T02:00:00\", \"2019-03-13T03:00:00\", \"2019-03-13T04:00:00\", \"2019-03-13T05:00:00\", \"2019-03-13T06:00:00\", \"2019-03-13T07:00:00\", \"2019-03-13T08:00:00\", \"2019-03-13T09:00:00\", \"2019-03-13T10:00:00\", \"2019-03-13T11:00:00\", \"2019-03-13T12:00:00\", \"2019-03-13T13:00:00\", \"2019-03-13T14:00:00\", \"2019-03-13T15:00:00\", \"2019-03-13T16:00:00\", \"2019-03-13T17:00:00\", \"2019-03-13T18:00:00\", \"2019-03-13T19:00:00\", \"2019-03-13T20:00:00\", \"2019-03-13T21:00:00\", \"2019-03-13T22:00:00\", \"2019-03-13T23:00:00\", \"2019-03-14T00:00:00\", \"2019-03-14T01:00:00\", \"2019-03-14T02:00:00\", \"2019-03-14T03:00:00\", \"2019-03-14T04:00:00\", \"2019-03-14T05:00:00\", \"2019-03-14T06:00:00\", \"2019-03-14T07:00:00\", \"2019-03-14T08:00:00\", \"2019-03-14T09:00:00\", \"2019-03-14T10:00:00\", \"2019-03-14T11:00:00\", \"2019-03-14T12:00:00\", \"2019-03-14T13:00:00\", \"2019-03-14T14:00:00\", \"2019-03-14T15:00:00\", \"2019-03-14T16:00:00\", \"2019-03-14T17:00:00\", \"2019-03-14T18:00:00\", \"2019-03-14T19:00:00\", \"2019-03-14T20:00:00\", \"2019-03-14T21:00:00\", \"2019-03-14T22:00:00\", \"2019-03-14T23:00:00\", \"2019-03-15T00:00:00\", \"2019-03-15T01:00:00\", \"2019-03-15T02:00:00\", \"2019-03-15T03:00:00\", \"2019-03-15T04:00:00\", \"2019-03-15T05:00:00\", \"2019-03-15T06:00:00\", \"2019-03-15T07:00:00\", \"2019-03-15T08:00:00\", \"2019-03-15T09:00:00\", \"2019-03-15T10:00:00\", \"2019-03-15T11:00:00\", \"2019-03-15T12:00:00\", \"2019-03-15T13:00:00\", \"2019-03-15T14:00:00\", \"2019-03-15T15:00:00\", \"2019-03-15T16:00:00\", \"2019-03-15T17:00:00\", \"2019-03-15T18:00:00\", \"2019-03-15T19:00:00\", \"2019-03-15T20:00:00\", \"2019-03-15T21:00:00\", \"2019-03-15T22:00:00\", \"2019-03-15T23:00:00\", \"2019-03-16T00:00:00\", \"2019-03-16T01:00:00\", \"2019-03-16T02:00:00\", \"2019-03-16T03:00:00\", \"2019-03-16T04:00:00\", \"2019-03-16T05:00:00\", \"2019-03-16T06:00:00\", \"2019-03-16T07:00:00\", \"2019-03-16T08:00:00\", \"2019-03-16T09:00:00\", \"2019-03-16T10:00:00\", \"2019-03-16T11:00:00\", \"2019-03-16T12:00:00\", \"2019-03-16T13:00:00\", \"2019-03-16T14:00:00\", \"2019-03-16T15:00:00\", \"2019-03-16T16:00:00\", \"2019-03-16T17:00:00\", \"2019-03-16T18:00:00\", \"2019-03-16T19:00:00\", \"2019-03-16T20:00:00\", \"2019-03-16T21:00:00\", \"2019-03-16T22:00:00\", \"2019-03-16T23:00:00\", \"2019-03-17T00:00:00\", \"2019-03-17T01:00:00\", \"2019-03-17T02:00:00\", \"2019-03-17T03:00:00\", \"2019-03-17T04:00:00\", \"2019-03-17T05:00:00\", \"2019-03-17T06:00:00\", \"2019-03-17T07:00:00\", \"2019-03-17T08:00:00\", \"2019-03-17T09:00:00\", \"2019-03-17T10:00:00\", \"2019-03-17T11:00:00\", \"2019-03-17T12:00:00\", \"2019-03-17T13:00:00\", \"2019-03-17T14:00:00\", \"2019-03-17T15:00:00\", \"2019-03-17T16:00:00\", \"2019-03-17T17:00:00\", \"2019-03-17T18:00:00\", \"2019-03-17T19:00:00\", \"2019-03-17T20:00:00\", \"2019-03-17T21:00:00\", \"2019-03-17T22:00:00\", \"2019-03-17T23:00:00\", \"2019-03-18T00:00:00\", \"2019-03-18T01:00:00\", \"2019-03-18T02:00:00\", \"2019-03-18T03:00:00\", \"2019-03-18T04:00:00\", \"2019-03-18T05:00:00\", \"2019-03-18T06:00:00\", \"2019-03-18T07:00:00\", \"2019-03-18T08:00:00\", \"2019-03-18T09:00:00\", \"2019-03-18T10:00:00\", \"2019-03-18T11:00:00\", \"2019-03-18T12:00:00\", \"2019-03-18T13:00:00\", \"2019-03-18T14:00:00\", \"2019-03-18T15:00:00\", \"2019-03-18T16:00:00\", \"2019-03-18T17:00:00\", \"2019-03-18T18:00:00\", \"2019-03-18T19:00:00\", \"2019-03-18T20:00:00\", \"2019-03-18T21:00:00\", \"2019-03-18T22:00:00\", \"2019-03-18T23:00:00\", \"2019-03-19T00:00:00\", \"2019-03-19T01:00:00\", \"2019-03-19T02:00:00\", \"2019-03-19T03:00:00\", \"2019-03-19T04:00:00\", \"2019-03-19T05:00:00\", \"2019-03-19T06:00:00\", \"2019-03-19T07:00:00\", \"2019-03-19T08:00:00\", \"2019-03-19T09:00:00\", \"2019-03-19T10:00:00\", \"2019-03-19T11:00:00\", \"2019-03-19T12:00:00\", \"2019-03-19T13:00:00\", \"2019-03-19T14:00:00\", \"2019-03-19T15:00:00\", \"2019-03-19T16:00:00\", \"2019-03-19T17:00:00\", \"2019-03-19T18:00:00\", \"2019-03-19T19:00:00\", \"2019-03-19T20:00:00\", \"2019-03-19T21:00:00\", \"2019-03-19T22:00:00\", \"2019-03-19T23:00:00\", \"2019-03-20T00:00:00\", \"2019-03-20T01:00:00\", \"2019-03-20T02:00:00\", \"2019-03-20T03:00:00\", \"2019-03-20T04:00:00\", \"2019-03-20T05:00:00\", \"2019-03-20T06:00:00\", \"2019-03-20T07:00:00\", \"2019-03-20T08:00:00\", \"2019-03-20T09:00:00\", \"2019-03-20T10:00:00\", \"2019-03-20T11:00:00\", \"2019-03-20T12:00:00\", \"2019-03-20T13:00:00\", \"2019-03-20T14:00:00\", \"2019-03-20T15:00:00\", \"2019-03-20T16:00:00\", \"2019-03-20T17:00:00\", \"2019-03-20T18:00:00\", \"2019-03-20T19:00:00\", \"2019-03-20T20:00:00\", \"2019-03-20T21:00:00\", \"2019-03-20T22:00:00\", \"2019-03-20T23:00:00\", \"2019-03-21T00:00:00\", \"2019-03-21T01:00:00\", \"2019-03-21T02:00:00\", \"2019-03-21T03:00:00\", \"2019-03-21T04:00:00\", \"2019-03-21T05:00:00\", \"2019-03-21T06:00:00\", \"2019-03-21T07:00:00\", \"2019-03-21T08:00:00\", \"2019-03-21T09:00:00\", \"2019-03-21T10:00:00\", \"2019-03-21T11:00:00\", \"2019-03-21T12:00:00\", \"2019-03-21T13:00:00\", \"2019-03-21T14:00:00\", \"2019-03-21T15:00:00\", \"2019-03-21T16:00:00\", \"2019-03-21T17:00:00\", \"2019-03-21T18:00:00\", \"2019-03-21T19:00:00\", \"2019-03-21T20:00:00\", \"2019-03-21T21:00:00\", \"2019-03-21T22:00:00\", \"2019-03-21T23:00:00\", \"2019-03-22T00:00:00\", \"2019-03-22T01:00:00\", \"2019-03-22T02:00:00\", \"2019-03-22T03:00:00\", \"2019-03-22T04:00:00\", \"2019-03-22T05:00:00\", \"2019-03-22T06:00:00\", \"2019-03-22T07:00:00\", \"2019-03-22T08:00:00\", \"2019-03-22T09:00:00\", \"2019-03-22T10:00:00\", \"2019-03-22T11:00:00\", \"2019-03-22T12:00:00\", \"2019-03-22T13:00:00\", \"2019-03-22T14:00:00\", \"2019-03-22T15:00:00\", \"2019-03-22T16:00:00\", \"2019-03-22T17:00:00\", \"2019-03-22T18:00:00\", \"2019-03-22T19:00:00\", \"2019-03-22T20:00:00\", \"2019-03-22T21:00:00\", \"2019-03-22T22:00:00\", \"2019-03-22T23:00:00\", \"2019-03-23T00:00:00\", \"2019-03-23T01:00:00\", \"2019-03-23T02:00:00\", \"2019-03-23T03:00:00\", \"2019-03-23T04:00:00\", \"2019-03-23T05:00:00\", \"2019-03-23T06:00:00\", \"2019-03-23T07:00:00\", \"2019-03-23T08:00:00\", \"2019-03-23T09:00:00\", \"2019-03-23T10:00:00\", \"2019-03-23T11:00:00\", \"2019-03-23T12:00:00\", \"2019-03-23T13:00:00\", \"2019-03-23T14:00:00\", \"2019-03-23T15:00:00\", \"2019-03-23T16:00:00\", \"2019-03-23T17:00:00\", \"2019-03-23T18:00:00\", \"2019-03-23T19:00:00\", \"2019-03-23T20:00:00\", \"2019-03-23T21:00:00\", \"2019-03-23T22:00:00\", \"2019-03-23T23:00:00\", \"2019-03-24T00:00:00\", \"2019-03-24T01:00:00\", \"2019-03-24T02:00:00\", \"2019-03-24T03:00:00\", \"2019-03-24T04:00:00\", \"2019-03-24T05:00:00\", \"2019-03-24T06:00:00\", \"2019-03-24T07:00:00\", \"2019-03-24T08:00:00\", \"2019-03-24T09:00:00\", \"2019-03-24T10:00:00\", \"2019-03-24T11:00:00\", \"2019-03-24T12:00:00\", \"2019-03-24T13:00:00\", \"2019-03-24T14:00:00\", \"2019-03-24T15:00:00\", \"2019-03-24T16:00:00\", \"2019-03-24T17:00:00\", \"2019-03-24T18:00:00\", \"2019-03-24T19:00:00\", \"2019-03-24T20:00:00\", \"2019-03-24T21:00:00\", \"2019-03-24T22:00:00\", \"2019-03-24T23:00:00\", \"2019-03-25T00:00:00\", \"2019-03-25T01:00:00\", \"2019-03-25T02:00:00\", \"2019-03-25T03:00:00\", \"2019-03-25T04:00:00\", \"2019-03-25T05:00:00\", \"2019-03-25T06:00:00\", \"2019-03-25T07:00:00\", \"2019-03-25T08:00:00\", \"2019-03-25T09:00:00\", \"2019-03-25T10:00:00\", \"2019-03-25T11:00:00\", \"2019-03-25T12:00:00\", \"2019-03-25T13:00:00\", \"2019-03-25T14:00:00\", \"2019-03-25T15:00:00\", \"2019-03-25T16:00:00\", \"2019-03-25T17:00:00\", \"2019-03-25T18:00:00\", \"2019-03-25T19:00:00\", \"2019-03-25T20:00:00\", \"2019-03-25T21:00:00\", \"2019-03-25T22:00:00\", \"2019-03-25T23:00:00\", \"2019-03-26T00:00:00\", \"2019-03-26T01:00:00\", \"2019-03-26T02:00:00\", \"2019-03-26T03:00:00\", \"2019-03-26T04:00:00\", \"2019-03-26T05:00:00\", \"2019-03-26T06:00:00\", \"2019-03-26T07:00:00\", \"2019-03-26T08:00:00\", \"2019-03-26T09:00:00\", \"2019-03-26T10:00:00\", \"2019-03-26T11:00:00\", \"2019-03-26T12:00:00\", \"2019-03-26T13:00:00\", \"2019-03-26T14:00:00\", \"2019-03-26T15:00:00\", \"2019-03-26T16:00:00\", \"2019-03-26T17:00:00\", \"2019-03-26T18:00:00\", \"2019-03-26T19:00:00\", \"2019-03-26T20:00:00\", \"2019-03-26T21:00:00\", \"2019-03-26T22:00:00\", \"2019-03-26T23:00:00\", \"2019-03-27T00:00:00\", \"2019-03-27T01:00:00\", \"2019-03-27T02:00:00\", \"2019-03-27T03:00:00\", \"2019-03-27T04:00:00\", \"2019-03-27T05:00:00\", \"2019-03-27T06:00:00\", \"2019-03-27T07:00:00\", \"2019-03-27T08:00:00\", \"2019-03-27T09:00:00\", \"2019-03-27T10:00:00\", \"2019-03-27T11:00:00\", \"2019-03-27T12:00:00\", \"2019-03-27T13:00:00\", \"2019-03-27T14:00:00\", \"2019-03-27T15:00:00\", \"2019-03-27T16:00:00\", \"2019-03-27T17:00:00\", \"2019-03-27T18:00:00\", \"2019-03-27T19:00:00\", \"2019-03-27T20:00:00\", \"2019-03-27T21:00:00\", \"2019-03-27T22:00:00\", \"2019-03-27T23:00:00\", \"2019-03-28T00:00:00\", \"2019-03-28T01:00:00\", \"2019-03-28T02:00:00\", \"2019-03-28T03:00:00\", \"2019-03-28T04:00:00\", \"2019-03-28T05:00:00\", \"2019-03-28T06:00:00\", \"2019-03-28T07:00:00\", \"2019-03-28T08:00:00\", \"2019-03-28T09:00:00\", \"2019-03-28T10:00:00\", \"2019-03-28T11:00:00\", \"2019-03-28T12:00:00\", \"2019-03-28T13:00:00\", \"2019-03-28T14:00:00\", \"2019-03-28T15:00:00\", \"2019-03-28T16:00:00\", \"2019-03-28T17:00:00\", \"2019-03-28T18:00:00\", \"2019-03-28T19:00:00\", \"2019-03-28T20:00:00\", \"2019-03-28T21:00:00\", \"2019-03-28T22:00:00\", \"2019-03-28T23:00:00\", \"2019-03-29T00:00:00\", \"2019-03-29T01:00:00\", \"2019-03-29T02:00:00\", \"2019-03-29T03:00:00\", \"2019-03-29T04:00:00\", \"2019-03-29T05:00:00\", \"2019-03-29T06:00:00\", \"2019-03-29T07:00:00\", \"2019-03-29T08:00:00\", \"2019-03-29T09:00:00\", \"2019-03-29T10:00:00\", \"2019-03-29T11:00:00\", \"2019-03-29T12:00:00\", \"2019-03-29T13:00:00\", \"2019-03-29T14:00:00\", \"2019-03-29T15:00:00\", \"2019-03-29T16:00:00\", \"2019-03-29T17:00:00\", \"2019-03-29T18:00:00\", \"2019-03-29T19:00:00\", \"2019-03-29T20:00:00\", \"2019-03-29T21:00:00\", \"2019-03-29T22:00:00\", \"2019-03-29T23:00:00\", \"2019-03-30T00:00:00\", \"2019-03-30T01:00:00\", \"2019-03-30T02:00:00\", \"2019-03-30T03:00:00\", \"2019-03-30T04:00:00\", \"2019-03-30T05:00:00\", \"2019-03-30T06:00:00\", \"2019-03-30T07:00:00\", \"2019-03-30T08:00:00\", \"2019-03-30T09:00:00\", \"2019-03-30T10:00:00\", \"2019-03-30T11:00:00\", \"2019-03-30T12:00:00\", \"2019-03-30T13:00:00\", \"2019-03-30T14:00:00\", \"2019-03-30T15:00:00\", \"2019-03-30T16:00:00\", \"2019-03-30T17:00:00\", \"2019-03-30T18:00:00\", \"2019-03-30T19:00:00\", \"2019-03-30T20:00:00\", \"2019-03-30T21:00:00\", \"2019-03-30T22:00:00\", \"2019-03-30T23:00:00\", \"2019-03-31T00:00:00\", \"2019-03-31T01:00:00\", \"2019-03-31T02:00:00\", \"2019-03-31T03:00:00\", \"2019-03-31T04:00:00\", \"2019-03-31T05:00:00\", \"2019-03-31T06:00:00\", \"2019-03-31T07:00:00\", \"2019-03-31T08:00:00\", \"2019-03-31T09:00:00\", \"2019-03-31T10:00:00\", \"2019-03-31T11:00:00\", \"2019-03-31T12:00:00\", \"2019-03-31T13:00:00\", \"2019-03-31T14:00:00\", \"2019-03-31T15:00:00\", \"2019-03-31T16:00:00\", \"2019-03-31T17:00:00\", \"2019-03-31T18:00:00\", \"2019-03-31T19:00:00\", \"2019-03-31T20:00:00\", \"2019-03-31T21:00:00\", \"2019-03-31T22:00:00\", \"2019-03-31T23:00:00\"], \"xaxis\": \"x\", \"y\": [28, 19, 5, 8, 11, 134, 578, 2065, 4406, 2801, 958, 896, 1656, 1310, 991, 1365, 2663, 3197, 1353, 527, 290, 188, 157, 94, 41, 27, 19, 13, 10, 33, 61, 85, 137, 123, 144, 162, 135, 121, 110, 157, 144, 155, 170, 126, 104, 103, 80, 68, 38, 38, 36, 16, 8, 19, 43, 43, 86, 69, 84, 130, 92, 92, 94, 84, 132, 141, 106, 99, 76, 71, 41, 32, 14, 12, 4, 7, 5, 76, 475, 1813, 3442, 2175, 709, 622, 1368, 905, 765, 1152, 2246, 3079, 1489, 443, 236, 100, 94, 52, 12, 10, 11, 4, 11, 100, 631, 2189, 4290, 2612, 830, 726, 1483, 1160, 887, 1274, 2587, 3317, 1609, 551, 283, 135, 99, 70, 29, 2, 6, 8, 10, 98, 510, 1655, 3298, 2574, 966, 713, 1456, 1226, 964, 1301, 2482, 3546, 1817, 570, 295, 157, 107, 56, 34, 7, 5, 6, 11, 113, 568, 2152, 4273, 2731, 978, 814, 1698, 1500, 952, 1486, 2831, 4057, 1952, 611, 259, 163, 142, 64, 27, 26, 12, 7, 9, 121, 522, 1950, 4032, 2598, 1036, 860, 1701, 1553, 1092, 1430, 3042, 3312, 1419, 569, 293, 207, 157, 88, 27, 27, 31, 15, 15, 22, 39, 53, 104, 145, 140, 144, 167, 171, 129, 160, 143, 179, 256, 147, 168, 113, 115, 75, 52, 27, 38, 27, 8, 14, 34, 37, 88, 129, 132, 136, 154, 147, 121, 129, 173, 173, 168, 118, 100, 120, 95, 63, 41, 30, 16, 27, 16, 27, 52, 174, 286, 221, 207, 233, 200, 204, 161, 171, 283, 264, 284, 182, 101, 84, 94, 43, 24, 8, 6, 4, 12, 100, 595, 2290, 4681, 3009, 982, 719, 1565, 1354, 912, 1323, 2960, 4157, 1957, 643, 234, 103, 103, 45, 13, 25, 5, 4, 12, 122, 627, 2161, 4312, 2887, 910, 794, 1609, 1408, 881, 1272, 2842, 4052, 1928, 716, 271, 173, 126, 63, 17, 10, 9, 2, 8, 125, 641, 2401, 4491, 2789, 1124, 927, 1684, 1670, 985, 1436, 2595, 3899, 2061, 734, 315, 156, 125, 79, 44, 28, 11, 4, 9, 121, 613, 2244, 4025, 2958, 1024, 911, 1987, 1688, 1191, 1319, 2575, 3356, 1680, 648, 374, 261, 166, 129, 43, 26, 30, 26, 9, 34, 59, 86, 162, 210, 243, 271, 229, 217, 165, 182, 214, 222, 277, 322, 227, 174, 102, 64, 44, 44, 29, 21, 18, 17, 29, 62, 123, 161, 184, 186, 185, 171, 138, 130, 119, 138, 236, 205, 121, 80, 66, 61, 30, 13, 6, 8, 12, 106, 599, 2242, 4627, 3025, 962, 783, 1662, 1422, 865, 1288, 2952, 4027, 1917, 581, 269, 118, 110, 57, 26, 21, 11, 2, 4, 133, 609, 2464, 4765, 2864, 968, 875, 1696, 1392, 849, 1314, 2839, 4255, 1855, 584, 288, 164, 93, 62, 19, 15, 9, 0, 6, 128, 650, 2272, 4349, 2889, 1036, 880, 1795, 1485, 969, 1373, 3040, 4003, 1999, 632, 285, 213, 112, 54, 23, 10, 2, 2, 2, 120, 626, 2370, 4577, 2934, 1119, 798, 1648, 1503, 976, 1332, 3016, 4003, 2111, 668, 303, 180, 163, 74, 39, 15, 7, 11, 12, 98, 513, 2139, 3810, 3067, 1023, 918, 1824, 1517, 974, 1231, 2505, 3179, 1470, 604, 326, 209, 159, 145, 56, 34, 24, 22, 14, 23, 41, 57, 98, 134, 172, 186, 183, 154, 171, 158, 158, 213, 175, 130, 107, 64, 188, 61, 45, 37, 20, 24, 11, 11, 24, 58, 98, 113, 130, 153, 182, 150, 133, 111, 173, 125, 148, 82, 84, 76, 47, 28, 27, 7, 9, 3, 15, 103, 528, 2022, 3580, 2234, 845, 729, 1392, 1175, 714, 1050, 2241, 3176, 1627, 489, 197, 114, 86, 39, 16, 14, 4, 2, 3, 120, 584, 2252, 4615, 2758, 962, 753, 1655, 1389, 969, 1288, 2797, 3608, 1834, 618, 278, 125, 136, 36, 25, 14, 5, 3, 7, 103, 634, 2168, 4152, 2885, 1005, 860, 1626, 1446, 930, 1292, 2866, 3867, 1984, 624, 263, 171, 106, 71, 17, 15, 5, 5, 6, 112, 646, 2450, 3731, 3367, 1121, 954, 1847, 1484, 1001, 1530, 2902, 4112, 2018, 691, 333, 191, 200, 97, 27, 20, 8, 17, 7, 104, 578, 2094, 4314, 2792, 980, 887, 1919, 1627, 1046, 1473, 3209, 2822, 1271, 495, 270, 156, 141, 97, 37, 28, 14, 12, 15, 32, 70, 65, 99, 140, 160, 149, 188, 181, 221, 230, 175, 144, 150, 240, 102, 70, 56, 53, 34, 21, 27, 21, 21, 10, 28, 41, 90, 138, 134, 148, 180, 206, 168, 85, 192, 154, 159, 67, 55, 65, 44, 40], \"yaxis\": \"y\"}],                        {\"annotations\": [{\"font\": {}, \"showarrow\": false, \"text\": \"Southern Cross Station\", \"textangle\": 0, \"x\": 0.98, \"xanchor\": \"left\", \"xref\": \"paper\", \"y\": 0.5, \"yanchor\": \"middle\", \"yref\": \"paper\"}], \"font\": {\"size\": 18}, \"height\": 500, \"legend\": {\"tracegroupgap\": 0}, \"margin\": {\"r\": 170}, \"template\": {\"data\": {\"bar\": [{\"error_x\": {\"color\": \"#2a3f5f\"}, \"error_y\": {\"color\": \"#2a3f5f\"}, \"marker\": {\"line\": {\"color\": \"#E5ECF6\", \"width\": 0.5}}, \"type\": \"bar\"}], \"barpolar\": [{\"marker\": {\"line\": {\"color\": \"#E5ECF6\", \"width\": 0.5}}, \"type\": \"barpolar\"}], \"carpet\": [{\"aaxis\": {\"endlinecolor\": \"#2a3f5f\", \"gridcolor\": \"white\", \"linecolor\": \"white\", \"minorgridcolor\": \"white\", \"startlinecolor\": \"#2a3f5f\"}, \"baxis\": {\"endlinecolor\": \"#2a3f5f\", \"gridcolor\": \"white\", \"linecolor\": \"white\", \"minorgridcolor\": \"white\", \"startlinecolor\": \"#2a3f5f\"}, \"type\": \"carpet\"}], \"choropleth\": [{\"colorbar\": {\"outlinewidth\": 0, \"ticks\": \"\"}, \"type\": \"choropleth\"}], \"contour\": [{\"colorbar\": {\"outlinewidth\": 0, \"ticks\": \"\"}, \"colorscale\": [[0.0, \"#0d0887\"], [0.1111111111111111, \"#46039f\"], [0.2222222222222222, \"#7201a8\"], [0.3333333333333333, \"#9c179e\"], [0.4444444444444444, \"#bd3786\"], [0.5555555555555556, \"#d8576b\"], [0.6666666666666666, \"#ed7953\"], [0.7777777777777778, \"#fb9f3a\"], [0.8888888888888888, \"#fdca26\"], [1.0, \"#f0f921\"]], \"type\": \"contour\"}], \"contourcarpet\": [{\"colorbar\": {\"outlinewidth\": 0, \"ticks\": \"\"}, \"type\": \"contourcarpet\"}], \"heatmap\": [{\"colorbar\": {\"outlinewidth\": 0, \"ticks\": \"\"}, \"colorscale\": [[0.0, \"#0d0887\"], [0.1111111111111111, \"#46039f\"], [0.2222222222222222, \"#7201a8\"], [0.3333333333333333, \"#9c179e\"], [0.4444444444444444, \"#bd3786\"], [0.5555555555555556, \"#d8576b\"], [0.6666666666666666, \"#ed7953\"], [0.7777777777777778, \"#fb9f3a\"], [0.8888888888888888, \"#fdca26\"], [1.0, \"#f0f921\"]], \"type\": \"heatmap\"}], \"heatmapgl\": [{\"colorbar\": {\"outlinewidth\": 0, \"ticks\": \"\"}, \"colorscale\": [[0.0, \"#0d0887\"], [0.1111111111111111, \"#46039f\"], [0.2222222222222222, \"#7201a8\"], [0.3333333333333333, \"#9c179e\"], [0.4444444444444444, \"#bd3786\"], [0.5555555555555556, \"#d8576b\"], [0.6666666666666666, \"#ed7953\"], [0.7777777777777778, \"#fb9f3a\"], [0.8888888888888888, \"#fdca26\"], [1.0, \"#f0f921\"]], \"type\": \"heatmapgl\"}], \"histogram\": [{\"marker\": {\"colorbar\": {\"outlinewidth\": 0, \"ticks\": \"\"}}, \"type\": \"histogram\"}], \"histogram2d\": [{\"colorbar\": {\"outlinewidth\": 0, \"ticks\": \"\"}, \"colorscale\": [[0.0, \"#0d0887\"], [0.1111111111111111, \"#46039f\"], [0.2222222222222222, \"#7201a8\"], [0.3333333333333333, \"#9c179e\"], [0.4444444444444444, \"#bd3786\"], [0.5555555555555556, \"#d8576b\"], [0.6666666666666666, \"#ed7953\"], [0.7777777777777778, \"#fb9f3a\"], [0.8888888888888888, \"#fdca26\"], [1.0, \"#f0f921\"]], \"type\": \"histogram2d\"}], \"histogram2dcontour\": [{\"colorbar\": {\"outlinewidth\": 0, \"ticks\": \"\"}, \"colorscale\": [[0.0, \"#0d0887\"], [0.1111111111111111, \"#46039f\"], [0.2222222222222222, \"#7201a8\"], [0.3333333333333333, \"#9c179e\"], [0.4444444444444444, \"#bd3786\"], [0.5555555555555556, \"#d8576b\"], [0.6666666666666666, \"#ed7953\"], [0.7777777777777778, \"#fb9f3a\"], [0.8888888888888888, \"#fdca26\"], [1.0, \"#f0f921\"]], \"type\": \"histogram2dcontour\"}], \"mesh3d\": [{\"colorbar\": {\"outlinewidth\": 0, \"ticks\": \"\"}, \"type\": \"mesh3d\"}], \"parcoords\": [{\"line\": {\"colorbar\": {\"outlinewidth\": 0, \"ticks\": \"\"}}, \"type\": \"parcoords\"}], \"pie\": [{\"automargin\": true, \"type\": \"pie\"}], \"scatter\": [{\"marker\": {\"colorbar\": {\"outlinewidth\": 0, \"ticks\": \"\"}}, \"type\": \"scatter\"}], \"scatter3d\": [{\"line\": {\"colorbar\": {\"outlinewidth\": 0, \"ticks\": \"\"}}, \"marker\": {\"colorbar\": {\"outlinewidth\": 0, \"ticks\": \"\"}}, \"type\": \"scatter3d\"}], \"scattercarpet\": [{\"marker\": {\"colorbar\": {\"outlinewidth\": 0, \"ticks\": \"\"}}, \"type\": \"scattercarpet\"}], \"scattergeo\": [{\"marker\": {\"colorbar\": {\"outlinewidth\": 0, \"ticks\": \"\"}}, \"type\": \"scattergeo\"}], \"scattergl\": [{\"marker\": {\"colorbar\": {\"outlinewidth\": 0, \"ticks\": \"\"}}, \"type\": \"scattergl\"}], \"scattermapbox\": [{\"marker\": {\"colorbar\": {\"outlinewidth\": 0, \"ticks\": \"\"}}, \"type\": \"scattermapbox\"}], \"scatterpolar\": [{\"marker\": {\"colorbar\": {\"outlinewidth\": 0, \"ticks\": \"\"}}, \"type\": \"scatterpolar\"}], \"scatterpolargl\": [{\"marker\": {\"colorbar\": {\"outlinewidth\": 0, \"ticks\": \"\"}}, \"type\": \"scatterpolargl\"}], \"scatterternary\": [{\"marker\": {\"colorbar\": {\"outlinewidth\": 0, \"ticks\": \"\"}}, \"type\": \"scatterternary\"}], \"surface\": [{\"colorbar\": {\"outlinewidth\": 0, \"ticks\": \"\"}, \"colorscale\": [[0.0, \"#0d0887\"], [0.1111111111111111, \"#46039f\"], [0.2222222222222222, \"#7201a8\"], [0.3333333333333333, \"#9c179e\"], [0.4444444444444444, \"#bd3786\"], [0.5555555555555556, \"#d8576b\"], [0.6666666666666666, \"#ed7953\"], [0.7777777777777778, \"#fb9f3a\"], [0.8888888888888888, \"#fdca26\"], [1.0, \"#f0f921\"]], \"type\": \"surface\"}], \"table\": [{\"cells\": {\"fill\": {\"color\": \"#EBF0F8\"}, \"line\": {\"color\": \"white\"}}, \"header\": {\"fill\": {\"color\": \"#C8D4E3\"}, \"line\": {\"color\": \"white\"}}, \"type\": \"table\"}]}, \"layout\": {\"annotationdefaults\": {\"arrowcolor\": \"#2a3f5f\", \"arrowhead\": 0, \"arrowwidth\": 1}, \"coloraxis\": {\"colorbar\": {\"outlinewidth\": 0, \"ticks\": \"\"}}, \"colorscale\": {\"diverging\": [[0, \"#8e0152\"], [0.1, \"#c51b7d\"], [0.2, \"#de77ae\"], [0.3, \"#f1b6da\"], [0.4, \"#fde0ef\"], [0.5, \"#f7f7f7\"], [0.6, \"#e6f5d0\"], [0.7, \"#b8e186\"], [0.8, \"#7fbc41\"], [0.9, \"#4d9221\"], [1, \"#276419\"]], \"sequential\": [[0.0, \"#0d0887\"], [0.1111111111111111, \"#46039f\"], [0.2222222222222222, \"#7201a8\"], [0.3333333333333333, \"#9c179e\"], [0.4444444444444444, \"#bd3786\"], [0.5555555555555556, \"#d8576b\"], [0.6666666666666666, \"#ed7953\"], [0.7777777777777778, \"#fb9f3a\"], [0.8888888888888888, \"#fdca26\"], [1.0, \"#f0f921\"]], \"sequentialminus\": [[0.0, \"#0d0887\"], [0.1111111111111111, \"#46039f\"], [0.2222222222222222, \"#7201a8\"], [0.3333333333333333, \"#9c179e\"], [0.4444444444444444, \"#bd3786\"], [0.5555555555555556, \"#d8576b\"], [0.6666666666666666, \"#ed7953\"], [0.7777777777777778, \"#fb9f3a\"], [0.8888888888888888, \"#fdca26\"], [1.0, \"#f0f921\"]]}, \"colorway\": [\"#636efa\", \"#EF553B\", \"#00cc96\", \"#ab63fa\", \"#FFA15A\", \"#19d3f3\", \"#FF6692\", \"#B6E880\", \"#FF97FF\", \"#FECB52\"], \"font\": {\"color\": \"#2a3f5f\"}, \"geo\": {\"bgcolor\": \"white\", \"lakecolor\": \"white\", \"landcolor\": \"#E5ECF6\", \"showlakes\": true, \"showland\": true, \"subunitcolor\": \"white\"}, \"hoverlabel\": {\"align\": \"left\"}, \"hovermode\": \"closest\", \"mapbox\": {\"style\": \"light\"}, \"paper_bgcolor\": \"white\", \"plot_bgcolor\": \"#E5ECF6\", \"polar\": {\"angularaxis\": {\"gridcolor\": \"white\", \"linecolor\": \"white\", \"ticks\": \"\"}, \"bgcolor\": \"#E5ECF6\", \"radialaxis\": {\"gridcolor\": \"white\", \"linecolor\": \"white\", \"ticks\": \"\"}}, \"scene\": {\"xaxis\": {\"backgroundcolor\": \"#E5ECF6\", \"gridcolor\": \"white\", \"gridwidth\": 2, \"linecolor\": \"white\", \"showbackground\": true, \"ticks\": \"\", \"zerolinecolor\": \"white\"}, \"yaxis\": {\"backgroundcolor\": \"#E5ECF6\", \"gridcolor\": \"white\", \"gridwidth\": 2, \"linecolor\": \"white\", \"showbackground\": true, \"ticks\": \"\", \"zerolinecolor\": \"white\"}, \"zaxis\": {\"backgroundcolor\": \"#E5ECF6\", \"gridcolor\": \"white\", \"gridwidth\": 2, \"linecolor\": \"white\", \"showbackground\": true, \"ticks\": \"\", \"zerolinecolor\": \"white\"}}, \"shapedefaults\": {\"line\": {\"color\": \"#2a3f5f\"}}, \"ternary\": {\"aaxis\": {\"gridcolor\": \"white\", \"linecolor\": \"white\", \"ticks\": \"\"}, \"baxis\": {\"gridcolor\": \"white\", \"linecolor\": \"white\", \"ticks\": \"\"}, \"bgcolor\": \"#E5ECF6\", \"caxis\": {\"gridcolor\": \"white\", \"linecolor\": \"white\", \"ticks\": \"\"}}, \"title\": {\"x\": 0.05}, \"xaxis\": {\"automargin\": true, \"gridcolor\": \"white\", \"linecolor\": \"white\", \"ticks\": \"\", \"title\": {\"standoff\": 15}, \"zerolinecolor\": \"white\", \"zerolinewidth\": 2}, \"yaxis\": {\"automargin\": true, \"gridcolor\": \"white\", \"linecolor\": \"white\", \"ticks\": \"\", \"title\": {\"standoff\": 15}, \"zerolinecolor\": \"white\", \"zerolinewidth\": 2}}}, \"title\": {\"text\": \"Hourly Pedestrian Traffic by Sensor\", \"x\": 0.5}, \"width\": 1500, \"xaxis\": {\"anchor\": \"y\", \"domain\": [0.0, 0.98], \"showgrid\": true, \"title\": {}}, \"yaxis\": {\"anchor\": \"x\", \"domain\": [0.0, 1.0], \"matches\": \"y\", \"showgrid\": false, \"title\": {}, \"zeroline\": false}},                        {\"responsive\": true}                    ).then(function(){\n",
       "                            \n",
       "var gd = document.getElementById('fe0bae90-47e5-4d6c-8bf5-a93379e76b2a');\n",
       "var x = new MutationObserver(function (mutations, observer) {{\n",
       "        var display = window.getComputedStyle(gd).display;\n",
       "        if (!display || display === 'none') {{\n",
       "            console.log([gd, 'removed!']);\n",
       "            Plotly.purge(gd);\n",
       "            observer.disconnect();\n",
       "        }}\n",
       "}});\n",
       "\n",
       "// Listen for the removal of the full notebook cells\n",
       "var notebookContainer = gd.closest('#notebook-container');\n",
       "if (notebookContainer) {{\n",
       "    x.observe(notebookContainer, {childList: true});\n",
       "}}\n",
       "\n",
       "// Listen for the clearing of the current output cell\n",
       "var outputEl = gd.closest('.output');\n",
       "if (outputEl) {{\n",
       "    x.observe(outputEl, {childList: true});\n",
       "}}\n",
       "\n",
       "                        })                };                });            </script>        </div>"
      ]
     },
     "metadata": {},
     "output_type": "display_data"
    }
   ],
   "source": [
    "plot_sensor_traffic(pedestrian_df)"
   ]
  },
  {
   "cell_type": "code",
   "execution_count": 10,
   "metadata": {
    "slideshow": {
     "slide_type": "skip"
    }
   },
   "outputs": [],
   "source": [
    "from melbviz.utils import sort_months\n",
    "\n",
    "year_widget = Dropdown(options=data.years)\n",
    "month_widget = Dropdown(options=data.months)\n",
    "sensor_widget = Dropdown(options=data.sensors)\n",
    "\n",
    "\n",
    "def update_widgets(*args):\n",
    "    df = filter_df(year=year_widget.value)\n",
    "    month_widget.options = sort_months(df[\"Month\"].unique())\n",
    "    sensor_widget.options = sorted(df[\"Sensor_Name\"].unique())\n",
    "\n",
    "year_widget.observe(update_widgets)\n"
   ]
  },
  {
   "cell_type": "code",
   "execution_count": 11,
   "metadata": {
    "slideshow": {
     "slide_type": "slide"
    }
   },
   "outputs": [
    {
     "data": {
      "application/vnd.jupyter.widget-view+json": {
       "model_id": "804d9dc612cd4a839b77f1dc9d37cb6f",
       "version_major": 2,
       "version_minor": 0
      },
      "text/plain": [
       "interactive(children=(Dropdown(description='year', options=(2020, 2019, 2018, 2017, 2016, 2015, 2014, 2013, 20…"
      ]
     },
     "metadata": {},
     "output_type": "display_data"
    }
   ],
   "source": [
    "@interact(year=year_widget, month=month_widget, sensor=sensor_widget)\n",
    "def plot(year, month, sensor):\n",
    "    pedestrian_df = filter_df(year=year, month=month, sensor=sensor)\n",
    "    if len(pedestrian_df) == 0:\n",
    "        return f\"No records for {year}, {month}, {sensor}\"\n",
    "    figure = plot_sensor_traffic(pedestrian_df)\n",
    "    return figure"
   ]
  },
  {
   "cell_type": "markdown",
   "metadata": {
    "slideshow": {
     "slide_type": "slide"
    }
   },
   "source": [
    "## Python Data Viz Libraries"
   ]
  },
  {
   "cell_type": "markdown",
   "metadata": {
    "slideshow": {
     "slide_type": "slide"
    }
   },
   "source": [
    "<center>\n",
    "    <img src=\"/files/notebooks/img/python_viz_landscape.svg\" style=\"height:90vh\"/>\n",
    "</center>"
   ]
  },
  {
   "cell_type": "markdown",
   "metadata": {
    "slideshow": {
     "slide_type": "slide"
    }
   },
   "source": [
    "<center>\n",
    "    <img src=\"/files/notebooks/img/python_viz_libs.svg\" style=\"height:90vh\"/>\n",
    "</center>"
   ]
  }
 ],
 "metadata": {
  "celltoolbar": "Slideshow",
  "kernelspec": {
   "display_name": "Python 3",
   "language": "python",
   "name": "python3"
  },
  "language_info": {
   "codemirror_mode": {
    "name": "ipython",
    "version": 3
   },
   "file_extension": ".py",
   "mimetype": "text/x-python",
   "name": "python",
   "nbconvert_exporter": "python",
   "pygments_lexer": "ipython3",
   "version": "3.9.1"
  }
 },
 "nbformat": 4,
 "nbformat_minor": 4
}
