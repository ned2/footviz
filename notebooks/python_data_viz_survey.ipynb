{
 "cells": [
  {
   "cell_type": "code",
   "execution_count": 1,
   "id": "d059e003-cfeb-4407-8436-8a3c04c937a6",
   "metadata": {},
   "outputs": [],
   "source": [
    "%load_ext autoreload\n",
    "%autoreload 2"
   ]
  },
  {
   "cell_type": "markdown",
   "id": "b27223d5-0442-42d0-bdba-f986f81dcac8",
   "metadata": {},
   "source": [
    "<center>\n",
    "    <h1>Doing Data Viz with Python</h1>\n",
    "    <br><br><br>\n",
    "    <img src=\"/files/notebooks/img/title_viz.png\" width=\"500\"/>\n",
    "    <br>\n",
    "    <img src=\"/files/notebooks/img/python_logo.svg\" width=\"300\"/>\n",
    "</center>"
   ]
  },
  {
   "cell_type": "markdown",
   "id": "ff04d21b-ee82-4199-9921-44fec29e5cfe",
   "metadata": {},
   "source": [
    "## What is data visualisation?\n",
    "* Graphic representation of data that visually encodes information\n",
    "* Reveals patterns, trends, relationships\n",
    "* Used to discover and communicate insights\n",
    "\n",
    "<center>\n",
    "    <h3>Examples of Visualisations</h3>\n",
    "    <img src=\"/files/notebooks/img/plot_types.svg\" width=\"800\"/>\n",
    "</center>"
   ]
  },
  {
   "cell_type": "markdown",
   "id": "40194293-9bcf-4a08-bc95-b59d75b67aa1",
   "metadata": {},
   "source": [
    "## Why visualise data?"
   ]
  },
  {
   "cell_type": "code",
   "execution_count": 2,
   "id": "4edbd41e-40c6-439e-b29d-2063e50460b5",
   "metadata": {},
   "outputs": [],
   "source": [
    "# load Melbourne Pedestrian traffic dataset\n",
    "from melbviz.pedestrian import PedestrianDataset\n",
    "from melbviz.config import MELBVIZ_CLEANED_DATA_PATH\n",
    "\n",
    "data = PedestrianDataset.from_parquet(MELBVIZ_CLEANED_DATA_PATH)\n",
    "\n",
    "# get DataFrame of records for Soputhern Cross Station from 2020 \n",
    "pedestrian_data = data.filter(year=2020, month=\"March\", sensor=\"Southern Cross Station\")\n",
    "pedestrian_df = pedestrian_data.df"
   ]
  },
  {
   "cell_type": "code",
   "execution_count": 3,
   "id": "14a066c5-ea45-4f7e-8372-40414b63a9eb",
   "metadata": {},
   "outputs": [
    {
     "data": {
      "text/html": [
       "<div>\n",
       "<style scoped>\n",
       "    .dataframe tbody tr th:only-of-type {\n",
       "        vertical-align: middle;\n",
       "    }\n",
       "\n",
       "    .dataframe tbody tr th {\n",
       "        vertical-align: top;\n",
       "    }\n",
       "\n",
       "    .dataframe thead th {\n",
       "        text-align: right;\n",
       "    }\n",
       "</style>\n",
       "<table border=\"1\" class=\"dataframe\">\n",
       "  <thead>\n",
       "    <tr style=\"text-align: right;\">\n",
       "      <th></th>\n",
       "      <th>Date_Time</th>\n",
       "      <th>Year</th>\n",
       "      <th>Month</th>\n",
       "      <th>Mdate</th>\n",
       "      <th>Day</th>\n",
       "      <th>Time</th>\n",
       "      <th>Sensor_ID</th>\n",
       "      <th>Sensor_Name</th>\n",
       "      <th>Hourly_Counts</th>\n",
       "      <th>datetime_flat_year</th>\n",
       "      <th>sensor_id</th>\n",
       "      <th>latitude</th>\n",
       "      <th>longitude</th>\n",
       "    </tr>\n",
       "    <tr>\n",
       "      <th>index</th>\n",
       "      <th></th>\n",
       "      <th></th>\n",
       "      <th></th>\n",
       "      <th></th>\n",
       "      <th></th>\n",
       "      <th></th>\n",
       "      <th></th>\n",
       "      <th></th>\n",
       "      <th></th>\n",
       "      <th></th>\n",
       "      <th></th>\n",
       "      <th></th>\n",
       "      <th></th>\n",
       "    </tr>\n",
       "  </thead>\n",
       "  <tbody>\n",
       "    <tr>\n",
       "      <th>1731655</th>\n",
       "      <td>2020-03-01 00:00:00</td>\n",
       "      <td>2020</td>\n",
       "      <td>March</td>\n",
       "      <td>1</td>\n",
       "      <td>Sunday</td>\n",
       "      <td>0</td>\n",
       "      <td>9</td>\n",
       "      <td>Southern Cross Station</td>\n",
       "      <td>20</td>\n",
       "      <td>2000-03-01 00:00:00</td>\n",
       "      <td>9</td>\n",
       "      <td>-37.81983</td>\n",
       "      <td>144.951026</td>\n",
       "    </tr>\n",
       "    <tr>\n",
       "      <th>1731656</th>\n",
       "      <td>2020-03-01 01:00:00</td>\n",
       "      <td>2020</td>\n",
       "      <td>March</td>\n",
       "      <td>1</td>\n",
       "      <td>Sunday</td>\n",
       "      <td>1</td>\n",
       "      <td>9</td>\n",
       "      <td>Southern Cross Station</td>\n",
       "      <td>30</td>\n",
       "      <td>2000-03-01 01:00:00</td>\n",
       "      <td>9</td>\n",
       "      <td>-37.81983</td>\n",
       "      <td>144.951026</td>\n",
       "    </tr>\n",
       "    <tr>\n",
       "      <th>1731657</th>\n",
       "      <td>2020-03-01 02:00:00</td>\n",
       "      <td>2020</td>\n",
       "      <td>March</td>\n",
       "      <td>1</td>\n",
       "      <td>Sunday</td>\n",
       "      <td>2</td>\n",
       "      <td>9</td>\n",
       "      <td>Southern Cross Station</td>\n",
       "      <td>28</td>\n",
       "      <td>2000-03-01 02:00:00</td>\n",
       "      <td>9</td>\n",
       "      <td>-37.81983</td>\n",
       "      <td>144.951026</td>\n",
       "    </tr>\n",
       "    <tr>\n",
       "      <th>1731658</th>\n",
       "      <td>2020-03-01 03:00:00</td>\n",
       "      <td>2020</td>\n",
       "      <td>March</td>\n",
       "      <td>1</td>\n",
       "      <td>Sunday</td>\n",
       "      <td>3</td>\n",
       "      <td>9</td>\n",
       "      <td>Southern Cross Station</td>\n",
       "      <td>18</td>\n",
       "      <td>2000-03-01 03:00:00</td>\n",
       "      <td>9</td>\n",
       "      <td>-37.81983</td>\n",
       "      <td>144.951026</td>\n",
       "    </tr>\n",
       "    <tr>\n",
       "      <th>1731659</th>\n",
       "      <td>2020-03-01 04:00:00</td>\n",
       "      <td>2020</td>\n",
       "      <td>March</td>\n",
       "      <td>1</td>\n",
       "      <td>Sunday</td>\n",
       "      <td>4</td>\n",
       "      <td>9</td>\n",
       "      <td>Southern Cross Station</td>\n",
       "      <td>29</td>\n",
       "      <td>2000-03-01 04:00:00</td>\n",
       "      <td>9</td>\n",
       "      <td>-37.81983</td>\n",
       "      <td>144.951026</td>\n",
       "    </tr>\n",
       "    <tr>\n",
       "      <th>1731660</th>\n",
       "      <td>2020-03-01 05:00:00</td>\n",
       "      <td>2020</td>\n",
       "      <td>March</td>\n",
       "      <td>1</td>\n",
       "      <td>Sunday</td>\n",
       "      <td>5</td>\n",
       "      <td>9</td>\n",
       "      <td>Southern Cross Station</td>\n",
       "      <td>15</td>\n",
       "      <td>2000-03-01 05:00:00</td>\n",
       "      <td>9</td>\n",
       "      <td>-37.81983</td>\n",
       "      <td>144.951026</td>\n",
       "    </tr>\n",
       "    <tr>\n",
       "      <th>1731661</th>\n",
       "      <td>2020-03-01 06:00:00</td>\n",
       "      <td>2020</td>\n",
       "      <td>March</td>\n",
       "      <td>1</td>\n",
       "      <td>Sunday</td>\n",
       "      <td>6</td>\n",
       "      <td>9</td>\n",
       "      <td>Southern Cross Station</td>\n",
       "      <td>28</td>\n",
       "      <td>2000-03-01 06:00:00</td>\n",
       "      <td>9</td>\n",
       "      <td>-37.81983</td>\n",
       "      <td>144.951026</td>\n",
       "    </tr>\n",
       "    <tr>\n",
       "      <th>1731662</th>\n",
       "      <td>2020-03-01 07:00:00</td>\n",
       "      <td>2020</td>\n",
       "      <td>March</td>\n",
       "      <td>1</td>\n",
       "      <td>Sunday</td>\n",
       "      <td>7</td>\n",
       "      <td>9</td>\n",
       "      <td>Southern Cross Station</td>\n",
       "      <td>63</td>\n",
       "      <td>2000-03-01 07:00:00</td>\n",
       "      <td>9</td>\n",
       "      <td>-37.81983</td>\n",
       "      <td>144.951026</td>\n",
       "    </tr>\n",
       "    <tr>\n",
       "      <th>1731663</th>\n",
       "      <td>2020-03-01 08:00:00</td>\n",
       "      <td>2020</td>\n",
       "      <td>March</td>\n",
       "      <td>1</td>\n",
       "      <td>Sunday</td>\n",
       "      <td>8</td>\n",
       "      <td>9</td>\n",
       "      <td>Southern Cross Station</td>\n",
       "      <td>202</td>\n",
       "      <td>2000-03-01 08:00:00</td>\n",
       "      <td>9</td>\n",
       "      <td>-37.81983</td>\n",
       "      <td>144.951026</td>\n",
       "    </tr>\n",
       "    <tr>\n",
       "      <th>1731664</th>\n",
       "      <td>2020-03-01 09:00:00</td>\n",
       "      <td>2020</td>\n",
       "      <td>March</td>\n",
       "      <td>1</td>\n",
       "      <td>Sunday</td>\n",
       "      <td>9</td>\n",
       "      <td>9</td>\n",
       "      <td>Southern Cross Station</td>\n",
       "      <td>146</td>\n",
       "      <td>2000-03-01 09:00:00</td>\n",
       "      <td>9</td>\n",
       "      <td>-37.81983</td>\n",
       "      <td>144.951026</td>\n",
       "    </tr>\n",
       "  </tbody>\n",
       "</table>\n",
       "</div>"
      ],
      "text/plain": [
       "                  Date_Time  Year  Month  Mdate     Day  Time  Sensor_ID  \\\n",
       "index                                                                      \n",
       "1731655 2020-03-01 00:00:00  2020  March      1  Sunday     0          9   \n",
       "1731656 2020-03-01 01:00:00  2020  March      1  Sunday     1          9   \n",
       "1731657 2020-03-01 02:00:00  2020  March      1  Sunday     2          9   \n",
       "1731658 2020-03-01 03:00:00  2020  March      1  Sunday     3          9   \n",
       "1731659 2020-03-01 04:00:00  2020  March      1  Sunday     4          9   \n",
       "1731660 2020-03-01 05:00:00  2020  March      1  Sunday     5          9   \n",
       "1731661 2020-03-01 06:00:00  2020  March      1  Sunday     6          9   \n",
       "1731662 2020-03-01 07:00:00  2020  March      1  Sunday     7          9   \n",
       "1731663 2020-03-01 08:00:00  2020  March      1  Sunday     8          9   \n",
       "1731664 2020-03-01 09:00:00  2020  March      1  Sunday     9          9   \n",
       "\n",
       "                    Sensor_Name  Hourly_Counts  datetime_flat_year  sensor_id  \\\n",
       "index                                                                           \n",
       "1731655  Southern Cross Station             20 2000-03-01 00:00:00          9   \n",
       "1731656  Southern Cross Station             30 2000-03-01 01:00:00          9   \n",
       "1731657  Southern Cross Station             28 2000-03-01 02:00:00          9   \n",
       "1731658  Southern Cross Station             18 2000-03-01 03:00:00          9   \n",
       "1731659  Southern Cross Station             29 2000-03-01 04:00:00          9   \n",
       "1731660  Southern Cross Station             15 2000-03-01 05:00:00          9   \n",
       "1731661  Southern Cross Station             28 2000-03-01 06:00:00          9   \n",
       "1731662  Southern Cross Station             63 2000-03-01 07:00:00          9   \n",
       "1731663  Southern Cross Station            202 2000-03-01 08:00:00          9   \n",
       "1731664  Southern Cross Station            146 2000-03-01 09:00:00          9   \n",
       "\n",
       "         latitude   longitude  \n",
       "index                          \n",
       "1731655 -37.81983  144.951026  \n",
       "1731656 -37.81983  144.951026  \n",
       "1731657 -37.81983  144.951026  \n",
       "1731658 -37.81983  144.951026  \n",
       "1731659 -37.81983  144.951026  \n",
       "1731660 -37.81983  144.951026  \n",
       "1731661 -37.81983  144.951026  \n",
       "1731662 -37.81983  144.951026  \n",
       "1731663 -37.81983  144.951026  \n",
       "1731664 -37.81983  144.951026  "
      ]
     },
     "execution_count": 3,
     "metadata": {},
     "output_type": "execute_result"
    }
   ],
   "source": [
    "# let's have a look\n",
    "pedestrian_df.head(10)"
   ]
  },
  {
   "cell_type": "markdown",
   "id": "c86e692b-8b35-4830-b9c2-30d3ddaf1f04",
   "metadata": {},
   "source": [
    "_Tabular representations of datasets are difficult to interpret_\n",
    "\n",
    "Let's visualisze the same data using a line chart:"
   ]
  },
  {
   "cell_type": "code",
   "execution_count": 4,
   "id": "3100efa0-aeb5-4066-957b-4a18076b943a",
   "metadata": {},
   "outputs": [
    {
     "data": {
      "image/png": "[encoded data removed]",
      "text/plain": [
       "<Figure size 1080x360 with 1 Axes>"
      ]
     },
     "metadata": {
      "needs_background": "light"
     },
     "output_type": "display_data"
    }
   ],
   "source": [
    "pedestrian_df.plot(x=\"Date_Time\", y=\"Hourly_Counts\", figsize=(15, 5));"
   ]
  },
  {
   "cell_type": "markdown",
   "id": "dba575d7-3cdc-4631-8df0-ddd37b2f592a",
   "metadata": {},
   "source": [
    "_Visualisations help reveal patterns within data_\n",
    "\n",
    "Often the most effective way to do things with data:\n",
    "\n",
    "* decribe\n",
    "* explore\n",
    "* summarise\n",
    "* communicate\n",
    "\n",
    "And sometimes it is more accurate than quantitative approaches..."
   ]
  },
  {
   "cell_type": "markdown",
   "id": "78e7198c-0f18-4ebf-af07-eb45350eb9f8",
   "metadata": {},
   "source": [
    "### The Datasaurus\n",
    "\n",
    "Like [Anscombe's Quartet](https://en.wikipedia.org/wiki/Anscombe%27s_quartet), the Dinosaur shows us the pitfalls of using summary statistics to understand a dataset.\n",
    "\n",
    "https://www.autodesk.com/research/publications/same-stats-different-graphs"
   ]
  },
  {
   "cell_type": "code",
   "execution_count": 13,
   "id": "a1277d73-2d43-4aa7-b7e7-8c0fe92f5e38",
   "metadata": {},
   "outputs": [
    {
     "data": {
      "application/vnd.jupyter.widget-view+json": {
       "model_id": "f86f29af9b444e37904858b772a2306f",
       "version_major": 2,
       "version_minor": 0
      },
      "text/plain": [
       "interactive(children=(Dropdown(description='column', options=('dino', 'away', 'h_lines', 'v_lines', 'x_shape',…"
      ]
     },
     "metadata": {},
     "output_type": "display_data"
    }
   ],
   "source": [
    "from melbviz.datasaurus import make_datasaurus\n",
    "\n",
    "make_datasaurus();"
   ]
  },
  {
   "cell_type": "markdown",
   "id": "cadbff69-f1ec-49d1-b678-3d7b684f5103",
   "metadata": {},
   "source": [
    "## But which Python visualisation library to use?"
   ]
  },
  {
   "cell_type": "markdown",
   "id": "70175377-4385-462b-8c6f-c028a9620ba8",
   "metadata": {},
   "source": [
    "<center>\n",
    "    <img src=\"/files/notebooks/img/python_viz_landscape.svg\" width=1000/>\n",
    "</center>"
   ]
  },
  {
   "cell_type": "markdown",
   "id": "92405b2d-df7a-4b21-97ad-44a1cb5c2d53",
   "metadata": {},
   "source": [
    "<center>\n",
    "    <img src=\"/files/notebooks/img/python_viz_libs.svg\" width=1100/>\n",
    "</center>"
   ]
  },
  {
   "cell_type": "code",
   "execution_count": null,
   "id": "75eb2d65-eb9e-453d-b6ac-64e233bf0733",
   "metadata": {},
   "outputs": [],
   "source": []
  }
 ],
 "metadata": {
  "kernelspec": {
   "display_name": "Python 3",
   "language": "python",
   "name": "python3"
  },
  "language_info": {
   "codemirror_mode": {
    "name": "ipython",
    "version": 3
   },
   "file_extension": ".py",
   "mimetype": "text/x-python",
   "name": "python",
   "nbconvert_exporter": "python",
   "pygments_lexer": "ipython3",
   "version": "3.9.4"
  }
 },
 "nbformat": 4,
 "nbformat_minor": 5
}
