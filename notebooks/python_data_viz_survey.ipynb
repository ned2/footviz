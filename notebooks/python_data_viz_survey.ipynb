{
 "cells": [
  {
   "cell_type": "code",
   "execution_count": null,
   "id": "d059e003-cfeb-4407-8436-8a3c04c937a6",
   "metadata": {},
   "outputs": [],
   "source": [
    "%load_ext autoreload\n",
    "%autoreload 2"
   ]
  },
  {
   "cell_type": "markdown",
   "id": "b27223d5-0442-42d0-bdba-f986f81dcac8",
   "metadata": {},
   "source": [
    "<center>\n",
    "    <h1>Doing Data Viz with Python</h1>\n",
    "    <br><br><br>\n",
    "    <img src=\"/files/notebooks/img/title_viz.png\" width=\"500\"/>\n",
    "    <br>\n",
    "    <img src=\"/files/notebooks/img/python_logo.svg\" width=\"300\"/>\n",
    "    <h2>Ned Letcher</h2>\n",
    "    <h3>Code: <a href=\"https://github.com/ned2/melbviz\">github.com/ned2/melbviz</a></h3>\n",
    "</center>"
   ]
  },
  {
   "cell_type": "markdown",
   "id": "ff04d21b-ee82-4199-9921-44fec29e5cfe",
   "metadata": {},
   "source": [
    "## What is data visualisation?\n",
    "* Graphic representation of data that visually encodes information\n",
    "* Reveals patterns, trends, relationships\n",
    "* Used to discover and communicate insights\n",
    "\n",
    "<center>\n",
    "    <h3>Examples of Visualisations</h3>\n",
    "    <img src=\"/files/notebooks/img/plot_types.svg\" width=\"800\"/>\n",
    "</center>"
   ]
  },
  {
   "cell_type": "markdown",
   "id": "40194293-9bcf-4a08-bc95-b59d75b67aa1",
   "metadata": {},
   "source": [
    "## Why visualise data?\n",
    "\n",
    "Let's have a look at some pedestrian traffic for Southern Cross Station for March 2020. \n",
    "\n",
    "We're using the `PedestrianDataset` class from the Melbviz package to speed this up."
   ]
  },
  {
   "cell_type": "code",
   "execution_count": null,
   "id": "4edbd41e-40c6-439e-b29d-2063e50460b5",
   "metadata": {},
   "outputs": [],
   "source": [
    "from melbviz.pedestrian import PedestrianDataset\n",
    "from melbviz.config import MELBVIZ_CLEANED_DATA_PATH\n",
    "\n",
    "data = PedestrianDataset.from_parquet(MELBVIZ_CLEANED_DATA_PATH)"
   ]
  },
  {
   "cell_type": "markdown",
   "id": "f94fce6b-40e0-422c-a775-623dc66ee3f1",
   "metadata": {},
   "source": [
    "The `PedestrianDataset` class has a handy `filter` method that we can use to quickly get a filtered dataset from."
   ]
  },
  {
   "cell_type": "code",
   "execution_count": null,
   "id": "6fb56a0b-56e0-41ef-85e2-540e188add82",
   "metadata": {},
   "outputs": [],
   "source": [
    "sc_march_2020 = data.filter(year=2020, month=\"March\", sensor=\"Southern Cross Station\")\n",
    "sc_march_2020_df = sc_march_2020.df"
   ]
  },
  {
   "cell_type": "markdown",
   "id": "458b0e2e-3500-409a-a235-11c666313887",
   "metadata": {},
   "source": [
    "Let's have a look at it..."
   ]
  },
  {
   "cell_type": "code",
   "execution_count": null,
   "id": "14a066c5-ea45-4f7e-8372-40414b63a9eb",
   "metadata": {},
   "outputs": [],
   "source": [
    "sc_march_2020_df.head(10)"
   ]
  },
  {
   "cell_type": "markdown",
   "id": "c86e692b-8b35-4830-b9c2-30d3ddaf1f04",
   "metadata": {},
   "source": [
    "_Tabular representations of datasets are difficult to interpret_\n",
    "\n",
    "Let's visualisze the same data using a line chart:"
   ]
  },
  {
   "cell_type": "code",
   "execution_count": null,
   "id": "3100efa0-aeb5-4066-957b-4a18076b943a",
   "metadata": {},
   "outputs": [],
   "source": [
    "sc_march_2020_df.plot(\n",
    "    x=\"Date_Time\",\n",
    "    y=\"Hourly_Counts\",\n",
    "    figsize=(15, 5),\n",
    "    title=\"Hourly Counts for Southern Cross Station, March 2020\",\n",
    ");"
   ]
  },
  {
   "cell_type": "markdown",
   "id": "347afe14-eae8-453b-aa7a-53887f27f742",
   "metadata": {},
   "source": [
    "_**Hot Tip:** Always title your plots!_"
   ]
  },
  {
   "cell_type": "markdown",
   "id": "dba575d7-3cdc-4631-8df0-ddd37b2f592a",
   "metadata": {},
   "source": [
    "### _Visualisations help reveal patterns within data_\n",
    "\n",
    "Often the most effective way to do things with data:\n",
    "\n",
    "* decribe\n",
    "* explore\n",
    "* summarise\n",
    "* communicate\n",
    "\n",
    "And sometimes it is more accurate than quantitative approaches..."
   ]
  },
  {
   "cell_type": "markdown",
   "id": "78e7198c-0f18-4ebf-af07-eb45350eb9f8",
   "metadata": {},
   "source": [
    "### The Datasaurus\n",
    "\n",
    "Like [Anscombe's Quartet](https://en.wikipedia.org/wiki/Anscombe%27s_quartet), the Dinosaur shows us the pitfalls of using summary statistics to understand a dataset.\n",
    "\n",
    "https://www.autodesk.com/research/publications/same-stats-different-graphs"
   ]
  },
  {
   "cell_type": "code",
   "execution_count": null,
   "id": "c761f01b-45ae-47ed-906d-3d33a33c8935",
   "metadata": {},
   "outputs": [],
   "source": [
    "! mkdir -p data\n",
    "! wget -P data https://raw.githubusercontent.com/jumpingrivers/datasauRus/main/inst/extdata/DatasaurusDozen.tsv"
   ]
  },
  {
   "cell_type": "code",
   "execution_count": null,
   "id": "a1277d73-2d43-4aa7-b7e7-8c0fe92f5e38",
   "metadata": {},
   "outputs": [],
   "source": [
    "from melbviz.datasaurus import make_datasaurus\n",
    "\n",
    "make_datasaurus();"
   ]
  },
  {
   "cell_type": "markdown",
   "id": "eed63265-8255-409c-8cf0-05f1b7940198",
   "metadata": {},
   "source": [
    "## Python Data Viz Libraries\n",
    "\n",
    "There are a _lot_ of Python data viz libraries..."
   ]
  },
  {
   "cell_type": "markdown",
   "id": "70175377-4385-462b-8c6f-c028a9620ba8",
   "metadata": {},
   "source": [
    "<br>\n",
    "<center>\n",
    "    <img src=\"/files/notebooks/img/python_viz_landscape.svg\" width=800/>\n",
    "    <h2><i>Which visualisation library to use?</i></h2>\n",
    "</center>"
   ]
  },
  {
   "cell_type": "markdown",
   "id": "92405b2d-df7a-4b21-97ad-44a1cb5c2d53",
   "metadata": {},
   "source": [
    "***\n",
    "<br>\n",
    "<center>\n",
    "    <img src=\"/files/notebooks/img/python_viz_libs.svg\" width=1000/>\n",
    "    <h2><i>A framework for comparing general purpose Python Viz Libraries</i></h2>\n",
    "</center>"
   ]
  },
  {
   "cell_type": "markdown",
   "id": "55006f62-2148-4ce6-9d51-941965b81038",
   "metadata": {},
   "source": [
    "## Matplotlib and Pandas\n",
    "\n",
    "Pandas' `plot` method defaults to using Matplotlib.\n",
    "\n",
    "(Other Pandas [plottling backends](https://pandas.pydata.org/pandas-docs/dev/user_guide/visualization.html#plotting-backends) currently available are [Plotly](https://plotly.com/python/pandas-backend/) and [Bokeh](https://github.com/PatrikHlobil/Pandas-Bokeh))"
   ]
  },
  {
   "cell_type": "code",
   "execution_count": null,
   "id": "75eb2d65-eb9e-453d-b6ac-64e233bf0733",
   "metadata": {},
   "outputs": [],
   "source": [
    "import matplotlib as mpl\n",
    "%matplotlib inline\n",
    "\n",
    "sc_march_2020_df.plot(\n",
    "    x=\"Date_Time\",\n",
    "    y=\"Hourly_Counts\",\n",
    "    figsize=(15, 5),\n",
    "    title=\"Hourly counts for South Bank station, March 2020\",\n",
    ");"
   ]
  },
  {
   "cell_type": "markdown",
   "id": "f4fcb300-d988-4bd3-9225-fe0355bc1ec8",
   "metadata": {},
   "source": [
    "**Limitations**\n",
    "1. Doesn't look very pretty out of the box\n",
    "2. Pandas plotting API is limited\n",
    "3. Static image: can’t zoom or toggle visibility of data"
   ]
  },
  {
   "cell_type": "markdown",
   "id": "a87d1a01-203e-44b5-826a-83a028fc6276",
   "metadata": {},
   "source": [
    "### Improving the Aesthetics of Static Plots"
   ]
  },
  {
   "cell_type": "markdown",
   "id": "ddb2a472-d48b-40bc-8684-a302073a2790",
   "metadata": {},
   "source": [
    "Start by using an alternative style"
   ]
  },
  {
   "cell_type": "code",
   "execution_count": null,
   "id": "a574a932-ebae-4111-8546-97a18d03fc39",
   "metadata": {},
   "outputs": [],
   "source": [
    "import matplotlib.pyplot as plt\n",
    "\n",
    "plt.style.available"
   ]
  },
  {
   "cell_type": "code",
   "execution_count": null,
   "id": "c33e1d14-f9b4-40d0-9594-0f6d48a9b75b",
   "metadata": {},
   "outputs": [],
   "source": [
    "plt.style.use(\"seaborn\")\n",
    "\n",
    "sc_march_2020_df.plot(\n",
    "    x=\"Date_Time\",\n",
    "    y=\"Hourly_Counts\",\n",
    "    legend=None,\n",
    "    figsize=(15, 5),\n",
    "    title=\"Hourly counts for South Bank station, March 2020\",\n",
    ");"
   ]
  },
  {
   "cell_type": "code",
   "execution_count": null,
   "id": "e8ca3168-f0e7-42c3-abd7-f6f5f9f1a98a",
   "metadata": {},
   "outputs": [],
   "source": [
    "fig = plt.figure(dpi=300, figsize=(15, 5))\n",
    "\n",
    "sc_march_2020_df.plot(\n",
    "    x=\"Date_Time\",\n",
    "    y=\"Hourly_Counts\",\n",
    "    legend=None,\n",
    "    linewidth=1.2,\n",
    "    title=\"Hourly counts for South Bank station, March 2020\",\n",
    "    ax=plt.gca(),  # supply Pandas with the axes from the current figure\n",
    ");"
   ]
  },
  {
   "cell_type": "markdown",
   "id": "ab346925-9831-4abf-bae2-0829ffa0db4f",
   "metadata": {},
   "source": [
    "### Use `ipympl` for interactivity"
   ]
  },
  {
   "cell_type": "code",
   "execution_count": null,
   "id": "961b88cb-f8c8-4f2d-aefa-989e9e672812",
   "metadata": {},
   "outputs": [],
   "source": [
    "%matplotlib widget\n",
    "\n",
    "sc_march_2020_df.plot(\n",
    "    x=\"Date_Time\",\n",
    "    y=\"Hourly_Counts\",\n",
    "    figsize=(15, 5),\n",
    "    title=\"Hourly counts for South Bank station, March 2020\",\n",
    ");"
   ]
  },
  {
   "cell_type": "markdown",
   "id": "6051283c-ef0a-446b-a7c5-b57d98cc5c19",
   "metadata": {},
   "source": [
    "### For More statistical use-cases, see if Seaborn has what you need\n",
    "\n",
    "[Seaborn Gallery](https://seaborn.pydata.org/examples/index.html)"
   ]
  },
  {
   "cell_type": "code",
   "execution_count": null,
   "id": "7d8fd524-39ab-48e2-aacc-020f50ea31e1",
   "metadata": {},
   "outputs": [],
   "source": [
    "%matplotlib inline\n",
    "import seaborn as sns\n",
    "\n",
    "\n",
    "def make_flights_relplot():\n",
    "    sns.set_theme(style=\"dark\")\n",
    "    flights = sns.load_dataset(\"flights\")\n",
    "\n",
    "    # Plot each year's time series in its own facet\n",
    "    relplot = sns.relplot(\n",
    "        data=flights,\n",
    "        x=\"month\",\n",
    "        y=\"passengers\",\n",
    "        col=\"year\",\n",
    "        hue=\"year\",\n",
    "        kind=\"line\",\n",
    "        palette=\"crest\",\n",
    "        linewidth=4,\n",
    "        zorder=5,\n",
    "        col_wrap=3,\n",
    "        height=2,\n",
    "        aspect=1.5,\n",
    "        legend=False,\n",
    "    )\n",
    "\n",
    "    for year, ax in relplot.axes_dict.items():\n",
    "        # Add the title as an annotation within the plot\n",
    "        ax.text(0.8, 0.85, year, transform=ax.transAxes, fontweight=\"bold\")\n",
    "        # Plot every year's time series in the background\n",
    "        sns.lineplot(\n",
    "            data=flights,\n",
    "            x=\"month\",\n",
    "            y=\"passengers\",\n",
    "            units=\"year\",\n",
    "            estimator=None,\n",
    "            color=\".7\",\n",
    "            linewidth=1,\n",
    "            ax=ax,\n",
    "        )\n",
    "    # Reduce the frequency of the x axis ticks\n",
    "    ax.set_xticks(ax.get_xticks()[::2])\n",
    "    # other tweaks\n",
    "    relplot.set_titles(\"\")\n",
    "    relplot.set_axis_labels(\"\", \"Passengers\")\n",
    "    relplot.tight_layout()\n",
    "\n",
    "\n",
    "make_flights_relplot()"
   ]
  },
  {
   "cell_type": "markdown",
   "id": "9dfc86c5-bb6b-462a-af03-b7e3e4dbd0ac",
   "metadata": {},
   "source": [
    "### Summary: Matplotlib, Seaborn, and Pandas\n",
    "\n",
    "Matplotlib is a powerful and expressive visualisation library, but\n",
    "* can be verbose to produce more complex plots\n",
    "* stateful API can be counter-intuitive \n",
    "* does not support interactivity well (but can create [animated plots](https://matplotlib.org/stable/api/animation_api.html))\n",
    "\n",
    "Well-suited contexts of use:\n",
    "* Creating high-quality bespoke visualisations needed for publication (see [How to make beautiful data visualizations in Python with matplotlib](http://www.randalolson.com/2014/06/28/how-to-make-beautiful-data-visualizations-in-python-with-matplotlib/))\n",
    "* Use via Pandas for rapid exploratory data analysis  \n",
    "* Use via Seaborn if it's a good fit for your analysis\n"
   ]
  },
  {
   "cell_type": "markdown",
   "id": "72bed286-afb7-489f-bb86-f8824b9f26fc",
   "metadata": {},
   "source": [
    "## Dynamic visualisation with Plotly, Bokeh, and Altair\n",
    "\n",
    "Web-first visualisation libraries based on JavaScript, that all have interactive features out of the box"
   ]
  },
  {
   "cell_type": "markdown",
   "id": "c1b89f66-fca2-4448-86d5-b30d17b7b54c",
   "metadata": {},
   "source": [
    "### Plotly\n",
    "\n",
    "We're using [Plotly Express](https://plotly.com/python/plotly-express/), Plotly's higher-level APi for creating Plotly figures."
   ]
  },
  {
   "cell_type": "code",
   "execution_count": null,
   "id": "65e7df5f-e349-48d9-b980-4f0dd6197e84",
   "metadata": {},
   "outputs": [],
   "source": [
    "import plotly.express as px\n",
    "\n",
    "figure = px.line(\n",
    "    sc_march_2020_df,\n",
    "    x=\"Date_Time\",\n",
    "    y=\"Hourly_Counts\",\n",
    "    title=\"Hourly counts for South Bank station, March 2020\",\n",
    ")\n",
    "\n",
    "figure"
   ]
  },
  {
   "cell_type": "markdown",
   "id": "2b5a5835-a081-4da5-9067-0769289ffa1c",
   "metadata": {},
   "source": [
    "## Bokeh\n",
    "\n",
    "We're using [Holoviews](https://holoviews.org) as a high-level libray on top of [Bokeh](https://bokeh.org/)."
   ]
  },
  {
   "cell_type": "code",
   "execution_count": null,
   "id": "137f727f-dbc0-4ba3-bfe1-8dcfe96f3478",
   "metadata": {},
   "outputs": [],
   "source": [
    "import holoviews as hv\n",
    "hv.notebook_extension()\n",
    "hv.extension('bokeh')\n",
    "\n",
    "plot = hv.Curve(sc_march_2020_df, \"Date_Time\", \"Hourly_Counts\")\n",
    "plot.opts(frame_width=900, frame_height=250)"
   ]
  },
  {
   "cell_type": "markdown",
   "id": "6b398a5a-f0b2-4aa3-8453-4a8ae35aa034",
   "metadata": {},
   "source": [
    "## Altair\n",
    "\n",
    "Altair is a declarative API for producing visualisations based on the [Vega-Lite](http://vega.github.io/vega-lite/) visualization grammar.\n",
    "\n",
    "Based on a grammar of graphics (like [ggplot](https://ggplot2.tidyverse.org/)), that also includes a grammar of interactive graphics."
   ]
  },
  {
   "cell_type": "code",
   "execution_count": null,
   "id": "9c412629-4a5b-4314-9315-09e4f42b0feb",
   "metadata": {},
   "outputs": [],
   "source": [
    "import altair as alt\n",
    "\n",
    "alt.Chart(sc_march_2020_df).mark_line().encode(\n",
    "    x=\"Date_Time:T\", y=\"Hourly_Counts:Q\"\n",
    ").properties(width=1000)"
   ]
  },
  {
   "cell_type": "markdown",
   "id": "caa8fe4e-d378-4fca-9de8-ab60f9b0b5b5",
   "metadata": {},
   "source": [
    "Interaction is not configured by default. You need to wire this up. \n",
    "\n",
    "This involves a bit more [configuration](https://altair-viz.github.io/user_guide/interactions.html), \n",
    "but it means that you have more flexible interaction capabilities available to you."
   ]
  },
  {
   "cell_type": "code",
   "execution_count": null,
   "id": "90354ce0-0fa1-4074-bcb1-9e0f70bb7d0d",
   "metadata": {},
   "outputs": [],
   "source": [
    "scales = alt.selection_interval(bind=\"scales\")\n",
    "\n",
    "alt.Chart(sc_march_2020_df).mark_line().encode(\n",
    "    x=\"Date_Time:T\", y=\"Hourly_Counts:Q\"\n",
    ").properties(width=1000).add_selection(scales)"
   ]
  },
  {
   "cell_type": "markdown",
   "id": "c4457c53-e6e8-44ab-a27a-97648d26df99",
   "metadata": {},
   "source": [
    "## Reactive Interfaces\n",
    "\n",
    "Wrapping up visualisation code into functions/classes help make more reusable.\n",
    "\n",
    "But still slow to interact with; not an ideal interface."
   ]
  },
  {
   "cell_type": "code",
   "execution_count": null,
   "id": "12c9e6ad-79b1-4ff3-b740-6041e1015d0b",
   "metadata": {},
   "outputs": [],
   "source": [
    "data.filter(year=2017, month=\"March\", sensor=\"Southbank\").plot(\n",
    "    \"sensor_traffic\"\n",
    ")"
   ]
  },
  {
   "cell_type": "markdown",
   "id": "0269f7e1-b69a-4313-965a-85e3b6ca4611",
   "metadata": {},
   "source": [
    "<center>\n",
    "    <img src=\"/files/notebooks/img/reactive.svg\" width=1000/>\n",
    "</center>"
   ]
  },
  {
   "cell_type": "markdown",
   "id": "2b7e779f-0fdc-4309-8481-54a11d2c3299",
   "metadata": {},
   "source": [
    "The rest of the libraries we will look at follow this fundamental pattern in some way. The main distinction is whether the code is run within the web client (in JavaScript), or whether it's run in a different process with Python.\n",
    "\n",
    "Local callbacks offer more responsivity and enable embedding the visualisation within a statically hosted HTML page, but are limited to working with smaller amounts of data.\n",
    "\n",
    "Python callbacks enable working with much larger datasets, and the full power of custom Python code to define callback logic, but require the relevant server process to be configured and run somewhere and will be less responsive than clientside callbacks, especially when the server process is running on a different machine to the client."
   ]
  },
  {
   "cell_type": "markdown",
   "id": "b7870a41-a235-4d3c-8789-c28bd780798f",
   "metadata": {},
   "source": [
    "## Altair\n",
    "_client-side_"
   ]
  },
  {
   "cell_type": "code",
   "execution_count": null,
   "id": "8dc811b6-27c6-4d72-b8e5-8aaf0bbc24b2",
   "metadata": {},
   "outputs": [],
   "source": [
    "def altair_interactive_sensor_traffic(dataset, year):\n",
    "    filtered_dataset = dataset.filter(year=year)\n",
    "\n",
    "    sensor_input = alt.binding_select(options=filtered_dataset.sensors)\n",
    "    sensor_selection = alt.selection_single(\n",
    "        fields=[\"Sensor_Name\"],\n",
    "        bind=sensor_input,\n",
    "        init={\"Sensor_Name\": filtered_dataset.sensors[0]},\n",
    "    )\n",
    "    \n",
    "    month_input = alt.binding_select(options=filtered_dataset.months)\n",
    "    month_selection = alt.selection_single(\n",
    "        fields=[\"Month\"],\n",
    "        bind=month_input,\n",
    "        init={\"Month\": filtered_dataset.months[0]},\n",
    "    )\n",
    "\n",
    "    return (\n",
    "        alt.Chart(filtered_dataset.df)\n",
    "        .mark_line()\n",
    "        .encode(x=\"Date_Time:T\", y=\"Hourly_Counts:Q\")\n",
    "        .add_selection(month_selection)\n",
    "        .add_selection(sensor_selection)\n",
    "        .transform_filter(month_selection)\n",
    "        .transform_filter(sensor_selection)\n",
    "        .properties(width=1000)\n",
    "    )"
   ]
  },
  {
   "cell_type": "markdown",
   "id": "2c14d5bc-60f6-4fb6-8f88-58889a2fab48",
   "metadata": {},
   "source": [
    "**Hot Tip:** wrap up code to make plots into functions. Useful for:\n",
    " - parameterising you plot and facilitating code reuse\n",
    " - not polluting the global namespace"
   ]
  },
  {
   "cell_type": "markdown",
   "id": "ef9afc80-1a29-428e-8c52-9f1bc616c1a8",
   "metadata": {},
   "source": [
    "Challenge is that _all_ the data required for the plot must be loaded into the client as JSON-defined Vega-Lite specification, which limits the amount of data you can work with.\n",
    "\n",
    "Let's work around this by first filtering down to a single year in Python, and even then we still have to disable the max rows limit in Altiar.\n",
    "\n",
    "The plot takes a little while to load..."
   ]
  },
  {
   "cell_type": "code",
   "execution_count": null,
   "id": "fc05c13a-132b-4683-b45b-e7b52c1cb973",
   "metadata": {},
   "outputs": [],
   "source": [
    "alt.data_transformers.disable_max_rows()\n",
    "\n",
    "altair_interactive_sensor_traffic(data, year=2020)"
   ]
  },
  {
   "cell_type": "markdown",
   "id": "ff2f55ff-4719-4269-836e-6237441e3b6c",
   "metadata": {},
   "source": [
    "## Plotly Express\n",
    "_client-side_\n",
    "\n",
    "The animation feature of Plotly Express gets up some useful interactivity for exploring some types of data, but otherwise, we'll need to turn to Dash."
   ]
  },
  {
   "cell_type": "code",
   "execution_count": null,
   "id": "abf58865-f96a-4655-bd7a-af7ee32db549",
   "metadata": {},
   "outputs": [],
   "source": [
    "gapminder_df = px.data.gapminder()\n",
    "px.scatter(\n",
    "    gapminder_df,\n",
    "    x=\"gdpPercap\",\n",
    "    y=\"lifeExp\",\n",
    "    size=\"pop\",\n",
    "    color=\"continent\",\n",
    "    hover_name=\"country\",\n",
    "    log_x=True,\n",
    "    size_max=60,\n",
    "    animation_frame=\"year\",\n",
    "    range_y=[25, 90],\n",
    "    title=\"GDP per capita compared with life expectency over time\"\n",
    ")"
   ]
  },
  {
   "cell_type": "markdown",
   "id": "579e06cd-16bb-4d39-8e76-2c7e2673d0b8",
   "metadata": {},
   "source": [
    "## ipywidgets\n",
    "_server-side_\n",
    "\n",
    "[ipywidgets](https://ipywidgets.readthedocs.io/en/latest/) is a library of interactive widgets that can be combined with other visualisation libraries to create interactive interfaces within Jupyter Notebooks.\n",
    "\n",
    "In the code below, we combine with Plotly to allow quick filtering of the sensor traffic plot to specific months, years, and sensors."
   ]
  },
  {
   "cell_type": "code",
   "execution_count": null,
   "id": "9b813f43-6023-4c29-bc6e-e1f66f6f0d99",
   "metadata": {},
   "outputs": [],
   "source": [
    "from ipywidgets import interact, Dropdown, HBox, VBox\n",
    "\n",
    "# TODO: arrange the controls more nicely with HBox and VBox\n",
    "\n",
    "def interactive_sensor_traffic(dataset):\n",
    "    \"\"\"Make an interactive\"\"\"\n",
    "    year_widget = Dropdown(options=dataset.years)\n",
    "    month_widget = Dropdown(options=dataset.months)\n",
    "    sensor_widget = Dropdown(options=data.sensors)\n",
    "\n",
    "    def update_widgets(*args):\n",
    "        \"\"\"Update month and sensor values to be only those available for selected year\"\"\"\n",
    "        filtered_data = dataset.filter(year=year_widget.value)\n",
    "        month_widget.options = filtered_data.months\n",
    "        sensor_widget.options = filtered_data.sensors\n",
    "\n",
    "    # register update_widgets as callback to be run on year change\n",
    "    year_widget.observe(update_widgets)\n",
    "\n",
    "    @interact(year=year_widget, month=month_widget, sensor=sensor_widget)\n",
    "    def plot(year, month, sensor):\n",
    "        \"\"\"Plot the sensor traffic for selected year, month, and sensor\"\"\"\n",
    "        filtered_data = dataset.filter(year=year, month=month, sensor=sensor)\n",
    "        if len(filtered_data.df) == 0:\n",
    "            return f\"No records for {year}, {month}, {sensor}\"\n",
    "        return filtered_data.plot(\"sensor_traffic\")\n"
   ]
  },
  {
   "cell_type": "code",
   "execution_count": null,
   "id": "a6ff019e-cc24-48de-83a2-0b49890a80ab",
   "metadata": {},
   "outputs": [],
   "source": [
    "interactive_sensor_traffic(data)"
   ]
  },
  {
   "cell_type": "markdown",
   "id": "74104c52-5694-4fff-84a6-650b9b5acb55",
   "metadata": {},
   "source": [
    "***\n",
    "<center>\n",
    "    <img src=\"/files/notebooks/img/voila.svg\" width=1000/>\n",
    "</center>"
   ]
  },
  {
   "cell_type": "markdown",
   "id": "4efa8c13-961d-4806-ab82-33b8a4e45e38",
   "metadata": {},
   "source": [
    "Run from a terminal to launch the Voila demo notebook/dashboard:\n",
    "\n",
    "    $ voila demos/voila.ipynb"
   ]
  },
  {
   "cell_type": "markdown",
   "id": "b74d677d-7c86-4cb6-8be7-6b743ce94bd9",
   "metadata": {},
   "source": [
    "***\n",
    "<center>\n",
    "    <img src=\"/files/notebooks/img/panel.svg\" width=900/>\n",
    "</center>"
   ]
  },
  {
   "cell_type": "code",
   "execution_count": null,
   "id": "4809388e-9697-49fa-9b2e-4e8d95033508",
   "metadata": {},
   "outputs": [],
   "source": [
    "import panel as pn\n",
    "\n",
    "hv.extension(\"plotly\")\n",
    "pn.extension(\"plotly\")\n",
    "\n",
    "\n",
    "def panel_interactive_sensor_traffic(dataset):\n",
    "    \n",
    "    def plot_traffic(year, month, sensor):\n",
    "        \"\"\"Plot the sensor traffic for selected year, month, and sensor\"\"\"\n",
    "        global foo\n",
    "        filtered_data = dataset.filter(year=year, month=month, sensor=sensor)\n",
    "        if len(filtered_data.df) == 0:\n",
    "            return f\"No records for {year}, {month}, {sensor}\"\n",
    "        fig = filtered_data.get_fig(\"sensor_traffic\")\n",
    "        return pn.pane.Plotly(fig)\n",
    "\n",
    "    year_select = pn.widgets.Select(name=\"Year\", options=dataset.years)\n",
    "    month_select = pn.widgets.Select(name=\"Month\", options=dataset.months)\n",
    "    sensor_select = pn.widgets.Select(name=\"Sensor\", options=dataset.sensors)\n",
    "    reactive_plot = pn.bind(plot_traffic, year_select, month_select, sensor_select)\n",
    "\n",
    "    controls = pn.Column(\n",
    "        \"<br>\\n# Sensor Traffic\", year_select, month_select, sensor_select\n",
    "    )\n",
    "    return pn.Row(controls, reactive_plot)\n",
    "\n",
    "\n",
    "panel_interactive_sensor_traffic(data)"
   ]
  },
  {
   "cell_type": "markdown",
   "id": "5a360cad-0ba6-4667-aefc-67e90e44a409",
   "metadata": {},
   "source": [
    "***\n",
    "\n",
    "<center>\n",
    "    <img src=\"/files/notebooks/img/dash.svg\" width=900/>\n",
    "</center>"
   ]
  },
  {
   "cell_type": "markdown",
   "id": "e1faf69f-0827-49e3-af10-6422e30a2f19",
   "metadata": {},
   "source": [
    "Can run from JupyterLab using JupyterDash:"
   ]
  },
  {
   "cell_type": "code",
   "execution_count": null,
   "id": "5332f07a-8779-4479-b745-129867de671b",
   "metadata": {},
   "outputs": [],
   "source": [
    "from dash import Input, Output, State, dcc, html\n",
    "from jupyter_dash import JupyterDash\n",
    "\n",
    "from melbviz.utils import make_options\n",
    "\n",
    "\n",
    "app = JupyterDash(__name__)\n",
    "\n",
    "controls = html.Div(\n",
    "    id=\"controls\",\n",
    "    style={\"width\":500},\n",
    "    children=[\n",
    "        html.Div(\n",
    "            [\n",
    "                html.Label(\"Year\"),\n",
    "                dcc.Dropdown(\n",
    "                    id=\"year-input\",\n",
    "                    className=\"input\",\n",
    "                    options=make_options(data.years),\n",
    "                    value=data.years[-1],\n",
    "                ),\n",
    "            ]\n",
    "        ),\n",
    "        html.Div(\n",
    "            [html.Label(\"Month\"), dcc.Dropdown(id=\"month-input\", className=\"input\")]\n",
    "        ),\n",
    "        html.Div(\n",
    "            [\n",
    "                html.Label(\"Sensor\"),\n",
    "                dcc.Dropdown(id=\"sensor-input\", multi=True, className=\"input\"),\n",
    "            ]\n",
    "        ),\n",
    "    ],\n",
    ")\n",
    "\n",
    "app.layout = html.Div([controls, dcc.Graph(id=\"sensor-traffic\")])\n",
    "\n",
    "\n",
    "@app.callback(\n",
    "    Output(\"month-input\", \"options\"),\n",
    "    Output(\"month-input\", \"value\"),\n",
    "    Output(\"sensor-input\", \"options\"),\n",
    "    Output(\"sensor-input\", \"value\"),\n",
    "    Input(\"year-input\", \"value\"),\n",
    ")\n",
    "def update_inputs(year):\n",
    "    new_data = data.filter(year)\n",
    "    return (make_options(new_data.months), None, make_options(new_data.sensors), None)\n",
    "\n",
    "\n",
    "@app.callback(\n",
    "    Output(\"sensor-traffic\", \"figure\"),\n",
    "    Input(\"year-input\", \"value\"),\n",
    "    Input(\"month-input\", \"value\"),\n",
    "    Input(\"sensor-input\", \"value\"),\n",
    ")\n",
    "def sensor_traffic(year, month, sensor):\n",
    "    figure = data.filter(year, month, sensor).get_fig(\"sensor_traffic\")\n",
    "    return figure"
   ]
  },
  {
   "cell_type": "markdown",
   "id": "19f14044-7d72-4bcc-a3a4-0a5d66db501a",
   "metadata": {},
   "source": [
    "Then run your app with one of these modes:\n",
    "* `inline` display cell's output area in the notebook\n",
    "* `external` open a new tab to display\n",
    "* `jupyterlab` display in a separate JupyterLab tab"
   ]
  },
  {
   "cell_type": "code",
   "execution_count": null,
   "id": "6a7f405b-6c99-4d58-9a03-fa65929c048e",
   "metadata": {},
   "outputs": [],
   "source": [
    "app.run_server(mode='inline')"
   ]
  },
  {
   "cell_type": "markdown",
   "id": "9c725fdd-5774-4a6c-b2bb-535c6f9a491c",
   "metadata": {},
   "source": [
    "Can run as a standalone web app, eg **runapp.py**:\n",
    "\n",
    "\n",
    "```python\n",
    "!/usr/bin/env python                                                                                                                                                         \n",
    "from melbviz.app import app\n",
    "\n",
    "\n",
    "if __name__ == \"__main__\":\n",
    "    app.run_server(debug=True, port=\"8887\")\n",
    "\n",
    "```"
   ]
  },
  {
   "cell_type": "markdown",
   "id": "03aa115c-4ede-4713-91ac-63cb7b98158b",
   "metadata": {},
   "source": [
    "***\n",
    "\n",
    "<center>\n",
    "    <img src=\"/files/notebooks/img/streamlit.svg\" width=1000/>\n",
    "</center>"
   ]
  },
  {
   "cell_type": "markdown",
   "id": "674f63d7-b112-4578-8038-661d20a2d432",
   "metadata": {},
   "source": [
    "## Deploying your Apps\n",
    "\n",
    "Altair can be deployed statically.\n",
    "\n",
    "The rest require you to run your app somewhere.\n",
    "\n",
    "* Your own server\n",
    "* A hosted virtual machine: eg AWS EC2, Digital Ocean, Heroki\n",
    "* Serverless cloud services:\n",
    "  * AWS: Elastic Beanstalk, Fargate, Lambda\n",
    "  * GCP: App Engine, Cloud Run\n"
   ]
  },
  {
   "cell_type": "markdown",
   "id": "6e9bfc9c-1807-4bb5-b3be-14849464b926",
   "metadata": {},
   "source": [
    "***\n",
    "<br>\n",
    "<center>\n",
    "    <img src=\"/files/notebooks/img/python_viz_libs.svg\" width=1000/>\n",
    "</center>"
   ]
  },
  {
   "cell_type": "markdown",
   "id": "391006f2-ba40-4cbb-b16a-a9985bbaa7f9",
   "metadata": {},
   "source": [
    "## Suggestions for choosing a library\n",
    "\n",
    "### For general visualisation\n",
    "* **Matplotlib** is good for bespoke static visualisations \n",
    "* **Seaborn** is good for building more statistically-oriented static plots\n",
    "* **Pandas** (with Matplotlib) is great for rapid exploratory analysis\n",
    "* **Altair** has a delightful AP and is good all-round library if your dataset is not too big, and can be embedded into static plots\n",
    "* **HoloViews** is a powerful abstraction API that can target all of: Matplotlib, Bokeh, and Plotly \n",
    "* Plotly offers a rich ecosystem: Plotly Express is consise way to rapidly build advanced plots, and has useful ability to extend easily to Dash apps. \n",
    "\n",
    "\n",
    "### Getting the right level of abstraction\n",
    "* Unless needed, avoid working primarily with the lower-level Matplotlib, Bokeh, or Plotly, libraries\n",
    "* Instead use one of the high-level libraries for better productivity.\n",
    "* However being familiar with the lower level API is important, customising plots producted by high-level libraries is an effective pattern.\n",
    "\n",
    "\n",
    "### Interactive apps\n",
    "* **ipywidgets** is a flexible tool that can be combined with all the libraries mentioned here to make them reactive\n",
    "* **Voila** lets you easily deploy your ipywidgets-based notebooks as dashboards\n",
    "* **Panel** works well if you have a heavy oriented workflow and want a balance of customisability with preconfigured styling.\n",
    "* **Dash** gives you the ability to make scalable and heavily customisable web apps (best option for deployment to larger user base), but required more effort to visually style.\n",
    "* **Streamlit** Good for rapidly building custom data tools without having to worry about layout or aesthetics\n",
    "\n",
    " \n",
    "One library won't always be right; have more than one tool in your toolkit. Tryout different libraries and see which ones feel good."
   ]
  },
  {
   "cell_type": "markdown",
   "id": "c9fa5a64-50e0-4533-a050-fb183627d025",
   "metadata": {},
   "source": [
    "## Data Viz Hot Tips\n",
    "\n",
    "* Try to use high-level visualisation libraries where possible  \n",
    "* _Always_ title and label your plots\n",
    "* Abstract code to produce distinct visualisations into functions\n",
    "* If you use the functions, across more than one notebook, move them into a custom Python package."
   ]
  }
 ],
 "metadata": {
  "kernelspec": {
   "display_name": "Python 3 (ipykernel)",
   "language": "python",
   "name": "python3"
  },
  "language_info": {
   "codemirror_mode": {
    "name": "ipython",
    "version": 3
   },
   "file_extension": ".py",
   "mimetype": "text/x-python",
   "name": "python",
   "nbconvert_exporter": "python",
   "pygments_lexer": "ipython3",
   "version": "3.10.4"
  }
 },
 "nbformat": 4,
 "nbformat_minor": 5
}
